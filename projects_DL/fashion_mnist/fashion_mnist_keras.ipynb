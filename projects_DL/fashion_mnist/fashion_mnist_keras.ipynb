{
  "nbformat": 4,
  "nbformat_minor": 0,
  "metadata": {
    "colab": {
      "name": "Untitled0.ipynb",
      "version": "0.3.2",
      "provenance": [],
      "collapsed_sections": []
    },
    "kernelspec": {
      "name": "python3",
      "display_name": "Python 3"
    },
    "accelerator": "GPU"
  },
  "cells": [
    {
      "metadata": {
        "id": "H9TBSJDB6ag1",
        "colab_type": "code",
        "colab": {
          "base_uri": "https://localhost:8080/",
          "height": 35
        },
        "outputId": "028e541b-95a2-4417-9b47-f1a30e162c45"
      },
      "cell_type": "code",
      "source": [
        "import tensorflow as tf\n",
        "from keras.models import Model\n",
        "from keras.layers import Input, Conv2D, ZeroPadding2D, MaxPooling2D, Dense, Activation, Flatten, Dropout, BatchNormalization\n",
        "from keras.datasets import fashion_mnist as mnist\n",
        "from keras.optimizers import Adam\n",
        "from keras.utils import to_categorical\n",
        "import matplotlib.pyplot as plt"
      ],
      "execution_count": 1,
      "outputs": [
        {
          "output_type": "stream",
          "text": [
            "Using TensorFlow backend.\n"
          ],
          "name": "stderr"
        }
      ]
    },
    {
      "metadata": {
        "id": "CC2H_LMh7wya",
        "colab_type": "text"
      },
      "cell_type": "markdown",
      "source": [
        "# Loading MNIST fashion data"
      ]
    },
    {
      "metadata": {
        "id": "6CnsIC117rAD",
        "colab_type": "code",
        "colab": {}
      },
      "cell_type": "code",
      "source": [
        "(X_train, y_train), (X_test, y_test) = mnist.load_data()"
      ],
      "execution_count": 0,
      "outputs": []
    },
    {
      "metadata": {
        "id": "Zy59fc0cCM1n",
        "colab_type": "code",
        "colab": {
          "base_uri": "https://localhost:8080/",
          "height": 35
        },
        "outputId": "2260735f-5d0f-4ceb-a5c4-4583abdfd1cd"
      },
      "cell_type": "code",
      "source": [
        "y_train.shape"
      ],
      "execution_count": 3,
      "outputs": [
        {
          "output_type": "execute_result",
          "data": {
            "text/plain": [
              "(60000,)"
            ]
          },
          "metadata": {
            "tags": []
          },
          "execution_count": 3
        }
      ]
    },
    {
      "metadata": {
        "id": "ECXFeIKk9DS1",
        "colab_type": "code",
        "colab": {
          "base_uri": "https://localhost:8080/",
          "height": 35
        },
        "outputId": "40be0b3a-2f8d-44e8-9aff-9d3c5e1ded63"
      },
      "cell_type": "code",
      "source": [
        "X_train.shape, X_test.shape"
      ],
      "execution_count": 4,
      "outputs": [
        {
          "output_type": "execute_result",
          "data": {
            "text/plain": [
              "((60000, 28, 28), (10000, 28, 28))"
            ]
          },
          "metadata": {
            "tags": []
          },
          "execution_count": 4
        }
      ]
    },
    {
      "metadata": {
        "id": "EsO97c8CE_vs",
        "colab_type": "code",
        "colab": {}
      },
      "cell_type": "code",
      "source": [
        "X_train = X_train.reshape(-1,28,28,1)\n",
        "X_test = X_test.reshape(-1,28,28,1)"
      ],
      "execution_count": 0,
      "outputs": []
    },
    {
      "metadata": {
        "id": "YR-eqCT0LUqi",
        "colab_type": "code",
        "colab": {}
      },
      "cell_type": "code",
      "source": [
        "y_train=to_categorical(y_train, 10)"
      ],
      "execution_count": 0,
      "outputs": []
    },
    {
      "metadata": {
        "id": "xpVcZwgsMoic",
        "colab_type": "code",
        "colab": {}
      },
      "cell_type": "code",
      "source": [
        "y_test=to_categorical(y_test, 10)"
      ],
      "execution_count": 0,
      "outputs": []
    },
    {
      "metadata": {
        "id": "WF_ac3Kk6BSP",
        "colab_type": "text"
      },
      "cell_type": "markdown",
      "source": [
        "# Model with neither preproceesing nor overfitting control"
      ]
    },
    {
      "metadata": {
        "id": "xiTCBIg76p4Z",
        "colab_type": "code",
        "colab": {}
      },
      "cell_type": "code",
      "source": [
        "def fashionModel_1(input_shape):\n",
        "  x_input=Input(input_shape)\n",
        "  \n",
        "  x=Conv2D(32,(5,5))(x_input)\n",
        "  x=Activation('relu')(x)\n",
        "  x=MaxPooling2D((2,2))(x)\n",
        "  \n",
        "  x=Conv2D(64,(5,5))(x)\n",
        "  x=Activation('relu')(x)\n",
        "  x=MaxPooling2D((2,2))(x)\n",
        "  \n",
        "  \n",
        "  x=Flatten()(x)\n",
        "  x=Dense(128, activation='relu')(x)\n",
        "  x=Dense(64, activation='relu')(x)\n",
        "  x=Dense(10, activation='softmax')(x)\n",
        "  model=Model(inputs=x_input, outputs=x)\n",
        "  return model"
      ],
      "execution_count": 0,
      "outputs": []
    },
    {
      "metadata": {
        "id": "WunwTyAZ7cSu",
        "colab_type": "code",
        "colab": {}
      },
      "cell_type": "code",
      "source": [
        "fashionModel1=fashionModel_1((28,28,1))"
      ],
      "execution_count": 0,
      "outputs": []
    },
    {
      "metadata": {
        "id": "_QZORiIt7hD_",
        "colab_type": "code",
        "colab": {
          "base_uri": "https://localhost:8080/",
          "height": 539
        },
        "outputId": "3dc1dfc3-90a1-4977-d7fe-7cdedfa59a5d"
      },
      "cell_type": "code",
      "source": [
        "fashionModel1.summary()"
      ],
      "execution_count": 10,
      "outputs": [
        {
          "output_type": "stream",
          "text": [
            "_________________________________________________________________\n",
            "Layer (type)                 Output Shape              Param #   \n",
            "=================================================================\n",
            "input_1 (InputLayer)         (None, 28, 28, 1)         0         \n",
            "_________________________________________________________________\n",
            "conv2d_1 (Conv2D)            (None, 24, 24, 32)        832       \n",
            "_________________________________________________________________\n",
            "activation_1 (Activation)    (None, 24, 24, 32)        0         \n",
            "_________________________________________________________________\n",
            "max_pooling2d_1 (MaxPooling2 (None, 12, 12, 32)        0         \n",
            "_________________________________________________________________\n",
            "conv2d_2 (Conv2D)            (None, 10, 10, 64)        18496     \n",
            "_________________________________________________________________\n",
            "activation_2 (Activation)    (None, 10, 10, 64)        0         \n",
            "_________________________________________________________________\n",
            "max_pooling2d_2 (MaxPooling2 (None, 5, 5, 64)          0         \n",
            "_________________________________________________________________\n",
            "flatten_1 (Flatten)          (None, 1600)              0         \n",
            "_________________________________________________________________\n",
            "dense_1 (Dense)              (None, 128)               204928    \n",
            "_________________________________________________________________\n",
            "dense_2 (Dense)              (None, 64)                8256      \n",
            "_________________________________________________________________\n",
            "dense_3 (Dense)              (None, 10)                650       \n",
            "=================================================================\n",
            "Total params: 233,162\n",
            "Trainable params: 233,162\n",
            "Non-trainable params: 0\n",
            "_________________________________________________________________\n"
          ],
          "name": "stdout"
        }
      ]
    },
    {
      "metadata": {
        "id": "x9L7uHfj5kBg",
        "colab_type": "text"
      },
      "cell_type": "markdown",
      "source": [
        "# With normalization, Dropout and Batch normalization"
      ]
    },
    {
      "metadata": {
        "id": "Gs9tBF8dGUgs",
        "colab_type": "code",
        "colab": {}
      },
      "cell_type": "code",
      "source": [
        "X_train_norm = X_train.astype('float32')/255\n",
        "X_test_norm = X_test.astype('float32')/255"
      ],
      "execution_count": 0,
      "outputs": []
    },
    {
      "metadata": {
        "id": "-1v-D86k742q",
        "colab_type": "code",
        "colab": {}
      },
      "cell_type": "code",
      "source": [
        "def fashionModel_2(input_shape):\n",
        "  x_input=Input(input_shape)\n",
        "  \n",
        "  x=Conv2D(32,(5,5))(x_input)\n",
        "  x=BatchNormalization(axis=3)(x)\n",
        "  x=Activation('relu')(x)\n",
        "  x=MaxPooling2D((2,2))(x)\n",
        "  \n",
        "  x=Conv2D(64,(5,5))(x)\n",
        "  x=BatchNormalization(axis=3)(x)\n",
        "  x=Activation('relu')(x)\n",
        "  x=MaxPooling2D((2,2))(x)\n",
        "  \n",
        "  \n",
        "  x=Flatten()(x)\n",
        "  x=Dense(128, activation='relu')(x)\n",
        "  x=Dropout(0.5)(x)\n",
        "  x=Dense(64, activation='relu')(x)\n",
        "  x=Dropout(0.5)(x)\n",
        "  x=Dense(10, activation='softmax')(x)\n",
        "  model=Model(inputs=x_input, outputs=x)\n",
        "  return model"
      ],
      "execution_count": 0,
      "outputs": []
    },
    {
      "metadata": {
        "id": "RprFSCEnD5bT",
        "colab_type": "code",
        "colab": {}
      },
      "cell_type": "code",
      "source": [
        "fashionModel2=fashionModel_2((28,28,1))"
      ],
      "execution_count": 0,
      "outputs": []
    },
    {
      "metadata": {
        "id": "IDUBYzJdqhwL",
        "colab_type": "code",
        "colab": {
          "base_uri": "https://localhost:8080/",
          "height": 683
        },
        "outputId": "eb6cebbe-5eae-47fe-f79b-2eebb90da32c"
      },
      "cell_type": "code",
      "source": [
        "fashionModel2.summary()"
      ],
      "execution_count": 38,
      "outputs": [
        {
          "output_type": "stream",
          "text": [
            "_________________________________________________________________\n",
            "Layer (type)                 Output Shape              Param #   \n",
            "=================================================================\n",
            "input_3 (InputLayer)         (None, 28, 28, 1)         0         \n",
            "_________________________________________________________________\n",
            "conv2d_5 (Conv2D)            (None, 24, 24, 32)        832       \n",
            "_________________________________________________________________\n",
            "batch_normalization_3 (Batch (None, 24, 24, 32)        128       \n",
            "_________________________________________________________________\n",
            "activation_5 (Activation)    (None, 24, 24, 32)        0         \n",
            "_________________________________________________________________\n",
            "max_pooling2d_5 (MaxPooling2 (None, 12, 12, 32)        0         \n",
            "_________________________________________________________________\n",
            "conv2d_6 (Conv2D)            (None, 8, 8, 64)          51264     \n",
            "_________________________________________________________________\n",
            "batch_normalization_4 (Batch (None, 8, 8, 64)          256       \n",
            "_________________________________________________________________\n",
            "activation_6 (Activation)    (None, 8, 8, 64)          0         \n",
            "_________________________________________________________________\n",
            "max_pooling2d_6 (MaxPooling2 (None, 4, 4, 64)          0         \n",
            "_________________________________________________________________\n",
            "flatten_3 (Flatten)          (None, 1024)              0         \n",
            "_________________________________________________________________\n",
            "dense_7 (Dense)              (None, 128)               131200    \n",
            "_________________________________________________________________\n",
            "dropout_3 (Dropout)          (None, 128)               0         \n",
            "_________________________________________________________________\n",
            "dense_8 (Dense)              (None, 64)                8256      \n",
            "_________________________________________________________________\n",
            "dropout_4 (Dropout)          (None, 64)                0         \n",
            "_________________________________________________________________\n",
            "dense_9 (Dense)              (None, 10)                650       \n",
            "=================================================================\n",
            "Total params: 192,586\n",
            "Trainable params: 192,394\n",
            "Non-trainable params: 192\n",
            "_________________________________________________________________\n"
          ],
          "name": "stdout"
        }
      ]
    },
    {
      "metadata": {
        "id": "PIg65eRv7yLm",
        "colab_type": "text"
      },
      "cell_type": "markdown",
      "source": [
        "# Compiling and training models"
      ]
    },
    {
      "metadata": {
        "id": "cj6EjkRkNK9D",
        "colab_type": "code",
        "colab": {}
      },
      "cell_type": "code",
      "source": [
        "optimizer=Adam(lr=0.001, beta_1=0.9, beta_2=0.999, epsilon=10**-9, decay=0.0, amsgrad=False)"
      ],
      "execution_count": 0,
      "outputs": []
    },
    {
      "metadata": {
        "id": "-h9RKpO98Aeg",
        "colab_type": "code",
        "colab": {}
      },
      "cell_type": "code",
      "source": [
        "fashionModel1.compile(optimizer=optimizer, loss='categorical_crossentropy', metrics=['categorical_accuracy'])"
      ],
      "execution_count": 0,
      "outputs": []
    },
    {
      "metadata": {
        "id": "xUYB14RaP1N4",
        "colab_type": "code",
        "colab": {}
      },
      "cell_type": "code",
      "source": [
        "fashionModel2.compile(optimizer=optimizer, loss='categorical_crossentropy', metrics=['categorical_accuracy'])"
      ],
      "execution_count": 0,
      "outputs": []
    },
    {
      "metadata": {
        "id": "mD_p9vPH8Rlr",
        "colab_type": "code",
        "colab": {
          "base_uri": "https://localhost:8080/",
          "height": 1135
        },
        "outputId": "63940b66-6c30-4e3f-f576-bfceb2e9f140"
      },
      "cell_type": "code",
      "source": [
        "history1=fashionModel1.fit(x=X_train, y=y_train, epochs=30, validation_data=(X_test,y_test), batch_size=1024)"
      ],
      "execution_count": 18,
      "outputs": [
        {
          "output_type": "stream",
          "text": [
            "Train on 60000 samples, validate on 10000 samples\n",
            "Epoch 1/30\n",
            "60000/60000 [==============================] - 4s 61us/step - loss: 2.0949 - categorical_accuracy: 0.6497 - val_loss: 0.5279 - val_categorical_accuracy: 0.8116\n",
            "Epoch 2/30\n",
            "60000/60000 [==============================] - 2s 38us/step - loss: 0.4354 - categorical_accuracy: 0.8438 - val_loss: 0.4138 - val_categorical_accuracy: 0.8542\n",
            "Epoch 3/30\n",
            "60000/60000 [==============================] - 2s 38us/step - loss: 0.3537 - categorical_accuracy: 0.8729 - val_loss: 0.3679 - val_categorical_accuracy: 0.8707\n",
            "Epoch 4/30\n",
            "60000/60000 [==============================] - 2s 38us/step - loss: 0.3070 - categorical_accuracy: 0.8897 - val_loss: 0.3550 - val_categorical_accuracy: 0.8725\n",
            "Epoch 5/30\n",
            "60000/60000 [==============================] - 2s 38us/step - loss: 0.2806 - categorical_accuracy: 0.8981 - val_loss: 0.3353 - val_categorical_accuracy: 0.8769\n",
            "Epoch 6/30\n",
            "60000/60000 [==============================] - 2s 39us/step - loss: 0.2523 - categorical_accuracy: 0.9080 - val_loss: 0.3193 - val_categorical_accuracy: 0.8861\n",
            "Epoch 7/30\n",
            "60000/60000 [==============================] - 2s 38us/step - loss: 0.2312 - categorical_accuracy: 0.9167 - val_loss: 0.3162 - val_categorical_accuracy: 0.8868\n",
            "Epoch 8/30\n",
            "60000/60000 [==============================] - 2s 38us/step - loss: 0.2141 - categorical_accuracy: 0.9220 - val_loss: 0.3136 - val_categorical_accuracy: 0.8909\n",
            "Epoch 9/30\n",
            "60000/60000 [==============================] - 2s 38us/step - loss: 0.1988 - categorical_accuracy: 0.9269 - val_loss: 0.3057 - val_categorical_accuracy: 0.8937\n",
            "Epoch 10/30\n",
            "60000/60000 [==============================] - 2s 39us/step - loss: 0.1843 - categorical_accuracy: 0.9324 - val_loss: 0.2980 - val_categorical_accuracy: 0.8951\n",
            "Epoch 11/30\n",
            "60000/60000 [==============================] - 2s 38us/step - loss: 0.1710 - categorical_accuracy: 0.9371 - val_loss: 0.3059 - val_categorical_accuracy: 0.8996\n",
            "Epoch 12/30\n",
            "60000/60000 [==============================] - 2s 39us/step - loss: 0.1582 - categorical_accuracy: 0.9416 - val_loss: 0.3105 - val_categorical_accuracy: 0.8974\n",
            "Epoch 13/30\n",
            "60000/60000 [==============================] - 2s 38us/step - loss: 0.1482 - categorical_accuracy: 0.9463 - val_loss: 0.3128 - val_categorical_accuracy: 0.8965\n",
            "Epoch 14/30\n",
            "60000/60000 [==============================] - 2s 39us/step - loss: 0.1391 - categorical_accuracy: 0.9493 - val_loss: 0.3100 - val_categorical_accuracy: 0.9012\n",
            "Epoch 15/30\n",
            "60000/60000 [==============================] - 2s 39us/step - loss: 0.1289 - categorical_accuracy: 0.9533 - val_loss: 0.3186 - val_categorical_accuracy: 0.8984\n",
            "Epoch 16/30\n",
            "60000/60000 [==============================] - 2s 39us/step - loss: 0.1249 - categorical_accuracy: 0.9543 - val_loss: 0.3196 - val_categorical_accuracy: 0.8992\n",
            "Epoch 17/30\n",
            "60000/60000 [==============================] - 2s 39us/step - loss: 0.1142 - categorical_accuracy: 0.9578 - val_loss: 0.3218 - val_categorical_accuracy: 0.8992\n",
            "Epoch 18/30\n",
            "60000/60000 [==============================] - 2s 38us/step - loss: 0.1062 - categorical_accuracy: 0.9619 - val_loss: 0.3355 - val_categorical_accuracy: 0.8988\n",
            "Epoch 19/30\n",
            "60000/60000 [==============================] - 2s 39us/step - loss: 0.0960 - categorical_accuracy: 0.9657 - val_loss: 0.3450 - val_categorical_accuracy: 0.9009\n",
            "Epoch 20/30\n",
            "60000/60000 [==============================] - 2s 39us/step - loss: 0.0888 - categorical_accuracy: 0.9686 - val_loss: 0.3478 - val_categorical_accuracy: 0.9013\n",
            "Epoch 21/30\n",
            "60000/60000 [==============================] - 2s 38us/step - loss: 0.0822 - categorical_accuracy: 0.9707 - val_loss: 0.3535 - val_categorical_accuracy: 0.9001\n",
            "Epoch 22/30\n",
            "60000/60000 [==============================] - 2s 39us/step - loss: 0.0791 - categorical_accuracy: 0.9711 - val_loss: 0.3624 - val_categorical_accuracy: 0.8995\n",
            "Epoch 23/30\n",
            "60000/60000 [==============================] - 2s 39us/step - loss: 0.0807 - categorical_accuracy: 0.9707 - val_loss: 0.3891 - val_categorical_accuracy: 0.8953\n",
            "Epoch 24/30\n",
            "60000/60000 [==============================] - 2s 38us/step - loss: 0.0712 - categorical_accuracy: 0.9746 - val_loss: 0.3686 - val_categorical_accuracy: 0.9034\n",
            "Epoch 25/30\n",
            "60000/60000 [==============================] - 2s 38us/step - loss: 0.0605 - categorical_accuracy: 0.9789 - val_loss: 0.4604 - val_categorical_accuracy: 0.8871\n",
            "Epoch 26/30\n",
            "60000/60000 [==============================] - 2s 38us/step - loss: 0.0628 - categorical_accuracy: 0.9776 - val_loss: 0.4090 - val_categorical_accuracy: 0.9003\n",
            "Epoch 27/30\n",
            "60000/60000 [==============================] - 2s 39us/step - loss: 0.0591 - categorical_accuracy: 0.9788 - val_loss: 0.4274 - val_categorical_accuracy: 0.8990\n",
            "Epoch 28/30\n",
            "60000/60000 [==============================] - 2s 38us/step - loss: 0.0535 - categorical_accuracy: 0.9814 - val_loss: 0.4411 - val_categorical_accuracy: 0.8973\n",
            "Epoch 29/30\n",
            "60000/60000 [==============================] - 2s 39us/step - loss: 0.0520 - categorical_accuracy: 0.9815 - val_loss: 0.4273 - val_categorical_accuracy: 0.8966\n",
            "Epoch 30/30\n",
            "60000/60000 [==============================] - 2s 38us/step - loss: 0.0510 - categorical_accuracy: 0.9819 - val_loss: 0.4460 - val_categorical_accuracy: 0.9010\n"
          ],
          "name": "stdout"
        }
      ]
    },
    {
      "metadata": {
        "id": "2e-c4_aZRuz3",
        "colab_type": "code",
        "colab": {
          "base_uri": "https://localhost:8080/",
          "height": 1135
        },
        "outputId": "d9d3966b-ed66-43d3-a99a-8b8483cfe152"
      },
      "cell_type": "code",
      "source": [
        "history2=fashionModel2.fit(x=X_train_norm, y=y_train, epochs=30, validation_data=(X_test_norm,y_test), batch_size=1024)"
      ],
      "execution_count": 40,
      "outputs": [
        {
          "output_type": "stream",
          "text": [
            "Train on 60000 samples, validate on 10000 samples\n",
            "Epoch 1/30\n",
            "60000/60000 [==============================] - 4s 71us/step - loss: 1.1707 - categorical_accuracy: 0.5792 - val_loss: 1.0875 - val_categorical_accuracy: 0.6226\n",
            "Epoch 2/30\n",
            "60000/60000 [==============================] - 3s 54us/step - loss: 0.6734 - categorical_accuracy: 0.7500 - val_loss: 0.5631 - val_categorical_accuracy: 0.7967\n",
            "Epoch 3/30\n",
            "60000/60000 [==============================] - 3s 53us/step - loss: 0.5875 - categorical_accuracy: 0.7858 - val_loss: 0.4754 - val_categorical_accuracy: 0.8167\n",
            "Epoch 4/30\n",
            "60000/60000 [==============================] - 3s 54us/step - loss: 0.5373 - categorical_accuracy: 0.8102 - val_loss: 0.4315 - val_categorical_accuracy: 0.8479\n",
            "Epoch 5/30\n",
            "60000/60000 [==============================] - 3s 53us/step - loss: 0.4986 - categorical_accuracy: 0.8259 - val_loss: 0.4027 - val_categorical_accuracy: 0.8614\n",
            "Epoch 6/30\n",
            "60000/60000 [==============================] - 3s 53us/step - loss: 0.4689 - categorical_accuracy: 0.8384 - val_loss: 0.3549 - val_categorical_accuracy: 0.8762\n",
            "Epoch 7/30\n",
            "60000/60000 [==============================] - 3s 53us/step - loss: 0.4479 - categorical_accuracy: 0.8460 - val_loss: 0.3791 - val_categorical_accuracy: 0.8615\n",
            "Epoch 8/30\n",
            "60000/60000 [==============================] - 3s 53us/step - loss: 0.4247 - categorical_accuracy: 0.8536 - val_loss: 0.3382 - val_categorical_accuracy: 0.8824\n",
            "Epoch 9/30\n",
            "60000/60000 [==============================] - 3s 53us/step - loss: 0.4091 - categorical_accuracy: 0.8603 - val_loss: 0.3597 - val_categorical_accuracy: 0.8718\n",
            "Epoch 10/30\n",
            "60000/60000 [==============================] - 3s 53us/step - loss: 0.3951 - categorical_accuracy: 0.8646 - val_loss: 0.3408 - val_categorical_accuracy: 0.8790\n",
            "Epoch 11/30\n",
            "60000/60000 [==============================] - 3s 54us/step - loss: 0.3862 - categorical_accuracy: 0.8692 - val_loss: 0.3429 - val_categorical_accuracy: 0.8818\n",
            "Epoch 12/30\n",
            "60000/60000 [==============================] - 3s 53us/step - loss: 0.3736 - categorical_accuracy: 0.8736 - val_loss: 0.3018 - val_categorical_accuracy: 0.8970\n",
            "Epoch 13/30\n",
            "60000/60000 [==============================] - 3s 53us/step - loss: 0.3648 - categorical_accuracy: 0.8755 - val_loss: 0.3101 - val_categorical_accuracy: 0.8907\n",
            "Epoch 14/30\n",
            "60000/60000 [==============================] - 3s 53us/step - loss: 0.3602 - categorical_accuracy: 0.8776 - val_loss: 0.3111 - val_categorical_accuracy: 0.8882\n",
            "Epoch 15/30\n",
            "60000/60000 [==============================] - 3s 53us/step - loss: 0.3505 - categorical_accuracy: 0.8810 - val_loss: 0.3043 - val_categorical_accuracy: 0.8930\n",
            "Epoch 16/30\n",
            "60000/60000 [==============================] - 3s 53us/step - loss: 0.3415 - categorical_accuracy: 0.8827 - val_loss: 0.2930 - val_categorical_accuracy: 0.9004\n",
            "Epoch 17/30\n",
            "60000/60000 [==============================] - 3s 54us/step - loss: 0.3323 - categorical_accuracy: 0.8867 - val_loss: 0.2974 - val_categorical_accuracy: 0.8965\n",
            "Epoch 18/30\n",
            "60000/60000 [==============================] - 3s 54us/step - loss: 0.3324 - categorical_accuracy: 0.8875 - val_loss: 0.2899 - val_categorical_accuracy: 0.8998\n",
            "Epoch 19/30\n",
            "60000/60000 [==============================] - 3s 53us/step - loss: 0.3198 - categorical_accuracy: 0.8898 - val_loss: 0.2910 - val_categorical_accuracy: 0.8996\n",
            "Epoch 20/30\n",
            "60000/60000 [==============================] - 3s 54us/step - loss: 0.3212 - categorical_accuracy: 0.8907 - val_loss: 0.2875 - val_categorical_accuracy: 0.9021\n",
            "Epoch 21/30\n",
            "60000/60000 [==============================] - 3s 53us/step - loss: 0.3100 - categorical_accuracy: 0.8942 - val_loss: 0.2916 - val_categorical_accuracy: 0.9000\n",
            "Epoch 22/30\n",
            "60000/60000 [==============================] - 3s 53us/step - loss: 0.3103 - categorical_accuracy: 0.8927 - val_loss: 0.2981 - val_categorical_accuracy: 0.8950\n",
            "Epoch 23/30\n",
            "60000/60000 [==============================] - 3s 54us/step - loss: 0.3052 - categorical_accuracy: 0.8965 - val_loss: 0.2925 - val_categorical_accuracy: 0.8991\n",
            "Epoch 24/30\n",
            "60000/60000 [==============================] - 3s 54us/step - loss: 0.2956 - categorical_accuracy: 0.8992 - val_loss: 0.2827 - val_categorical_accuracy: 0.9050\n",
            "Epoch 25/30\n",
            "60000/60000 [==============================] - 3s 53us/step - loss: 0.2919 - categorical_accuracy: 0.8998 - val_loss: 0.2902 - val_categorical_accuracy: 0.9018\n",
            "Epoch 26/30\n",
            "60000/60000 [==============================] - 3s 53us/step - loss: 0.2870 - categorical_accuracy: 0.9020 - val_loss: 0.2778 - val_categorical_accuracy: 0.9010\n",
            "Epoch 27/30\n",
            "60000/60000 [==============================] - 3s 54us/step - loss: 0.2870 - categorical_accuracy: 0.9014 - val_loss: 0.3041 - val_categorical_accuracy: 0.9014\n",
            "Epoch 28/30\n",
            "60000/60000 [==============================] - 3s 53us/step - loss: 0.2822 - categorical_accuracy: 0.9045 - val_loss: 0.2791 - val_categorical_accuracy: 0.9040\n",
            "Epoch 29/30\n",
            "60000/60000 [==============================] - 3s 54us/step - loss: 0.2746 - categorical_accuracy: 0.9052 - val_loss: 0.3193 - val_categorical_accuracy: 0.8973\n",
            "Epoch 30/30\n",
            "60000/60000 [==============================] - 3s 53us/step - loss: 0.2704 - categorical_accuracy: 0.9068 - val_loss: 0.2715 - val_categorical_accuracy: 0.9088\n"
          ],
          "name": "stdout"
        }
      ]
    },
    {
      "metadata": {
        "id": "7OrKmYvYSDT4",
        "colab_type": "code",
        "colab": {
          "base_uri": "https://localhost:8080/",
          "height": 71
        },
        "outputId": "3b95b3ae-e6ef-401f-8ce1-6b74816bef33"
      },
      "cell_type": "code",
      "source": [
        "loss1, acc1=fashionModel1.evaluate(X_test, y_test)\n",
        "print(\"loss= \"+str(loss1))\n",
        "print(\"test accuracy= \"+str(acc1))"
      ],
      "execution_count": 21,
      "outputs": [
        {
          "output_type": "stream",
          "text": [
            "10000/10000 [==============================] - 1s 92us/step\n",
            "loss= 0.4460291605144739\n",
            "test accuracy= 0.901\n"
          ],
          "name": "stdout"
        }
      ]
    },
    {
      "metadata": {
        "id": "0q-6JNF78qt7",
        "colab_type": "code",
        "colab": {
          "base_uri": "https://localhost:8080/",
          "height": 71
        },
        "outputId": "ba86f044-0212-43cf-d1ac-d65368d9572e"
      },
      "cell_type": "code",
      "source": [
        "loss2, acc2=fashionModel2.evaluate(X_test_norm, y_test)\n",
        "print(\"loss= \"+str(loss2))\n",
        "print(\"test accuracy= \"+str(acc2))"
      ],
      "execution_count": 42,
      "outputs": [
        {
          "output_type": "stream",
          "text": [
            "10000/10000 [==============================] - 1s 133us/step\n",
            "loss= 0.27148887996077536\n",
            "test accuracy= 0.9088\n"
          ],
          "name": "stdout"
        }
      ]
    },
    {
      "metadata": {
        "id": "C5o5QFD1t2fI",
        "colab_type": "code",
        "colab": {
          "base_uri": "https://localhost:8080/",
          "height": 681
        },
        "outputId": "886c6625-49ac-4818-c1c2-985a77a72506"
      },
      "cell_type": "code",
      "source": [
        "def plot_accuracy_loss(history, model_type):\n",
        "    fig, (ax1, ax2) = plt.subplots(1, 2, figsize=(13,5))\n",
        "    ax1.plot(history.history[ 'categorical_accuracy'])\n",
        "    ax1.plot(history.history['val_categorical_accuracy'])\n",
        "    ax1.set_title('model accuracy for '+model_type)\n",
        "    ax1.set_ylabel('accuracy')\n",
        "    ax1.set_xlabel('epoch')\n",
        "    ax1.legend(['training', 'validation'], loc='lower right')\n",
        "    \n",
        "    ax2.plot(history.history['loss'])\n",
        "    ax2.plot(history.history['val_loss'])\n",
        "    ax2.set_title('model loss for '+model_type)\n",
        "    ax2.set_ylabel('loss')\n",
        "    ax2.set_xlabel('epoch')\n",
        "    ax2.legend(['training', 'validation'], loc='upper right')\n",
        "    plt.show()\n",
        "    \n",
        "\n",
        "# summarize accuracy\n",
        "plot_accuracy_loss(history1, 'base model')\n",
        "\n",
        "\n",
        "# summarize accuracy\n",
        "plot_accuracy_loss(history2, 'model with dropout and BN')\n",
        "\n"
      ],
      "execution_count": 46,
      "outputs": [
        {
          "output_type": "display_data",
          "data": {
            "image/png": "[encoded data removed]",
            "text/plain": [
              "<matplotlib.figure.Figure at 0x7f45a99b7b00>"
            ]
          },
          "metadata": {
            "tags": []
          }
        },
        {
          "output_type": "display_data",
          "data": {
            "image/png": "[encoded data removed]",
            "text/plain": [
              "<matplotlib.figure.Figure at 0x7f45a9a442e8>"
            ]
          },
          "metadata": {
            "tags": []
          }
        }
      ]
    },
    {
      "metadata": {
        "id": "HZ5Bl68Xu1Yu",
        "colab_type": "code",
        "colab": {}
      },
      "cell_type": "code",
      "source": [
        ""
      ],
      "execution_count": 0,
      "outputs": []
    }
  ]
}