{
 "cells": [
  {
   "cell_type": "code",
   "execution_count": 1,
   "metadata": {},
   "outputs": [],
   "source": [
    "import numpy as np\n",
    "import time"
   ]
  },
  {
   "cell_type": "code",
   "execution_count": 7,
   "metadata": {},
   "outputs": [],
   "source": [
    "def determinant(a,n):\n",
    "    if n==1:\n",
    "        return a[0,0]\n",
    "    if n==2:\n",
    "        return a[0,0]*a[1,1]-a[1,0]*a[0,1]\n",
    "    else:\n",
    "        j=0\n",
    "        det=0\n",
    "        for i in range(n):\n",
    "            l=[k for k in range(n)]\n",
    "            l.pop(i)\n",
    "            cof=a[l][:,1:]\n",
    "            det=det+((-1)**(i+j)*a[i,j]*determinant(cof,cof.shape[0]))\n",
    "        return det\n",
    "    "
   ]
  },
  {
   "cell_type": "code",
   "execution_count": 5,
   "metadata": {},
   "outputs": [
    {
     "data": {
      "text/plain": [
       "0.036510249083531746"
      ]
     },
     "execution_count": 5,
     "metadata": {},
     "output_type": "execute_result"
    }
   ],
   "source": [
    "b=np.random.rand(9,9)\n",
    "np.linalg.det(b)"
   ]
  },
  {
   "cell_type": "code",
   "execution_count": 6,
   "metadata": {},
   "outputs": [
    {
     "data": {
      "text/plain": [
       "3.6656410694122314"
      ]
     },
     "execution_count": 6,
     "metadata": {},
     "output_type": "execute_result"
    }
   ],
   "source": [
    "debut=time.time()\n",
    "det=determinant(b,9)\n",
    "fin=time.time()\n",
    "a=fin-debut\n",
    "a"
   ]
  },
  {
   "cell_type": "code",
   "execution_count": null,
   "metadata": {},
   "outputs": [],
   "source": []
  }
 ],
 "metadata": {
  "kernelspec": {
   "display_name": "Python 3",
   "language": "python",
   "name": "python3"
  },
  "language_info": {
   "codemirror_mode": {
    "name": "ipython",
    "version": 3
   },
   "file_extension": ".py",
   "mimetype": "text/x-python",
   "name": "python",
   "nbconvert_exporter": "python",
   "pygments_lexer": "ipython3",
   "version": "3.6.2"
  }
 },
 "nbformat": 4,
 "nbformat_minor": 2
}
