{
  "nbformat": 4,
  "nbformat_minor": 0,
  "metadata": {
    "colab": {
      "name": "DL_lab2_keras.ipynb",
      "version": "0.3.2",
      "provenance": [],
      "collapsed_sections": []
    },
    "kernelspec": {
      "name": "python3",
      "display_name": "Python 3"
    }
  },
  "cells": [
    {
      "metadata": {
        "id": "tgfbiJGD9Rp7",
        "colab_type": "code",
        "colab": {}
      },
      "cell_type": "code",
      "source": [
        "import numpy as np\n",
        "import pandas as pd\n",
        "from sklearn.preprocessing import LabelEncoder, StandardScaler, MinMaxScaler\n",
        "from sklearn.model_selection import train_test_split\n",
        "from sklearn.metrics import confusion_matrix, classification_report\n",
        "from keras.models import Model\n",
        "from keras.layers import Input, Dense, Activation, BatchNormalization, Dropout\n",
        "from keras.optimizers import Adam\n",
        "import matplotlib.pyplot as plt\n",
        "%matplotlib inline"
      ],
      "execution_count": 0,
      "outputs": []
    },
    {
      "metadata": {
        "id": "ugUcVJdC9UdE",
        "colab_type": "code",
        "colab": {
          "resources": {
            "http://localhost:8080/nbextensions/google.colab/files.js": {
              "data": "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",
              "ok": true,
              "headers": [
                [
                  "content-type",
                  "application/javascript"
                ]
              ],
              "status": 200,
              "status_text": ""
            }
          },
          "base_uri": "https://localhost:8080/",
          "height": 73
        },
        "outputId": "4fabe7e1-f3e9-488c-871c-fe34a76f0d7d"
      },
      "cell_type": "code",
      "source": [
        "from google.colab import files\n",
        "uploaded = files.upload()"
      ],
      "execution_count": 6,
      "outputs": [
        {
          "output_type": "display_data",
          "data": {
            "text/html": [
              "\n",
              "     <input type=\"file\" id=\"files-db8dc783-863f-4b8a-bc58-f577b4a4acbe\" name=\"files[]\" multiple disabled />\n",
              "     <output id=\"result-db8dc783-863f-4b8a-bc58-f577b4a4acbe\">\n",
              "      Upload widget is only available when the cell has been executed in the\n",
              "      current browser session. Please rerun this cell to enable.\n",
              "      </output>\n",
              "      <script src=\"/nbextensions/google.colab/files.js\"></script> "
            ],
            "text/plain": [
              "<IPython.core.display.HTML object>"
            ]
          },
          "metadata": {
            "tags": []
          }
        },
        {
          "output_type": "stream",
          "text": [
            "Saving email.csv to email (1).csv\n"
          ],
          "name": "stdout"
        }
      ]
    },
    {
      "metadata": {
        "id": "7zBk9zfE6AMu",
        "colab_type": "code",
        "colab": {
          "base_uri": "https://localhost:8080/",
          "height": 224
        },
        "outputId": "20cd8ee3-a2ee-42bb-8aef-93cd258266d6"
      },
      "cell_type": "code",
      "source": [
        "df=pd.read_csv('https://raw.githubusercontent.com/AttilaDSA/IntilaqDSAcademy/master/Deep%20Learning%20Labs/Lab%20Logistic%20Regression/email.csv', index_col=0)\n",
        "df.head()"
      ],
      "execution_count": 86,
      "outputs": [
        {
          "output_type": "execute_result",
          "data": {
            "text/html": [
              "<div>\n",
              "<style scoped>\n",
              "    .dataframe tbody tr th:only-of-type {\n",
              "        vertical-align: middle;\n",
              "    }\n",
              "\n",
              "    .dataframe tbody tr th {\n",
              "        vertical-align: top;\n",
              "    }\n",
              "\n",
              "    .dataframe thead th {\n",
              "        text-align: right;\n",
              "    }\n",
              "</style>\n",
              "<table border=\"1\" class=\"dataframe\">\n",
              "  <thead>\n",
              "    <tr style=\"text-align: right;\">\n",
              "      <th></th>\n",
              "      <th>spam</th>\n",
              "      <th>to_multiple</th>\n",
              "      <th>from</th>\n",
              "      <th>cc</th>\n",
              "      <th>sent_email</th>\n",
              "      <th>image</th>\n",
              "      <th>attach</th>\n",
              "      <th>dollar</th>\n",
              "      <th>winner</th>\n",
              "      <th>inherit</th>\n",
              "      <th>password</th>\n",
              "      <th>num_char</th>\n",
              "      <th>line_breaks</th>\n",
              "      <th>format</th>\n",
              "      <th>re_subj</th>\n",
              "      <th>exclaim_subj</th>\n",
              "      <th>urgent_subj</th>\n",
              "      <th>exclaim_mess</th>\n",
              "      <th>number</th>\n",
              "    </tr>\n",
              "  </thead>\n",
              "  <tbody>\n",
              "    <tr>\n",
              "      <th>1</th>\n",
              "      <td>0</td>\n",
              "      <td>no</td>\n",
              "      <td>yes</td>\n",
              "      <td>no</td>\n",
              "      <td>no</td>\n",
              "      <td>no</td>\n",
              "      <td>no</td>\n",
              "      <td>no</td>\n",
              "      <td>no</td>\n",
              "      <td>no</td>\n",
              "      <td>no</td>\n",
              "      <td>11.370</td>\n",
              "      <td>202</td>\n",
              "      <td>HTML</td>\n",
              "      <td>no</td>\n",
              "      <td>no</td>\n",
              "      <td>no</td>\n",
              "      <td>0</td>\n",
              "      <td>big</td>\n",
              "    </tr>\n",
              "    <tr>\n",
              "      <th>2</th>\n",
              "      <td>0</td>\n",
              "      <td>no</td>\n",
              "      <td>yes</td>\n",
              "      <td>no</td>\n",
              "      <td>no</td>\n",
              "      <td>no</td>\n",
              "      <td>no</td>\n",
              "      <td>no</td>\n",
              "      <td>no</td>\n",
              "      <td>no</td>\n",
              "      <td>no</td>\n",
              "      <td>10.504</td>\n",
              "      <td>202</td>\n",
              "      <td>HTML</td>\n",
              "      <td>no</td>\n",
              "      <td>no</td>\n",
              "      <td>no</td>\n",
              "      <td>1</td>\n",
              "      <td>small</td>\n",
              "    </tr>\n",
              "    <tr>\n",
              "      <th>3</th>\n",
              "      <td>0</td>\n",
              "      <td>no</td>\n",
              "      <td>yes</td>\n",
              "      <td>no</td>\n",
              "      <td>no</td>\n",
              "      <td>no</td>\n",
              "      <td>no</td>\n",
              "      <td>yes</td>\n",
              "      <td>no</td>\n",
              "      <td>yes</td>\n",
              "      <td>no</td>\n",
              "      <td>7.773</td>\n",
              "      <td>192</td>\n",
              "      <td>HTML</td>\n",
              "      <td>no</td>\n",
              "      <td>no</td>\n",
              "      <td>no</td>\n",
              "      <td>6</td>\n",
              "      <td>small</td>\n",
              "    </tr>\n",
              "    <tr>\n",
              "      <th>4</th>\n",
              "      <td>0</td>\n",
              "      <td>no</td>\n",
              "      <td>yes</td>\n",
              "      <td>no</td>\n",
              "      <td>no</td>\n",
              "      <td>no</td>\n",
              "      <td>no</td>\n",
              "      <td>no</td>\n",
              "      <td>no</td>\n",
              "      <td>no</td>\n",
              "      <td>no</td>\n",
              "      <td>13.256</td>\n",
              "      <td>255</td>\n",
              "      <td>HTML</td>\n",
              "      <td>no</td>\n",
              "      <td>no</td>\n",
              "      <td>no</td>\n",
              "      <td>48</td>\n",
              "      <td>small</td>\n",
              "    </tr>\n",
              "    <tr>\n",
              "      <th>5</th>\n",
              "      <td>0</td>\n",
              "      <td>no</td>\n",
              "      <td>yes</td>\n",
              "      <td>no</td>\n",
              "      <td>no</td>\n",
              "      <td>no</td>\n",
              "      <td>no</td>\n",
              "      <td>no</td>\n",
              "      <td>no</td>\n",
              "      <td>no</td>\n",
              "      <td>yes</td>\n",
              "      <td>1.231</td>\n",
              "      <td>29</td>\n",
              "      <td>Plain</td>\n",
              "      <td>no</td>\n",
              "      <td>no</td>\n",
              "      <td>no</td>\n",
              "      <td>1</td>\n",
              "      <td>none</td>\n",
              "    </tr>\n",
              "  </tbody>\n",
              "</table>\n",
              "</div>"
            ],
            "text/plain": [
              "   spam to_multiple from  cc sent_email image attach dollar winner inherit  \\\n",
              "1     0          no  yes  no         no    no     no     no     no      no   \n",
              "2     0          no  yes  no         no    no     no     no     no      no   \n",
              "3     0          no  yes  no         no    no     no    yes     no     yes   \n",
              "4     0          no  yes  no         no    no     no     no     no      no   \n",
              "5     0          no  yes  no         no    no     no     no     no      no   \n",
              "\n",
              "  password  num_char  line_breaks format re_subj exclaim_subj urgent_subj  \\\n",
              "1       no    11.370          202   HTML      no           no          no   \n",
              "2       no    10.504          202   HTML      no           no          no   \n",
              "3       no     7.773          192   HTML      no           no          no   \n",
              "4       no    13.256          255   HTML      no           no          no   \n",
              "5      yes     1.231           29  Plain      no           no          no   \n",
              "\n",
              "   exclaim_mess number  \n",
              "1             0    big  \n",
              "2             1  small  \n",
              "3             6  small  \n",
              "4            48  small  \n",
              "5             1   none  "
            ]
          },
          "metadata": {
            "tags": []
          },
          "execution_count": 86
        }
      ]
    },
    {
      "metadata": {
        "id": "qlgwv-Ud-SWw",
        "colab_type": "code",
        "colab": {
          "base_uri": "https://localhost:8080/",
          "height": 449
        },
        "outputId": "3f73e1e4-c290-4614-b61c-1d387345dc3e"
      },
      "cell_type": "code",
      "source": [
        "df.info()"
      ],
      "execution_count": 87,
      "outputs": [
        {
          "output_type": "stream",
          "text": [
            "<class 'pandas.core.frame.DataFrame'>\n",
            "Int64Index: 3921 entries, 1 to 3921\n",
            "Data columns (total 19 columns):\n",
            "spam            3921 non-null int64\n",
            "to_multiple     3921 non-null object\n",
            "from            3921 non-null object\n",
            "cc              3921 non-null object\n",
            "sent_email      3921 non-null object\n",
            "image           3921 non-null object\n",
            "attach          3921 non-null object\n",
            "dollar          3921 non-null object\n",
            "winner          3921 non-null object\n",
            "inherit         3921 non-null object\n",
            "password        3921 non-null object\n",
            "num_char        3921 non-null float64\n",
            "line_breaks     3921 non-null int64\n",
            "format          3921 non-null object\n",
            "re_subj         3921 non-null object\n",
            "exclaim_subj    3921 non-null object\n",
            "urgent_subj     3921 non-null object\n",
            "exclaim_mess    3921 non-null int64\n",
            "number          3921 non-null object\n",
            "dtypes: float64(1), int64(3), object(15)\n",
            "memory usage: 612.7+ KB\n"
          ],
          "name": "stdout"
        }
      ]
    },
    {
      "metadata": {
        "id": "9kt9lKPr-esh",
        "colab_type": "code",
        "colab": {
          "base_uri": "https://localhost:8080/",
          "height": 557
        },
        "outputId": "f0f59773-e03e-473c-e070-ce8c05140e58"
      },
      "cell_type": "code",
      "source": [
        "col_object=[col for col in df.columns if df.dtypes[col]=='object']\n",
        "for col in col_object:\n",
        "  print(\"********\",col)\n",
        "  print(df[col].unique())"
      ],
      "execution_count": 88,
      "outputs": [
        {
          "output_type": "stream",
          "text": [
            "******** to_multiple\n",
            "['no' 'yes']\n",
            "******** from\n",
            "['yes' 'no']\n",
            "******** cc\n",
            "['no' 'yes']\n",
            "******** sent_email\n",
            "['no' 'yes']\n",
            "******** image\n",
            "['no' 'yes']\n",
            "******** attach\n",
            "['no' 'yes']\n",
            "******** dollar\n",
            "['no' 'yes']\n",
            "******** winner\n",
            "['no' 'yes']\n",
            "******** inherit\n",
            "['no' 'yes']\n",
            "******** password\n",
            "['no' 'yes']\n",
            "******** format\n",
            "['HTML' 'Plain']\n",
            "******** re_subj\n",
            "['no' 'yes']\n",
            "******** exclaim_subj\n",
            "['no' 'yes']\n",
            "******** urgent_subj\n",
            "['no' 'yes']\n",
            "******** number\n",
            "['big' 'small' 'none']\n"
          ],
          "name": "stdout"
        }
      ]
    },
    {
      "metadata": {
        "id": "psMDvAxg_V6e",
        "colab_type": "code",
        "colab": {}
      },
      "cell_type": "code",
      "source": [
        "number=LabelEncoder()\n",
        "for col in col_object:\n",
        "  df[col]=number.fit_transform(df[col])"
      ],
      "execution_count": 0,
      "outputs": []
    },
    {
      "metadata": {
        "id": "7OOBJU0xAG5O",
        "colab_type": "code",
        "colab": {
          "base_uri": "https://localhost:8080/",
          "height": 224
        },
        "outputId": "f5dd28b8-b78d-4486-91df-d36cd0a9417b"
      },
      "cell_type": "code",
      "source": [
        "df.head()"
      ],
      "execution_count": 90,
      "outputs": [
        {
          "output_type": "execute_result",
          "data": {
            "text/html": [
              "<div>\n",
              "<style scoped>\n",
              "    .dataframe tbody tr th:only-of-type {\n",
              "        vertical-align: middle;\n",
              "    }\n",
              "\n",
              "    .dataframe tbody tr th {\n",
              "        vertical-align: top;\n",
              "    }\n",
              "\n",
              "    .dataframe thead th {\n",
              "        text-align: right;\n",
              "    }\n",
              "</style>\n",
              "<table border=\"1\" class=\"dataframe\">\n",
              "  <thead>\n",
              "    <tr style=\"text-align: right;\">\n",
              "      <th></th>\n",
              "      <th>spam</th>\n",
              "      <th>to_multiple</th>\n",
              "      <th>from</th>\n",
              "      <th>cc</th>\n",
              "      <th>sent_email</th>\n",
              "      <th>image</th>\n",
              "      <th>attach</th>\n",
              "      <th>dollar</th>\n",
              "      <th>winner</th>\n",
              "      <th>inherit</th>\n",
              "      <th>password</th>\n",
              "      <th>num_char</th>\n",
              "      <th>line_breaks</th>\n",
              "      <th>format</th>\n",
              "      <th>re_subj</th>\n",
              "      <th>exclaim_subj</th>\n",
              "      <th>urgent_subj</th>\n",
              "      <th>exclaim_mess</th>\n",
              "      <th>number</th>\n",
              "    </tr>\n",
              "  </thead>\n",
              "  <tbody>\n",
              "    <tr>\n",
              "      <th>1</th>\n",
              "      <td>0</td>\n",
              "      <td>0</td>\n",
              "      <td>1</td>\n",
              "      <td>0</td>\n",
              "      <td>0</td>\n",
              "      <td>0</td>\n",
              "      <td>0</td>\n",
              "      <td>0</td>\n",
              "      <td>0</td>\n",
              "      <td>0</td>\n",
              "      <td>0</td>\n",
              "      <td>11.370</td>\n",
              "      <td>202</td>\n",
              "      <td>0</td>\n",
              "      <td>0</td>\n",
              "      <td>0</td>\n",
              "      <td>0</td>\n",
              "      <td>0</td>\n",
              "      <td>0</td>\n",
              "    </tr>\n",
              "    <tr>\n",
              "      <th>2</th>\n",
              "      <td>0</td>\n",
              "      <td>0</td>\n",
              "      <td>1</td>\n",
              "      <td>0</td>\n",
              "      <td>0</td>\n",
              "      <td>0</td>\n",
              "      <td>0</td>\n",
              "      <td>0</td>\n",
              "      <td>0</td>\n",
              "      <td>0</td>\n",
              "      <td>0</td>\n",
              "      <td>10.504</td>\n",
              "      <td>202</td>\n",
              "      <td>0</td>\n",
              "      <td>0</td>\n",
              "      <td>0</td>\n",
              "      <td>0</td>\n",
              "      <td>1</td>\n",
              "      <td>2</td>\n",
              "    </tr>\n",
              "    <tr>\n",
              "      <th>3</th>\n",
              "      <td>0</td>\n",
              "      <td>0</td>\n",
              "      <td>1</td>\n",
              "      <td>0</td>\n",
              "      <td>0</td>\n",
              "      <td>0</td>\n",
              "      <td>0</td>\n",
              "      <td>1</td>\n",
              "      <td>0</td>\n",
              "      <td>1</td>\n",
              "      <td>0</td>\n",
              "      <td>7.773</td>\n",
              "      <td>192</td>\n",
              "      <td>0</td>\n",
              "      <td>0</td>\n",
              "      <td>0</td>\n",
              "      <td>0</td>\n",
              "      <td>6</td>\n",
              "      <td>2</td>\n",
              "    </tr>\n",
              "    <tr>\n",
              "      <th>4</th>\n",
              "      <td>0</td>\n",
              "      <td>0</td>\n",
              "      <td>1</td>\n",
              "      <td>0</td>\n",
              "      <td>0</td>\n",
              "      <td>0</td>\n",
              "      <td>0</td>\n",
              "      <td>0</td>\n",
              "      <td>0</td>\n",
              "      <td>0</td>\n",
              "      <td>0</td>\n",
              "      <td>13.256</td>\n",
              "      <td>255</td>\n",
              "      <td>0</td>\n",
              "      <td>0</td>\n",
              "      <td>0</td>\n",
              "      <td>0</td>\n",
              "      <td>48</td>\n",
              "      <td>2</td>\n",
              "    </tr>\n",
              "    <tr>\n",
              "      <th>5</th>\n",
              "      <td>0</td>\n",
              "      <td>0</td>\n",
              "      <td>1</td>\n",
              "      <td>0</td>\n",
              "      <td>0</td>\n",
              "      <td>0</td>\n",
              "      <td>0</td>\n",
              "      <td>0</td>\n",
              "      <td>0</td>\n",
              "      <td>0</td>\n",
              "      <td>1</td>\n",
              "      <td>1.231</td>\n",
              "      <td>29</td>\n",
              "      <td>1</td>\n",
              "      <td>0</td>\n",
              "      <td>0</td>\n",
              "      <td>0</td>\n",
              "      <td>1</td>\n",
              "      <td>1</td>\n",
              "    </tr>\n",
              "  </tbody>\n",
              "</table>\n",
              "</div>"
            ],
            "text/plain": [
              "   spam  to_multiple  from  cc  sent_email  image  attach  dollar  winner  \\\n",
              "1     0            0     1   0           0      0       0       0       0   \n",
              "2     0            0     1   0           0      0       0       0       0   \n",
              "3     0            0     1   0           0      0       0       1       0   \n",
              "4     0            0     1   0           0      0       0       0       0   \n",
              "5     0            0     1   0           0      0       0       0       0   \n",
              "\n",
              "   inherit  password  num_char  line_breaks  format  re_subj  exclaim_subj  \\\n",
              "1        0         0    11.370          202       0        0             0   \n",
              "2        0         0    10.504          202       0        0             0   \n",
              "3        1         0     7.773          192       0        0             0   \n",
              "4        0         0    13.256          255       0        0             0   \n",
              "5        0         1     1.231           29       1        0             0   \n",
              "\n",
              "   urgent_subj  exclaim_mess  number  \n",
              "1            0             0       0  \n",
              "2            0             1       2  \n",
              "3            0             6       2  \n",
              "4            0            48       2  \n",
              "5            0             1       1  "
            ]
          },
          "metadata": {
            "tags": []
          },
          "execution_count": 90
        }
      ]
    },
    {
      "metadata": {
        "id": "rHEhEqWRA1IC",
        "colab_type": "code",
        "colab": {}
      },
      "cell_type": "code",
      "source": [
        "data=df.drop('spam', axis=1)\n",
        "target=df['spam']"
      ],
      "execution_count": 0,
      "outputs": []
    },
    {
      "metadata": {
        "id": "mUAm-7hLBI3J",
        "colab_type": "code",
        "colab": {}
      },
      "cell_type": "code",
      "source": [
        "scaler=MinMaxScaler()\n",
        "data=scaler.fit_transform(data)"
      ],
      "execution_count": 0,
      "outputs": []
    },
    {
      "metadata": {
        "id": "J1W38YsVBwNP",
        "colab_type": "code",
        "colab": {}
      },
      "cell_type": "code",
      "source": [
        "X_train, X_test, y_train, y_test=train_test_split(data, target, test_size=0.25, random_state=26)"
      ],
      "execution_count": 0,
      "outputs": []
    },
    {
      "metadata": {
        "id": "nlrds-uQ1uHR",
        "colab_type": "code",
        "colab": {}
      },
      "cell_type": "code",
      "source": [
        "def model(input_shape):\n",
        "  x_input=Input(input_shape)\n",
        "  x=Dense(10, activation='tanh')(x_input)\n",
        "  x=BatchNormalization()(x)\n",
        "  x=Dense(10, activation='tanh')(x_input)\n",
        "  x=BatchNormalization()(x)\n",
        "  x=Dense(1)(x)\n",
        "  x=Activation('sigmoid')(x)\n",
        "  model=Model(inputs=x_input, outputs=x)\n",
        "  return model"
      ],
      "execution_count": 0,
      "outputs": []
    },
    {
      "metadata": {
        "id": "7Djgfz-0DBZv",
        "colab_type": "code",
        "colab": {
          "base_uri": "https://localhost:8080/",
          "height": 35
        },
        "outputId": "262d2354-9683-4dde-e65e-39037ab82670"
      },
      "cell_type": "code",
      "source": [
        "data.shape, y_train.shape"
      ],
      "execution_count": 134,
      "outputs": [
        {
          "output_type": "execute_result",
          "data": {
            "text/plain": [
              "((3921, 18), (2940,))"
            ]
          },
          "metadata": {
            "tags": []
          },
          "execution_count": 134
        }
      ]
    },
    {
      "metadata": {
        "id": "7BeYCZdI5svf",
        "colab_type": "code",
        "colab": {}
      },
      "cell_type": "code",
      "source": [
        "spamModel=model((data.shape[1],))"
      ],
      "execution_count": 0,
      "outputs": []
    },
    {
      "metadata": {
        "id": "B0IzhE26cema",
        "colab_type": "code",
        "colab": {}
      },
      "cell_type": "code",
      "source": [
        "optimizer=Adam(lr=0.0001, beta_1=0.9, beta_2=0.999, epsilon=10**-9, decay=0.0, amsgrad=False)"
      ],
      "execution_count": 0,
      "outputs": []
    },
    {
      "metadata": {
        "id": "9g_LWoQJDRaE",
        "colab_type": "code",
        "colab": {}
      },
      "cell_type": "code",
      "source": [
        "spamModel.compile(optimizer=optimizer, loss='categorical_crossentropy', metrics=['categorical_accuracy'])"
      ],
      "execution_count": 0,
      "outputs": []
    },
    {
      "metadata": {
        "id": "zloLdlh4HRFM",
        "colab_type": "code",
        "colab": {
          "base_uri": "https://localhost:8080/",
          "height": 3635
        },
        "outputId": "a75c1b60-afbb-4d14-8f5d-7b915207efa2"
      },
      "cell_type": "code",
      "source": [
        "history=spamModel.fit(x=X_train, y=y_train, epochs=100, validation_data=(X_test,y_test))"
      ],
      "execution_count": 171,
      "outputs": [
        {
          "output_type": "stream",
          "text": [
            "Train on 2940 samples, validate on 981 samples\n",
            "Epoch 1/100\n",
            "2940/2940 [==============================] - 0s 72us/step - loss: 0.2226 - acc: 0.9112 - val_loss: 0.2444 - val_acc: 0.9021\n",
            "Epoch 2/100\n",
            "2940/2940 [==============================] - 0s 69us/step - loss: 0.2208 - acc: 0.9143 - val_loss: 0.2443 - val_acc: 0.9021\n",
            "Epoch 3/100\n",
            "2940/2940 [==============================] - 0s 69us/step - loss: 0.2203 - acc: 0.9133 - val_loss: 0.2443 - val_acc: 0.9021\n",
            "Epoch 4/100\n",
            "2940/2940 [==============================] - 0s 69us/step - loss: 0.2188 - acc: 0.9133 - val_loss: 0.2442 - val_acc: 0.9021\n",
            "Epoch 5/100\n",
            "2940/2940 [==============================] - 0s 71us/step - loss: 0.2190 - acc: 0.9163 - val_loss: 0.2442 - val_acc: 0.9021\n",
            "Epoch 6/100\n",
            "2940/2940 [==============================] - 0s 68us/step - loss: 0.2180 - acc: 0.9146 - val_loss: 0.2441 - val_acc: 0.9021\n",
            "Epoch 7/100\n",
            "2940/2940 [==============================] - 0s 70us/step - loss: 0.2210 - acc: 0.9150 - val_loss: 0.2441 - val_acc: 0.9021\n",
            "Epoch 8/100\n",
            "2940/2940 [==============================] - 0s 71us/step - loss: 0.2229 - acc: 0.9139 - val_loss: 0.2441 - val_acc: 0.9021\n",
            "Epoch 9/100\n",
            "2940/2940 [==============================] - 0s 70us/step - loss: 0.2201 - acc: 0.9139 - val_loss: 0.2441 - val_acc: 0.9021\n",
            "Epoch 10/100\n",
            "2940/2940 [==============================] - 0s 71us/step - loss: 0.2157 - acc: 0.9146 - val_loss: 0.2440 - val_acc: 0.9021\n",
            "Epoch 11/100\n",
            "2940/2940 [==============================] - 0s 69us/step - loss: 0.2188 - acc: 0.9146 - val_loss: 0.2439 - val_acc: 0.9021\n",
            "Epoch 12/100\n",
            "2940/2940 [==============================] - 0s 64us/step - loss: 0.2163 - acc: 0.9170 - val_loss: 0.2439 - val_acc: 0.9021\n",
            "Epoch 13/100\n",
            "2940/2940 [==============================] - 0s 61us/step - loss: 0.2204 - acc: 0.9136 - val_loss: 0.2437 - val_acc: 0.9021\n",
            "Epoch 14/100\n",
            "2940/2940 [==============================] - 0s 61us/step - loss: 0.2187 - acc: 0.9136 - val_loss: 0.2438 - val_acc: 0.9021\n",
            "Epoch 15/100\n",
            "2940/2940 [==============================] - 0s 65us/step - loss: 0.2205 - acc: 0.9146 - val_loss: 0.2436 - val_acc: 0.9021\n",
            "Epoch 16/100\n",
            "2940/2940 [==============================] - 0s 62us/step - loss: 0.2202 - acc: 0.9146 - val_loss: 0.2436 - val_acc: 0.9021\n",
            "Epoch 17/100\n",
            "2940/2940 [==============================] - 0s 64us/step - loss: 0.2193 - acc: 0.9139 - val_loss: 0.2435 - val_acc: 0.9032\n",
            "Epoch 18/100\n",
            "2940/2940 [==============================] - 0s 61us/step - loss: 0.2163 - acc: 0.9146 - val_loss: 0.2435 - val_acc: 0.9021\n",
            "Epoch 19/100\n",
            "2940/2940 [==============================] - 0s 62us/step - loss: 0.2205 - acc: 0.9129 - val_loss: 0.2434 - val_acc: 0.9021\n",
            "Epoch 20/100\n",
            "2940/2940 [==============================] - 0s 62us/step - loss: 0.2160 - acc: 0.9163 - val_loss: 0.2434 - val_acc: 0.9021\n",
            "Epoch 21/100\n",
            "2940/2940 [==============================] - 0s 61us/step - loss: 0.2191 - acc: 0.9146 - val_loss: 0.2433 - val_acc: 0.9032\n",
            "Epoch 22/100\n",
            "2940/2940 [==============================] - 0s 61us/step - loss: 0.2226 - acc: 0.9139 - val_loss: 0.2435 - val_acc: 0.9021\n",
            "Epoch 23/100\n",
            "2940/2940 [==============================] - 0s 61us/step - loss: 0.2171 - acc: 0.9150 - val_loss: 0.2434 - val_acc: 0.9021\n",
            "Epoch 24/100\n",
            "2940/2940 [==============================] - 0s 62us/step - loss: 0.2179 - acc: 0.9163 - val_loss: 0.2434 - val_acc: 0.9021\n",
            "Epoch 25/100\n",
            "2940/2940 [==============================] - 0s 61us/step - loss: 0.2185 - acc: 0.9150 - val_loss: 0.2434 - val_acc: 0.9032\n",
            "Epoch 26/100\n",
            "2940/2940 [==============================] - 0s 61us/step - loss: 0.2168 - acc: 0.9153 - val_loss: 0.2435 - val_acc: 0.9032\n",
            "Epoch 27/100\n",
            "2940/2940 [==============================] - 0s 62us/step - loss: 0.2205 - acc: 0.9136 - val_loss: 0.2436 - val_acc: 0.9032\n",
            "Epoch 28/100\n",
            "2940/2940 [==============================] - 0s 62us/step - loss: 0.2187 - acc: 0.9136 - val_loss: 0.2435 - val_acc: 0.9032\n",
            "Epoch 29/100\n",
            "2940/2940 [==============================] - 0s 60us/step - loss: 0.2157 - acc: 0.9163 - val_loss: 0.2434 - val_acc: 0.9032\n",
            "Epoch 30/100\n",
            "2940/2940 [==============================] - 0s 61us/step - loss: 0.2209 - acc: 0.9133 - val_loss: 0.2433 - val_acc: 0.9032\n",
            "Epoch 31/100\n",
            "2940/2940 [==============================] - 0s 62us/step - loss: 0.2160 - acc: 0.9163 - val_loss: 0.2433 - val_acc: 0.9032\n",
            "Epoch 32/100\n",
            "2940/2940 [==============================] - 0s 62us/step - loss: 0.2150 - acc: 0.9136 - val_loss: 0.2433 - val_acc: 0.9032\n",
            "Epoch 33/100\n",
            "2940/2940 [==============================] - 0s 61us/step - loss: 0.2188 - acc: 0.9139 - val_loss: 0.2433 - val_acc: 0.9032\n",
            "Epoch 34/100\n",
            "2940/2940 [==============================] - 0s 60us/step - loss: 0.2189 - acc: 0.9139 - val_loss: 0.2434 - val_acc: 0.9021\n",
            "Epoch 35/100\n",
            "2940/2940 [==============================] - 0s 61us/step - loss: 0.2191 - acc: 0.9136 - val_loss: 0.2434 - val_acc: 0.9032\n",
            "Epoch 36/100\n",
            "2940/2940 [==============================] - 0s 62us/step - loss: 0.2153 - acc: 0.9136 - val_loss: 0.2433 - val_acc: 0.9032\n",
            "Epoch 37/100\n",
            "2940/2940 [==============================] - 0s 62us/step - loss: 0.2184 - acc: 0.9150 - val_loss: 0.2432 - val_acc: 0.9032\n",
            "Epoch 38/100\n",
            "2940/2940 [==============================] - 0s 61us/step - loss: 0.2154 - acc: 0.9170 - val_loss: 0.2433 - val_acc: 0.9032\n",
            "Epoch 39/100\n",
            "2940/2940 [==============================] - 0s 59us/step - loss: 0.2157 - acc: 0.9150 - val_loss: 0.2433 - val_acc: 0.9032\n",
            "Epoch 40/100\n",
            "2940/2940 [==============================] - 0s 62us/step - loss: 0.2183 - acc: 0.9139 - val_loss: 0.2434 - val_acc: 0.9032\n",
            "Epoch 41/100\n",
            "2940/2940 [==============================] - 0s 62us/step - loss: 0.2165 - acc: 0.9105 - val_loss: 0.2434 - val_acc: 0.9032\n",
            "Epoch 42/100\n",
            "2940/2940 [==============================] - 0s 61us/step - loss: 0.2171 - acc: 0.9156 - val_loss: 0.2434 - val_acc: 0.9032\n",
            "Epoch 43/100\n",
            "2940/2940 [==============================] - 0s 61us/step - loss: 0.2177 - acc: 0.9105 - val_loss: 0.2434 - val_acc: 0.9032\n",
            "Epoch 44/100\n",
            "2940/2940 [==============================] - 0s 60us/step - loss: 0.2182 - acc: 0.9133 - val_loss: 0.2433 - val_acc: 0.9032\n",
            "Epoch 45/100\n",
            "2940/2940 [==============================] - 0s 61us/step - loss: 0.2172 - acc: 0.9150 - val_loss: 0.2433 - val_acc: 0.9032\n",
            "Epoch 46/100\n",
            "2940/2940 [==============================] - 0s 61us/step - loss: 0.2169 - acc: 0.9143 - val_loss: 0.2432 - val_acc: 0.9032\n",
            "Epoch 47/100\n",
            "2940/2940 [==============================] - 0s 61us/step - loss: 0.2160 - acc: 0.9146 - val_loss: 0.2432 - val_acc: 0.9032\n",
            "Epoch 48/100\n",
            "2940/2940 [==============================] - 0s 61us/step - loss: 0.2188 - acc: 0.9136 - val_loss: 0.2430 - val_acc: 0.9032\n",
            "Epoch 49/100\n",
            "2940/2940 [==============================] - 0s 60us/step - loss: 0.2147 - acc: 0.9139 - val_loss: 0.2432 - val_acc: 0.9032\n",
            "Epoch 50/100\n",
            "2940/2940 [==============================] - 0s 61us/step - loss: 0.2183 - acc: 0.9136 - val_loss: 0.2430 - val_acc: 0.9032\n",
            "Epoch 51/100\n",
            "2940/2940 [==============================] - 0s 61us/step - loss: 0.2182 - acc: 0.9146 - val_loss: 0.2429 - val_acc: 0.9032\n",
            "Epoch 52/100\n",
            "2940/2940 [==============================] - 0s 61us/step - loss: 0.2172 - acc: 0.9105 - val_loss: 0.2429 - val_acc: 0.9032\n",
            "Epoch 53/100\n",
            "2940/2940 [==============================] - 0s 61us/step - loss: 0.2157 - acc: 0.9139 - val_loss: 0.2429 - val_acc: 0.9032\n",
            "Epoch 54/100\n",
            "2940/2940 [==============================] - 0s 62us/step - loss: 0.2143 - acc: 0.9160 - val_loss: 0.2430 - val_acc: 0.9032\n",
            "Epoch 55/100\n",
            "2940/2940 [==============================] - 0s 62us/step - loss: 0.2198 - acc: 0.9143 - val_loss: 0.2430 - val_acc: 0.9032\n",
            "Epoch 56/100\n",
            "2940/2940 [==============================] - 0s 61us/step - loss: 0.2180 - acc: 0.9150 - val_loss: 0.2428 - val_acc: 0.9032\n",
            "Epoch 57/100\n",
            "2940/2940 [==============================] - 0s 61us/step - loss: 0.2169 - acc: 0.9163 - val_loss: 0.2428 - val_acc: 0.9032\n",
            "Epoch 58/100\n",
            "2940/2940 [==============================] - 0s 60us/step - loss: 0.2186 - acc: 0.9139 - val_loss: 0.2428 - val_acc: 0.9032\n",
            "Epoch 59/100\n",
            "2940/2940 [==============================] - 0s 64us/step - loss: 0.2209 - acc: 0.9119 - val_loss: 0.2429 - val_acc: 0.9032\n",
            "Epoch 60/100\n",
            "2940/2940 [==============================] - 0s 60us/step - loss: 0.2171 - acc: 0.9156 - val_loss: 0.2429 - val_acc: 0.9032\n",
            "Epoch 61/100\n",
            "2940/2940 [==============================] - 0s 61us/step - loss: 0.2157 - acc: 0.9180 - val_loss: 0.2427 - val_acc: 0.9032\n",
            "Epoch 62/100\n",
            "2940/2940 [==============================] - 0s 61us/step - loss: 0.2154 - acc: 0.9105 - val_loss: 0.2427 - val_acc: 0.9032\n",
            "Epoch 63/100\n",
            "2940/2940 [==============================] - 0s 61us/step - loss: 0.2194 - acc: 0.9146 - val_loss: 0.2428 - val_acc: 0.9032\n",
            "Epoch 64/100\n",
            "2940/2940 [==============================] - 0s 61us/step - loss: 0.2121 - acc: 0.9143 - val_loss: 0.2427 - val_acc: 0.9032\n",
            "Epoch 65/100\n",
            "2940/2940 [==============================] - 0s 61us/step - loss: 0.2166 - acc: 0.9136 - val_loss: 0.2427 - val_acc: 0.9032\n",
            "Epoch 66/100\n",
            "2940/2940 [==============================] - 0s 62us/step - loss: 0.2161 - acc: 0.9143 - val_loss: 0.2427 - val_acc: 0.9032\n",
            "Epoch 67/100\n",
            "2940/2940 [==============================] - 0s 60us/step - loss: 0.2155 - acc: 0.9150 - val_loss: 0.2427 - val_acc: 0.9032\n",
            "Epoch 68/100\n",
            "2940/2940 [==============================] - 0s 62us/step - loss: 0.2173 - acc: 0.9139 - val_loss: 0.2428 - val_acc: 0.9032\n",
            "Epoch 69/100\n",
            "2940/2940 [==============================] - 0s 62us/step - loss: 0.2184 - acc: 0.9143 - val_loss: 0.2427 - val_acc: 0.9032\n",
            "Epoch 70/100\n",
            "2940/2940 [==============================] - 0s 64us/step - loss: 0.2137 - acc: 0.9167 - val_loss: 0.2425 - val_acc: 0.9032\n",
            "Epoch 71/100\n",
            "2940/2940 [==============================] - 0s 61us/step - loss: 0.2145 - acc: 0.9139 - val_loss: 0.2425 - val_acc: 0.9032\n",
            "Epoch 72/100\n",
            "2940/2940 [==============================] - 0s 61us/step - loss: 0.2170 - acc: 0.9133 - val_loss: 0.2425 - val_acc: 0.9032\n",
            "Epoch 73/100\n",
            "2940/2940 [==============================] - 0s 61us/step - loss: 0.2164 - acc: 0.9133 - val_loss: 0.2425 - val_acc: 0.9032\n",
            "Epoch 74/100\n",
            "2940/2940 [==============================] - 0s 61us/step - loss: 0.2120 - acc: 0.9136 - val_loss: 0.2425 - val_acc: 0.9032\n",
            "Epoch 75/100\n",
            "2940/2940 [==============================] - 0s 62us/step - loss: 0.2165 - acc: 0.9160 - val_loss: 0.2424 - val_acc: 0.9032\n",
            "Epoch 76/100\n",
            "2940/2940 [==============================] - 0s 62us/step - loss: 0.2148 - acc: 0.9150 - val_loss: 0.2425 - val_acc: 0.9032\n",
            "Epoch 77/100\n",
            "2940/2940 [==============================] - 0s 61us/step - loss: 0.2150 - acc: 0.9160 - val_loss: 0.2425 - val_acc: 0.9032\n",
            "Epoch 78/100\n",
            "2940/2940 [==============================] - 0s 61us/step - loss: 0.2184 - acc: 0.9146 - val_loss: 0.2427 - val_acc: 0.9032\n",
            "Epoch 79/100\n",
            "2940/2940 [==============================] - 0s 61us/step - loss: 0.2180 - acc: 0.9122 - val_loss: 0.2425 - val_acc: 0.9032\n",
            "Epoch 80/100\n",
            "2940/2940 [==============================] - 0s 60us/step - loss: 0.2161 - acc: 0.9136 - val_loss: 0.2424 - val_acc: 0.9032\n",
            "Epoch 81/100\n",
            "2940/2940 [==============================] - 0s 62us/step - loss: 0.2157 - acc: 0.9133 - val_loss: 0.2424 - val_acc: 0.9032\n",
            "Epoch 82/100\n",
            "2940/2940 [==============================] - 0s 61us/step - loss: 0.2154 - acc: 0.9163 - val_loss: 0.2425 - val_acc: 0.9032\n",
            "Epoch 83/100\n",
            "2940/2940 [==============================] - 0s 62us/step - loss: 0.2150 - acc: 0.9143 - val_loss: 0.2424 - val_acc: 0.9032\n",
            "Epoch 84/100\n",
            "2940/2940 [==============================] - 0s 64us/step - loss: 0.2163 - acc: 0.9153 - val_loss: 0.2425 - val_acc: 0.9032\n",
            "Epoch 85/100\n",
            "2940/2940 [==============================] - 0s 61us/step - loss: 0.2146 - acc: 0.9146 - val_loss: 0.2424 - val_acc: 0.9032\n",
            "Epoch 86/100\n",
            "2940/2940 [==============================] - 0s 61us/step - loss: 0.2147 - acc: 0.9136 - val_loss: 0.2424 - val_acc: 0.9032\n",
            "Epoch 87/100\n",
            "2940/2940 [==============================] - 0s 61us/step - loss: 0.2124 - acc: 0.9153 - val_loss: 0.2422 - val_acc: 0.9032\n",
            "Epoch 88/100\n",
            "2940/2940 [==============================] - 0s 62us/step - loss: 0.2148 - acc: 0.9156 - val_loss: 0.2422 - val_acc: 0.9032\n",
            "Epoch 89/100\n",
            "2940/2940 [==============================] - 0s 65us/step - loss: 0.2139 - acc: 0.9150 - val_loss: 0.2422 - val_acc: 0.9032\n",
            "Epoch 90/100\n",
            "2940/2940 [==============================] - 0s 61us/step - loss: 0.2132 - acc: 0.9180 - val_loss: 0.2423 - val_acc: 0.9032\n",
            "Epoch 91/100\n",
            "2940/2940 [==============================] - 0s 62us/step - loss: 0.2161 - acc: 0.9129 - val_loss: 0.2422 - val_acc: 0.9032\n",
            "Epoch 92/100\n",
            "2940/2940 [==============================] - 0s 64us/step - loss: 0.2182 - acc: 0.9136 - val_loss: 0.2423 - val_acc: 0.9032\n",
            "Epoch 93/100\n",
            "2940/2940 [==============================] - 0s 61us/step - loss: 0.2158 - acc: 0.9167 - val_loss: 0.2421 - val_acc: 0.9032\n",
            "Epoch 94/100\n",
            "2940/2940 [==============================] - 0s 61us/step - loss: 0.2163 - acc: 0.9122 - val_loss: 0.2422 - val_acc: 0.9032\n",
            "Epoch 95/100\n",
            "2940/2940 [==============================] - 0s 62us/step - loss: 0.2122 - acc: 0.9160 - val_loss: 0.2421 - val_acc: 0.9032\n",
            "Epoch 96/100\n",
            "2940/2940 [==============================] - 0s 62us/step - loss: 0.2140 - acc: 0.9170 - val_loss: 0.2422 - val_acc: 0.9032\n",
            "Epoch 97/100\n",
            "2940/2940 [==============================] - 0s 62us/step - loss: 0.2163 - acc: 0.9156 - val_loss: 0.2421 - val_acc: 0.9032\n",
            "Epoch 98/100\n",
            "2940/2940 [==============================] - 0s 61us/step - loss: 0.2144 - acc: 0.9146 - val_loss: 0.2421 - val_acc: 0.9032\n",
            "Epoch 99/100\n",
            "2940/2940 [==============================] - 0s 60us/step - loss: 0.2172 - acc: 0.9122 - val_loss: 0.2421 - val_acc: 0.9032\n",
            "Epoch 100/100\n",
            "2940/2940 [==============================] - 0s 61us/step - loss: 0.2123 - acc: 0.9167 - val_loss: 0.2420 - val_acc: 0.9032\n"
          ],
          "name": "stdout"
        }
      ]
    },
    {
      "metadata": {
        "id": "rV31iDuLILPm",
        "colab_type": "code",
        "colab": {
          "base_uri": "https://localhost:8080/",
          "height": 71
        },
        "outputId": "cc8f261d-b1c9-442f-fa2f-00ace01df68e"
      },
      "cell_type": "code",
      "source": [
        "loss, acc=spamModel.evaluate(X_test, y_test)\n",
        "print(\"loss= \"+str(loss))\n",
        "print(\"test accuracy= \"+str(acc))"
      ],
      "execution_count": 172,
      "outputs": [
        {
          "output_type": "stream",
          "text": [
            "981/981 [==============================] - 0s 39us/step\n",
            "loss= 0.24201109437281446\n",
            "test accuracy= 0.903160041078515\n"
          ],
          "name": "stdout"
        }
      ]
    },
    {
      "metadata": {
        "id": "8pDFmDzjK3y3",
        "colab_type": "code",
        "colab": {
          "base_uri": "https://localhost:8080/",
          "height": 323
        },
        "outputId": "2d1f0de7-48b3-47dd-d775-b96f7d9668cf"
      },
      "cell_type": "code",
      "source": [
        "spamModel.summary()"
      ],
      "execution_count": 173,
      "outputs": [
        {
          "output_type": "stream",
          "text": [
            "_________________________________________________________________\n",
            "Layer (type)                 Output Shape              Param #   \n",
            "=================================================================\n",
            "input_7 (InputLayer)         (None, 18)                0         \n",
            "_________________________________________________________________\n",
            "dense_20 (Dense)             (None, 10)                190       \n",
            "_________________________________________________________________\n",
            "batch_normalization_14 (Batc (None, 10)                40        \n",
            "_________________________________________________________________\n",
            "dense_21 (Dense)             (None, 1)                 11        \n",
            "_________________________________________________________________\n",
            "activation_7 (Activation)    (None, 1)                 0         \n",
            "=================================================================\n",
            "Total params: 241\n",
            "Trainable params: 221\n",
            "Non-trainable params: 20\n",
            "_________________________________________________________________\n"
          ],
          "name": "stdout"
        }
      ]
    },
    {
      "metadata": {
        "id": "jAxv_ZDVSuT_",
        "colab_type": "code",
        "colab": {}
      },
      "cell_type": "code",
      "source": [
        "predictions=np.zeros(X_test.shape[0])\n",
        "predictions[(spamModel.predict(X_test)).reshape(X_test.shape[0])>0.5]=1"
      ],
      "execution_count": 0,
      "outputs": []
    },
    {
      "metadata": {
        "id": "D2PP2HyELQ32",
        "colab_type": "code",
        "colab": {
          "base_uri": "https://localhost:8080/",
          "height": 143
        },
        "outputId": "5f5b13bd-6c77-476c-cd26-6159085c90f6"
      },
      "cell_type": "code",
      "source": [
        "print(classification_report(y_true=y_test.values, y_pred=predictions))"
      ],
      "execution_count": 175,
      "outputs": [
        {
          "output_type": "stream",
          "text": [
            "             precision    recall  f1-score   support\n",
            "\n",
            "          0       0.91      0.99      0.95       884\n",
            "          1       0.54      0.13      0.21        97\n",
            "\n",
            "avg / total       0.88      0.90      0.88       981\n",
            "\n"
          ],
          "name": "stdout"
        }
      ]
    },
    {
      "metadata": {
        "id": "RQHGq6e6X7Cz",
        "colab_type": "code",
        "colab": {
          "base_uri": "https://localhost:8080/",
          "height": 571
        },
        "outputId": "a484428d-49e8-49c1-a8be-9491df470117"
      },
      "cell_type": "code",
      "source": [
        "def plot_accuracy(history):\n",
        "    plt.plot(history.history[ 'acc'])\n",
        "    plt.plot(history.history['val_acc'])\n",
        "    plt.title('model accuracy')\n",
        "    plt.ylabel('accuracy')\n",
        "    plt.xlabel('epoch')\n",
        "    plt.legend(['training', 'validation'], loc='lower right')\n",
        "    plt.show()\n",
        "\n",
        "def plot_loss(history):\n",
        "    plt.plot(history.history['loss'])\n",
        "    plt.plot(history.history['val_loss'])\n",
        "    plt.title('model loss')\n",
        "    plt.ylabel('loss')\n",
        "    plt.xlabel('epoch')\n",
        "    plt.legend(['training', 'validation'], loc='upper right')\n",
        "    plt.show()\n",
        "# summarize accuracy\n",
        "plot_accuracy(history)\n",
        "\n",
        "# summarize loss\n",
        "plot_loss(history)"
      ],
      "execution_count": 176,
      "outputs": [
        {
          "output_type": "display_data",
          "data": {
            "image/png": "[encoded data removed]",
            "text/plain": [
              "<matplotlib.figure.Figure at 0x7ff9eebe19b0>"
            ]
          },
          "metadata": {
            "tags": []
          }
        },
        {
          "output_type": "display_data",
          "data": {
            "image/png": "[encoded data removed]",
            "text/plain": [
              "<matplotlib.figure.Figure at 0x7ff9ef495b70>"
            ]
          },
          "metadata": {
            "tags": []
          }
        }
      ]
    }
  ]
}