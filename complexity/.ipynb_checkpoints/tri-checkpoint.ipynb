{
 "cells": [
  {
   "cell_type": "markdown",
   "metadata": {},
   "source": [
    "# Tri par comptage"
   ]
  },
  {
   "cell_type": "code",
   "execution_count": 7,
   "metadata": {},
   "outputs": [],
   "source": [
    "def tri_comptage(t):\n",
    "    index=[]\n",
    "    t_tri=t[:]\n",
    "    for i in range(len(t)):\n",
    "        occ=0\n",
    "        for j in range (len(t)):\n",
    "            if t[j]>=t[i]:\n",
    "                occ+=1\n",
    "        index.append(occ-1)\n",
    "        t_tri[index[i]]=t[i] \n",
    "    return t_tri"
   ]
  },
  {
   "cell_type": "code",
   "execution_count": 8,
   "metadata": {},
   "outputs": [
    {
     "data": {
      "text/plain": [
       "[14, 10, 8, 5, 3]"
      ]
     },
     "execution_count": 8,
     "metadata": {},
     "output_type": "execute_result"
    }
   ],
   "source": [
    "t=[10,3,8,5,14]\n",
    "tri_comptage(t)"
   ]
  },
  {
   "cell_type": "markdown",
   "metadata": {},
   "source": [
    "# Tri par éclatement"
   ]
  },
  {
   "cell_type": "code",
   "execution_count": 52,
   "metadata": {},
   "outputs": [],
   "source": [
    "def eclater(t):\n",
    "    t1=[]\n",
    "    t2=[]\n",
    "\n",
    "    def charget1(i, t):\n",
    "        t1.append(t[i])\n",
    "        if i < len(t) - 1 and t[i + 1] > t[i]:\n",
    "            charget1(i + 1, t)\n",
    "        if i < len(t) - 1 and t[i + 1] < t[i]:\n",
    "            charget2(i + 1, t)\n",
    "\n",
    "    def charget2(i, t):\n",
    "        t2.append(t[i])\n",
    "        if i < len(t) - 1 and t[i + 1] > t[i]:\n",
    "            charget2(i + 1, t)\n",
    "        if i < len(t) - 1 and t[i + 1] < t[i]:\n",
    "            charget1(i + 1, t)\n",
    "\n",
    "    charget1(0,t)\n",
    "    return t1,t2"
   ]
  },
  {
   "cell_type": "code",
   "execution_count": 53,
   "metadata": {},
   "outputs": [],
   "source": [
    "def fusion(t1, t2):\n",
    "    t=[]\n",
    "    i=0\n",
    "    j=0\n",
    "    while i<len(t1) and j<len(t2):\n",
    "        if t1[i]<t2[j]:\n",
    "            t.append(t1[i])\n",
    "            i=i+1\n",
    "        else:\n",
    "            t.append(t2[j])\n",
    "            j=j+1\n",
    "    if i==len(t1) and j<len(t2):\n",
    "        t=t+t2[j:]\n",
    "    else:\n",
    "        t=t+t1[i:]\n",
    "    return t"
   ]
  },
  {
   "cell_type": "code",
   "execution_count": 54,
   "metadata": {},
   "outputs": [],
   "source": [
    "def tri_eclatement(t):\n",
    "    fin=False\n",
    "    while not fin:\n",
    "        t1,t2=eclater(t)\n",
    "        t=fusion(t1,t2)\n",
    "        if len(t2)==0:\n",
    "            return t1\n",
    "            fin=True\n",
    "        elif len(t1)==0:\n",
    "            return t2\n",
    "            fin=True"
   ]
  },
  {
   "cell_type": "code",
   "execution_count": 55,
   "metadata": {},
   "outputs": [
    {
     "data": {
      "text/plain": [
       "[3, 5, 8, 10, 14]"
      ]
     },
     "execution_count": 55,
     "metadata": {},
     "output_type": "execute_result"
    }
   ],
   "source": [
    "a = [10,5,8,3,14]\n",
    "tri_eclatement(a)"
   ]
  },
  {
   "cell_type": "markdown",
   "metadata": {},
   "source": [
    "# Tri par selection"
   ]
  },
  {
   "cell_type": "code",
   "execution_count": 1,
   "metadata": {},
   "outputs": [],
   "source": [
    "def tri_selection(t):\n",
    "    for i in range(len(t)):\n",
    "        min_t=t[i]\n",
    "        min_index=i\n",
    "        for j in range(i+1, len(t)):\n",
    "            if t[j]<min_t:\n",
    "                min_t=t[j]\n",
    "                min_index=j\n",
    "        if i!=min_index:\n",
    "            t[i], t[min_index]=min_t, t[i]\n",
    "    return t"
   ]
  },
  {
   "cell_type": "code",
   "execution_count": 2,
   "metadata": {},
   "outputs": [
    {
     "data": {
      "text/plain": [
       "[3, 5, 8, 10, 14]"
      ]
     },
     "execution_count": 2,
     "metadata": {},
     "output_type": "execute_result"
    }
   ],
   "source": [
    "a = [10,5,8,3,14]\n",
    "tri_selection(a)"
   ]
  },
  {
   "cell_type": "markdown",
   "metadata": {},
   "source": [
    "# Tri à bulles"
   ]
  },
  {
   "cell_type": "code",
   "execution_count": 3,
   "metadata": {},
   "outputs": [],
   "source": [
    "def tri_bulles(my_list):\n",
    "    for j in range(len(my_list)-1):\n",
    "        for i in range(len(my_list)-1):\n",
    "            if my_list[i]>my_list[i+1]:\n",
    "                my_list[i], my_list[i+1] = my_list[i+1], my_list[i]\n",
    "    return my_list"
   ]
  },
  {
   "cell_type": "code",
   "execution_count": 4,
   "metadata": {},
   "outputs": [
    {
     "data": {
      "text/plain": [
       "[3, 5, 8, 10, 14]"
      ]
     },
     "execution_count": 4,
     "metadata": {},
     "output_type": "execute_result"
    }
   ],
   "source": [
    "a = [10,5,8,3,14]\n",
    "tri_bulles(a)"
   ]
  },
  {
   "cell_type": "markdown",
   "metadata": {},
   "source": [
    "# Tri par insertion"
   ]
  },
  {
   "cell_type": "code",
   "execution_count": 41,
   "metadata": {},
   "outputs": [],
   "source": [
    "def tri_insertion(t):\n",
    "    r=[t[0]]\n",
    "    for i in range(1,len(t)):\n",
    "        for j in range(len(r)):\n",
    "            if t[i]>r[j]:\n",
    "                if j<len(r)-1:\n",
    "                    if t[i]<r[j+1]:\n",
    "                        r.insert(j+1,t[i])\n",
    "                        break\n",
    "                elif j==len(r)-1:\n",
    "                    r.insert(j+1,t[i])\n",
    "                    break\n",
    "                else:\n",
    "                    pass\n",
    "            elif t[i]<r[j]:\n",
    "                if j==0:\n",
    "                    r.insert(0,t[i])\n",
    "                    break\n",
    "                elif j>=1:\n",
    "                    if t[i]>r[j-1]:\n",
    "                        r.insert(j-1,t[i])\n",
    "                        break\n",
    "                else:\n",
    "                    pass\n",
    "            else:\n",
    "                pass\n",
    "    return r\n",
    "            \n",
    "        "
   ]
  },
  {
   "cell_type": "code",
   "execution_count": 42,
   "metadata": {},
   "outputs": [
    {
     "data": {
      "text/plain": [
       "[3, 5, 8, 10, 14]"
      ]
     },
     "execution_count": 42,
     "metadata": {},
     "output_type": "execute_result"
    }
   ],
   "source": [
    "a = [10,5,8,3,14]\n",
    "tri_insertion(a)"
   ]
  },
  {
   "cell_type": "markdown",
   "metadata": {},
   "source": [
    "# Tri rapide"
   ]
  },
  {
   "cell_type": "code",
   "execution_count": 43,
   "metadata": {},
   "outputs": [],
   "source": [
    "import random"
   ]
  },
  {
   "cell_type": "code",
   "execution_count": 50,
   "metadata": {},
   "outputs": [],
   "source": [
    "def tri_rapide(t):\n",
    "    if len(t)==0:\n",
    "        return[]\n",
    "    else:\n",
    "        new_list=[]\n",
    "        p=random.randint(0, len(t)-1)\n",
    "        g=[elt for elt in t if t[p]>elt]\n",
    "        d=[elt for elt in t if t[p]<elt]\n",
    "        new_list= tri_rapide(g)+[t[p]]+tri_rapide(d)\n",
    "    \n",
    "        return new_list"
   ]
  },
  {
   "cell_type": "code",
   "execution_count": 51,
   "metadata": {},
   "outputs": [
    {
     "data": {
      "text/plain": [
       "[3, 5, 8, 10, 14]"
      ]
     },
     "execution_count": 51,
     "metadata": {},
     "output_type": "execute_result"
    }
   ],
   "source": [
    "a = [10,5,8,3,14]\n",
    "tri_rapide(a)"
   ]
  },
  {
   "cell_type": "code",
   "execution_count": null,
   "metadata": {},
   "outputs": [],
   "source": []
  }
 ],
 "metadata": {
  "kernelspec": {
   "display_name": "Python 3",
   "language": "python",
   "name": "python3"
  },
  "language_info": {
   "codemirror_mode": {
    "name": "ipython",
    "version": 3
   },
   "file_extension": ".py",
   "mimetype": "text/x-python",
   "name": "python",
   "nbconvert_exporter": "python",
   "pygments_lexer": "ipython3",
   "version": "3.6.2"
  }
 },
 "nbformat": 4,
 "nbformat_minor": 2
}
