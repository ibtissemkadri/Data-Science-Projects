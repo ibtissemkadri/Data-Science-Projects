{
 "cells": [
  {
   "cell_type": "markdown",
   "metadata": {},
   "source": [
    "# Lab Complexite n°1"
   ]
  },
  {
   "cell_type": "code",
   "execution_count": 15,
   "metadata": {},
   "outputs": [],
   "source": [
    "import math\n",
    "import time\n",
    "import numpy as np"
   ]
  },
  {
   "cell_type": "code",
   "execution_count": 2,
   "metadata": {},
   "outputs": [],
   "source": [
    "def func1(n):\n",
    "    t = []\n",
    "    for i in range(n+1):\n",
    "        for j in range(n+1):\n",
    "            if i**2 + j**2 == n:\n",
    "                t.append((i,j))\n",
    "    return t"
   ]
  },
  {
   "cell_type": "code",
   "execution_count": 3,
   "metadata": {},
   "outputs": [],
   "source": [
    "def func2(n):\n",
    "    t = []\n",
    "    for i in range(n+1):\n",
    "        for j in range(0,i+1):\n",
    "            if i**2 + j**2 == n:\n",
    "                t.append((i,j))\n",
    "    return t"
   ]
  },
  {
   "cell_type": "code",
   "execution_count": 4,
   "metadata": {},
   "outputs": [],
   "source": [
    "def func3(n):\n",
    "    t = []\n",
    "    N = math.floor(math.sqrt(n))\n",
    "    for i in range(N+1):\n",
    "        for j in range(0,i+1):\n",
    "            if i**2 + j**2 == n:\n",
    "                t.append((i,j))\n",
    "    return t"
   ]
  },
  {
   "cell_type": "code",
   "execution_count": 19,
   "metadata": {},
   "outputs": [],
   "source": [
    "def func4(n):\n",
    "    t = []\n",
    "    N = math.floor(math.sqrt(n))\n",
    "    for i in range(N+1):\n",
    "        j=math.sqrt(n-i**2)\n",
    "        if j==math.floor(j):\n",
    "            t.append((i,j))\n",
    "    return t            \n",
    "            "
   ]
  },
  {
   "cell_type": "code",
   "execution_count": 6,
   "metadata": {},
   "outputs": [
    {
     "name": "stdout",
     "output_type": "stream",
     "text": [
      "[(1, 3), (3, 1)]\n",
      "Temps d'exécution de la fonction1:  0.0003743171691894531\n"
     ]
    }
   ],
   "source": [
    "n=10\n",
    "debut=time.time()\n",
    "t=func1(n)\n",
    "fin=time.time()\n",
    "tmps=fin-debut\n",
    "print (t)\n",
    "print(\"Temps d'exécution de la fonction1: \", tmps)"
   ]
  },
  {
   "cell_type": "code",
   "execution_count": 7,
   "metadata": {},
   "outputs": [
    {
     "name": "stdout",
     "output_type": "stream",
     "text": [
      "pour n=10 t=[(1, 3), (3, 1)]\n",
      "Temps d'exécution de la fonction1 pour n=10 est: 9.72747802734375e-05 \n",
      "pour n=30 t=[]\n",
      "Temps d'exécution de la fonction1 pour n=30 est: 0.0015614032745361328 \n",
      "pour n=50 t=[(1, 7), (5, 5), (7, 1)]\n",
      "Temps d'exécution de la fonction1 pour n=50 est: 0.0034084320068359375 \n",
      "pour n=80 t=[(4, 8), (8, 4)]\n",
      "Temps d'exécution de la fonction1 pour n=80 est: 0.00847768783569336 \n",
      "pour n=100 t=[(0, 10), (6, 8), (8, 6), (10, 0)]\n",
      "Temps d'exécution de la fonction1 pour n=100 est: 0.011965513229370117 \n"
     ]
    }
   ],
   "source": [
    "n=[10,30,50,80,100]\n",
    "for i in n:\n",
    "    debut=time.time()\n",
    "    t=func1(i)\n",
    "    fin=time.time()\n",
    "    tmps=fin-debut\n",
    "    print (\"pour n={} t={}\".format(i,t))\n",
    "    print(\"Temps d'exécution de la fonction1 pour n={} est: {} \".format(i,tmps))"
   ]
  },
  {
   "cell_type": "code",
   "execution_count": 8,
   "metadata": {
    "scrolled": true
   },
   "outputs": [
    {
     "name": "stdout",
     "output_type": "stream",
     "text": [
      "pour n=10 t=[(3, 1)]\n",
      "Temps d'exécution de la fonction2 pour n=10 est: 0.0001010894775390625 \n",
      "pour n=30 t=[]\n",
      "Temps d'exécution de la fonction2 pour n=30 est: 0.0006425380706787109 \n",
      "pour n=50 t=[(5, 5), (7, 1)]\n",
      "Temps d'exécution de la fonction2 pour n=50 est: 0.001768350601196289 \n",
      "pour n=80 t=[(8, 4)]\n",
      "Temps d'exécution de la fonction2 pour n=80 est: 0.004689455032348633 \n",
      "pour n=100 t=[(8, 6), (10, 0)]\n",
      "Temps d'exécution de la fonction2 pour n=100 est: 0.0072307586669921875 \n"
     ]
    }
   ],
   "source": [
    "n=[10,30,50,80,100]\n",
    "for i in n:\n",
    "    debut=time.time()\n",
    "    t=func2(i)\n",
    "    fin=time.time()\n",
    "    tmps=fin-debut\n",
    "    print (\"pour n={} t={}\".format(i,t))\n",
    "    print(\"Temps d'exécution de la fonction2 pour n={} est: {} \".format(i,tmps))"
   ]
  },
  {
   "cell_type": "code",
   "execution_count": 20,
   "metadata": {},
   "outputs": [
    {
     "name": "stdout",
     "output_type": "stream",
     "text": [
      "pour n=10 t=[(3, 1)]\n",
      "Temps d'exécution de la fonction3 pour n=10 est: 3.528594970703125e-05 \n",
      "pour n=30 t=[]\n",
      "Temps d'exécution de la fonction3 pour n=30 est: 3.838539123535156e-05 \n",
      "pour n=50 t=[(5, 5), (7, 1)]\n",
      "Temps d'exécution de la fonction3 pour n=50 est: 4.792213439941406e-05 \n",
      "pour n=80 t=[(8, 4)]\n",
      "Temps d'exécution de la fonction3 pour n=80 est: 5.5789947509765625e-05 \n",
      "pour n=100 t=[(8, 6), (10, 0)]\n",
      "Temps d'exécution de la fonction3 pour n=100 est: 5.364418029785156e-05 \n"
     ]
    }
   ],
   "source": [
    "n=[10,30,50,80,100]\n",
    "for i in n:\n",
    "    debut=time.time()\n",
    "    t=func3(i)\n",
    "    fin=time.time()\n",
    "    tmps=fin-debut\n",
    "    print (\"pour n={} t={}\".format(i,t))\n",
    "    print(\"Temps d'exécution de la fonction3 pour n={} est: {} \".format(i,tmps))"
   ]
  },
  {
   "cell_type": "code",
   "execution_count": 21,
   "metadata": {},
   "outputs": [
    {
     "name": "stdout",
     "output_type": "stream",
     "text": [
      "pour n=10 t=[(1, 3.0), (3, 1.0)]\n",
      "Temps d'exécution de la fonction4 pour n=10 est: 2.3365020751953125e-05 \n",
      "pour n=30 t=[]\n",
      "Temps d'exécution de la fonction4 pour n=30 est: 1.4066696166992188e-05 \n",
      "pour n=50 t=[(1, 7.0), (5, 5.0), (7, 1.0)]\n",
      "Temps d'exécution de la fonction4 pour n=50 est: 1.1205673217773438e-05 \n",
      "pour n=80 t=[(4, 8.0), (8, 4.0)]\n",
      "Temps d'exécution de la fonction4 pour n=80 est: 1.2159347534179688e-05 \n",
      "pour n=100 t=[(0, 10.0), (6, 8.0), (8, 6.0), (10, 0.0)]\n",
      "Temps d'exécution de la fonction4 pour n=100 est: 1.4066696166992188e-05 \n"
     ]
    }
   ],
   "source": [
    "n=[10,30,50,80,100]\n",
    "for i in n:\n",
    "    debut=time.time()\n",
    "    t=func4(i)\n",
    "    fin=time.time()\n",
    "    tmps=fin-debut\n",
    "    print (\"pour n={} t={}\".format(i,t))\n",
    "    print(\"Temps d'exécution de la fonction4 pour n={} est: {} \".format(i,tmps))"
   ]
  },
  {
   "cell_type": "code",
   "execution_count": 11,
   "metadata": {},
   "outputs": [
    {
     "name": "stdout",
     "output_type": "stream",
     "text": [
      "rapport de temps d’exécutions entre la fonction 1 , la fonction 2 pour n=10 est: 1.766\n",
      "rapport de temps d’exécutions entre la fonction 1 , la fonction 2 pour n=30 est: 1.9148624926857811\n",
      "rapport de temps d’exécutions entre la fonction 1 , la fonction 2 pour n=50 est: 1.772613475563296\n",
      "rapport de temps d’exécutions entre la fonction 1 , la fonction 2 pour n=80 est: 2.126191383911552\n",
      "rapport de temps d’exécutions entre la fonction 1 , la fonction 2 pour n=100 est: 2.0101875590338687\n"
     ]
    }
   ],
   "source": [
    "n=[10,30,50,80,100]\n",
    "for i in n:\n",
    "    debut1=time.time()\n",
    "    func1(i)\n",
    "    fin1=time.time()\n",
    "    tmps1=fin1-debut1\n",
    "    debut2=time.time()\n",
    "    func2(i)\n",
    "    fin2=time.time()\n",
    "    tmps2=fin2-debut2\n",
    "    print(\"rapport de temps d’exécutions entre la fonction 1 , la fonction 2 pour n={} est: {}\".format(i,tmps1/tmps2))"
   ]
  },
  {
   "cell_type": "code",
   "execution_count": 12,
   "metadata": {},
   "outputs": [
    {
     "name": "stdout",
     "output_type": "stream",
     "text": [
      "rapport de temps d’exécutions entre la fonction 2 , la fonction 3 pour n=10 est: 3.596638655462185\n",
      "rapport de temps d’exécutions entre la fonction 2 , la fonction 3 pour n=30 est: 18.345132743362832\n",
      "rapport de temps d’exécutions entre la fonction 2 , la fonction 3 pour n=50 est: 30.317073170731707\n",
      "rapport de temps d’exécutions entre la fonction 2 , la fonction 3 pour n=80 est: 63.20918367346939\n",
      "rapport de temps d’exécutions entre la fonction 2 , la fonction 3 pour n=100 est: 77.18373493975903\n"
     ]
    }
   ],
   "source": [
    "n=[10,30,50,80,100]\n",
    "for i in n:\n",
    "    debut1=time.time()\n",
    "    func2(i)\n",
    "    fin1=time.time()\n",
    "    tmps1=fin1-debut1\n",
    "    debut2=time.time()\n",
    "    func3(i)\n",
    "    fin2=time.time()\n",
    "    tmps2=fin2-debut2\n",
    "    print(\"rapport de temps d’exécutions entre la fonction 2 , la fonction 3 pour n={} est: {}\".format(i,tmps1/tmps2))"
   ]
  },
  {
   "cell_type": "code",
   "execution_count": null,
   "metadata": {},
   "outputs": [],
   "source": []
  }
 ],
 "metadata": {
  "kernelspec": {
   "display_name": "Python 3",
   "language": "python",
   "name": "python3"
  },
  "language_info": {
   "codemirror_mode": {
    "name": "ipython",
    "version": 3
   },
   "file_extension": ".py",
   "mimetype": "text/x-python",
   "name": "python",
   "nbconvert_exporter": "python",
   "pygments_lexer": "ipython3",
   "version": "3.6.2"
  }
 },
 "nbformat": 4,
 "nbformat_minor": 2
}
