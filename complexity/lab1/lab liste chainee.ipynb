{
 "cells": [
  {
   "cell_type": "markdown",
   "metadata": {},
   "source": [
    "# Lab structure de donnees"
   ]
  },
  {
   "cell_type": "markdown",
   "metadata": {},
   "source": [
    "# List chainée"
   ]
  },
  {
   "cell_type": "markdown",
   "metadata": {},
   "source": [
    "## Définition de la cellule"
   ]
  },
  {
   "cell_type": "code",
   "execution_count": 1,
   "metadata": {},
   "outputs": [],
   "source": [
    "def generer_cellule(e):\n",
    "    cellule={'valeur': e, 'suivant': None}\n",
    "    return cellule  "
   ]
  },
  {
   "cell_type": "markdown",
   "metadata": {},
   "source": [
    "## Première liste chainée"
   ]
  },
  {
   "cell_type": "code",
   "execution_count": 2,
   "metadata": {},
   "outputs": [
    {
     "data": {
      "text/plain": [
       "{'valeur': 4,\n",
       " 'suivant': {'valeur': 8,\n",
       "  'suivant': {'valeur': 16, 'suivant': {'valeur': 32, 'suivant': None}}}}"
      ]
     },
     "execution_count": 2,
     "metadata": {},
     "output_type": "execute_result"
    }
   ],
   "source": [
    "cel1=generer_cellule(4)\n",
    "cel2=generer_cellule(8)\n",
    "cel3=generer_cellule(16)\n",
    "cel4=generer_cellule(32)\n",
    "cel1['suivant']=cel2\n",
    "cel2['suivant']=cel3\n",
    "cel3['suivant']=cel4\n",
    "list_chain=cel1\n",
    "list_chain"
   ]
  },
  {
   "cell_type": "markdown",
   "metadata": {},
   "source": [
    "## Accès à une cellule"
   ]
  },
  {
   "cell_type": "code",
   "execution_count": 3,
   "metadata": {},
   "outputs": [],
   "source": [
    "def length(liste_chainée):\n",
    "    i=0\n",
    "    cel=liste_chainée\n",
    "    while (cel!=None):\n",
    "        cel=cel.get('suivant', None)\n",
    "        i=i+1 \n",
    "    return i"
   ]
  },
  {
   "cell_type": "code",
   "execution_count": 4,
   "metadata": {},
   "outputs": [
    {
     "data": {
      "text/plain": [
       "4"
      ]
     },
     "execution_count": 4,
     "metadata": {},
     "output_type": "execute_result"
    }
   ],
   "source": [
    "length(list_chain)"
   ]
  },
  {
   "cell_type": "code",
   "execution_count": 5,
   "metadata": {},
   "outputs": [
    {
     "data": {
      "text/plain": [
       "{'valeur': 4,\n",
       " 'suivant': {'valeur': 8,\n",
       "  'suivant': {'valeur': 16, 'suivant': {'valeur': 32, 'suivant': None}}}}"
      ]
     },
     "execution_count": 5,
     "metadata": {},
     "output_type": "execute_result"
    }
   ],
   "source": [
    "list_chain"
   ]
  },
  {
   "cell_type": "code",
   "execution_count": 6,
   "metadata": {},
   "outputs": [],
   "source": [
    "def element(liste_chainée,position):\n",
    "    if position==0:\n",
    "        return liste_chainée\n",
    "    elif position>=length(liste_chainée):\n",
    "        cel=liste_chainée\n",
    "        for i in range(length(liste_chainée)-1):\n",
    "            cel=cel['suivant']\n",
    "        return cel\n",
    "    else:   \n",
    "        cel=liste_chainée\n",
    "        i=0\n",
    "        while (i<position):\n",
    "            cel=cel['suivant']\n",
    "            i=i+1\n",
    "        return cel\n",
    "            \n",
    "    "
   ]
  },
  {
   "cell_type": "code",
   "execution_count": 7,
   "metadata": {},
   "outputs": [
    {
     "data": {
      "text/plain": [
       "{'valeur': 32, 'suivant': None}"
      ]
     },
     "execution_count": 7,
     "metadata": {},
     "output_type": "execute_result"
    }
   ],
   "source": [
    "element(list_chain, 7)"
   ]
  },
  {
   "cell_type": "code",
   "execution_count": 28,
   "metadata": {},
   "outputs": [
    {
     "data": {
      "text/plain": [
       "{'valeur': 16,\n",
       " 'suivant': {'valeur': 8,\n",
       "  'suivant': {'valeur': 4, 'suivant': {'valeur': 4, 'suivant': None}}}}"
      ]
     },
     "execution_count": 28,
     "metadata": {},
     "output_type": "execute_result"
    }
   ],
   "source": [
    "element(list_chain, 2)"
   ]
  },
  {
   "cell_type": "markdown",
   "metadata": {},
   "source": [
    "## Ajout d'une cellule"
   ]
  },
  {
   "cell_type": "code",
   "execution_count": 8,
   "metadata": {},
   "outputs": [],
   "source": [
    "import copy"
   ]
  },
  {
   "cell_type": "code",
   "execution_count": 9,
   "metadata": {},
   "outputs": [],
   "source": [
    "def ajout(liste_chainée,cellule):\n",
    "    cellule['suivant']=copy.deepcopy(liste_chainée)\n",
    "    liste_chainée['valeur']=cellule['valeur']\n",
    "    liste_chainée['suivant']=cellule['suivant']\n",
    "    return None"
   ]
  },
  {
   "cell_type": "code",
   "execution_count": 10,
   "metadata": {},
   "outputs": [],
   "source": [
    "cel5=generer_cellule(99)\n",
    "ajout(list_chain, cel5)"
   ]
  },
  {
   "cell_type": "code",
   "execution_count": 11,
   "metadata": {},
   "outputs": [
    {
     "data": {
      "text/plain": [
       "{'valeur': 99,\n",
       " 'suivant': {'valeur': 4,\n",
       "  'suivant': {'valeur': 8,\n",
       "   'suivant': {'valeur': 16, 'suivant': {'valeur': 32, 'suivant': None}}}}}"
      ]
     },
     "execution_count": 11,
     "metadata": {},
     "output_type": "execute_result"
    }
   ],
   "source": [
    "list_chain"
   ]
  },
  {
   "cell_type": "markdown",
   "metadata": {},
   "source": [
    "## Insertion d'une cellule"
   ]
  },
  {
   "cell_type": "code",
   "execution_count": 12,
   "metadata": {},
   "outputs": [],
   "source": [
    "def insertion(liste_chainée,cellule,position) : \n",
    "    if position==0:\n",
    "        ajout(liste_chainée, cellule)\n",
    "    elif position>=length(liste_chainée):\n",
    "        cellule['suivant']=None\n",
    "        element(liste_chainée, length(liste_chainée)-1)['suivant']=cellule \n",
    "    else:\n",
    "        cellule['suivant']=element(liste_chainée,position)\n",
    "        element(liste_chainée, position-1)['suivant']=cellule   \n",
    "    return None"
   ]
  },
  {
   "cell_type": "code",
   "execution_count": 13,
   "metadata": {},
   "outputs": [
    {
     "data": {
      "text/plain": [
       "{'valeur': 99,\n",
       " 'suivant': {'valeur': 4,\n",
       "  'suivant': {'valeur': 8,\n",
       "   'suivant': {'valeur': 16, 'suivant': {'valeur': 32, 'suivant': None}}}}}"
      ]
     },
     "execution_count": 13,
     "metadata": {},
     "output_type": "execute_result"
    }
   ],
   "source": [
    "list_chain"
   ]
  },
  {
   "cell_type": "code",
   "execution_count": 14,
   "metadata": {},
   "outputs": [
    {
     "data": {
      "text/plain": [
       "{'valeur': 99,\n",
       " 'suivant': {'valeur': 4,\n",
       "  'suivant': {'valeur': 8,\n",
       "   'suivant': {'valeur': 55,\n",
       "    'suivant': {'valeur': 16, 'suivant': {'valeur': 32, 'suivant': None}}}}}}"
      ]
     },
     "execution_count": 14,
     "metadata": {},
     "output_type": "execute_result"
    }
   ],
   "source": [
    "cel6=generer_cellule(55)\n",
    "insertion(list_chain, cel6, 3)\n",
    "list_chain"
   ]
  },
  {
   "cell_type": "markdown",
   "metadata": {},
   "source": [
    "## Suppression d’une cellule"
   ]
  },
  {
   "cell_type": "code",
   "execution_count": 15,
   "metadata": {},
   "outputs": [],
   "source": [
    "def suppression(liste_chainée ,position) : \n",
    "    \n",
    "    if position==0:\n",
    "        cellule=copy.deepcopy(element(liste_chainée,position))\n",
    "        new=copy.deepcopy(element(liste_chainée,1))\n",
    "        liste_chainée['valeur']=new['valeur']\n",
    "        liste_chainée['suivant']=new['suivant']\n",
    "    elif position>=length(liste_chainée)-1:\n",
    "        cellule=copy.deepcopy(element(liste_chainée,length(liste_chainée)-1))\n",
    "        element(liste_chainée, length(liste_chainée)-2)['suivant']=None\n",
    "    else:\n",
    "        cellule=copy.deepcopy(element(liste_chainée,position))\n",
    "        element(liste_chainée, position-1)['suivant']=element(liste_chainée, position+1)\n",
    "    cellule['suivant']=None\n",
    "    return cellule"
   ]
  },
  {
   "cell_type": "code",
   "execution_count": 16,
   "metadata": {},
   "outputs": [
    {
     "data": {
      "text/plain": [
       "{'valeur': 32, 'suivant': None}"
      ]
     },
     "execution_count": 16,
     "metadata": {},
     "output_type": "execute_result"
    }
   ],
   "source": [
    "suppression(list_chain, 9)"
   ]
  },
  {
   "cell_type": "code",
   "execution_count": 17,
   "metadata": {},
   "outputs": [],
   "source": [
    "new_cel=generer_cellule(16)\n",
    "insertion(list_chain, new_cel, 2)"
   ]
  },
  {
   "cell_type": "code",
   "execution_count": 18,
   "metadata": {},
   "outputs": [
    {
     "data": {
      "text/plain": [
       "{'valeur': 99,\n",
       " 'suivant': {'valeur': 4,\n",
       "  'suivant': {'valeur': 16,\n",
       "   'suivant': {'valeur': 8,\n",
       "    'suivant': {'valeur': 55, 'suivant': {'valeur': 16, 'suivant': None}}}}}}"
      ]
     },
     "execution_count": 18,
     "metadata": {},
     "output_type": "execute_result"
    }
   ],
   "source": [
    "list_chain"
   ]
  },
  {
   "cell_type": "markdown",
   "metadata": {},
   "source": [
    "# Applications"
   ]
  },
  {
   "cell_type": "markdown",
   "metadata": {},
   "source": [
    "## Recherche d’un élément"
   ]
  },
  {
   "cell_type": "code",
   "execution_count": 19,
   "metadata": {},
   "outputs": [],
   "source": [
    "def recherche(liste_chainée, e):\n",
    "    cel=liste_chainée\n",
    "    index=None\n",
    "    for i in range(length(liste_chainée)):\n",
    "        if cel['valeur']==e:\n",
    "            index=i\n",
    "            break\n",
    "        else:\n",
    "            cel=cel['suivant']\n",
    "    return index"
   ]
  },
  {
   "cell_type": "code",
   "execution_count": 20,
   "metadata": {},
   "outputs": [
    {
     "data": {
      "text/plain": [
       "2"
      ]
     },
     "execution_count": 20,
     "metadata": {},
     "output_type": "execute_result"
    }
   ],
   "source": [
    "recherche(list_chain,16)"
   ]
  },
  {
   "cell_type": "markdown",
   "metadata": {},
   "source": [
    "## Mini Tri"
   ]
  },
  {
   "cell_type": "code",
   "execution_count": 21,
   "metadata": {},
   "outputs": [],
   "source": [
    "def mini_tri(liste_chainée):\n",
    "    max=liste_chainée['valeur']\n",
    "    max_index=0\n",
    "    cel=liste_chainée\n",
    "    for i in range(length(liste_chainée)):\n",
    "        if cel['valeur']>max:\n",
    "            max=cel['valeur']\n",
    "            max_index=i\n",
    "        cel=cel['suivant']\n",
    "    max_cel=suppression(liste_chainée, max_index)\n",
    "    ajout(liste_chainée, max_cel)\n",
    "    return liste_chainée"
   ]
  },
  {
   "cell_type": "code",
   "execution_count": 22,
   "metadata": {},
   "outputs": [
    {
     "data": {
      "text/plain": [
       "{'valeur': 99,\n",
       " 'suivant': {'valeur': 4,\n",
       "  'suivant': {'valeur': 16,\n",
       "   'suivant': {'valeur': 8,\n",
       "    'suivant': {'valeur': 55, 'suivant': {'valeur': 16, 'suivant': None}}}}}}"
      ]
     },
     "execution_count": 22,
     "metadata": {},
     "output_type": "execute_result"
    }
   ],
   "source": [
    "list_chain"
   ]
  },
  {
   "cell_type": "code",
   "execution_count": 23,
   "metadata": {},
   "outputs": [
    {
     "data": {
      "text/plain": [
       "{'valeur': 99, 'suivant': None}"
      ]
     },
     "execution_count": 23,
     "metadata": {},
     "output_type": "execute_result"
    }
   ],
   "source": [
    "suppression(list_chain,0)"
   ]
  },
  {
   "cell_type": "code",
   "execution_count": 24,
   "metadata": {},
   "outputs": [
    {
     "data": {
      "text/plain": [
       "{'valeur': 55,\n",
       " 'suivant': {'valeur': 4,\n",
       "  'suivant': {'valeur': 16,\n",
       "   'suivant': {'valeur': 8, 'suivant': {'valeur': 16, 'suivant': None}}}}}"
      ]
     },
     "execution_count": 24,
     "metadata": {},
     "output_type": "execute_result"
    }
   ],
   "source": [
    "mini_tri(list_chain)"
   ]
  },
  {
   "cell_type": "code",
   "execution_count": 25,
   "metadata": {},
   "outputs": [
    {
     "data": {
      "text/plain": [
       "{'valeur': 55,\n",
       " 'suivant': {'valeur': 4,\n",
       "  'suivant': {'valeur': 16,\n",
       "   'suivant': {'valeur': 8, 'suivant': {'valeur': 16, 'suivant': None}}}}}"
      ]
     },
     "execution_count": 25,
     "metadata": {},
     "output_type": "execute_result"
    }
   ],
   "source": [
    "list_chain"
   ]
  },
  {
   "cell_type": "markdown",
   "metadata": {},
   "source": [
    "## Tri"
   ]
  },
  {
   "cell_type": "code",
   "execution_count": 26,
   "metadata": {},
   "outputs": [],
   "source": [
    "def tri(liste_chainée):\n",
    "    for i in range(length(liste_chainée)):\n",
    "        mini_tri(element(liste_chainée,i))\n",
    "    return liste_chainée"
   ]
  },
  {
   "cell_type": "code",
   "execution_count": 27,
   "metadata": {},
   "outputs": [
    {
     "data": {
      "text/plain": [
       "{'valeur': 55,\n",
       " 'suivant': {'valeur': 16,\n",
       "  'suivant': {'valeur': 16,\n",
       "   'suivant': {'valeur': 8,\n",
       "    'suivant': {'valeur': 4, 'suivant': {'valeur': 4, 'suivant': None}}}}}}"
      ]
     },
     "execution_count": 27,
     "metadata": {},
     "output_type": "execute_result"
    }
   ],
   "source": [
    "tri(list_chain)"
   ]
  },
  {
   "cell_type": "code",
   "execution_count": null,
   "metadata": {},
   "outputs": [],
   "source": []
  }
 ],
 "metadata": {
  "kernelspec": {
   "display_name": "Python 3",
   "language": "python",
   "name": "python3"
  },
  "language_info": {
   "codemirror_mode": {
    "name": "ipython",
    "version": 3
   },
   "file_extension": ".py",
   "mimetype": "text/x-python",
   "name": "python",
   "nbconvert_exporter": "python",
   "pygments_lexer": "ipython3",
   "version": "3.6.2"
  }
 },
 "nbformat": 4,
 "nbformat_minor": 2
}
