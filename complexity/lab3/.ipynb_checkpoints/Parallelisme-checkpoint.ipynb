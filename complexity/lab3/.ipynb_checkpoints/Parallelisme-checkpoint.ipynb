{
 "cells": [
  {
   "cell_type": "markdown",
   "metadata": {},
   "source": [
    "# Les arbres binaires"
   ]
  },
  {
   "cell_type": "markdown",
   "metadata": {},
   "source": [
    "## Classe arbre"
   ]
  },
  {
   "cell_type": "code",
   "execution_count": 136,
   "metadata": {},
   "outputs": [],
   "source": [
    "import random\n",
    "import threading\n",
    "import multiprocessing\n",
    "import copy\n",
    "import time"
   ]
  },
  {
   "cell_type": "code",
   "execution_count": 137,
   "metadata": {},
   "outputs": [],
   "source": [
    "class My_thread(threading.Thread):\n",
    "    def __init__(self,cle, noeud):\n",
    "        threading.Thread.__init__(self)\n",
    "        self.cle=cle\n",
    "        self.arbre=Arbre(noeud)\n",
    "    def run(self):\n",
    "        return self.arbre.rechercher_cle(self.cle, self.arbre.noeud)\n",
    "    def join(self):\n",
    "        threading.Thread.join(self)\n",
    "        return self.run()"
   ]
  },
  {
   "cell_type": "code",
   "execution_count": 161,
   "metadata": {},
   "outputs": [],
   "source": [
    "class My_proc(multiprocessing.Process):\n",
    "    def __init__(self,cle, noeud):\n",
    "        multiprocessing.Process.__init__(self)\n",
    "        self.cle=cle\n",
    "        self.arbre=Arbre(noeud)\n",
    "    def run(self):\n",
    "        return self.arbre.rechercher_cle(self.cle, self.arbre.noeud)\n",
    "    def join(self):\n",
    "        multiprocessing.Process.join(self)\n",
    "        return self.run()"
   ]
  },
  {
   "cell_type": "code",
   "execution_count": 191,
   "metadata": {},
   "outputs": [],
   "source": [
    "class Arbre:\n",
    "    def __init__(self,init):\n",
    "        if type(init)==int:\n",
    "            self.noeud={'cle':init, 'gauche':None, 'droite':None}\n",
    "        else:\n",
    "            self.noeud=copy.deepcopy(init)\n",
    "    def generer_noeud(self, cle):\n",
    "        noeud={'cle':cle, 'gauche':None, 'droite':None}\n",
    "        return noeud\n",
    "    def ajouter_noeud_aléa(self, nouveau_noeud, noeud=None):\n",
    "        if noeud==None:\n",
    "            noeud=self.noeud\n",
    "        else:\n",
    "            pass\n",
    "\n",
    "        g_d=random.randint(0,1)\n",
    "        if g_d==0:\n",
    "            if noeud['gauche']==None:\n",
    "                noeud['gauche']=nouveau_noeud\n",
    "            else:\n",
    "                self.ajouter_noeud_aléa(nouveau_noeud, noeud['gauche'])\n",
    "        else:\n",
    "            if noeud['droite']==None:\n",
    "                noeud['droite']=nouveau_noeud\n",
    "            else:\n",
    "                self.ajouter_noeud_aléa(nouveau_noeud, noeud['droite'])\n",
    "\n",
    "    def rechercher_cle(self, cle , noeud=None):\n",
    "        exist = False\n",
    "        if noeud == None:\n",
    "            noeud = self.noeud\n",
    "        else:\n",
    "            pass\n",
    "       \n",
    "        if noeud['cle']==cle:\n",
    "              return True\n",
    "        else:\n",
    "            if noeud[\"gauche\"] != None:            \n",
    "                if(noeud[\"gauche\"][\"cle\"] != cle and exist != True):\n",
    "                    exist = self.rechercher_cle(cle,noeud[\"gauche\"])\n",
    "                else:\n",
    "                    return True                    \n",
    "               \n",
    "            if noeud[\"droite\"] != None:\n",
    "                if(noeud[\"droite\"][\"cle\"] != cle and exist != True):\n",
    "                    exist = self.rechercher_cle(cle,noeud[\"droite\"])\n",
    "                else:\n",
    "                    return True          \n",
    "        return exist\n",
    "        \n",
    "    def recherche_cle_non_opt( self,cle):\n",
    "        return self.rechercher_cle(cle, self.noeud)\n",
    "    def recherche_Cle_Concurente2( self,cle):\n",
    "        noeud=self.noeud\n",
    "        if noeud['cle']==cle:\n",
    "            return True\n",
    "        if noeud['gauche']!=None:\n",
    "            thread1=My_thread(cle,noeud['gauche'])\n",
    "            thread1.start()\n",
    "        else:\n",
    "            res_g=False\n",
    "        if noeud['droite']!=None:\n",
    "            thread2=My_thread(cle,noeud['droite'])\n",
    "            thread2.start()\n",
    "        else:\n",
    "            res_d=False\n",
    "        res_g=thread1.join()\n",
    "        res_d=thread2.join()\n",
    "        if res_g or res_d:\n",
    "            return True\n",
    "        else:\n",
    "            return False\n",
    "    def recherche_Cle_Concurente( self,cle):\n",
    "        noeud=self.noeud\n",
    "        list_noeud=[noeud]\n",
    "        list_thread=[]\n",
    "        i=0\n",
    "        while i<len(list_noeud):\n",
    "            thread=My_thread(cle,list_noeud[i])\n",
    "            #thread=threading.Thread(target=self.rechercher_cle, args=(cle,list_noeud[i]))\n",
    "            list_thread.append(thread)\n",
    "            if list_noeud[i]['gauche']!=None:\n",
    "                if list_noeud[i]['gauche']['gauche']!=None or list_noeud[i]['gauche']['droite']!=None:\n",
    "                    list_noeud.append(list_noeud[i]['gauche'])\n",
    "            if list_noeud[i]['droite']!=None:\n",
    "                if list_noeud[i]['droite']['gauche']!=None or list_noeud[i]['droite']['droite']!=None:\n",
    "                    list_noeud.append(list_noeud[i]['droite'])\n",
    "            i=i+1\n",
    "            [thread.start() for thread in list_thread]\n",
    "            res=[thread.join() for thread in list_thread]\n",
    "            return res[0]\n",
    "    def recherche_Cle_Parallèle2( self,cle):\n",
    "        noeud=self.noeud\n",
    "        if noeud['cle']==cle:\n",
    "            return True\n",
    "        if noeud['gauche']!=None:\n",
    "            proc1=My_proc(cle,noeud['gauche'])\n",
    "            proc1.start()\n",
    "        else:\n",
    "            res_g=False\n",
    "        if noeud['droite']!=None:\n",
    "            proc2=My_proc(cle,noeud['droite'])\n",
    "            proc2.start()\n",
    "        else:\n",
    "            res_d=False\n",
    "        res_g=proc1.join()\n",
    "        res_d=proc2.join()\n",
    "        if res_g or res_d:\n",
    "            return True\n",
    "        else:\n",
    "            return False\n",
    "    def recherche_Cle_Parallèle( self,cle):\n",
    "        noeud=self.noeud\n",
    "        list_noeud=[noeud]\n",
    "        list_proc=[]\n",
    "        i=0\n",
    "        while i<len(list_noeud):\n",
    "            #proc=multiprocessing.Pool()\n",
    "            #async_result = proc.apply_async(self.rechercher_cle, (cle,list_noeud[i]))\n",
    "            #list_proc.append(async_result)\n",
    "            proc=My_proc(cle,list_noeud[i])\n",
    "            list_proc.append(proc)\n",
    "            if list_noeud[i]['gauche']!=None:\n",
    "                if list_noeud[i]['gauche']['gauche']!=None or list_noeud[i]['gauche']['droite']!=None:\n",
    "                    list_noeud.append(list_noeud[i]['gauche'])\n",
    "            if list_noeud[i]['droite']!=None:\n",
    "                if list_noeud[i]['droite']['gauche']!=None or list_noeud[i]['droite']['droite']!=None:\n",
    "                    list_noeud.append(list_noeud[i]['droite'])\n",
    "            i=i+1\n",
    "            #res=[async_result.get() for async_resul in list_proc]\n",
    "            [proc.start() for proc in list_proc]\n",
    "            res=[proc.join() for proc in list_proc]\n",
    "            return res[0]\n",
    "    def par_profondeur(self, noeud=None):\n",
    "        if noeud==None:\n",
    "            noeud=self.noeud\n",
    "        list_cle=[]\n",
    "        list_noeud=[]\n",
    "        def to_list_profondeur(noeud):\n",
    "            \n",
    "            if len(list_noeud)>1 and noeud==self.noeud:\n",
    "                return list_cle\n",
    "            else:\n",
    "                if noeud not in list_noeud:\n",
    "                    list_cle.append(noeud['cle'])\n",
    "                    list_noeud.append(noeud)\n",
    "\n",
    "                if noeud['gauche']!=None:\n",
    "                    return to_list_profondeur(noeud['gauche'])\n",
    "                elif noeud['droite']!=None:\n",
    "                    return to_list_profondeur(noeud['droite'])\n",
    "                else:\n",
    "                    noeud_=list_noeud[-2]\n",
    "                    i=1\n",
    "                    while (noeud_['droite']==None or noeud_['droite'] in list_noeud) and noeud_!=list_noeud[0]:\n",
    "                        noeud_=list_noeud[-2-i]\n",
    "                        i+=1\n",
    "                    if noeud_['droite']!=None: \n",
    "                        if noeud_['droite'] not in list_noeud:\n",
    "                            return to_list_profondeur(noeud_['droite'])\n",
    "                        else:\n",
    "                            return to_list_profondeur(noeud_)\n",
    "                    else:\n",
    "                        return to_list_profondeur(noeud_)\n",
    "\n",
    "        to_list_profondeur(noeud)\n",
    "        return list_cle\n",
    "    def to_list_largeur(self, noeud=None):\n",
    "        if noeud==None:\n",
    "            noeud=self.noeud\n",
    "        list_cle=[]\n",
    "        list_noeud=[noeud]\n",
    "        i=0\n",
    "        while i<len(list_noeud):\n",
    "            list_cle.append(list_noeud[i]['cle'])\n",
    "            if list_noeud[i]['gauche']!=None:\n",
    "                list_noeud.append(list_noeud[i]['gauche'])\n",
    "            if list_noeud[i]['droite']!=None:\n",
    "                list_noeud.append(list_noeud[i]['droite'])\n",
    "            i=i+1\n",
    "        return list_cle\n",
    "    def afficher(self):\n",
    "        print(self.noeud)\n",
    "        "
   ]
  },
  {
   "cell_type": "code",
   "execution_count": 192,
   "metadata": {},
   "outputs": [
    {
     "name": "stdout",
     "output_type": "stream",
     "text": [
      "{'cle': 1, 'gauche': {'cle': 4, 'gauche': None, 'droite': {'cle': 6, 'gauche': None, 'droite': None}}, 'droite': {'cle': 2, 'gauche': {'cle': 5, 'gauche': {'cle': 7, 'gauche': None, 'droite': None}, 'droite': None}, 'droite': {'cle': 3, 'gauche': None, 'droite': None}}}\n",
      "{'cle': 1, 'gauche': {'cle': 4, 'gauche': None, 'droite': {'cle': 6, 'gauche': None, 'droite': None}}, 'droite': {'cle': 2, 'gauche': {'cle': 5, 'gauche': {'cle': 7, 'gauche': None, 'droite': None}, 'droite': None}, 'droite': {'cle': 3, 'gauche': None, 'droite': None}}}\n"
     ]
    }
   ],
   "source": [
    "arb=Arbre(1)\n",
    "nv=arb.generer_noeud(2)\n",
    "arb.ajouter_noeud_aléa(nv)\n",
    "nv1=arb.generer_noeud(4)\n",
    "arb.ajouter_noeud_aléa(nv1)\n",
    "nv2=arb.generer_noeud(3)\n",
    "arb.ajouter_noeud_aléa(nv2)\n",
    "nv3=arb.generer_noeud(5)\n",
    "arb.ajouter_noeud_aléa(nv3)\n",
    "nv4=arb.generer_noeud(6)\n",
    "arb.ajouter_noeud_aléa(nv4)\n",
    "nv5=arb.generer_noeud(7)\n",
    "arb.ajouter_noeud_aléa(nv5)\n",
    "arb.afficher()\n",
    "arb2=Arbre(arb.noeud)\n",
    "arb2.afficher()"
   ]
  },
  {
   "cell_type": "code",
   "execution_count": 193,
   "metadata": {},
   "outputs": [
    {
     "name": "stdout",
     "output_type": "stream",
     "text": [
      "True\n",
      "0.0004558563232421875\n"
     ]
    }
   ],
   "source": [
    "debut= time.time()\n",
    "print(arb.rechercher_cle(6))\n",
    "fin=time.time()\n",
    "print(fin-debut)"
   ]
  },
  {
   "cell_type": "code",
   "execution_count": 194,
   "metadata": {},
   "outputs": [
    {
     "name": "stdout",
     "output_type": "stream",
     "text": [
      "True\n",
      "0.0015795230865478516\n"
     ]
    }
   ],
   "source": [
    "debut= time.time()\n",
    "print(arb.recherche_Cle_Concurente(7))\n",
    "fin=time.time()\n",
    "print(fin-debut)"
   ]
  },
  {
   "cell_type": "code",
   "execution_count": 214,
   "metadata": {},
   "outputs": [
    {
     "name": "stdout",
     "output_type": "stream",
     "text": [
      "False\n",
      "0.004721641540527344\n"
     ]
    }
   ],
   "source": [
    "debut= time.time()\n",
    "print(arb.recherche_Cle_Concurente2(8))\n",
    "fin=time.time()\n",
    "print(fin-debut)"
   ]
  },
  {
   "cell_type": "code",
   "execution_count": 209,
   "metadata": {},
   "outputs": [
    {
     "name": "stdout",
     "output_type": "stream",
     "text": [
      "False\n",
      "0.012059688568115234\n"
     ]
    }
   ],
   "source": [
    "debut= time.time()\n",
    "print(arb.recherche_Cle_Parallèle(8))\n",
    "fin=time.time()\n",
    "print(fin-debut)"
   ]
  },
  {
   "cell_type": "code",
   "execution_count": 202,
   "metadata": {},
   "outputs": [
    {
     "name": "stdout",
     "output_type": "stream",
     "text": [
      "False\n",
      "0.021582603454589844\n"
     ]
    }
   ],
   "source": [
    "debut= time.time()\n",
    "print(arb.recherche_Cle_Parallèle2(8))\n",
    "fin=time.time()\n",
    "print(fin-debut)"
   ]
  },
  {
   "cell_type": "code",
   "execution_count": 215,
   "metadata": {},
   "outputs": [
    {
     "data": {
      "text/plain": [
       "[1, 4, 2, 6, 5, 3, 7]"
      ]
     },
     "execution_count": 215,
     "metadata": {},
     "output_type": "execute_result"
    }
   ],
   "source": [
    "arb.to_list_largeur()"
   ]
  },
  {
   "cell_type": "code",
   "execution_count": 216,
   "metadata": {},
   "outputs": [
    {
     "data": {
      "text/plain": [
       "[1, 4, 6, 2, 5, 7, 3]"
      ]
     },
     "execution_count": 216,
     "metadata": {},
     "output_type": "execute_result"
    }
   ],
   "source": [
    "arb.par_profondeur()"
   ]
  },
  {
   "cell_type": "code",
   "execution_count": null,
   "metadata": {},
   "outputs": [],
   "source": []
  }
 ],
 "metadata": {
  "kernelspec": {
   "display_name": "Python 3",
   "language": "python",
   "name": "python3"
  },
  "language_info": {
   "codemirror_mode": {
    "name": "ipython",
    "version": 3
   },
   "file_extension": ".py",
   "mimetype": "text/x-python",
   "name": "python",
   "nbconvert_exporter": "python",
   "pygments_lexer": "ipython3",
   "version": "3.6.2"
  }
 },
 "nbformat": 4,
 "nbformat_minor": 2
}
