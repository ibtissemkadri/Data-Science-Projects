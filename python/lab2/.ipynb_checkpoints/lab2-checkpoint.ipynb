{
 "cells": [
  {
   "cell_type": "markdown",
   "metadata": {},
   "source": [
    "# Lab Python n°2"
   ]
  },
  {
   "cell_type": "code",
   "execution_count": 1,
   "metadata": {},
   "outputs": [],
   "source": [
    "import math"
   ]
  },
  {
   "cell_type": "markdown",
   "metadata": {},
   "source": [
    "## Beginner Level"
   ]
  },
  {
   "cell_type": "markdown",
   "metadata": {},
   "source": [
    "### 1/ Class point"
   ]
  },
  {
   "cell_type": "code",
   "execution_count": 2,
   "metadata": {},
   "outputs": [],
   "source": [
    "class Point:\n",
    "    def __init__(self, x, y):\n",
    "        self.x=x\n",
    "        self.y=y\n",
    "    def opposite(self):\n",
    "        self.x=-x\n",
    "        self.y=-y\n",
    "        return self\n",
    "        "
   ]
  },
  {
   "cell_type": "code",
   "execution_count": 3,
   "metadata": {},
   "outputs": [
    {
     "name": "stdout",
     "output_type": "stream",
     "text": [
      "-7\n",
      "-8\n"
     ]
    }
   ],
   "source": [
    "x,y=7,8\n",
    "p=Point(x,y)\n",
    "p.opposite()\n",
    "print(p.x)\n",
    "print(p.y)"
   ]
  },
  {
   "cell_type": "markdown",
   "metadata": {},
   "source": [
    "### 2/ Add and Distance"
   ]
  },
  {
   "cell_type": "code",
   "execution_count": 4,
   "metadata": {},
   "outputs": [],
   "source": [
    "class Point:\n",
    "    def __init__(self, x, y):\n",
    "        self.x=x\n",
    "        self.y=y\n",
    "    def opposite(self):\n",
    "        self.x=-x\n",
    "        self.y=-y\n",
    "        return self\n",
    "    def add(self, point):\n",
    "        x_new=self.x+point.x\n",
    "        y_new=self.y+point.y\n",
    "        return Point(x_new, y_new)\n",
    "    def distance(self, point):\n",
    "        return math.sqrt((self.x-point.x)**2+(self.y-point.y)**2)\n",
    "    "
   ]
  },
  {
   "cell_type": "code",
   "execution_count": 5,
   "metadata": {},
   "outputs": [
    {
     "name": "stdout",
     "output_type": "stream",
     "text": [
      "3\n",
      "3\n",
      "1.4142135623730951\n"
     ]
    }
   ],
   "source": [
    "P1 = Point(1,1)\n",
    "P2 = Point(2,2)\n",
    "P3 = P1.add(P2)\n",
    "print(P3.x) # 3\n",
    "print(P3.y) # 3\n",
    "print(P1.distance(P2)) # 1,41..."
   ]
  },
  {
   "cell_type": "markdown",
   "metadata": {},
   "source": [
    "### 3/ Rotation and aligned"
   ]
  },
  {
   "cell_type": "code",
   "execution_count": 6,
   "metadata": {},
   "outputs": [],
   "source": [
    "class Point:\n",
    "    def __init__(self, x, y):\n",
    "        self.x=x\n",
    "        self.y=y\n",
    "    def opposite(self):\n",
    "        self.x=-x\n",
    "        self.y=-y\n",
    "        return self\n",
    "    def add(self, point):\n",
    "        x_new=self.x+point.x\n",
    "        y_new=self.y+point.y\n",
    "        return Point(x_new, y_new)\n",
    "    def distance(self, point):\n",
    "        return math.sqrt((self.x-point.x)**2+(self.y-point.y)**2)\n",
    "    def rotate(self, point, theta):\n",
    "        new_x=(point.y-self.y)*math.cos(theta)-(point.x-self.x)*math.sin(theta)+self.x\n",
    "        new_y=(point.x-self.x)*math.cos(theta)-(point.y-self.y)*math.sin(theta)+self.y\n",
    "        return Point(new_x, new_y)\n",
    "    def aligned(self, point1, point2):\n",
    "       # [ Ax * (By - Cy) + Bx * (Cy - Ay) + Cx * (Ay - By) ] / 2\n",
    "        aire=(self.x*(point1.y-point2.y)+point1.x*(point2.y-self.y)+point2.x*(self.y-point1.y))/2\n",
    "        return aire==0\n",
    "        "
   ]
  },
  {
   "cell_type": "code",
   "execution_count": 7,
   "metadata": {},
   "outputs": [
    {
     "name": "stdout",
     "output_type": "stream",
     "text": [
      "2.1422830739804457 2.1422830739804457\n",
      "True\n"
     ]
    }
   ],
   "source": [
    "p1=Point(1,1)\n",
    "p2=Point(2,2)\n",
    "p3=Point(3,3)\n",
    "p4=p1.rotate(p2, 30)\n",
    "print(p4.x, p4.y)\n",
    "align=p1.aligned(p2,p3)\n",
    "print(align)\n"
   ]
  },
  {
   "cell_type": "markdown",
   "metadata": {},
   "source": [
    "## Advanced Level"
   ]
  },
  {
   "cell_type": "markdown",
   "metadata": {},
   "source": [
    "### 1/ Class Rectangle"
   ]
  },
  {
   "cell_type": "code",
   "execution_count": 12,
   "metadata": {},
   "outputs": [],
   "source": [
    "class Rectangle:\n",
    "    def __init__(self, point1, point2):\n",
    "        self.top_left=point1\n",
    "        self.bottom_right=point2\n",
    "    def opposite_rect(self):\n",
    "        new_top_left=self.bottom_right.opposite()\n",
    "        new_bottom_right=self.top_left.opposite()\n",
    "        self.top_left=new_top_left\n",
    "        self.bottom_right=new_bottom_right"
   ]
  },
  {
   "cell_type": "code",
   "execution_count": 13,
   "metadata": {},
   "outputs": [
    {
     "name": "stdout",
     "output_type": "stream",
     "text": [
      "1 1 2 2\n",
      "-7 -7 -7 -8\n"
     ]
    }
   ],
   "source": [
    "p1=Point(1,1)\n",
    "p2=Point(2,2)\n",
    "rect=Rectangle(p1,p2)\n",
    "print(rect.top_left.x, rect.top_left.x,rect.bottom_right.x, rect.bottom_right.y)\n",
    "rect.opposite_rect()\n",
    "print(rect.top_left.x, rect.top_left.x,rect.bottom_right.x, rect.bottom_right.y)"
   ]
  },
  {
   "cell_type": "markdown",
   "metadata": {},
   "source": [
    "### 2/ Distance and Zoom"
   ]
  },
  {
   "cell_type": "code",
   "execution_count": 10,
   "metadata": {},
   "outputs": [],
   "source": [
    "class Rectangle:\n",
    "    def __init__(self, point1, point2):\n",
    "        self.top_left=point1\n",
    "        self.bottom_right=point2\n",
    "    def opposite_rect(self):\n",
    "        new_top_left=self.bottom_right.opposite()\n",
    "        new_bottom_right=self.top_left.opposite()\n",
    "        self.top_left=new_top_left\n",
    "        self.bottom_right=new_bottom_right\n",
    "    def distance(self, rect):\n",
    "        center1= Point((self.top_left.x+self.bottom_right.x)/2, (self.top_left.y+self.bottom_right.y)/2)\n",
    "        center2= Point((rect.top_left.x+rect.bottom_right.x)/2, (rect.top_left.y+rect.bottom_right.y)/2)\n",
    "        return center1.distance(center2)"
   ]
  },
  {
   "cell_type": "code",
   "execution_count": 11,
   "metadata": {},
   "outputs": [
    {
     "data": {
      "text/plain": [
       "1.118033988749895"
      ]
     },
     "execution_count": 11,
     "metadata": {},
     "output_type": "execute_result"
    }
   ],
   "source": [
    "p1=Point(1,2)\n",
    "p2=Point(2,1)\n",
    "rect1=Rectangle(p1,p2)\n",
    "p3=Point(1,3)\n",
    "p4=Point(4,1)\n",
    "rect2=Rectangle(p3,p4)\n",
    "rect1.distance(rect2)"
   ]
  },
  {
   "cell_type": "markdown",
   "metadata": {},
   "source": [
    "## Bonus Level : The Inheritance"
   ]
  },
  {
   "cell_type": "markdown",
   "metadata": {},
   "source": [
    "### Class Polygon"
   ]
  },
  {
   "cell_type": "code",
   "execution_count": 15,
   "metadata": {},
   "outputs": [],
   "source": [
    "class polygon:\n",
    "    def __init__(self,n):\n",
    "        self.n=n\n",
    "        self.list_n=[]\n",
    "    def add_point(self, point):\n",
    "        self.list_n.append(point)    \n",
    "    def rotate(self, p, angle):\n",
    "        for point in self.list_n:\n",
    "            point=point.rotate(p,angle)\n",
    "        self.n=len(self.list_n)\n",
    "        return self\n",
    "        "
   ]
  },
  {
   "cell_type": "code",
   "execution_count": 16,
   "metadata": {},
   "outputs": [],
   "source": [
    "class Rectangle(polygon):\n",
    "    t= Point(0,0)\n",
    "    b=Point(0,0)\n",
    "    def __init__(self,a,c):\n",
    "        self.t.x= a.x\n",
    "        self.t.y= a.y\n",
    "        self.b.x= c.x\n",
    "        self.b.y= c.y\n",
    "    def center(self):\n",
    "        C = self.t.add(self.b)\n",
    "        return Point(C.x/2,C.y/2)\n",
    "    \n",
    "    def opposite(self):\n",
    "        self.t.opposite()\n",
    "        self.b.opposite()\n",
    "    def distance(self,R):\n",
    "        C = self.t.add(self.b)\n",
    "        C.x/=2\n",
    "        C.y/=2\n",
    "        D = R.t.add(R.b)\n",
    "        D.x/=2\n",
    "        D.y/=2\n",
    "        return C.Distance(D)\n",
    "\n",
    "    def zoom(self,scale):\n",
    "        C = self.t.add(self.b)\n",
    "        C.x/=2\n",
    "        C.y/=2\n",
    "        \n",
    "    \n",
    "    def rotate(self,p,angle):\n",
    "        i= Rotate(self.t,P,angle)\n",
    "        j= Rotate(self.b,P,angle)\n",
    "        return Rectange(i,j)\n",
    "\n",
    "    def aligned(self,P,Q):\n",
    "        A = center(self)\n",
    "        B = center(P)\n",
    "        C = center(Q)\n",
    "        return A.alligned(B,C)"
   ]
  },
  {
   "cell_type": "code",
   "execution_count": null,
   "metadata": {},
   "outputs": [],
   "source": []
  }
 ],
 "metadata": {
  "kernelspec": {
   "display_name": "Python 3",
   "language": "python",
   "name": "python3"
  },
  "language_info": {
   "codemirror_mode": {
    "name": "ipython",
    "version": 3
   },
   "file_extension": ".py",
   "mimetype": "text/x-python",
   "name": "python",
   "nbconvert_exporter": "python",
   "pygments_lexer": "ipython3",
   "version": "3.6.2"
  }
 },
 "nbformat": 4,
 "nbformat_minor": 2
}
