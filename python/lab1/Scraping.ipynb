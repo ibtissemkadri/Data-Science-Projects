{
 "cells": [
  {
   "cell_type": "code",
   "execution_count": 2,
   "metadata": {},
   "outputs": [],
   "source": [
    "url = 'https://fr.wikipedia.org/wiki/Discographie_de_Charles_Aznavour'"
   ]
  },
  {
   "cell_type": "code",
   "execution_count": 3,
   "metadata": {},
   "outputs": [],
   "source": [
    "import requests\n",
    "from bs4 import BeautifulSoup\n",
    "from matplotlib.pyplot import plot\n",
    "from collections import Counter"
   ]
  },
  {
   "cell_type": "code",
   "execution_count": 4,
   "metadata": {},
   "outputs": [],
   "source": [
    "soup = BeautifulSoup(requests.get(url).content,\"lxml\")"
   ]
  },
  {
   "cell_type": "code",
   "execution_count": 5,
   "metadata": {},
   "outputs": [],
   "source": [
    "table = soup.find(class_=\"wikitable\")"
   ]
  },
  {
   "cell_type": "code",
   "execution_count": 14,
   "metadata": {},
   "outputs": [],
   "source": [
    "years = []\n",
    "for tr in table.findAll('tr')[1:]:\n",
    "    try:\n",
    "        years.append(int(tr.find('td').getText()))\n",
    "    except ValueError:\n",
    "        years.append(years[-1])"
   ]
  },
  {
   "cell_type": "code",
   "execution_count": 15,
   "metadata": {},
   "outputs": [
    {
     "data": {
      "text/plain": [
       "[1953,\n",
       " 1955,\n",
       " 1956,\n",
       " 1957,\n",
       " 1958,\n",
       " 1960,\n",
       " 1961,\n",
       " 1961,\n",
       " 1962,\n",
       " 1963,\n",
       " 1963,\n",
       " 1964,\n",
       " 1964,\n",
       " 1964,\n",
       " 1964,\n",
       " 1965,\n",
       " 1966,\n",
       " 1966,\n",
       " 1967,\n",
       " 1968,\n",
       " 1969,\n",
       " 1971,\n",
       " 1972,\n",
       " 1973,\n",
       " 1974,\n",
       " 1975,\n",
       " 1976,\n",
       " 1978,\n",
       " 1978,\n",
       " 1980,\n",
       " 1982,\n",
       " 1982,\n",
       " 1983,\n",
       " 1986,\n",
       " 1987,\n",
       " 1989,\n",
       " 1989,\n",
       " 1989,\n",
       " 1991,\n",
       " 1994,\n",
       " 1996,\n",
       " 1997,\n",
       " 1998,\n",
       " 2000,\n",
       " 2003,\n",
       " 2005,\n",
       " 2007,\n",
       " 2008,\n",
       " 2009,\n",
       " 2011,\n",
       " 2015]"
      ]
     },
     "execution_count": 15,
     "metadata": {},
     "output_type": "execute_result"
    }
   ],
   "source": [
    "years"
   ]
  },
  {
   "cell_type": "code",
   "execution_count": 16,
   "metadata": {},
   "outputs": [
    {
     "data": {
      "text/plain": [
       "Counter({1953: 1,\n",
       "         1955: 1,\n",
       "         1956: 1,\n",
       "         1957: 1,\n",
       "         1958: 1,\n",
       "         1960: 1,\n",
       "         1961: 2,\n",
       "         1962: 1,\n",
       "         1963: 2,\n",
       "         1964: 4,\n",
       "         1965: 1,\n",
       "         1966: 2,\n",
       "         1967: 1,\n",
       "         1968: 1,\n",
       "         1969: 1,\n",
       "         1971: 1,\n",
       "         1972: 1,\n",
       "         1973: 1,\n",
       "         1974: 1,\n",
       "         1975: 1,\n",
       "         1976: 1,\n",
       "         1978: 2,\n",
       "         1980: 1,\n",
       "         1982: 2,\n",
       "         1983: 1,\n",
       "         1986: 1,\n",
       "         1987: 1,\n",
       "         1989: 3,\n",
       "         1991: 1,\n",
       "         1994: 1,\n",
       "         1996: 1,\n",
       "         1997: 1,\n",
       "         1998: 1,\n",
       "         2000: 1,\n",
       "         2003: 1,\n",
       "         2005: 1,\n",
       "         2007: 1,\n",
       "         2008: 1,\n",
       "         2009: 1,\n",
       "         2011: 1,\n",
       "         2015: 1})"
      ]
     },
     "execution_count": 16,
     "metadata": {},
     "output_type": "execute_result"
    }
   ],
   "source": [
    "Counter(years)"
   ]
  },
  {
   "cell_type": "code",
   "execution_count": 17,
   "metadata": {},
   "outputs": [],
   "source": [
    "ryears = range(min(years),max(years)+1)"
   ]
  },
  {
   "cell_type": "code",
   "execution_count": 18,
   "metadata": {},
   "outputs": [],
   "source": [
    "production_charles_aznavour = {}\n",
    "for year in ryears:\n",
    "    if year in years:\n",
    "        production_charles_aznavour[year] = Counter(years)[year]\n",
    "    else:\n",
    "        production_charles_aznavour[year] = 0"
   ]
  },
  {
   "cell_type": "code",
   "execution_count": 19,
   "metadata": {},
   "outputs": [],
   "source": [
    "%matplotlib inline"
   ]
  },
  {
   "cell_type": "code",
   "execution_count": 25,
   "metadata": {},
   "outputs": [
    {
     "data": {
      "text/plain": [
       "[<matplotlib.lines.Line2D at 0x7f3f75e5ac50>]"
      ]
     },
     "execution_count": 25,
     "metadata": {},
     "output_type": "execute_result"
    },
    {
     "data": {
      "image/png": "[encoded data removed]",
      "text/plain": [
       "<matplotlib.figure.Figure at 0x7f3f75e709e8>"
      ]
     },
     "metadata": {},
     "output_type": "display_data"
    }
   ],
   "source": [
    "plot(ryears, [production_charles_aznavour[year] for year in ryears],'b')"
   ]
  },
  {
   "cell_type": "code",
   "execution_count": null,
   "metadata": {},
   "outputs": [],
   "source": []
  }
 ],
 "metadata": {
  "kernelspec": {
   "display_name": "Python 3",
   "language": "python",
   "name": "python3"
  },
  "language_info": {
   "codemirror_mode": {
    "name": "ipython",
    "version": 3
   },
   "file_extension": ".py",
   "mimetype": "text/x-python",
   "name": "python",
   "nbconvert_exporter": "python",
   "pygments_lexer": "ipython3",
   "version": "3.6.2"
  }
 },
 "nbformat": 4,
 "nbformat_minor": 2
}
