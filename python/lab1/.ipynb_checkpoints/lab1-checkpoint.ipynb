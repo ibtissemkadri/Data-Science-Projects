{
 "cells": [
  {
   "cell_type": "markdown",
   "metadata": {},
   "source": [
    "# Python Lab 1"
   ]
  },
  {
   "cell_type": "markdown",
   "metadata": {},
   "source": [
    "# I/ Beginner Level"
   ]
  },
  {
   "cell_type": "markdown",
   "metadata": {},
   "source": [
    "## 1/ Hello world"
   ]
  },
  {
   "cell_type": "code",
   "execution_count": 1,
   "metadata": {
    "collapsed": true
   },
   "outputs": [],
   "source": [
    "import sys\n",
    "\n",
    "def hello(name):\n",
    "\tprint (\"hello \"+name)"
   ]
  },
  {
   "cell_type": "code",
   "execution_count": 2,
   "metadata": {},
   "outputs": [
    {
     "name": "stdout",
     "output_type": "stream",
     "text": [
      "hello twites\n"
     ]
    }
   ],
   "source": [
    "hello(\"twites\")"
   ]
  },
  {
   "cell_type": "markdown",
   "metadata": {},
   "source": [
    "## 2/ Tic Toc Toe"
   ]
  },
  {
   "cell_type": "code",
   "execution_count": 6,
   "metadata": {},
   "outputs": [
    {
     "name": "stdout",
     "output_type": "stream",
     "text": [
      "   | |\n",
      "---------\n",
      "   | |\n",
      "---------\n",
      "   | |\n"
     ]
    }
   ],
   "source": [
    "print(\"   | |\")\n",
    "print(\"---------\")\n",
    "print(\"   | |\")\n",
    "print(\"---------\")\n",
    "print(\"   | |\")"
   ]
  },
  {
   "cell_type": "markdown",
   "metadata": {},
   "source": [
    "## 3/ Giant Tic Tac Toe"
   ]
  },
  {
   "cell_type": "code",
   "execution_count": 14,
   "metadata": {},
   "outputs": [
    {
     "name": "stdout",
     "output_type": "stream",
     "text": [
      "  |  |  H  |  |  H  |  |\n",
      "--+--+--H--+--+--H--+--+--\n",
      "  |  |  H  |  |  H  |  |\n",
      "--+--+--H--+--+--H--+--+--\n",
      "  |  |  H  |  |  H  |  |\n",
      "========+========+========\n",
      "  |  |  H  |  |  H  |  |\n",
      "--+--+--H--+--+--H--+--+--\n",
      "  |  |  H  |  |  H  |  |\n",
      "--+--+--H--+--+--H--+--+--\n",
      "  |  |  H  |  |  H  |  |\n",
      "========+========+========\n",
      "  |  |  H  |  |  H  |  |\n",
      "--+--+--H--+--+--H--+--+--\n",
      "  |  |  H  |  |  H  |  |\n",
      "--+--+--H--+--+--H--+--+--\n",
      "  |  |  H  |  |  H  |  |\n"
     ]
    }
   ],
   "source": [
    "line1 =\"  |  |  H  |  |  H  |  |\"\n",
    "line2=\"--+--+--H\"*3\n",
    "line2=line2[:-1]\n",
    "line3=(\"=\"*8+\"+\")*3\n",
    "line3=line3[:-1]\n",
    "for i in range(3):\n",
    "    print(line1)\n",
    "    print(line2)\n",
    "    print(line1)\n",
    "    print(line2)\n",
    "    print(line1)\n",
    "    if i !=2:\n",
    "        print(line3)\n",
    "    "
   ]
  },
  {
   "cell_type": "markdown",
   "metadata": {},
   "source": [
    "# II/ Advanced Level"
   ]
  },
  {
   "cell_type": "markdown",
   "metadata": {},
   "source": [
    "## 1/ Collatz Sequence"
   ]
  },
  {
   "cell_type": "code",
   "execution_count": 20,
   "metadata": {
    "collapsed": true
   },
   "outputs": [],
   "source": [
    "def collatz_sequence(my_num):\n",
    "    while my_num>1:\n",
    "        if my_num%2==0:\n",
    "            my_num/=2\n",
    "            print (my_num)\n",
    "        else:\n",
    "            my_num = 3*my_num + 1\n",
    "            print (my_num)"
   ]
  },
  {
   "cell_type": "code",
   "execution_count": 21,
   "metadata": {},
   "outputs": [
    {
     "name": "stdout",
     "output_type": "stream",
     "text": [
      "40\n",
      "20.0\n",
      "10.0\n",
      "5.0\n",
      "16.0\n",
      "8.0\n",
      "4.0\n",
      "2.0\n",
      "1.0\n"
     ]
    }
   ],
   "source": [
    "collatz_sequence(13)"
   ]
  },
  {
   "cell_type": "markdown",
   "metadata": {},
   "source": [
    "## 2/ Pascal’s Triangle"
   ]
  },
  {
   "cell_type": "code",
   "execution_count": 35,
   "metadata": {},
   "outputs": [],
   "source": [
    "def pascal_tri(level):\n",
    "    list_row=[0]*level\n",
    "    list_row[((level+1)//2)-1]=1\n",
    "    print (list_row)\n",
    "    for j in range(level-1):\n",
    "        i=0\n",
    "        new=[0]\n",
    "        while i<len(list_row)-1:\n",
    "            new.append(list_row[i]+list_row[i+1])\n",
    "            i = i+1\n",
    "        new.append(0)\n",
    "        list_row=new\n",
    "        print (new)   \n",
    "        "
   ]
  },
  {
   "cell_type": "code",
   "execution_count": 37,
   "metadata": {},
   "outputs": [
    {
     "name": "stdout",
     "output_type": "stream",
     "text": [
      "[0, 0, 0, 0, 1, 0, 0, 0, 0, 0]\n",
      "[0, 0, 0, 0, 1, 1, 0, 0, 0, 0, 0]\n",
      "[0, 0, 0, 0, 1, 2, 1, 0, 0, 0, 0, 0]\n",
      "[0, 0, 0, 0, 1, 3, 3, 1, 0, 0, 0, 0, 0]\n",
      "[0, 0, 0, 0, 1, 4, 6, 4, 1, 0, 0, 0, 0, 0]\n",
      "[0, 0, 0, 0, 1, 5, 10, 10, 5, 1, 0, 0, 0, 0, 0]\n",
      "[0, 0, 0, 0, 1, 6, 15, 20, 15, 6, 1, 0, 0, 0, 0, 0]\n",
      "[0, 0, 0, 0, 1, 7, 21, 35, 35, 21, 7, 1, 0, 0, 0, 0, 0]\n",
      "[0, 0, 0, 0, 1, 8, 28, 56, 70, 56, 28, 8, 1, 0, 0, 0, 0, 0]\n",
      "[0, 0, 0, 0, 1, 9, 36, 84, 126, 126, 84, 36, 9, 1, 0, 0, 0, 0, 0]\n"
     ]
    }
   ],
   "source": [
    "pascal_tri(10)"
   ]
  },
  {
   "cell_type": "markdown",
   "metadata": {},
   "source": [
    "## 3/ Surpassing Words"
   ]
  },
  {
   "cell_type": "code",
   "execution_count": 45,
   "metadata": {},
   "outputs": [],
   "source": [
    "alphabet=\"abcdefghijklmnopqrstuvwxyz\"\n",
    "def is_surpassing_word(word):\n",
    "    word=word.lower()\n",
    "    i=0\n",
    "    list_diff=[]\n",
    "    while i<len(word)-1:\n",
    "        list_diff.append(abs(alphabet.index(word[i])-alphabet.index(word[i+1])))\n",
    "        i+=1\n",
    "    r=sorted(list_diff)\n",
    "    if r==list_diff:\n",
    "        return(True)\n",
    "    else:\n",
    "        return(False)\n",
    "        \n",
    "        "
   ]
  },
  {
   "cell_type": "code",
   "execution_count": 44,
   "metadata": {},
   "outputs": [
    {
     "data": {
      "text/plain": [
       "False"
      ]
     },
     "execution_count": 44,
     "metadata": {},
     "output_type": "execute_result"
    }
   ],
   "source": [
    "is_surpassing_word(\"juridic\")"
   ]
  },
  {
   "cell_type": "code",
   "execution_count": null,
   "metadata": {
    "collapsed": true
   },
   "outputs": [],
   "source": []
  }
 ],
 "metadata": {
  "kernelspec": {
   "display_name": "Python 3",
   "language": "python",
   "name": "python3"
  },
  "language_info": {
   "codemirror_mode": {
    "name": "ipython",
    "version": 3
   },
   "file_extension": ".py",
   "mimetype": "text/x-python",
   "name": "python",
   "nbconvert_exporter": "python",
   "pygments_lexer": "ipython3",
   "version": "3.6.2"
  }
 },
 "nbformat": 4,
 "nbformat_minor": 2
}
