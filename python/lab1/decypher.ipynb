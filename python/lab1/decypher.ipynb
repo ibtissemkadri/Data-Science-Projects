{
 "cells": [
  {
   "cell_type": "code",
   "execution_count": 1,
   "metadata": {
    "collapsed": true
   },
   "outputs": [],
   "source": [
    "encode=\"dr-n\\x7fr-}yn\\x86v{t-\\x84v\\x81u-qn\\x81n-n\\x80-\\x81ur-zntvpvn{-}yn\\x86\\x80-\\x84v\\x81u-pn\\x7fq\\x80\""
   ]
  },
  {
   "cell_type": "code",
   "execution_count": 2,
   "metadata": {
    "collapsed": false
   },
   "outputs": [
    {
     "name": "stdout",
     "output_type": "stream",
     "text": [
      "0\n",
      "dr-nr-}ynv{t-vu-qnn-n-ur-zntvpvn{-}yn-vu-pnq\n",
      "\n",
      "\n",
      "1\n",
      "cq,m~q,|xm",
      "uzs,ut,pmm,m,tq,ymsuoumz,|xm",
      ",ut,om~p\n",
      "\n",
      "\n",
      "2\n",
      "bp+l}p+{wltyr+ts+oll+l~+sp+xlrtntly+{wl~+ts+nl}o~\n",
      "\n",
      "\n",
      "3\n",
      "ao*k|o*zvksxq*s~r*nk~k*k}*~ro*wkqsmskx*zvk}*s~r*mk|n}\n",
      "\n",
      "\n",
      "4\n",
      "`n)j{n)yujrwp)r}q)mj}j)j|)}qn)vjprlrjw)yuj|)r}q)lj{m|\n",
      "\n",
      "\n",
      "5\n",
      "_m(izm(xtiqvo(q|p(li|i(i{(|pm(uioqkqiv(xti{(q|p(kizl{\n",
      "\n",
      "\n",
      "6\n",
      "^l'hyl'wshpun'~p{o'kh{h'hz'{ol'thnpjphu'wshz'~p{o'jhykz\n",
      "\n",
      "\n",
      "7\n",
      "]k&gxk&vrgotm&}ozn&jgzg&gy&znk&sgmoiogt&vrgy&}ozn&igxjy\n",
      "\n",
      "\n",
      "8\n",
      "\\j%fwj%uqf~nsl%|nym%ifyf%fx%ymj%rflnhnfs%uqf~x%|nym%hfwix\n",
      "\n",
      "\n",
      "9\n",
      "[i$evi$tpe}mrk${mxl$hexe$ew$xli$qekmgmer$tpe}w${mxl$gevhw\n",
      "\n",
      "\n",
      "10\n",
      "Zh#duh#sod|lqj#zlwk#gdwd#dv#wkh#pdjlfldq#sod|v#zlwk#fdugv\n",
      "\n",
      "\n",
      "11\n",
      "Yg\"ctg\"rnc{kpi\"ykvj\"fcvc\"cu\"vjg\"ocikekcp\"rnc{u\"ykvj\"ectfu\n",
      "\n",
      "\n",
      "12\n",
      "Xf!bsf!qmbzjoh!xjui!ebub!bt!uif!nbhjdjbo!qmbzt!xjui!dbset\n",
      "\n",
      "\n",
      "13\n",
      "We are playing with data as the magician plays with cards\n",
      "\n",
      "\n",
      "14\n",
      "Vd\u001f`qd\u001fok`xhmf\u001fvhsg\u001fc`s`\u001f`r\u001fsgd\u001fl`fhbh`m\u001fok`xr\u001fvhsg\u001fb`qcr\n",
      "\n",
      "\n"
     ]
    }
   ],
   "source": [
    "for i in range (15):\n",
    "    org=''\n",
    "    for c in encode:\n",
    "        if ord(c)-i <0:\n",
    "            org=org +chr(ord(c)-i+255)\n",
    "        else:\n",
    "            org=org +chr(ord(c)-i)\n",
    "    print(i)\n",
    "    print(org)\n",
    "    print('\\n')"
   ]
  },
  {
   "cell_type": "code",
   "execution_count": null,
   "metadata": {
    "collapsed": true
   },
   "outputs": [],
   "source": []
  }
 ],
 "metadata": {
  "kernelspec": {
   "display_name": "Python 3",
   "language": "python",
   "name": "python3"
  },
  "language_info": {
   "codemirror_mode": {
    "name": "ipython",
    "version": 3
   },
   "file_extension": ".py",
   "mimetype": "text/x-python",
   "name": "python",
   "nbconvert_exporter": "python",
   "pygments_lexer": "ipython3",
   "version": "3.6.3"
  }
 },
 "nbformat": 4,
 "nbformat_minor": 2
}
