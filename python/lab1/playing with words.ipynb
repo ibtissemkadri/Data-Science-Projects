{
 "cells": [
  {
   "cell_type": "code",
   "execution_count": 12,
   "metadata": {
    "collapsed": true
   },
   "outputs": [],
   "source": [
    "def character_distance(left, right):\n",
    "    return abs(ord(left) - ord(right))\n",
    "\n",
    "def is_surpassing_word(word):\n",
    "    distances = [character_distance(left, right) for left, right in zip(word, word[1:])]\n",
    "    return all(left < right for left, right in zip(distances, distances[1:]))"
   ]
  },
  {
   "cell_type": "code",
   "execution_count": 1,
   "metadata": {
    "collapsed": true
   },
   "outputs": [],
   "source": [
    "def is_cyclone_word(word):\n",
    "    word = word.upper()\n",
    "    letters = [None] * len(word)\n",
    "    half = (len(word) + 1) // 2\n",
    "    letters[::2] = word[:half]\n",
    "    letters[1::2] = word[:half - 1:-1]\n",
    "    return all([left <= right for left, right in zip(letters, letters[1:])])"
   ]
  },
  {
   "cell_type": "code",
   "execution_count": 23,
   "metadata": {
    "collapsed": false
   },
   "outputs": [
    {
     "name": "stdout",
     "output_type": "stream",
     "text": [
      "['A\\n', 'a\\n', 'aa\\n', 'aal\\n', 'aalii\\n', 'aam\\n', 'Aani\\n', 'aardvark\\n', 'aardwolf\\n', 'Aaron\\n'] [1, 1, 1, 0, 0, 0, 0, 0, 0, 0] [1, 1, 1, 1, 0, 1, 0, 0, 0, 0]\n"
     ]
    }
   ],
   "source": [
    "f=open(\"words\", 'r')\n",
    "words=f.readlines()[:10]\n",
    "cyclone=[]\n",
    "surpassing=[]\n",
    "for word in words:\n",
    "    word= word.strip().lower()\n",
    "    cyclone.append(int(is_cyclone_word(word)))\n",
    "    surpassing.append(int(is_surpassing_word(word)))\n",
    "print(words, cyclone, surpassing)    \n",
    "    "
   ]
  },
  {
   "cell_type": "code",
   "execution_count": 25,
   "metadata": {
    "collapsed": false
   },
   "outputs": [
    {
     "name": "stdout",
     "output_type": "stream",
     "text": [
      "0.3 0.5\n"
     ]
    }
   ],
   "source": [
    "mean_cyclone = sum(cyclone)/len(cyclone)\n",
    "mean_surpassing = sum(surpassing)/len(surpassing)\n",
    "print(mean_cyclone, mean_surpassing)"
   ]
  },
  {
   "cell_type": "code",
   "execution_count": 27,
   "metadata": {
    "collapsed": false
   },
   "outputs": [],
   "source": [
    "supassing_words = []\n",
    "cyclone_words = []\n",
    "for word in words:\n",
    "    word= word.strip().lower()\n",
    "    if is_cyclone_word(word):\n",
    "        cyclone_words.append(word)\n",
    "    if is_surpassing_word(word):\n",
    "        supassing_words.append(word)"
   ]
  }
 ],
 "metadata": {
  "kernelspec": {
   "display_name": "Python 3",
   "language": "python",
   "name": "python3"
  },
  "language_info": {
   "codemirror_mode": {
    "name": "ipython",
    "version": 3
   },
   "file_extension": ".py",
   "mimetype": "text/x-python",
   "name": "python",
   "nbconvert_exporter": "python",
   "pygments_lexer": "ipython3",
   "version": "3.6.3"
  }
 },
 "nbformat": 4,
 "nbformat_minor": 2
}
