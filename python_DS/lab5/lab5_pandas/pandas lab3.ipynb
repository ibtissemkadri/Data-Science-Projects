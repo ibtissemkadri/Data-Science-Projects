{
 "cells": [
  {
   "cell_type": "markdown",
   "metadata": {},
   "source": [
    "# Pandas lab3"
   ]
  },
  {
   "cell_type": "code",
   "execution_count": 1,
   "metadata": {},
   "outputs": [],
   "source": [
    "import pandas as pd\n",
    "import numpy as np\n",
    "import matplotlib.pyplot as plt\n",
    "%matplotlib inline"
   ]
  },
  {
   "cell_type": "code",
   "execution_count": 2,
   "metadata": {},
   "outputs": [
    {
     "name": "stderr",
     "output_type": "stream",
     "text": [
      "/home/ibtissem/.local/lib/python3.6/site-packages/IPython/core/interactiveshell.py:2785: DtypeWarning: Columns (26,28,37,38,39,48) have mixed types. Specify dtype option on import or set low_memory=False.\n",
      "  interactivity=interactivity, compiler=compiler, result=result)\n"
     ]
    }
   ],
   "source": [
    "food=pd.read_csv(\"en.openfoodfacts.org.products.tsv\", sep=\"\\t\", nrows=20000)"
   ]
  },
  {
   "cell_type": "code",
   "execution_count": 3,
   "metadata": {},
   "outputs": [
    {
     "data": {
      "text/plain": [
       "code                                      int64\n",
       "url                                      object\n",
       "creator                                  object\n",
       "created_t                                 int64\n",
       "created_datetime                         object\n",
       "last_modified_t                           int64\n",
       "last_modified_datetime                   object\n",
       "product_name                             object\n",
       "generic_name                             object\n",
       "quantity                                 object\n",
       "packaging                                object\n",
       "packaging_tags                           object\n",
       "brands                                   object\n",
       "brands_tags                              object\n",
       "categories                               object\n",
       "categories_tags                          object\n",
       "categories_en                            object\n",
       "origins                                  object\n",
       "origins_tags                             object\n",
       "manufacturing_places                     object\n",
       "manufacturing_places_tags                object\n",
       "labels                                   object\n",
       "labels_tags                              object\n",
       "labels_en                                object\n",
       "emb_codes                                object\n",
       "emb_codes_tags                           object\n",
       "first_packaging_code_geo                 object\n",
       "cities                                  float64\n",
       "cities_tags                              object\n",
       "purchase_places                          object\n",
       "                                         ...   \n",
       "pantothenic-acid_100g                   float64\n",
       "silica_100g                             float64\n",
       "bicarbonate_100g                        float64\n",
       "potassium_100g                          float64\n",
       "chloride_100g                           float64\n",
       "calcium_100g                            float64\n",
       "phosphorus_100g                         float64\n",
       "iron_100g                               float64\n",
       "magnesium_100g                          float64\n",
       "zinc_100g                               float64\n",
       "copper_100g                             float64\n",
       "manganese_100g                          float64\n",
       "fluoride_100g                           float64\n",
       "selenium_100g                           float64\n",
       "chromium_100g                           float64\n",
       "molybdenum_100g                         float64\n",
       "iodine_100g                             float64\n",
       "caffeine_100g                           float64\n",
       "taurine_100g                            float64\n",
       "ph_100g                                 float64\n",
       "fruits-vegetables-nuts_100g             float64\n",
       "fruits-vegetables-nuts-estimate_100g    float64\n",
       "collagen-meat-protein-ratio_100g        float64\n",
       "cocoa_100g                              float64\n",
       "chlorophyl_100g                         float64\n",
       "carbon-footprint_100g                   float64\n",
       "nutrition-score-fr_100g                 float64\n",
       "nutrition-score-uk_100g                 float64\n",
       "glycemic-index_100g                     float64\n",
       "water-hardness_100g                     float64\n",
       "Length: 163, dtype: object"
      ]
     },
     "execution_count": 3,
     "metadata": {},
     "output_type": "execute_result"
    }
   ],
   "source": [
    "food.dtypes"
   ]
  },
  {
   "cell_type": "code",
   "execution_count": 4,
   "metadata": {},
   "outputs": [
    {
     "data": {
      "text/plain": [
       "0    2016-09-17T09:17:46Z\n",
       "1    2017-03-09T14:32:37Z\n",
       "2    2017-03-09T14:32:37Z\n",
       "3    2017-03-09T10:35:31Z\n",
       "4    2017-03-09T10:34:13Z\n",
       "Name: created_datetime, dtype: object"
      ]
     },
     "execution_count": 4,
     "metadata": {},
     "output_type": "execute_result"
    }
   ],
   "source": [
    "food[\"created_datetime\"].head()"
   ]
  },
  {
   "cell_type": "code",
   "execution_count": 5,
   "metadata": {},
   "outputs": [
    {
     "data": {
      "text/plain": [
       "'09:17:46'"
      ]
     },
     "execution_count": 5,
     "metadata": {},
     "output_type": "execute_result"
    }
   ],
   "source": [
    "aa='2016-09-17T09:17:46Z'\n",
    "aa.split('T')[1][:-1]"
   ]
  },
  {
   "cell_type": "code",
   "execution_count": 6,
   "metadata": {},
   "outputs": [],
   "source": [
    "def date(x):\n",
    "    return x.split(\"T\")[0]\n",
    "def time(x):\n",
    "    return x.split('T')[1][:-1]"
   ]
  },
  {
   "cell_type": "code",
   "execution_count": 7,
   "metadata": {},
   "outputs": [],
   "source": [
    "food[\"created_date\"]=food[\"created_datetime\"].apply(date)"
   ]
  },
  {
   "cell_type": "code",
   "execution_count": 8,
   "metadata": {},
   "outputs": [
    {
     "data": {
      "text/plain": [
       "0    2016-09-17\n",
       "1    2017-03-09\n",
       "2    2017-03-09\n",
       "3    2017-03-09\n",
       "4    2017-03-09\n",
       "Name: created_date, dtype: object"
      ]
     },
     "execution_count": 8,
     "metadata": {},
     "output_type": "execute_result"
    }
   ],
   "source": [
    "food[\"created_date\"].head()"
   ]
  },
  {
   "cell_type": "code",
   "execution_count": 9,
   "metadata": {},
   "outputs": [],
   "source": [
    "food[\"created_time\"]=food[\"created_datetime\"].apply(time)"
   ]
  },
  {
   "cell_type": "code",
   "execution_count": 10,
   "metadata": {},
   "outputs": [
    {
     "data": {
      "text/plain": [
       "0    09:17:46\n",
       "1    14:32:37\n",
       "2    14:32:37\n",
       "3    10:35:31\n",
       "4    10:34:13\n",
       "Name: created_time, dtype: object"
      ]
     },
     "execution_count": 10,
     "metadata": {},
     "output_type": "execute_result"
    }
   ],
   "source": [
    "food[\"created_time\"].head()"
   ]
  },
  {
   "cell_type": "code",
   "execution_count": 11,
   "metadata": {},
   "outputs": [],
   "source": [
    "food.drop(\"created_datetime\", axis=1, inplace=True)"
   ]
  },
  {
   "cell_type": "code",
   "execution_count": 12,
   "metadata": {},
   "outputs": [
    {
     "data": {
      "text/plain": [
       "0       2016-09-17\n",
       "1       2017-03-09\n",
       "2       2017-03-09\n",
       "3       2017-03-09\n",
       "4       2017-03-09\n",
       "5       2017-03-09\n",
       "6       2017-03-09\n",
       "7       2017-03-09\n",
       "8       2017-03-09\n",
       "9       2017-03-09\n",
       "10      2017-03-09\n",
       "11      2017-03-09\n",
       "12      2017-03-09\n",
       "13      2017-03-09\n",
       "14      2017-03-09\n",
       "15      2017-03-09\n",
       "16      2017-03-09\n",
       "17      2017-03-09\n",
       "18      2017-03-09\n",
       "19      2017-03-09\n",
       "20      2017-03-09\n",
       "21      2017-03-09\n",
       "22      2017-03-09\n",
       "23      2017-03-09\n",
       "24      2017-03-10\n",
       "25      2017-03-09\n",
       "26      2017-03-09\n",
       "27      2017-03-09\n",
       "28      2017-03-09\n",
       "29      2017-03-09\n",
       "           ...    \n",
       "19970   2017-03-09\n",
       "19971   2017-03-09\n",
       "19972   2017-03-09\n",
       "19973   2017-03-09\n",
       "19974   2017-03-09\n",
       "19975   2017-03-09\n",
       "19976   2017-03-09\n",
       "19977   2017-03-09\n",
       "19978   2017-03-09\n",
       "19979   2017-03-09\n",
       "19980   2017-03-09\n",
       "19981   2017-03-09\n",
       "19982   2017-03-09\n",
       "19983   2017-03-09\n",
       "19984   2017-03-09\n",
       "19985   2017-03-09\n",
       "19986   2017-03-09\n",
       "19987   2017-03-09\n",
       "19988   2017-03-09\n",
       "19989   2017-03-09\n",
       "19990   2017-03-09\n",
       "19991   2017-03-09\n",
       "19992   2014-09-01\n",
       "19993   2017-03-09\n",
       "19994   2017-03-09\n",
       "19995   2017-03-09\n",
       "19996   2017-03-09\n",
       "19997   2017-03-09\n",
       "19998   2017-03-09\n",
       "19999   2017-03-09\n",
       "Name: created_date, Length: 20000, dtype: datetime64[ns]"
      ]
     },
     "execution_count": 12,
     "metadata": {},
     "output_type": "execute_result"
    }
   ],
   "source": [
    "pd.to_datetime(food[\"created_date\"], infer_datetime_format=True)"
   ]
  },
  {
   "cell_type": "code",
   "execution_count": null,
   "metadata": {},
   "outputs": [],
   "source": []
  }
 ],
 "metadata": {
  "kernelspec": {
   "display_name": "Python 3",
   "language": "python",
   "name": "python3"
  },
  "language_info": {
   "codemirror_mode": {
    "name": "ipython",
    "version": 3
   },
   "file_extension": ".py",
   "mimetype": "text/x-python",
   "name": "python",
   "nbconvert_exporter": "python",
   "pygments_lexer": "ipython3",
   "version": "3.6.2"
  }
 },
 "nbformat": 4,
 "nbformat_minor": 2
}
