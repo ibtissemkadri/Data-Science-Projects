{
 "cells": [
  {
   "cell_type": "code",
   "execution_count": 49,
   "metadata": {},
   "outputs": [],
   "source": [
    "import numpy as np\n",
    "import pandas as pd\n",
    "import matplotlib.pyplot as plt\n",
    "%matplotlib inline"
   ]
  },
  {
   "cell_type": "code",
   "execution_count": 52,
   "metadata": {},
   "outputs": [],
   "source": [
    "huawei=pd.read_csv(\"Huawei_mate10.csv\")"
   ]
  },
  {
   "cell_type": "code",
   "execution_count": 53,
   "metadata": {},
   "outputs": [
    {
     "data": {
      "text/html": [
       "<div>\n",
       "<style>\n",
       "    .dataframe thead tr:only-child th {\n",
       "        text-align: right;\n",
       "    }\n",
       "\n",
       "    .dataframe thead th {\n",
       "        text-align: left;\n",
       "    }\n",
       "\n",
       "    .dataframe tbody tr th {\n",
       "        vertical-align: top;\n",
       "    }\n",
       "</style>\n",
       "<table border=\"1\" class=\"dataframe\">\n",
       "  <thead>\n",
       "    <tr style=\"text-align: right;\">\n",
       "      <th></th>\n",
       "      <th>Unnamed: 0</th>\n",
       "      <th>country</th>\n",
       "      <th>domain</th>\n",
       "      <th>marketplaceId</th>\n",
       "      <th>names</th>\n",
       "      <th>priceString</th>\n",
       "      <th>prices</th>\n",
       "      <th>timestamp</th>\n",
       "      <th>url</th>\n",
       "    </tr>\n",
       "  </thead>\n",
       "  <tbody>\n",
       "    <tr>\n",
       "      <th>0</th>\n",
       "      <td>0</td>\n",
       "      <td>DE</td>\n",
       "      <td>amazon.de</td>\n",
       "      <td>amazonde</td>\n",
       "      <td>huawei mate 10 pro smartphone (15,24 cm(6 zoll...</td>\n",
       "      <td>787.00</td>\n",
       "      <td>787.00</td>\n",
       "      <td>2017-12-20T12:34:15</td>\n",
       "      <td>https://www.amazon.de/Huawei-Smartphone-intern...</td>\n",
       "    </tr>\n",
       "    <tr>\n",
       "      <th>1</th>\n",
       "      <td>1</td>\n",
       "      <td>ES</td>\n",
       "      <td>amazon.es</td>\n",
       "      <td>amazones</td>\n",
       "      <td>huawei mate 10 pro sim doble 4g 128gb gris - s...</td>\n",
       "      <td>832.45</td>\n",
       "      <td>832.45</td>\n",
       "      <td>2017-12-20T15:40:30</td>\n",
       "      <td>https://www.amazon.es/Huawei-Mate-doble-128GB-...</td>\n",
       "    </tr>\n",
       "    <tr>\n",
       "      <th>2</th>\n",
       "      <td>2</td>\n",
       "      <td>ES</td>\n",
       "      <td>amazon.es</td>\n",
       "      <td>amazones</td>\n",
       "      <td>huawei mate 10 pro sim doble 4g 128gb gris - s...</td>\n",
       "      <td>832.45</td>\n",
       "      <td>832.45</td>\n",
       "      <td>2017-12-20T15:13:31</td>\n",
       "      <td>https://www.amazon.es/Huawei-Mate-doble-128GB-...</td>\n",
       "    </tr>\n",
       "    <tr>\n",
       "      <th>3</th>\n",
       "      <td>3</td>\n",
       "      <td>ES</td>\n",
       "      <td>amazon.es</td>\n",
       "      <td>amazones</td>\n",
       "      <td>huawei mate 10 pro sim doble 4g 128gb gris - s...</td>\n",
       "      <td>832.45</td>\n",
       "      <td>832.45</td>\n",
       "      <td>2017-12-20T15:15:52</td>\n",
       "      <td>https://www.amazon.es/Huawei-Mate-doble-128GB-...</td>\n",
       "    </tr>\n",
       "    <tr>\n",
       "      <th>4</th>\n",
       "      <td>4</td>\n",
       "      <td>ES</td>\n",
       "      <td>amazon.es</td>\n",
       "      <td>amazones</td>\n",
       "      <td>huawei mate 10 pro sim doble 4g 128gb gris - s...</td>\n",
       "      <td>832.45</td>\n",
       "      <td>832.45</td>\n",
       "      <td>2017-12-20T15:17:45</td>\n",
       "      <td>https://www.amazon.es/Huawei-Mate-doble-128GB-...</td>\n",
       "    </tr>\n",
       "  </tbody>\n",
       "</table>\n",
       "</div>"
      ],
      "text/plain": [
       "   Unnamed: 0 country     domain marketplaceId  \\\n",
       "0           0      DE  amazon.de      amazonde   \n",
       "1           1      ES  amazon.es      amazones   \n",
       "2           2      ES  amazon.es      amazones   \n",
       "3           3      ES  amazon.es      amazones   \n",
       "4           4      ES  amazon.es      amazones   \n",
       "\n",
       "                                               names  priceString  prices  \\\n",
       "0  huawei mate 10 pro smartphone (15,24 cm(6 zoll...       787.00  787.00   \n",
       "1  huawei mate 10 pro sim doble 4g 128gb gris - s...       832.45  832.45   \n",
       "2  huawei mate 10 pro sim doble 4g 128gb gris - s...       832.45  832.45   \n",
       "3  huawei mate 10 pro sim doble 4g 128gb gris - s...       832.45  832.45   \n",
       "4  huawei mate 10 pro sim doble 4g 128gb gris - s...       832.45  832.45   \n",
       "\n",
       "             timestamp                                                url  \n",
       "0  2017-12-20T12:34:15  https://www.amazon.de/Huawei-Smartphone-intern...  \n",
       "1  2017-12-20T15:40:30  https://www.amazon.es/Huawei-Mate-doble-128GB-...  \n",
       "2  2017-12-20T15:13:31  https://www.amazon.es/Huawei-Mate-doble-128GB-...  \n",
       "3  2017-12-20T15:15:52  https://www.amazon.es/Huawei-Mate-doble-128GB-...  \n",
       "4  2017-12-20T15:17:45  https://www.amazon.es/Huawei-Mate-doble-128GB-...  "
      ]
     },
     "execution_count": 53,
     "metadata": {},
     "output_type": "execute_result"
    }
   ],
   "source": [
    "huawei.head()"
   ]
  },
  {
   "cell_type": "code",
   "execution_count": 4,
   "metadata": {},
   "outputs": [
    {
     "name": "stdout",
     "output_type": "stream",
     "text": [
      "<class 'pandas.core.frame.DataFrame'>\n",
      "RangeIndex: 3862 entries, 0 to 3861\n",
      "Data columns (total 9 columns):\n",
      "Unnamed: 0       3862 non-null int64\n",
      "country          3862 non-null object\n",
      "domain           3862 non-null object\n",
      "marketplaceId    3862 non-null object\n",
      "names            3862 non-null object\n",
      "priceString      3862 non-null float64\n",
      "prices           3862 non-null float64\n",
      "timestamp        3862 non-null object\n",
      "url              3862 non-null object\n",
      "dtypes: float64(2), int64(1), object(6)\n",
      "memory usage: 271.6+ KB\n"
     ]
    }
   ],
   "source": [
    "huawei.info()"
   ]
  },
  {
   "cell_type": "code",
   "execution_count": 14,
   "metadata": {},
   "outputs": [
    {
     "data": {
      "text/plain": [
       "['DE', 'ES', 'IT', 'FR']"
      ]
     },
     "execution_count": 14,
     "metadata": {},
     "output_type": "execute_result"
    }
   ],
   "source": [
    "countries=list(huawei.country.unique())\n",
    "countries"
   ]
  },
  {
   "cell_type": "code",
   "execution_count": 7,
   "metadata": {},
   "outputs": [
    {
     "data": {
      "text/html": [
       "<div>\n",
       "<style>\n",
       "    .dataframe thead tr:only-child th {\n",
       "        text-align: right;\n",
       "    }\n",
       "\n",
       "    .dataframe thead th {\n",
       "        text-align: left;\n",
       "    }\n",
       "\n",
       "    .dataframe tbody tr th {\n",
       "        vertical-align: top;\n",
       "    }\n",
       "</style>\n",
       "<table border=\"1\" class=\"dataframe\">\n",
       "  <thead>\n",
       "    <tr style=\"text-align: right;\">\n",
       "      <th></th>\n",
       "      <th>Unnamed: 0</th>\n",
       "      <th>country</th>\n",
       "      <th>domain</th>\n",
       "      <th>marketplaceId</th>\n",
       "      <th>names</th>\n",
       "      <th>priceString</th>\n",
       "      <th>prices</th>\n",
       "      <th>timestamp</th>\n",
       "      <th>url</th>\n",
       "    </tr>\n",
       "  </thead>\n",
       "  <tbody>\n",
       "    <tr>\n",
       "      <th>1</th>\n",
       "      <td>1</td>\n",
       "      <td>ES</td>\n",
       "      <td>amazon.es</td>\n",
       "      <td>amazones</td>\n",
       "      <td>huawei mate 10 pro sim doble 4g 128gb gris - s...</td>\n",
       "      <td>832.45</td>\n",
       "      <td>832.45</td>\n",
       "      <td>2017-12-20T15:40:30</td>\n",
       "      <td>https://www.amazon.es/Huawei-Mate-doble-128GB-...</td>\n",
       "    </tr>\n",
       "    <tr>\n",
       "      <th>2</th>\n",
       "      <td>2</td>\n",
       "      <td>ES</td>\n",
       "      <td>amazon.es</td>\n",
       "      <td>amazones</td>\n",
       "      <td>huawei mate 10 pro sim doble 4g 128gb gris - s...</td>\n",
       "      <td>832.45</td>\n",
       "      <td>832.45</td>\n",
       "      <td>2017-12-20T15:13:31</td>\n",
       "      <td>https://www.amazon.es/Huawei-Mate-doble-128GB-...</td>\n",
       "    </tr>\n",
       "    <tr>\n",
       "      <th>3</th>\n",
       "      <td>3</td>\n",
       "      <td>ES</td>\n",
       "      <td>amazon.es</td>\n",
       "      <td>amazones</td>\n",
       "      <td>huawei mate 10 pro sim doble 4g 128gb gris - s...</td>\n",
       "      <td>832.45</td>\n",
       "      <td>832.45</td>\n",
       "      <td>2017-12-20T15:15:52</td>\n",
       "      <td>https://www.amazon.es/Huawei-Mate-doble-128GB-...</td>\n",
       "    </tr>\n",
       "    <tr>\n",
       "      <th>4</th>\n",
       "      <td>4</td>\n",
       "      <td>ES</td>\n",
       "      <td>amazon.es</td>\n",
       "      <td>amazones</td>\n",
       "      <td>huawei mate 10 pro sim doble 4g 128gb gris - s...</td>\n",
       "      <td>832.45</td>\n",
       "      <td>832.45</td>\n",
       "      <td>2017-12-20T15:17:45</td>\n",
       "      <td>https://www.amazon.es/Huawei-Mate-doble-128GB-...</td>\n",
       "    </tr>\n",
       "    <tr>\n",
       "      <th>5</th>\n",
       "      <td>5</td>\n",
       "      <td>ES</td>\n",
       "      <td>amazon.es</td>\n",
       "      <td>amazones</td>\n",
       "      <td>huawei mate 10 pro sim doble 4g 128gb gris - s...</td>\n",
       "      <td>832.45</td>\n",
       "      <td>832.45</td>\n",
       "      <td>2017-12-20T15:49:02</td>\n",
       "      <td>https://www.amazon.es/Huawei-Mate-doble-128GB-...</td>\n",
       "    </tr>\n",
       "  </tbody>\n",
       "</table>\n",
       "</div>"
      ],
      "text/plain": [
       "   Unnamed: 0 country     domain marketplaceId  \\\n",
       "1           1      ES  amazon.es      amazones   \n",
       "2           2      ES  amazon.es      amazones   \n",
       "3           3      ES  amazon.es      amazones   \n",
       "4           4      ES  amazon.es      amazones   \n",
       "5           5      ES  amazon.es      amazones   \n",
       "\n",
       "                                               names  priceString  prices  \\\n",
       "1  huawei mate 10 pro sim doble 4g 128gb gris - s...       832.45  832.45   \n",
       "2  huawei mate 10 pro sim doble 4g 128gb gris - s...       832.45  832.45   \n",
       "3  huawei mate 10 pro sim doble 4g 128gb gris - s...       832.45  832.45   \n",
       "4  huawei mate 10 pro sim doble 4g 128gb gris - s...       832.45  832.45   \n",
       "5  huawei mate 10 pro sim doble 4g 128gb gris - s...       832.45  832.45   \n",
       "\n",
       "             timestamp                                                url  \n",
       "1  2017-12-20T15:40:30  https://www.amazon.es/Huawei-Mate-doble-128GB-...  \n",
       "2  2017-12-20T15:13:31  https://www.amazon.es/Huawei-Mate-doble-128GB-...  \n",
       "3  2017-12-20T15:15:52  https://www.amazon.es/Huawei-Mate-doble-128GB-...  \n",
       "4  2017-12-20T15:17:45  https://www.amazon.es/Huawei-Mate-doble-128GB-...  \n",
       "5  2017-12-20T15:49:02  https://www.amazon.es/Huawei-Mate-doble-128GB-...  "
      ]
     },
     "execution_count": 7,
     "metadata": {},
     "output_type": "execute_result"
    }
   ],
   "source": [
    "dataES=huawei[huawei[\"country\"]==\"ES\"]\n",
    "dataES.head()"
   ]
  },
  {
   "cell_type": "code",
   "execution_count": 11,
   "metadata": {},
   "outputs": [
    {
     "data": {
      "text/plain": [
       "843.1195144628136"
      ]
     },
     "execution_count": 11,
     "metadata": {},
     "output_type": "execute_result"
    }
   ],
   "source": [
    "dataES.prices.mean()"
   ]
  },
  {
   "cell_type": "code",
   "execution_count": 12,
   "metadata": {},
   "outputs": [
    {
     "data": {
      "text/plain": [
       "294.086"
      ]
     },
     "execution_count": 12,
     "metadata": {},
     "output_type": "execute_result"
    }
   ],
   "source": [
    "huawei[huawei[\"country\"]==\"FR\"].prices.mean()"
   ]
  },
  {
   "cell_type": "code",
   "execution_count": 16,
   "metadata": {},
   "outputs": [
    {
     "name": "stdout",
     "output_type": "stream",
     "text": [
      "mean prices for DE 765.0672072072044\n",
      "mean prices for ES 843.1195144628136\n",
      "mean prices for IT 813.9054122137424\n",
      "mean prices for FR 294.086\n"
     ]
    }
   ],
   "source": [
    "for country in countries:\n",
    "    print(\"mean prices for \"+country+\" \"+ str(huawei[huawei[\"country\"]==country].prices.mean()))"
   ]
  },
  {
   "cell_type": "code",
   "execution_count": 10,
   "metadata": {},
   "outputs": [],
   "source": [
    "time_stamp_ES=dataES.timestamp"
   ]
  },
  {
   "cell_type": "code",
   "execution_count": 26,
   "metadata": {},
   "outputs": [],
   "source": [
    "from datetime import datetime"
   ]
  },
  {
   "cell_type": "code",
   "execution_count": 36,
   "metadata": {},
   "outputs": [],
   "source": [
    "huawei[\"timestamp\"]=pd.to_datetime(huawei[\"timestamp\"], infer_datetime_format=True)"
   ]
  },
  {
   "cell_type": "code",
   "execution_count": 37,
   "metadata": {},
   "outputs": [
    {
     "data": {
      "text/html": [
       "<div>\n",
       "<style>\n",
       "    .dataframe thead tr:only-child th {\n",
       "        text-align: right;\n",
       "    }\n",
       "\n",
       "    .dataframe thead th {\n",
       "        text-align: left;\n",
       "    }\n",
       "\n",
       "    .dataframe tbody tr th {\n",
       "        vertical-align: top;\n",
       "    }\n",
       "</style>\n",
       "<table border=\"1\" class=\"dataframe\">\n",
       "  <thead>\n",
       "    <tr style=\"text-align: right;\">\n",
       "      <th></th>\n",
       "      <th>Unnamed: 0</th>\n",
       "      <th>country</th>\n",
       "      <th>domain</th>\n",
       "      <th>marketplaceId</th>\n",
       "      <th>names</th>\n",
       "      <th>priceString</th>\n",
       "      <th>prices</th>\n",
       "      <th>timestamp</th>\n",
       "      <th>url</th>\n",
       "    </tr>\n",
       "  </thead>\n",
       "  <tbody>\n",
       "    <tr>\n",
       "      <th>1</th>\n",
       "      <td>1</td>\n",
       "      <td>ES</td>\n",
       "      <td>amazon.es</td>\n",
       "      <td>amazones</td>\n",
       "      <td>huawei mate 10 pro sim doble 4g 128gb gris - s...</td>\n",
       "      <td>832.45</td>\n",
       "      <td>832.45</td>\n",
       "      <td>2017-12-20 15:40:30</td>\n",
       "      <td>https://www.amazon.es/Huawei-Mate-doble-128GB-...</td>\n",
       "    </tr>\n",
       "    <tr>\n",
       "      <th>2</th>\n",
       "      <td>2</td>\n",
       "      <td>ES</td>\n",
       "      <td>amazon.es</td>\n",
       "      <td>amazones</td>\n",
       "      <td>huawei mate 10 pro sim doble 4g 128gb gris - s...</td>\n",
       "      <td>832.45</td>\n",
       "      <td>832.45</td>\n",
       "      <td>2017-12-20 15:13:31</td>\n",
       "      <td>https://www.amazon.es/Huawei-Mate-doble-128GB-...</td>\n",
       "    </tr>\n",
       "    <tr>\n",
       "      <th>3</th>\n",
       "      <td>3</td>\n",
       "      <td>ES</td>\n",
       "      <td>amazon.es</td>\n",
       "      <td>amazones</td>\n",
       "      <td>huawei mate 10 pro sim doble 4g 128gb gris - s...</td>\n",
       "      <td>832.45</td>\n",
       "      <td>832.45</td>\n",
       "      <td>2017-12-20 15:15:52</td>\n",
       "      <td>https://www.amazon.es/Huawei-Mate-doble-128GB-...</td>\n",
       "    </tr>\n",
       "    <tr>\n",
       "      <th>4</th>\n",
       "      <td>4</td>\n",
       "      <td>ES</td>\n",
       "      <td>amazon.es</td>\n",
       "      <td>amazones</td>\n",
       "      <td>huawei mate 10 pro sim doble 4g 128gb gris - s...</td>\n",
       "      <td>832.45</td>\n",
       "      <td>832.45</td>\n",
       "      <td>2017-12-20 15:17:45</td>\n",
       "      <td>https://www.amazon.es/Huawei-Mate-doble-128GB-...</td>\n",
       "    </tr>\n",
       "    <tr>\n",
       "      <th>5</th>\n",
       "      <td>5</td>\n",
       "      <td>ES</td>\n",
       "      <td>amazon.es</td>\n",
       "      <td>amazones</td>\n",
       "      <td>huawei mate 10 pro sim doble 4g 128gb gris - s...</td>\n",
       "      <td>832.45</td>\n",
       "      <td>832.45</td>\n",
       "      <td>2017-12-20 15:49:02</td>\n",
       "      <td>https://www.amazon.es/Huawei-Mate-doble-128GB-...</td>\n",
       "    </tr>\n",
       "  </tbody>\n",
       "</table>\n",
       "</div>"
      ],
      "text/plain": [
       "   Unnamed: 0 country     domain marketplaceId  \\\n",
       "1           1      ES  amazon.es      amazones   \n",
       "2           2      ES  amazon.es      amazones   \n",
       "3           3      ES  amazon.es      amazones   \n",
       "4           4      ES  amazon.es      amazones   \n",
       "5           5      ES  amazon.es      amazones   \n",
       "\n",
       "                                               names  priceString  prices  \\\n",
       "1  huawei mate 10 pro sim doble 4g 128gb gris - s...       832.45  832.45   \n",
       "2  huawei mate 10 pro sim doble 4g 128gb gris - s...       832.45  832.45   \n",
       "3  huawei mate 10 pro sim doble 4g 128gb gris - s...       832.45  832.45   \n",
       "4  huawei mate 10 pro sim doble 4g 128gb gris - s...       832.45  832.45   \n",
       "5  huawei mate 10 pro sim doble 4g 128gb gris - s...       832.45  832.45   \n",
       "\n",
       "            timestamp                                                url  \n",
       "1 2017-12-20 15:40:30  https://www.amazon.es/Huawei-Mate-doble-128GB-...  \n",
       "2 2017-12-20 15:13:31  https://www.amazon.es/Huawei-Mate-doble-128GB-...  \n",
       "3 2017-12-20 15:15:52  https://www.amazon.es/Huawei-Mate-doble-128GB-...  \n",
       "4 2017-12-20 15:17:45  https://www.amazon.es/Huawei-Mate-doble-128GB-...  \n",
       "5 2017-12-20 15:49:02  https://www.amazon.es/Huawei-Mate-doble-128GB-...  "
      ]
     },
     "execution_count": 37,
     "metadata": {},
     "output_type": "execute_result"
    }
   ],
   "source": [
    "dataES=huawei[huawei[\"country\"]==\"ES\"]\n",
    "dataES.head()"
   ]
  },
  {
   "cell_type": "code",
   "execution_count": 41,
   "metadata": {},
   "outputs": [],
   "source": [
    "time_list_ES=list(dataES[\"timestamp\"])"
   ]
  },
  {
   "cell_type": "code",
   "execution_count": 27,
   "metadata": {
    "scrolled": true
   },
   "outputs": [
    {
     "data": {
      "text/plain": [
       "0   2017-12-20 12:34:15\n",
       "1   2017-12-20 15:40:30\n",
       "2   2017-12-20 15:13:31\n",
       "3   2017-12-20 15:15:52\n",
       "4   2017-12-20 15:17:45\n",
       "Name: timestamp, dtype: datetime64[ns]"
      ]
     },
     "execution_count": 27,
     "metadata": {},
     "output_type": "execute_result"
    }
   ],
   "source": [
    "huawei[\"timestamp\"].head()"
   ]
  },
  {
   "cell_type": "code",
   "execution_count": 25,
   "metadata": {},
   "outputs": [
    {
     "data": {
      "text/plain": [
       "Unnamed: 0                int64\n",
       "country                  object\n",
       "domain                   object\n",
       "marketplaceId            object\n",
       "names                    object\n",
       "priceString             float64\n",
       "prices                  float64\n",
       "timestamp        datetime64[ns]\n",
       "url                      object\n",
       "dtype: object"
      ]
     },
     "execution_count": 25,
     "metadata": {},
     "output_type": "execute_result"
    }
   ],
   "source": [
    "huawei.dtypes"
   ]
  },
  {
   "cell_type": "code",
   "execution_count": 39,
   "metadata": {},
   "outputs": [
    {
     "name": "stdout",
     "output_type": "stream",
     "text": [
      "<class 'pandas.core.frame.DataFrame'>\n",
      "Int64Index: 968 entries, 1 to 3860\n",
      "Data columns (total 9 columns):\n",
      "Unnamed: 0       968 non-null int64\n",
      "country          968 non-null object\n",
      "domain           968 non-null object\n",
      "marketplaceId    968 non-null object\n",
      "names            968 non-null object\n",
      "priceString      968 non-null float64\n",
      "prices           968 non-null float64\n",
      "timestamp        968 non-null datetime64[ns]\n",
      "url              968 non-null object\n",
      "dtypes: datetime64[ns](1), float64(2), int64(1), object(5)\n",
      "memory usage: 75.6+ KB\n"
     ]
    }
   ],
   "source": [
    "dataES.info()"
   ]
  },
  {
   "cell_type": "code",
   "execution_count": 44,
   "metadata": {},
   "outputs": [],
   "source": [
    "prices_list_ES=list(dataES[\"prices\"])"
   ]
  },
  {
   "cell_type": "code",
   "execution_count": 45,
   "metadata": {},
   "outputs": [
    {
     "data": {
      "text/plain": [
       "[<matplotlib.lines.Line2D at 0x7f6b0e092f28>]"
      ]
     },
     "execution_count": 45,
     "metadata": {},
     "output_type": "execute_result"
    },
    {
     "data": {
      "image/png": "[encoded data removed]",
      "text/plain": [
       "<matplotlib.figure.Figure at 0x7f6b0e16d198>"
      ]
     },
     "metadata": {},
     "output_type": "display_data"
    }
   ],
   "source": [
    "plt.plot(time_list_ES, prices_list_ES)"
   ]
  },
  {
   "cell_type": "code",
   "execution_count": null,
   "metadata": {},
   "outputs": [],
   "source": [
    "list_n=[]\n",
    "for i in range (len(time_list_ES)):\n",
    "    list_n.append((time_list_ES[i], prices_list_ES[i]))\n",
    "    \n",
    "ts = traces.TimeSeries(list_n)\n",
    "ts=ts.sample(sampling_period=timedelta(hours=12), start=datetime(2016, 12, 6, 14, 5))"
   ]
  }
 ],
 "metadata": {
  "kernelspec": {
   "display_name": "Python 3",
   "language": "python",
   "name": "python3"
  },
  "language_info": {
   "codemirror_mode": {
    "name": "ipython",
    "version": 3
   },
   "file_extension": ".py",
   "mimetype": "text/x-python",
   "name": "python",
   "nbconvert_exporter": "python",
   "pygments_lexer": "ipython3",
   "version": "3.6.2"
  }
 },
 "nbformat": 4,
 "nbformat_minor": 2
}
