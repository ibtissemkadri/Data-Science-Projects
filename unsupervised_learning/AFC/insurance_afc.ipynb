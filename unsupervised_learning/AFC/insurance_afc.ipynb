{
 "cells": [
  {
   "cell_type": "code",
   "execution_count": 1,
   "metadata": {},
   "outputs": [],
   "source": [
    "import numpy as np\n",
    "import pandas as pd\n",
    "import seaborn as sns\n",
    "import matplotlib.pyplot as plt\n",
    "%matplotlib inline"
   ]
  },
  {
   "cell_type": "code",
   "execution_count": 2,
   "metadata": {},
   "outputs": [],
   "source": [
    "df=pd.read_csv(\"Insurance.csv\")"
   ]
  },
  {
   "cell_type": "code",
   "execution_count": 3,
   "metadata": {},
   "outputs": [
    {
     "data": {
      "text/html": [
       "<div>\n",
       "<style scoped>\n",
       "    .dataframe tbody tr th:only-of-type {\n",
       "        vertical-align: middle;\n",
       "    }\n",
       "\n",
       "    .dataframe tbody tr th {\n",
       "        vertical-align: top;\n",
       "    }\n",
       "\n",
       "    .dataframe thead th {\n",
       "        text-align: right;\n",
       "    }\n",
       "</style>\n",
       "<table border=\"1\" class=\"dataframe\">\n",
       "  <thead>\n",
       "    <tr style=\"text-align: right;\">\n",
       "      <th></th>\n",
       "      <th>Numpol</th>\n",
       "      <th>Date_Debut</th>\n",
       "      <th>Date_fin</th>\n",
       "      <th>AFN_Date</th>\n",
       "      <th>AFN_Annee</th>\n",
       "      <th>Fract</th>\n",
       "      <th>Date_NE</th>\n",
       "      <th>Permis_Cat</th>\n",
       "      <th>Permis_Date</th>\n",
       "      <th>VEH</th>\n",
       "      <th>...</th>\n",
       "      <th>Sin_auto_non_resp</th>\n",
       "      <th>Ass_CP</th>\n",
       "      <th>Statut_commune</th>\n",
       "      <th>Anc_Permis</th>\n",
       "      <th>Anc_MEC</th>\n",
       "      <th>Depart</th>\n",
       "      <th>Age</th>\n",
       "      <th>Sinistralite</th>\n",
       "      <th>Sinistre_freq</th>\n",
       "      <th>Sinistre_Freq</th>\n",
       "    </tr>\n",
       "  </thead>\n",
       "  <tbody>\n",
       "    <tr>\n",
       "      <th>0</th>\n",
       "      <td>C213079</td>\n",
       "      <td>01/04/2012</td>\n",
       "      <td>31/03/2013</td>\n",
       "      <td>01/04/2012</td>\n",
       "      <td>2012</td>\n",
       "      <td>ANN</td>\n",
       "      <td>03/10/1996</td>\n",
       "      <td>BSR</td>\n",
       "      <td>13/10/2010</td>\n",
       "      <td>GILERA-STALKER-50</td>\n",
       "      <td>...</td>\n",
       "      <td>NaN</td>\n",
       "      <td>81200</td>\n",
       "      <td>Ville-centre</td>\n",
       "      <td>1</td>\n",
       "      <td>1</td>\n",
       "      <td>81.0</td>\n",
       "      <td>15</td>\n",
       "      <td>0</td>\n",
       "      <td>0</td>\n",
       "      <td>Moins frequent</td>\n",
       "    </tr>\n",
       "    <tr>\n",
       "      <th>1</th>\n",
       "      <td>C213811</td>\n",
       "      <td>30/09/2011</td>\n",
       "      <td>31/03/2012</td>\n",
       "      <td>30/09/2011</td>\n",
       "      <td>2011</td>\n",
       "      <td>SEM</td>\n",
       "      <td>22/12/1984</td>\n",
       "      <td>A</td>\n",
       "      <td>NaN</td>\n",
       "      <td>PIAGGIO-CIAOP-50</td>\n",
       "      <td>...</td>\n",
       "      <td>NaN</td>\n",
       "      <td>13003</td>\n",
       "      <td>NaN</td>\n",
       "      <td>112</td>\n",
       "      <td>11</td>\n",
       "      <td>13.0</td>\n",
       "      <td>27</td>\n",
       "      <td>0</td>\n",
       "      <td>0</td>\n",
       "      <td>Plus fr�quent</td>\n",
       "    </tr>\n",
       "    <tr>\n",
       "      <th>2</th>\n",
       "      <td>C1120297</td>\n",
       "      <td>19/04/2011</td>\n",
       "      <td>30/09/2011</td>\n",
       "      <td>19/04/2011</td>\n",
       "      <td>2011</td>\n",
       "      <td>SEM</td>\n",
       "      <td>09/08/1959</td>\n",
       "      <td>A</td>\n",
       "      <td>10/12/1979</td>\n",
       "      <td>HARLEY-DAVIDSON-HERITAGESOFTAILCLASSIC-1584</td>\n",
       "      <td>...</td>\n",
       "      <td>0.0</td>\n",
       "      <td>78810</td>\n",
       "      <td>Rural</td>\n",
       "      <td>31</td>\n",
       "      <td>0</td>\n",
       "      <td>78.0</td>\n",
       "      <td>52</td>\n",
       "      <td>0</td>\n",
       "      <td>0</td>\n",
       "      <td>Plus fr�quent</td>\n",
       "    </tr>\n",
       "    <tr>\n",
       "      <th>3</th>\n",
       "      <td>C1134559</td>\n",
       "      <td>01/01/2011</td>\n",
       "      <td>31/03/2011</td>\n",
       "      <td>01/01/2011</td>\n",
       "      <td>2011</td>\n",
       "      <td>ANN</td>\n",
       "      <td>02/09/1983</td>\n",
       "      <td>A</td>\n",
       "      <td>10/07/2008</td>\n",
       "      <td>HONDA-HORNETABS(MOD-2007)-600</td>\n",
       "      <td>...</td>\n",
       "      <td>0.0</td>\n",
       "      <td>73800</td>\n",
       "      <td>Banlieue</td>\n",
       "      <td>2</td>\n",
       "      <td>2</td>\n",
       "      <td>73.0</td>\n",
       "      <td>27</td>\n",
       "      <td>0</td>\n",
       "      <td>0</td>\n",
       "      <td>Moins frequent</td>\n",
       "    </tr>\n",
       "    <tr>\n",
       "      <th>4</th>\n",
       "      <td>C1134595</td>\n",
       "      <td>01/01/2011</td>\n",
       "      <td>31/03/2011</td>\n",
       "      <td>01/01/2011</td>\n",
       "      <td>2011</td>\n",
       "      <td>ANN</td>\n",
       "      <td>05/07/1937</td>\n",
       "      <td>B</td>\n",
       "      <td>01/05/1960</td>\n",
       "      <td>PIAGGIO-MP3LTGENRETM-250</td>\n",
       "      <td>...</td>\n",
       "      <td>0.0</td>\n",
       "      <td>6400</td>\n",
       "      <td>Banlieue</td>\n",
       "      <td>51</td>\n",
       "      <td>1</td>\n",
       "      <td>NaN</td>\n",
       "      <td>73</td>\n",
       "      <td>0</td>\n",
       "      <td>0</td>\n",
       "      <td>Moyen fr�quent</td>\n",
       "    </tr>\n",
       "  </tbody>\n",
       "</table>\n",
       "<p>5 rows × 37 columns</p>\n",
       "</div>"
      ],
      "text/plain": [
       "     Numpol  Date_Debut    Date_fin    AFN_Date  AFN_Annee Fract     Date_NE  \\\n",
       "0   C213079  01/04/2012  31/03/2013  01/04/2012       2012   ANN  03/10/1996   \n",
       "1   C213811  30/09/2011  31/03/2012  30/09/2011       2011   SEM  22/12/1984   \n",
       "2  C1120297  19/04/2011  30/09/2011  19/04/2011       2011   SEM  09/08/1959   \n",
       "3  C1134559  01/01/2011  31/03/2011  01/01/2011       2011   ANN  02/09/1983   \n",
       "4  C1134595  01/01/2011  31/03/2011  01/01/2011       2011   ANN  05/07/1937   \n",
       "\n",
       "  Permis_Cat Permis_Date                                          VEH  \\\n",
       "0        BSR  13/10/2010                            GILERA-STALKER-50   \n",
       "1          A         NaN                             PIAGGIO-CIAOP-50   \n",
       "2          A  10/12/1979  HARLEY-DAVIDSON-HERITAGESOFTAILCLASSIC-1584   \n",
       "3          A  10/07/2008                HONDA-HORNETABS(MOD-2007)-600   \n",
       "4          B  01/05/1960                     PIAGGIO-MP3LTGENRETM-250   \n",
       "\n",
       "        ...        Sin_auto_non_resp Ass_CP Statut_commune Anc_Permis   \\\n",
       "0       ...                      NaN  81200   Ville-centre           1   \n",
       "1       ...                      NaN  13003            NaN         112   \n",
       "2       ...                      0.0  78810          Rural          31   \n",
       "3       ...                      0.0  73800       Banlieue           2   \n",
       "4       ...                      0.0   6400       Banlieue          51   \n",
       "\n",
       "  Anc_MEC Depart  Age Sinistralite  Sinistre_freq   Sinistre_Freq  \n",
       "0       1   81.0   15            0              0  Moins frequent  \n",
       "1      11   13.0   27            0              0   Plus fr�quent  \n",
       "2       0   78.0   52            0              0   Plus fr�quent  \n",
       "3       2   73.0   27            0              0  Moins frequent  \n",
       "4       1    NaN   73            0              0  Moyen fr�quent  \n",
       "\n",
       "[5 rows x 37 columns]"
      ]
     },
     "execution_count": 3,
     "metadata": {},
     "output_type": "execute_result"
    }
   ],
   "source": [
    "df.head()"
   ]
  },
  {
   "cell_type": "code",
   "execution_count": 4,
   "metadata": {},
   "outputs": [
    {
     "data": {
      "text/plain": [
       "Index(['Numpol', 'Date_Debut', 'Date_fin', 'AFN_Date', 'AFN_Annee', 'Fract',\n",
       "       'Date_NE', 'Permis_Cat', 'Permis_Date', 'VEH', 'VEH_Cyl', 'VEH_Marque',\n",
       "       'VEH_Modele', 'VEH_cat', 'VEH_immat', 'VEH_1_MEC_Date', 'VEH_GPE',\n",
       "       'VEH_Classe', 'Bonus_Moto', 'Bonus_Auto', 'CRM', 'Garantie', 'Formule',\n",
       "       'Sin_moto_resp', 'Sin_moto_non_resp', 'Sin_moto_vol', 'Sin_auto_resp',\n",
       "       'Sin_auto_non_resp', 'Ass_CP', 'Statut_commune', 'Anc_Permis ',\n",
       "       'Anc_MEC', 'Depart', 'Age', 'Sinistralite', 'Sinistre_freq',\n",
       "       'Sinistre_Freq'],\n",
       "      dtype='object')"
      ]
     },
     "execution_count": 4,
     "metadata": {},
     "output_type": "execute_result"
    }
   ],
   "source": [
    "df.columns"
   ]
  },
  {
   "cell_type": "code",
   "execution_count": 5,
   "metadata": {},
   "outputs": [],
   "source": [
    "data=df[['Age', 'Bonus_Moto', 'VEH_Cyl', 'Anc_MEC', 'Anc_Permis ', 'VEH_cat']]"
   ]
  },
  {
   "cell_type": "code",
   "execution_count": 6,
   "metadata": {},
   "outputs": [
    {
     "name": "stdout",
     "output_type": "stream",
     "text": [
      "<class 'pandas.core.frame.DataFrame'>\n",
      "RangeIndex: 39387 entries, 0 to 39386\n",
      "Data columns (total 6 columns):\n",
      "Age            39387 non-null int64\n",
      "Bonus_Moto     39385 non-null float64\n",
      "VEH_Cyl        39387 non-null int64\n",
      "Anc_MEC        39387 non-null int64\n",
      "Anc_Permis     39387 non-null int64\n",
      "VEH_cat        39387 non-null object\n",
      "dtypes: float64(1), int64(4), object(1)\n",
      "memory usage: 1.8+ MB\n"
     ]
    }
   ],
   "source": [
    "data.info()"
   ]
  },
  {
   "cell_type": "code",
   "execution_count": 7,
   "metadata": {},
   "outputs": [],
   "source": [
    "def age_cat(age):\n",
    "    if age>=14 and age<=29:\n",
    "        return 1\n",
    "    if age>=30 and age<=39:\n",
    "        return 2\n",
    "    if age>=40 and age<=49:\n",
    "        return 3\n",
    "    if age >=50 and age<=59:\n",
    "        return 4\n",
    "    if age>=60 and age<=80:\n",
    "        return 5\n",
    "    if age>80:\n",
    "        return 6\n",
    "\n",
    "def bonus_cat(x):\n",
    "    if x==50:\n",
    "        return 1\n",
    "    if x>=51 and x<=86:\n",
    "        return 2\n",
    "    if x>=87 and x<=100:\n",
    "        return 3\n",
    "    if x>100:\n",
    "        return 4\n",
    "    \n",
    "def veh_cat(x):\n",
    "    if x in range(70,662):\n",
    "        return 1\n",
    "    if x in range(662,1201):\n",
    "        return 2\n",
    "    if x in range(1201,2301):\n",
    "        return 3\n",
    "    if x>2300:\n",
    "        return 4\n",
    "    \n",
    "def mec_cat(mec):\n",
    "    if mec in range(0,1):\n",
    "        return 1\n",
    "    if mec in range(1,6):\n",
    "        return 2\n",
    "    if mec in range(6,11):\n",
    "        return 3\n",
    "    if mec in range(11,16):\n",
    "        return 4\n",
    "    if mec in range(16,21):\n",
    "        return 4\n",
    "    if mec >= 21:\n",
    "        return 5\n",
    "\n",
    "def permis_cat(per):\n",
    "    if per in range(0,7):\n",
    "        return 1\n",
    "    if per in range(7,26):\n",
    "        return 2\n",
    "    if per in range(26,36):\n",
    "        return 3\n",
    "    if per in range(36,61):\n",
    "        return 4\n",
    "    if per >= 61:\n",
    "        return 5"
   ]
  },
  {
   "cell_type": "code",
   "execution_count": 8,
   "metadata": {},
   "outputs": [],
   "source": [
    "#data['Age_cat'] = pd.cut(data.Age, [14,29,39,49,80,120], right=True, labels=['a1','a2','a3','a4','a5,a6'])"
   ]
  },
  {
   "cell_type": "code",
   "execution_count": 9,
   "metadata": {},
   "outputs": [
    {
     "name": "stderr",
     "output_type": "stream",
     "text": [
      "/home/ibtissem/.local/lib/python3.6/site-packages/ipykernel_launcher.py:1: SettingWithCopyWarning: \n",
      "A value is trying to be set on a copy of a slice from a DataFrame.\n",
      "Try using .loc[row_indexer,col_indexer] = value instead\n",
      "\n",
      "See the caveats in the documentation: http://pandas.pydata.org/pandas-docs/stable/indexing.html#indexing-view-versus-copy\n",
      "  \"\"\"Entry point for launching an IPython kernel.\n",
      "/home/ibtissem/.local/lib/python3.6/site-packages/ipykernel_launcher.py:2: SettingWithCopyWarning: \n",
      "A value is trying to be set on a copy of a slice from a DataFrame.\n",
      "Try using .loc[row_indexer,col_indexer] = value instead\n",
      "\n",
      "See the caveats in the documentation: http://pandas.pydata.org/pandas-docs/stable/indexing.html#indexing-view-versus-copy\n",
      "  \n",
      "/home/ibtissem/.local/lib/python3.6/site-packages/ipykernel_launcher.py:3: SettingWithCopyWarning: \n",
      "A value is trying to be set on a copy of a slice from a DataFrame.\n",
      "Try using .loc[row_indexer,col_indexer] = value instead\n",
      "\n",
      "See the caveats in the documentation: http://pandas.pydata.org/pandas-docs/stable/indexing.html#indexing-view-versus-copy\n",
      "  This is separate from the ipykernel package so we can avoid doing imports until\n",
      "/home/ibtissem/.local/lib/python3.6/site-packages/ipykernel_launcher.py:4: SettingWithCopyWarning: \n",
      "A value is trying to be set on a copy of a slice from a DataFrame.\n",
      "Try using .loc[row_indexer,col_indexer] = value instead\n",
      "\n",
      "See the caveats in the documentation: http://pandas.pydata.org/pandas-docs/stable/indexing.html#indexing-view-versus-copy\n",
      "  after removing the cwd from sys.path.\n",
      "/home/ibtissem/.local/lib/python3.6/site-packages/ipykernel_launcher.py:5: SettingWithCopyWarning: \n",
      "A value is trying to be set on a copy of a slice from a DataFrame.\n",
      "Try using .loc[row_indexer,col_indexer] = value instead\n",
      "\n",
      "See the caveats in the documentation: http://pandas.pydata.org/pandas-docs/stable/indexing.html#indexing-view-versus-copy\n",
      "  \"\"\"\n"
     ]
    }
   ],
   "source": [
    "data['Age']=data['Age'].map(age_cat)\n",
    "data['Bonus_Moto']=data['Bonus_Moto'].map(bonus_cat)\n",
    "data['VEH_Cyl']=data['VEH_Cyl'].map(bonus_cat)\n",
    "data['Anc_MEC']=data['Anc_MEC'].map(mec_cat)\n",
    "data['Anc_Permis ']=data['Anc_Permis '].map(permis_cat)"
   ]
  },
  {
   "cell_type": "code",
   "execution_count": 10,
   "metadata": {},
   "outputs": [
    {
     "data": {
      "text/html": [
       "<div>\n",
       "<style scoped>\n",
       "    .dataframe tbody tr th:only-of-type {\n",
       "        vertical-align: middle;\n",
       "    }\n",
       "\n",
       "    .dataframe tbody tr th {\n",
       "        vertical-align: top;\n",
       "    }\n",
       "\n",
       "    .dataframe thead th {\n",
       "        text-align: right;\n",
       "    }\n",
       "</style>\n",
       "<table border=\"1\" class=\"dataframe\">\n",
       "  <thead>\n",
       "    <tr style=\"text-align: right;\">\n",
       "      <th></th>\n",
       "      <th>Age</th>\n",
       "      <th>Bonus_Moto</th>\n",
       "      <th>VEH_Cyl</th>\n",
       "      <th>Anc_MEC</th>\n",
       "      <th>Anc_Permis</th>\n",
       "      <th>VEH_cat</th>\n",
       "    </tr>\n",
       "  </thead>\n",
       "  <tbody>\n",
       "    <tr>\n",
       "      <th>0</th>\n",
       "      <td>1</td>\n",
       "      <td>NaN</td>\n",
       "      <td>1</td>\n",
       "      <td>2</td>\n",
       "      <td>1</td>\n",
       "      <td>SCOOTER</td>\n",
       "    </tr>\n",
       "    <tr>\n",
       "      <th>1</th>\n",
       "      <td>1</td>\n",
       "      <td>NaN</td>\n",
       "      <td>1</td>\n",
       "      <td>4</td>\n",
       "      <td>5</td>\n",
       "      <td>SCOOTER</td>\n",
       "    </tr>\n",
       "    <tr>\n",
       "      <th>2</th>\n",
       "      <td>4</td>\n",
       "      <td>1.0</td>\n",
       "      <td>4</td>\n",
       "      <td>1</td>\n",
       "      <td>3</td>\n",
       "      <td>GRAND TOURISME</td>\n",
       "    </tr>\n",
       "    <tr>\n",
       "      <th>3</th>\n",
       "      <td>1</td>\n",
       "      <td>2.0</td>\n",
       "      <td>4</td>\n",
       "      <td>2</td>\n",
       "      <td>1</td>\n",
       "      <td>ROADSTER</td>\n",
       "    </tr>\n",
       "    <tr>\n",
       "      <th>4</th>\n",
       "      <td>5</td>\n",
       "      <td>1.0</td>\n",
       "      <td>4</td>\n",
       "      <td>2</td>\n",
       "      <td>4</td>\n",
       "      <td>SCOOTER</td>\n",
       "    </tr>\n",
       "  </tbody>\n",
       "</table>\n",
       "</div>"
      ],
      "text/plain": [
       "   Age  Bonus_Moto  VEH_Cyl  Anc_MEC  Anc_Permis          VEH_cat\n",
       "0    1         NaN        1        2            1         SCOOTER\n",
       "1    1         NaN        1        4            5         SCOOTER\n",
       "2    4         1.0        4        1            3  GRAND TOURISME\n",
       "3    1         2.0        4        2            1        ROADSTER\n",
       "4    5         1.0        4        2            4         SCOOTER"
      ]
     },
     "execution_count": 10,
     "metadata": {},
     "output_type": "execute_result"
    }
   ],
   "source": [
    "data.head()"
   ]
  },
  {
   "cell_type": "code",
   "execution_count": 11,
   "metadata": {},
   "outputs": [],
   "source": [
    "data=data[data.columns].astype('category')"
   ]
  },
  {
   "cell_type": "code",
   "execution_count": null,
   "metadata": {},
   "outputs": [],
   "source": []
  },
  {
   "cell_type": "code",
   "execution_count": 13,
   "metadata": {},
   "outputs": [
    {
     "data": {
      "text/plain": [
       "Age            category\n",
       "Bonus_Moto     category\n",
       "VEH_Cyl        category\n",
       "Anc_MEC        category\n",
       "Anc_Permis     category\n",
       "VEH_cat        category\n",
       "dtype: object"
      ]
     },
     "execution_count": 13,
     "metadata": {},
     "output_type": "execute_result"
    }
   ],
   "source": [
    "data.dtypes"
   ]
  },
  {
   "cell_type": "code",
   "execution_count": 14,
   "metadata": {},
   "outputs": [],
   "source": [
    "data1=data.loc[:5000,['Age', 'Anc_Permis ', 'VEH_cat']]"
   ]
  },
  {
   "cell_type": "code",
   "execution_count": 15,
   "metadata": {},
   "outputs": [
    {
     "data": {
      "text/html": [
       "<div>\n",
       "<style scoped>\n",
       "    .dataframe tbody tr th:only-of-type {\n",
       "        vertical-align: middle;\n",
       "    }\n",
       "\n",
       "    .dataframe tbody tr th {\n",
       "        vertical-align: top;\n",
       "    }\n",
       "\n",
       "    .dataframe thead th {\n",
       "        text-align: right;\n",
       "    }\n",
       "</style>\n",
       "<table border=\"1\" class=\"dataframe\">\n",
       "  <thead>\n",
       "    <tr style=\"text-align: right;\">\n",
       "      <th></th>\n",
       "      <th>Age_1</th>\n",
       "      <th>Age_2</th>\n",
       "      <th>Age_3</th>\n",
       "      <th>Age_4</th>\n",
       "      <th>Age_5</th>\n",
       "      <th>Age_6</th>\n",
       "      <th>Anc_Permis _1</th>\n",
       "      <th>Anc_Permis _2</th>\n",
       "      <th>Anc_Permis _3</th>\n",
       "      <th>Anc_Permis _4</th>\n",
       "      <th>...</th>\n",
       "      <th>VEH_cat_ENDURO</th>\n",
       "      <th>VEH_cat_GRAND TOURISME</th>\n",
       "      <th>VEH_cat_QUAD</th>\n",
       "      <th>VEH_cat_ROADSTER</th>\n",
       "      <th>VEH_cat_ROUTIERE BASIQUE</th>\n",
       "      <th>VEH_cat_ROUTIERE SPORTIVE</th>\n",
       "      <th>VEH_cat_SCOOTER</th>\n",
       "      <th>VEH_cat_SPORTIVE</th>\n",
       "      <th>VEH_cat_TRAIL</th>\n",
       "      <th>VEH_cat_TRIAL</th>\n",
       "    </tr>\n",
       "  </thead>\n",
       "  <tbody>\n",
       "    <tr>\n",
       "      <th>0</th>\n",
       "      <td>1</td>\n",
       "      <td>0</td>\n",
       "      <td>0</td>\n",
       "      <td>0</td>\n",
       "      <td>0</td>\n",
       "      <td>0</td>\n",
       "      <td>1</td>\n",
       "      <td>0</td>\n",
       "      <td>0</td>\n",
       "      <td>0</td>\n",
       "      <td>...</td>\n",
       "      <td>0</td>\n",
       "      <td>0</td>\n",
       "      <td>0</td>\n",
       "      <td>0</td>\n",
       "      <td>0</td>\n",
       "      <td>0</td>\n",
       "      <td>1</td>\n",
       "      <td>0</td>\n",
       "      <td>0</td>\n",
       "      <td>0</td>\n",
       "    </tr>\n",
       "    <tr>\n",
       "      <th>1</th>\n",
       "      <td>1</td>\n",
       "      <td>0</td>\n",
       "      <td>0</td>\n",
       "      <td>0</td>\n",
       "      <td>0</td>\n",
       "      <td>0</td>\n",
       "      <td>0</td>\n",
       "      <td>0</td>\n",
       "      <td>0</td>\n",
       "      <td>0</td>\n",
       "      <td>...</td>\n",
       "      <td>0</td>\n",
       "      <td>0</td>\n",
       "      <td>0</td>\n",
       "      <td>0</td>\n",
       "      <td>0</td>\n",
       "      <td>0</td>\n",
       "      <td>1</td>\n",
       "      <td>0</td>\n",
       "      <td>0</td>\n",
       "      <td>0</td>\n",
       "    </tr>\n",
       "    <tr>\n",
       "      <th>2</th>\n",
       "      <td>0</td>\n",
       "      <td>0</td>\n",
       "      <td>0</td>\n",
       "      <td>1</td>\n",
       "      <td>0</td>\n",
       "      <td>0</td>\n",
       "      <td>0</td>\n",
       "      <td>0</td>\n",
       "      <td>1</td>\n",
       "      <td>0</td>\n",
       "      <td>...</td>\n",
       "      <td>0</td>\n",
       "      <td>1</td>\n",
       "      <td>0</td>\n",
       "      <td>0</td>\n",
       "      <td>0</td>\n",
       "      <td>0</td>\n",
       "      <td>0</td>\n",
       "      <td>0</td>\n",
       "      <td>0</td>\n",
       "      <td>0</td>\n",
       "    </tr>\n",
       "    <tr>\n",
       "      <th>3</th>\n",
       "      <td>1</td>\n",
       "      <td>0</td>\n",
       "      <td>0</td>\n",
       "      <td>0</td>\n",
       "      <td>0</td>\n",
       "      <td>0</td>\n",
       "      <td>1</td>\n",
       "      <td>0</td>\n",
       "      <td>0</td>\n",
       "      <td>0</td>\n",
       "      <td>...</td>\n",
       "      <td>0</td>\n",
       "      <td>0</td>\n",
       "      <td>0</td>\n",
       "      <td>1</td>\n",
       "      <td>0</td>\n",
       "      <td>0</td>\n",
       "      <td>0</td>\n",
       "      <td>0</td>\n",
       "      <td>0</td>\n",
       "      <td>0</td>\n",
       "    </tr>\n",
       "    <tr>\n",
       "      <th>4</th>\n",
       "      <td>0</td>\n",
       "      <td>0</td>\n",
       "      <td>0</td>\n",
       "      <td>0</td>\n",
       "      <td>1</td>\n",
       "      <td>0</td>\n",
       "      <td>0</td>\n",
       "      <td>0</td>\n",
       "      <td>0</td>\n",
       "      <td>1</td>\n",
       "      <td>...</td>\n",
       "      <td>0</td>\n",
       "      <td>0</td>\n",
       "      <td>0</td>\n",
       "      <td>0</td>\n",
       "      <td>0</td>\n",
       "      <td>0</td>\n",
       "      <td>1</td>\n",
       "      <td>0</td>\n",
       "      <td>0</td>\n",
       "      <td>0</td>\n",
       "    </tr>\n",
       "  </tbody>\n",
       "</table>\n",
       "<p>5 rows × 25 columns</p>\n",
       "</div>"
      ],
      "text/plain": [
       "   Age_1  Age_2  Age_3  Age_4  Age_5  Age_6  Anc_Permis _1  Anc_Permis _2  \\\n",
       "0      1      0      0      0      0      0              1              0   \n",
       "1      1      0      0      0      0      0              0              0   \n",
       "2      0      0      0      1      0      0              0              0   \n",
       "3      1      0      0      0      0      0              1              0   \n",
       "4      0      0      0      0      1      0              0              0   \n",
       "\n",
       "   Anc_Permis _3  Anc_Permis _4      ...        VEH_cat_ENDURO  \\\n",
       "0              0              0      ...                     0   \n",
       "1              0              0      ...                     0   \n",
       "2              1              0      ...                     0   \n",
       "3              0              0      ...                     0   \n",
       "4              0              1      ...                     0   \n",
       "\n",
       "   VEH_cat_GRAND TOURISME  VEH_cat_QUAD  VEH_cat_ROADSTER  \\\n",
       "0                       0             0                 0   \n",
       "1                       0             0                 0   \n",
       "2                       1             0                 0   \n",
       "3                       0             0                 1   \n",
       "4                       0             0                 0   \n",
       "\n",
       "   VEH_cat_ROUTIERE BASIQUE  VEH_cat_ROUTIERE SPORTIVE  VEH_cat_SCOOTER  \\\n",
       "0                         0                          0                1   \n",
       "1                         0                          0                1   \n",
       "2                         0                          0                0   \n",
       "3                         0                          0                0   \n",
       "4                         0                          0                1   \n",
       "\n",
       "   VEH_cat_SPORTIVE  VEH_cat_TRAIL  VEH_cat_TRIAL  \n",
       "0                 0              0              0  \n",
       "1                 0              0              0  \n",
       "2                 0              0              0  \n",
       "3                 0              0              0  \n",
       "4                 0              0              0  \n",
       "\n",
       "[5 rows x 25 columns]"
      ]
     },
     "execution_count": 15,
     "metadata": {},
     "output_type": "execute_result"
    }
   ],
   "source": [
    "# Indicatrices# Indic \n",
    "dc=pd.DataFrame(pd.get_dummies(data1))\n",
    "dc.head()"
   ]
  },
  {
   "cell_type": "code",
   "execution_count": 24,
   "metadata": {},
   "outputs": [
    {
     "data": {
      "text/plain": [
       "(5001, 25)"
      ]
     },
     "execution_count": 24,
     "metadata": {},
     "output_type": "execute_result"
    }
   ],
   "source": [
    "dc.shape"
   ]
  },
  {
   "cell_type": "code",
   "execution_count": 16,
   "metadata": {
    "scrolled": true
   },
   "outputs": [
    {
     "name": "stdout",
     "output_type": "stream",
     "text": [
      "[0.62458632 0.50686628 0.44284878 0.3604382  0.33903967 0.33544818\n",
      " 0.33409162 0.33349982 0.33333333 0.33333333 0.33333333 0.33224876\n",
      " 0.33038999 0.32625962 0.29465964 0.24594451 0.23705971 0.17948504\n",
      " 0.11046717]\n"
     ]
    }
   ],
   "source": [
    "from  mca  import  MCA\n",
    "mcaFic=MCA(dc,benzecri=False)\n",
    "# Valeurs singulières\n",
    "print(mcaFic.L)"
   ]
  },
  {
   "cell_type": "code",
   "execution_count": 28,
   "metadata": {},
   "outputs": [
    {
     "data": {
      "text/plain": [
       "array([0.15274073, 0.09741876, 0.07253401, 0.04589297, 0.03996825,\n",
       "       0.03901397, 0.03865653, 0.03850111, 0.03845744, 0.03845744,\n",
       "       0.03845744, 0.03817358, 0.03768954, 0.03662501, 0.0289853 ,\n",
       "       0.01895649, 0.01735614, 0.00869587, 0.00221938, 0.        ,\n",
       "       0.        , 0.        , 0.        , 0.        , 0.        ])"
      ]
     },
     "execution_count": 28,
     "metadata": {},
     "output_type": "execute_result"
    }
   ],
   "source": [
    "mcaFic.expl_var()"
   ]
  },
  {
   "cell_type": "code",
   "execution_count": 25,
   "metadata": {},
   "outputs": [
    {
     "data": {
      "text/plain": [
       "(19,)"
      ]
     },
     "execution_count": 25,
     "metadata": {},
     "output_type": "execute_result"
    }
   ],
   "source": [
    "mcaFic.L.shape"
   ]
  },
  {
   "cell_type": "code",
   "execution_count": 23,
   "metadata": {},
   "outputs": [
    {
     "data": {
      "text/plain": [
       "(25, 16)"
      ]
     },
     "execution_count": 23,
     "metadata": {},
     "output_type": "execute_result"
    }
   ],
   "source": [
    "mcaFic.fs_c().shape"
   ]
  },
  {
   "cell_type": "code",
   "execution_count": 19,
   "metadata": {},
   "outputs": [
    {
     "name": "stdout",
     "output_type": "stream",
     "text": [
      "[[-1.38694726e+00  1.07758252e+00 -6.79818093e-02 -9.53116469e-02\n",
      "  -2.90098978e-01  8.43987948e-02  9.81156383e-02 -9.16768542e-03\n",
      "   2.01208970e-21  3.52219880e-13  1.47740282e-21  6.83971127e-02\n",
      "  -6.47812058e-02 -7.26946885e-02  6.03192698e-01 -8.78969291e-01]\n",
      " [-4.39869802e-01 -7.58299907e-01  6.11275402e-01 -6.11673509e-01\n",
      "   2.71562093e-01  7.44868644e-03 -8.58586570e-02  8.50095591e-03\n",
      "   5.40167179e-14 -4.02962281e-13  5.04753661e-14 -5.11569560e-02\n",
      "   9.87279271e-02  2.93750876e-01 -7.48859194e-01  2.51239336e-01]\n",
      " [ 1.65476220e-01 -5.60978611e-01 -5.05277585e-01  8.42295082e-01\n",
      "  -1.85064807e-01  2.09104228e-03  3.76565808e-02  1.54357434e-02\n",
      "  -1.30129248e-13  1.03814671e-13 -6.60118413e-13  1.64801824e-02\n",
      "  -4.03432784e-02 -4.14901092e-01  4.80847844e-01  1.79978740e-01]\n",
      " [ 1.13897487e+00  7.65744496e-01 -5.69511080e-01 -7.89475720e-01\n",
      "   2.77003043e-01 -1.46376293e-01  7.85041048e-03 -2.59167423e-02\n",
      "   2.27439070e-13  7.25864643e-14  1.05470248e-12 -6.89311664e-02\n",
      "  -8.99141423e-02  4.79966396e-01 -3.79408163e-01 -1.77004527e-01]\n",
      " [ 1.57730001e+00  1.52275591e+00  2.91102798e+00  1.42523013e+00\n",
      "  -4.79566502e-01  2.92322132e-01 -1.55030593e-01 -1.87085967e-02\n",
      "  -3.93220339e-13  8.83302157e-14 -1.00390359e-13  2.58262005e-01\n",
      "   3.46852769e-01 -6.17001479e-01  5.19663258e-01  1.19287126e+00]\n",
      " [-2.46971168e-02  0.00000000e+00  2.49550817e-01 -1.50091263e-01\n",
      "  -1.45567784e-01  0.00000000e+00  2.16752473e-01  8.79776681e-01\n",
      "   2.66122773e-01 -3.62976850e-02  1.35319249e-02  3.24230757e-01\n",
      "   6.10720337e-01  4.28393554e-01 -2.71412806e-01  0.00000000e+00]\n",
      " [-1.01156303e+00  7.36965109e-01 -8.67924858e-02  7.13539969e-02\n",
      "   5.66504791e-02 -5.23348976e-02 -4.77367383e-02  9.12182000e-03\n",
      "   4.07944824e-14 -2.43905265e-13 -6.09220441e-14  1.80630570e-02\n",
      "   3.38029721e-03  6.46368921e-02 -5.20467365e-02 -1.63295189e-01]\n",
      " [ 6.64328135e-02 -8.02807333e-01  1.73965297e-01  1.19719666e-01\n",
      "   2.64134904e-02 -1.96216519e-03  4.45035834e-02 -2.34782203e-02\n",
      "  -2.06252644e-14  4.33729415e-13  4.24969322e-13 -4.81734154e-02\n",
      "  -3.67997180e-03 -1.35159257e-01 -1.32434269e-01 -1.38104205e-01]\n",
      " [ 1.20474044e+00  4.63170125e-01 -1.27698897e+00 -5.84187054e-01\n",
      "  -1.34825412e-01  1.48977477e-01 -9.12455664e-02  1.11184543e-02\n",
      "   2.89837902e-14 -5.52969207e-13 -3.64452745e-13 -6.46875069e-03\n",
      "  -4.78938523e-02  3.33019800e-01  6.16667955e-01  8.55271757e-01]\n",
      " [ 1.85248544e+00  1.81661443e+00  2.38046759e+00  1.45129976e-01\n",
      "  -1.32055775e-02 -3.84383228e-03  1.15460321e-01  1.27476833e-01\n",
      "  -1.69008608e-13 -9.54213961e-13 -2.52359587e-12  2.95543923e-01\n",
      "   2.77294905e-01 -5.93933574e-03 -1.30748490e-01 -1.71767309e-01]\n",
      " [-1.16179990e+00  6.32337913e-01  1.59384961e+00 -1.16887411e+01\n",
      "  -4.87710070e+01 -2.36479269e+01  1.38097284e-01  6.92719141e-01\n",
      "   1.18676729e-11 -2.15141256e-11  7.44071608e-12  1.47924604e+01\n",
      "  -3.62470971e+01 -1.19543590e+01 -1.46802649e+01  5.28447159e+00]\n",
      " [ 4.56509585e-01 -3.59051825e-01  2.69476523e+00  2.05855249e+00\n",
      "  -9.49798607e-01  1.00197576e+01 -8.09775164e+00 -4.85645437e+00\n",
      "  -3.31789606e+00  4.26075467e+00 -1.88639509e+00 -9.65806852e+00\n",
      "  -1.20074176e+01  4.88158344e+00  1.08928250e+00 -8.57532751e-01]\n",
      " [ 3.79971129e-01 -4.63671606e-02 -1.38085323e-01  1.07717522e+00\n",
      "   4.69785025e-01 -4.84325671e-01 -3.95120817e-01  4.10755116e-01\n",
      "   1.00526004e+00 -3.72289956e-01  5.05387140e-01  6.98440878e-01\n",
      "  -6.97144083e-01  1.12565941e+00 -2.53952880e-01 -3.84533832e-01]\n",
      " [ 9.16800724e-01 -1.40376263e+00 -3.21656116e+00  7.50248337e+00\n",
      "  -1.39768924e+01  1.19155587e+01  6.27973263e+00  1.85312017e+01\n",
      "  -2.48151957e+00 -5.42337953e+00 -3.66349161e+01  3.33184474e+00\n",
      "   7.48924926e+00  1.48894408e+01 -6.23132247e+00 -2.05427686e+00]\n",
      " [ 2.65415342e-01 -2.61964839e+00 -1.00841872e+00  1.18307760e+01\n",
      "  -9.26754405e+00  2.03130816e-02  3.61163864e+01 -1.61018809e+01\n",
      "  -1.09503912e+01  4.64335771e+01  1.10674303e+01  9.74060508e+00\n",
      "   4.98563654e+00  2.59204030e+01 -3.00301990e+00 -1.59724984e-01]\n",
      " [-6.71093816e-01  3.91411657e-01 -2.02960102e-01 -8.40134405e-01\n",
      "  -1.73364811e-01  1.38350536e+00 -1.98431114e+00  1.26785101e+01\n",
      "  -1.76230429e+00  5.96829255e+00  4.77606539e+00 -1.94439635e+00\n",
      "  -1.19596490e-01 -1.75922655e+00 -3.18152683e-01  5.43985577e-01]\n",
      " [ 9.77365227e-01  2.57207337e-01 -2.96263637e-01  3.32368812e-01\n",
      "   4.70576923e-01 -5.66767745e-01  7.94355325e-01  5.57179012e-03\n",
      "  -9.57092782e-01 -8.61030239e-02 -3.92451115e-01 -9.09067962e-01\n",
      "  -3.25813193e-01 -9.19817524e-01 -5.92801097e-01 -7.31132613e-01]\n",
      " [ 0.00000000e+00  0.00000000e+00  0.00000000e+00  0.00000000e+00\n",
      "   0.00000000e+00 -1.68563240e-11  6.72888238e-11 -1.07566721e-09\n",
      "   4.33115032e-01 -2.79464629e-01 -1.44483854e-01 -3.35514915e-11\n",
      "  -8.36437701e-12  0.00000000e+00  0.00000000e+00  0.00000000e+00]\n",
      " [-9.06292678e-01  2.64884200e-01  3.60614994e-02  7.67767571e-02\n",
      "   9.92048692e-02 -2.42807996e-01  9.82695913e-02 -5.93055954e-02\n",
      "  -7.13368970e-01 -3.82124049e-01  3.65256108e-02 -1.25266059e-01\n",
      "   3.69086397e-02  2.78378460e-01  3.28810097e-02  8.71717495e-01]\n",
      " [-2.83752990e-01  1.41380884e-01  1.63080108e-01 -7.23398189e-01\n",
      "  -6.19311058e-01  2.96813965e+00  3.49209820e+00  3.74967312e-01\n",
      "   2.51083062e+00 -1.63561133e+00  1.41015850e+00 -1.08781056e+00\n",
      "  -8.91414928e-01 -5.85994467e-01 -2.27825908e-01  4.13135115e-01]\n",
      " [-2.63333564e-01  4.76001158e-01 -3.78667308e-01  1.23337277e-01\n",
      "  -5.19678360e-01 -3.27097396e-01 -7.25417464e-01 -5.52168231e-01\n",
      "   1.73646952e+00  1.19038573e+00 -5.87183257e-01 -9.87800602e-01\n",
      "   9.84718871e-01 -6.00987294e-01 -6.36930824e-01  3.12077804e-01]\n",
      " [ 3.71814182e-01 -7.48388124e-01  5.91635275e-01 -8.55153589e-01\n",
      "  -5.44813104e-01 -2.34433933e-01 -9.78014846e-02  9.51368088e-03\n",
      "   1.30539656e-14 -3.35510133e-13  1.16393357e-14 -1.16527685e-01\n",
      "   3.84843652e-01  3.26379745e-01  1.10002731e+00 -5.06441979e-01]\n",
      " [-3.01114048e-01 -7.39773201e-02  2.17777618e-01 -9.20093487e-01\n",
      "   1.72899041e+00  7.19332900e-01  2.12840380e-01 -3.12514874e-02\n",
      "   4.46722193e-01  1.33886919e+00 -1.55017336e+00  2.13082606e+00\n",
      "  -1.32473000e+00 -1.32923410e+00  5.68806066e-01  3.22066437e-01]\n",
      " [ 4.42529806e-01  7.98195873e-02 -6.64623866e-01  7.45288747e-02\n",
      "  -8.00070738e-01  1.74139444e+00 -9.80349942e-01 -6.14082619e-01\n",
      "  -9.19662252e-01 -2.45642427e-01  8.88357811e-01  1.42766971e+00\n",
      "   9.76864677e-01 -5.72861888e-01 -9.64155508e-01 -4.84969863e-01]\n",
      " [ 0.00000000e+00  0.00000000e+00  0.00000000e+00  0.00000000e+00\n",
      "   0.00000000e+00  0.00000000e+00  0.00000000e+00  0.00000000e+00\n",
      "   0.00000000e+00  0.00000000e+00  0.00000000e+00  0.00000000e+00\n",
      "   0.00000000e+00  0.00000000e+00  0.00000000e+00  0.00000000e+00]]\n"
     ]
    }
   ],
   "source": [
    "print(mcaFic.fs_c())"
   ]
  },
  {
   "cell_type": "code",
   "execution_count": 20,
   "metadata": {
    "scrolled": true
   },
   "outputs": [
    {
     "name": "stdout",
     "output_type": "stream",
     "text": [
      "[[-0.85481305  0.49917661  0.21882366 ...  0.1857649   1.01393722\n",
      "  -1.04094861]\n",
      " [-0.91817945  0.45019008  1.06065726 ... -6.82822713 -7.96882374\n",
      "   2.62071704]\n",
      " [ 1.40075415  0.69580332 -1.07331029 ... -0.06234415 -0.21832752\n",
      "  -0.03553298]\n",
      " ...\n",
      " [ 0.8774564   0.79824273 -1.11458629 ...  0.12371737 -0.24542629\n",
      "   0.66565118]\n",
      " [-0.42553172  0.02738262 -0.0701966  ... -0.12516185 -1.08387261\n",
      "  -0.26685713]\n",
      " [-0.28443926 -0.51450655 -0.14789112 ... -0.15854691  0.23414185\n",
      "   0.61406237]]\n"
     ]
    }
   ],
   "source": [
    "print(mcaFic.fs_r())"
   ]
  },
  {
   "cell_type": "code",
   "execution_count": 22,
   "metadata": {},
   "outputs": [
    {
     "data": {
      "text/plain": [
       "(5001, 16)"
      ]
     },
     "execution_count": 22,
     "metadata": {},
     "output_type": "execute_result"
    }
   ],
   "source": [
    "mcaFic.fs_r().shape"
   ]
  },
  {
   "cell_type": "code",
   "execution_count": 18,
   "metadata": {},
   "outputs": [
    {
     "data": {
      "image/png": "[encoded data removed]",
      "text/plain": [
       "<Figure size 720x720 with 1 Axes>"
      ]
     },
     "metadata": {},
     "output_type": "display_data"
    }
   ],
   "source": [
    "plt.figure(figsize=(10,10))\n",
    "plt.scatter(mcaFic.fs_c()[:, 0],mcaFic.fs_c()[:, 1])\n",
    "for i, j, nom in zip(mcaFic.fs_c()[:, 0],mcaFic.fs_c()[:, 1], dc.columns):\n",
    "       plt.text(i, j, nom)\n",
    "plt.show()"
   ]
  },
  {
   "cell_type": "code",
   "execution_count": 29,
   "metadata": {},
   "outputs": [
    {
     "data": {
      "image/png": "[encoded data removed]",
      "text/plain": [
       "<Figure size 720x720 with 1 Axes>"
      ]
     },
     "metadata": {},
     "output_type": "display_data"
    }
   ],
   "source": [
    "plt.figure(figsize=(10,10))\n",
    "plt.scatter(mcaFic.fs_r()[:, 0],mcaFic.fs_r()[:, 1])\n",
    "for i, j, nom in zip(mcaFic.fs_r()[:, 0],mcaFic.fs_r()[:, 1], dc.index):\n",
    "       plt.text(i, j, nom)\n",
    "plt.show()"
   ]
  },
  {
   "cell_type": "code",
   "execution_count": null,
   "metadata": {},
   "outputs": [],
   "source": []
  }
 ],
 "metadata": {
  "kernelspec": {
   "display_name": "Python 3",
   "language": "python",
   "name": "python3"
  },
  "language_info": {
   "codemirror_mode": {
    "name": "ipython",
    "version": 3
   },
   "file_extension": ".py",
   "mimetype": "text/x-python",
   "name": "python",
   "nbconvert_exporter": "python",
   "pygments_lexer": "ipython3",
   "version": "3.6.5"
  }
 },
 "nbformat": 4,
 "nbformat_minor": 2
}
