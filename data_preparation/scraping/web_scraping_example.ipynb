{
 "cells": [
  {
   "cell_type": "code",
   "execution_count": 31,
   "metadata": {},
   "outputs": [],
   "source": [
    "import requests\n",
    "from urllib.request import urlopen\n",
    "from bs4 import BeautifulSoup\n",
    "import time\n",
    "import pandas as pd\n",
    "import numpy as np\n",
    "import re"
   ]
  },
  {
   "cell_type": "code",
   "execution_count": 2,
   "metadata": {},
   "outputs": [],
   "source": [
    "BASE_URL = \"http://www.chicagoreader.com\""
   ]
  },
  {
   "cell_type": "code",
   "execution_count": 7,
   "metadata": {},
   "outputs": [],
   "source": [
    "def make_soup(url):\n",
    "    html = urlopen(url).read()\n",
    "    return BeautifulSoup(html, \"lxml\")"
   ]
  },
  {
   "cell_type": "code",
   "execution_count": 8,
   "metadata": {},
   "outputs": [],
   "source": [
    "def get_category_links(section_url):\n",
    "    #html = requests.get(section_url).content\n",
    "    soup = make_soup(section_url)\n",
    "    boccat = soup.find(\"dl\", \"boccat\")\n",
    "    category_links = [BASE_URL + dd.a[\"href\"] for dd in boccat.findAll(\"dd\")]\n",
    "    return category_links"
   ]
  },
  {
   "cell_type": "code",
   "execution_count": 9,
   "metadata": {},
   "outputs": [],
   "source": [
    "def get_category_winner(category_url):\n",
    "    soup = make_soup(category_url)\n",
    "    category = soup.find(\"h1\", \"headline\").string\n",
    "    winner = [h2.string for h2 in soup.findAll(\"h2\", \"boc1\")]\n",
    "    runners_up = [h2.string for h2 in soup.findAll(\"h2\", \"boc2\")]\n",
    "    return {\"category\": category,\n",
    "            \"category_url\": category_url,\n",
    "            \"winner\": winner,\n",
    "            \"runners_up\": runners_up}"
   ]
  },
  {
   "cell_type": "code",
   "execution_count": 13,
   "metadata": {},
   "outputs": [
    {
     "name": "stdout",
     "output_type": "stream",
     "text": [
      "[{'category': \"Best restaurant that's been around forever and is still worth the trip\\xa0\", 'category_url': 'http://www.chicagoreader.com/chicago/BestOf?category=1979894&year=2011', 'winner': ['Lula Cafe'], 'runners_up': ['Frontera Grill', 'Chicago Diner  ', 'Sabatino’s', 'Twin Anchors']}, {'category': 'Best fancy restaurant in Chicago\\xa0', 'category_url': 'http://www.chicagoreader.com/chicago/best-fancy-restaurant-in-chicago/BestOf?oid=4088017', 'winner': ['Alinea '], 'runners_up': ['Blackbird', 'Girl & the Goat', 'Green Zebra', 'The Publican']}, {'category': 'Best bang for your buck\\xa0', 'category_url': 'http://www.chicagoreader.com/chicago/best-bang-for-your-buck/BestOf?oid=4088018', 'winner': ['Big Star', 'Sultan’s Market'], 'runners_up': ['Frasca Pizzeria & Wine Bar', 'Chutney Joe’s', '\"My boyfriend!\"']}, {'category': 'Best chef\\xa0', 'category_url': 'http://www.chicagoreader.com/chicago/best-chef/BestOf?oid=4088191', 'winner': ['Rick Bayless (Frontera Grill, Topolobampo, Xoco)'], 'runners_up': ['Grant Achatz (Alinea, Next, The Aviary)', 'Stephanie Izard (Girl & the Goat)']}, {'category': 'Best up-and-coming chef\\xa0', 'category_url': 'http://www.chicagoreader.com/chicago/best-up-and-coming-chef/BestOf?oid=4088225', 'winner': ['Jeremy Kiens, \\nDunlays on Clark'], 'runners_up': ['Jimmy Bannos Jr., The Purple Pig', 'Cesar Pineda, Ciao Amore Ristorante', 'Rodney Staton, Bite Cafe']}, {'category': 'Best food blog\\xa0', 'category_url': 'http://www.chicagoreader.com/chicago/best-food-blog/BestOf?oid=4088227', 'winner': ['Eater Chicago'], 'runners_up': ['LTHForum', 'Sky Full of Bacon', '312 Dining Diva']}, {'category': 'Best ampersand restaurant\\xa0', 'category_url': 'http://www.chicagoreader.com/chicago/best-ampersand-restaurant/BestOf?oid=4088228', 'winner': ['Longman & Eagle '], 'runners_up': ['Owen & Engine']}, {'category': 'Best restaurant name\\xa0', 'category_url': 'http://www.chicagoreader.com/chicago/best-restaurant-name/BestOf?oid=4088229', 'winner': ['Girl & the Goat'], 'runners_up': ['Cibo Matto', 'The Smoke Daddy']}, {'category': 'Best new food trend\\xa0', 'category_url': 'http://www.chicagoreader.com/chicago/best-new-food-trend/BestOf?oid=4088231', 'winner': ['Food trucks'], 'runners_up': ['Doughnuts', 'Cupcakes', 'Pork', 'Gastropubs', 'Small Plates', '“Eating at home”']}, {'category': 'Best cocktail list\\xa0', 'category_url': 'http://www.chicagoreader.com/chicago/best-cocktail-list/BestOf?oid=4088236', 'winner': ['The Whistler'], 'runners_up': ['The Violet Hour', 'Sable Kitchen & Bar  ']}, {'category': 'Best mixologist\\xa0', 'category_url': 'http://www.chicagoreader.com/chicago/best-mixologist/BestOf?oid=4088461', 'winner': ['Paul McGee, the Whistler'], 'runners_up': ['Jonny Abens, Roof on the Wit']}, {'category': 'Best wine list\\xa0', 'category_url': 'http://www.chicagoreader.com/chicago/best-wine-list/BestOf?oid=4088462', 'winner': ['DOC Winebar'], 'runners_up': ['Webster’s Wine Bar', 'Rootstock Wine & Beer Bar']}, {'category': 'Best sommelier\\xa0', 'category_url': 'http://www.chicagoreader.com/chicago/best-sommelier/BestOf?oid=4088464', 'winner': ['Alpana Singh'], 'runners_up': ['Nick Luedde, The Tasting Room', 'Jeremy Quinn, Webster’s Wine Bar', 'Daniel Pilkey, Ria and Balsan ']}, {'category': 'Best brewpub\\xa0', 'category_url': 'http://www.chicagoreader.com/chicago/best-brewpub/BestOf?oid=4088465', 'winner': ['Revolution Brewing Company'], 'runners_up': ['Goose Island Brewpub', 'Piece Brewery & Pizzeria']}, {'category': 'Best local brew\\xa0', 'category_url': 'http://www.chicagoreader.com/chicago/best-local-brew/BestOf?oid=4088468', 'winner': ['Half Acre Daisy Cutter Pale Ale'], 'runners_up': ['Goose Island 312 Urban Wheat Ale', 'Goose Island Matilda']}, {'category': 'Best wine shop\\xa0', 'category_url': 'http://www.chicagoreader.com/chicago/best-wine-shop/BestOf?oid=4088469', 'winner': ['Lush Wine & Spirits'], 'runners_up': ['In Fine Spirits', 'Life’s a Cabernet']}, {'category': 'Best liquor store\\xa0', 'category_url': 'http://www.chicagoreader.com/chicago/best-liquor-store/BestOf?oid=4088470', 'winner': ['Binny’s Beverage Depot'], 'runners_up': ['Vas Foremost Liquors', 'West Lakeview Liquors']}, {'category': 'Best BYOB\\xa0', 'category_url': 'http://www.chicagoreader.com/chicago/best-byob/BestOf?oid=4088471', 'winner': ['Tango Sur'], 'runners_up': ['Ciao Amore Ristorante', 'Coast Sushi ', '90 Miles Cuban Cafe']}, {'category': 'Best alfresco dining\\xa0', 'category_url': 'http://www.chicagoreader.com/chicago/best-alfresco-dining/BestOf?oid=4088472', 'winner': ['Piccolo Sogno'], 'runners_up': ['Roof on the Wit', 'Big Star']}, {'category': 'Best late night\\xa0', 'category_url': 'http://www.chicagoreader.com/chicago/best-late-night/BestOf?oid=4088473', 'winner': ['Lockdown Bar & Grill'], 'runners_up': ['Pick Me Up Cafe', 'Big Star']}, {'category': 'Best for kids\\xa0', 'category_url': 'http://www.chicagoreader.com/chicago/best-for-kids/BestOf?oid=4088474', 'winner': ['Frasca Pizzeria & Wine Bar '], 'runners_up': ['Wishbone', 'Ed Debevic’s', 'Rainforest Cafe', '“To be locked in a cold, dark, soundproof room”']}, {'category': 'Best waitstaff\\xa0', 'category_url': 'http://www.chicagoreader.com/chicago/best-waitstaff/BestOf?oid=4088476', 'winner': ['Lockdown Bar & Grill'], 'runners_up': ['Frasca Pizzeria & Wine Bar', 'Ciao Amore Ristorante']}, {'category': 'Best-looking waitstaff\\xa0', 'category_url': 'http://www.chicagoreader.com/chicago/best-looking-waitstaff/BestOf?oid=4088477', 'winner': ['The Smoke Daddy'], 'runners_up': ['Longman & Eagle', 'Lula Cafe', 'Lockdown Bar & Grill']}, {'category': 'Best food festival\\xa0', 'category_url': 'http://www.chicagoreader.com/chicago/best-food-festival/BestOf?oid=4088478', 'winner': ['Taste of Chicago'], 'runners_up': ['Ribfest', 'Baconfest']}, {'category': 'Best food truck\\xa0', 'category_url': 'http://www.chicagoreader.com/chicago/best-food-truck/BestOf?oid=4088479', 'winner': ['Tamalli Space Charros'], 'runners_up': ['Gaztro-Wagon ', 'The Southern Mac & Cheese Truck ']}, {'category': 'Best gourmet market\\xa0', 'category_url': 'http://www.chicagoreader.com/chicago/best-gourmet-market/BestOf?oid=4088529', 'winner': ['Fox & Obel'], 'runners_up': ['Chicago French Market', 'Whole Foods Market']}, {'category': 'Best local grocer\\xa0', 'category_url': 'http://www.chicagoreader.com/chicago/best-local-grocer/BestOf?oid=4088661', 'winner': ['Green Grocer'], 'runners_up': ['Dill Pickle Food Co-Op', 'Stanley’s Fruit & Vegetables']}, {'category': 'Best local food product\\xa0', 'category_url': 'http://www.chicagoreader.com/chicago/best-local-food-product/BestOf?oid=4088662', 'winner': ['Vienna Beef Hot Dogs'], 'runners_up': ['Nice Cream', 'Co-Op Hot Sauce']}, {'category': \"Best farmers' market\\xa0\", 'category_url': 'http://www.chicagoreader.com/chicago/best-farmers-market/BestOf?oid=4088668', 'winner': ['Green City Market'], 'runners_up': ['Logan Square Farmers’ Market', 'Lincoln Square Farmers’ Market']}, {'category': 'Best butcher shop\\xa0', 'category_url': 'http://www.chicagoreader.com/chicago/best-butcher-shop/BestOf?oid=4088669', 'winner': ['Paulina Meat Market'], 'runners_up': ['The Butcher & Larder  ', 'Gene’s Sausage Shop & Delicatessen', '“Fuck you, I’m a vegetarian!”']}, {'category': 'Best cheesemonger\\xa0', 'category_url': 'http://www.chicagoreader.com/chicago/best-cheesemonger/BestOf?oid=4088670', 'winner': ['Pastoral Artisan Cheese, Bread & Wine'], 'runners_up': ['Marion Street Cheese Market', 'Whole Foods Market']}, {'category': 'Best barista\\xa0', 'category_url': 'http://www.chicagoreader.com/chicago/best-barista/BestOf?oid=4088671', 'winner': ['Kristin Marks, Wormhole Coffee'], 'runners_up': ['Tim Ashorian, Bellezza Gelato Caffe', 'Greg Wolfson, Bleeding Heart Bakery']}, {'category': 'Best restaurant with a view\\xa0', 'category_url': 'http://www.chicagoreader.com/chicago/best-restaurant-with-a-view/BestOf?oid=4088672', 'winner': ['The Signature Room at the 95th'], 'runners_up': ['Roof on the Wit', 'NoMi Kitchen']}, {'category': 'Best restaurant for romance\\xa0', 'category_url': 'http://www.chicagoreader.com/chicago/best-restaurant-for-romance/BestOf?oid=4088674', 'winner': ['Geja’s Cafe'], 'runners_up': ['Between Boutique Cafe & Lounge', 'DOC Wine Bar ', '“I wouldn’t know—apparently Chicago’s ladies don’t like me.”']}, {'category': 'Best restaurant for a cheap date\\xa0', 'category_url': 'http://www.chicagoreader.com/chicago/best-restaurant-for-a-cheap-date/BestOf?oid=4088679', 'winner': ['Big Star'], 'runners_up': ['The Smoke Daddy', 'Irazu']}, {'category': 'Best neighborhood restaurant\\xa0', 'category_url': 'http://www.chicagoreader.com/chicago/best-neighborhood-restaurant/BestOf?oid=4088680', 'winner': ['Lula Cafe'], 'runners_up': ['Dunlays on Clark', 'Ciao Amore Ristorante']}, {'category': 'Best bagels\\xa0', 'category_url': 'http://www.chicagoreader.com/chicago/best-bagels/BestOf?oid=4088681', 'winner': ['New York Bagel & Bialy'], 'runners_up': ['Bagel on Damen', 'Chicago Bagel Authority']}, {'category': 'Best bakery\\xa0', 'category_url': 'http://www.chicagoreader.com/chicago/best-bakery/BestOf?oid=4088697', 'winner': ['Bleeding Heart Bakery'], 'runners_up': ['Dinkel’s Bakery', 'Sweet Mandy B’s']}, {'category': 'Best barbecue\\xa0', 'category_url': 'http://www.chicagoreader.com/chicago/best-barbecue/BestOf?oid=4088858', 'winner': ['Smoque'], 'runners_up': ['The Smoke Daddy', 'Honky Tonk Barbeque']}, {'category': 'Best breakfast\\xa0', 'category_url': 'http://www.chicagoreader.com/chicago/best-breakfast/BestOf?oid=4088859', 'winner': ['M. Henry'], 'runners_up': ['Bongo Room', 'Over Easy Cafe']}, {'category': 'Best brunch\\xa0', 'category_url': 'http://www.chicagoreader.com/chicago/best-brunch/BestOf?oid=4088860', 'winner': ['Lula Cafe'], 'runners_up': ['M. Henry', \"Tweet Let's Eat\"]}, {'category': 'Best burger\\xa0', 'category_url': 'http://www.chicagoreader.com/chicago/best-burger/BestOf?oid=4088863', 'winner': ['Kuma’s Corner'], 'runners_up': ['Lockdown Bar & Grill', 'DMK Burger Bar']}, {'category': 'Best Chinese\\xa0', 'category_url': 'http://www.chicagoreader.com/chicago/best-chinese/BestOf?oid=4088864', 'winner': ['Lao Sze Chuan'], 'runners_up': ['Friendship Chinese Restaurant', 'Sun Wah Bar-B-Que']}, {'category': 'Best coffee shop\\xa0', 'category_url': 'http://www.chicagoreader.com/chicago/best-coffee-shop/BestOf?oid=4088867', 'winner': ['Intelligentsia Coffee and Tea'], 'runners_up': ['Bellezza Gelato Caffe', 'Wormhole Coffee']}, {'category': 'Best desserts\\xa0', 'category_url': 'http://www.chicagoreader.com/chicago/best-desserts/BestOf?oid=4088868', 'winner': ['Hot Chocolate'], 'runners_up': ['Bleeding Heart Bakery', 'Dunlays on Clark']}, {'category': 'Best Greek\\xa0', 'category_url': 'http://www.chicagoreader.com/chicago/best-greek/BestOf?oid=4088869', 'winner': ['Greek Islands'], 'runners_up': ['Athenian Room', 'Athena', 'The Parthenon']}, {'category': 'Best hot dog\\xa0', 'category_url': 'http://www.chicagoreader.com/chicago/best-hot-dog/BestOf?oid=4088870', 'winner': ['Hot Doug’s'], 'runners_up': ['Superdawg', 'Portillo’s Hot Dogs']}, {'category': 'Best ice cream\\xa0', 'category_url': 'http://www.chicagoreader.com/chicago/best-ice-cream/BestOf?oid=4088872', 'winner': ['Margie’s Candies'], 'runners_up': ['Black Dog Gelato', 'Bellezza Gelato Cafe']}, {'category': 'Best Indian restaurant\\xa0', 'category_url': 'http://www.chicagoreader.com/chicago/best-indian-restaurant/BestOf?oid=4088873', 'winner': ['Chutney Joe’s'], 'runners_up': ['Hema’s Kitchen', 'Cumin', 'Marigold']}, {'category': 'Best Italian\\xa0', 'category_url': 'http://www.chicagoreader.com/chicago/best-italian/BestOf?oid=4088875', 'winner': ['Cibo Matto'], 'runners_up': ['Ciao Amore Ristorante', 'Frasca Pizzeria & Wine Bar', 'Mia Francesca']}, {'category': 'Best Korean\\xa0', 'category_url': 'http://www.chicagoreader.com/chicago/best-korean/BestOf?oid=4088876', 'winner': ['San Soo Gab San'], 'runners_up': ['Cho Sun Ok Restaurant', 'Jin Ju']}, {'category': 'Best Mexican\\xa0', 'category_url': 'http://www.chicagoreader.com/chicago/best-mexican/BestOf?oid=4092029', 'winner': ['Frontera Grill'], 'runners_up': ['Nuevo Leon', 'El Cid']}, {'category': 'Best Middle Eastern\\xa0', 'category_url': 'http://www.chicagoreader.com/chicago/best-middle-eastern/BestOf?oid=4092030', 'winner': ['Sultan’s Market'], 'runners_up': ['Reza’s', 'Noon-O-Kabab']}, {'category': 'Best pizza\\xa0', 'category_url': 'http://www.chicagoreader.com/chicago/best-pizza/BestOf?oid=4092032', 'winner': ['Lou Malnati’s'], 'runners_up': ['Piece', 'Pequod’s', 'Art of Pizza']}, {'category': 'Best Polish\\xa0', 'category_url': 'http://www.chicagoreader.com/chicago/best-polish/BestOf?oid=4092033', 'winner': ['Podhalanka Polska Restauracja ', 'Red Apple'], 'runners_up': []}, {'category': 'Best pub grub\\xa0', 'category_url': 'http://www.chicagoreader.com/chicago/best-pub-grub/BestOf?oid=4092035', 'winner': ['Hopleaf'], 'runners_up': ['Revolution Brewing Company', 'Small Bar', 'Owen & Engine']}, {'category': 'Best sandwiches\\xa0', 'category_url': 'http://www.chicagoreader.com/chicago/best-sandwiches/BestOf?oid=4092038', 'winner': ['Jerry’s'], 'runners_up': ['Bari Foods', 'Hannah’s Bretzel']}, {'category': 'Best seafood restaurant\\xa0', 'category_url': 'http://www.chicagoreader.com/chicago/best-seafood-restaurant/BestOf?oid=4092160', 'winner': ['Shaw’s Crab House'], 'runners_up': ['Joe’s Seafood, Prime Steak and Stone Crab ', 'Glenn’s Diner', 'GT Fish & Oyster']}, {'category': 'Best steak house\\xa0', 'category_url': 'http://www.chicagoreader.com/chicago/best-steak-house/BestOf?oid=4092253', 'winner': ['Gibsons'], 'runners_up': ['David Burke’s Primehouse', 'Chicago Cut Steakhouse', 'Gene & Georgetti']}, {'category': 'Best sushi\\xa0', 'category_url': 'http://www.chicagoreader.com/chicago/best-sushi/BestOf?oid=4092254', 'winner': ['Tank Sushi'], 'runners_up': ['Coast Sushi', 'Arami']}, {'category': 'Best taqueria\\xa0', 'category_url': 'http://www.chicagoreader.com/chicago/best-taqueria/BestOf?oid=4092259', 'winner': ['Big Star'], 'runners_up': ['La Pasadita ', 'Taqueria Moran']}, {'category': 'Best Thai\\xa0', 'category_url': 'http://www.chicagoreader.com/chicago/best-thai/BestOf?oid=4092260', 'winner': ['Opart Thai House'], 'runners_up': ['Sticky Rice Thai', 'Spoon Thai']}, {'category': 'Best vegetarian\\xa0', 'category_url': 'http://www.chicagoreader.com/chicago/best-vegetarian/BestOf?oid=4092261', 'winner': ['Chicago Diner'], 'runners_up': ['The Handlebar', 'Green Zebra']}, {'category': 'Best Vietnamese\\xa0', 'category_url': 'http://www.chicagoreader.com/chicago/best-vietnamese/BestOf?oid=4092262', 'winner': ['Tank Noodle'], 'runners_up': ['Hai Yen', 'RunPho 777', 'Nhu Lan Bakery']}, {'category': 'Best Italian steak house where my dad felt at home in the 60s and I do now\\xa0', 'category_url': 'http://www.chicagoreader.com/chicago/best-italian-steak-house-where-my-dad-felt-at-home-in-the-60s-and-i-do-nowp/BestOf?oid=4101104', 'winner': ['Gene & Georgetti'], 'runners_up': []}, {'category': 'Best case of nostalgia, bordering on time travel\\xa0', 'category_url': 'http://www.chicagoreader.com/chicago/best-case-of-nostalgia-bordering-on-time-travel/BestOf?oid=4101105', 'winner': ['Wormhole Coffee'], 'runners_up': []}, {'category': None, 'category_url': 'http://www.chicagoreader.com/chicago/best-restaurant-empire-founded-the-same-year-as-the-reader/BestOf?oid=4101106', 'winner': ['Lettuce Entertain You Enterprises'], 'runners_up': []}, {'category': 'Best restaurant\\xa0', 'category_url': 'http://www.chicagoreader.com/chicago/best-restaurant/BestOf?oid=4101107', 'winner': ['Next'], 'runners_up': []}, {'category': 'Best bargain Michelin chef\\xa0', 'category_url': 'http://www.chicagoreader.com/chicago/best-bargain-michelin-chef/BestOf?oid=4101108', 'winner': ['Danny Grant, Balsan'], 'runners_up': []}, {'category': 'Best chef downshift, animal division\\xa0', 'category_url': 'http://www.chicagoreader.com/chicago/best-chef-downshift-animal-division/BestOf?oid=4101109', 'winner': ['Rob Levitt, the Butcher & Larder'], 'runners_up': []}, {'category': 'Best chef downshift, vegetable division\\xa0', 'category_url': 'http://www.chicagoreader.com/chicago/best-chef-downshift-vegetable-division/BestOf?oid=4101385', 'winner': ['Art Jackson, Pleasant House Bakery'], 'runners_up': []}, {'category': 'Best venerable restaurant alongside the el\\xa0', 'category_url': 'http://www.chicagoreader.com/chicago/best-venerable-restaurant-alongside-the-el/BestOf?oid=4101386', 'winner': [\"Daley's Restaurant\"], 'runners_up': []}, {'category': 'Best new food truck\\xa0', 'category_url': 'http://www.chicagoreader.com/chicago/best-new-food-truckfood/BestOf?oid=4101387', 'winner': ['The Southern Mac Truck'], 'runners_up': []}, {'category': 'Best buffet\\xa0', 'category_url': 'http://www.chicagoreader.com/chicago/best-buffet/BestOf?oid=4101388', 'winner': [\"Ruby's Fast Food\"], 'runners_up': []}, {'category': 'Best game day\\xa0', 'category_url': 'http://www.chicagoreader.com/chicago/best-game-day/BestOf?oid=4101389', 'winner': ['Harvard Hunting Club Game Dinner'], 'runners_up': []}, {'category': 'Best dairy product to camp out in front of the cheese shop for\\xa0', 'category_url': 'http://www.chicagoreader.com/chicago/best-dairy-product-to-camp-out-in-front-of-the-cheese-shop-for/BestOf?oid=4101390', 'winner': [\"Uplands Cheese's Rush Creek Reserve\"], 'runners_up': []}, {'category': 'Best use of alcohol at breakfast\\xa0', 'category_url': 'http://www.chicagoreader.com/chicago/best-use-of-alcohol-at-breakfast/BestOf?oid=4101391', 'winner': [\"Burton's Maplewood Farm rum-infused maple syrup\"], 'runners_up': []}, {'category': 'Best university coffeehouse\\xa0', 'category_url': 'http://www.chicagoreader.com/chicago/best-university-coffeehouse/BestOf?oid=4101393', 'winner': ['Hallowed Grounds'], 'runners_up': []}, {'category': \"Best bakery you've never heard of\\xa0\", 'category_url': 'http://www.chicagoreader.com/chicago/best-bakery-youve-never-heard-of/BestOf?oid=4101397', 'winner': ['Pastel Bakery'], 'runners_up': []}, {'category': 'Best place to see bakers at work\\xa0', 'category_url': 'http://www.chicagoreader.com/chicago/best-place-to-see-bakers-at-work/BestOf?oid=4101398', 'winner': ['Floriole Cafe and Bakery'], 'runners_up': []}, {'category': 'Best place for ambience and egg sandwiches\\xa0', 'category_url': 'http://www.chicagoreader.com/chicago/best-place-for-ambience-and-egg-sandwiches/BestOf?oid=4101399', 'winner': ['Billy Goat Tavern'], 'runners_up': []}, {'category': 'Best bagel\\xa0', 'category_url': 'http://www.chicagoreader.com/chicago/best-bagel/BestOf?oid=4101410', 'winner': ['New York Bagel & Bialy'], 'runners_up': []}, {'category': 'Best tubular collaboration\\xa0', 'category_url': 'http://www.chicagoreader.com/chicago/best-tubular-collaboration/BestOf?oid=4101411', 'winner': [\"Lil' Johnny's birria sausages\"], 'runners_up': []}, {'category': 'Best sausage\\xa0', 'category_url': 'http://www.chicagoreader.com/chicago/best-sausage/BestOf?oid=4101412', 'winner': ['Bobak Sausage Company'], 'runners_up': []}, {'category': \"Best place in Chicago to sample salumi from Mario Batali's papa\\xa0\", 'category_url': 'http://www.chicagoreader.com/chicago/best-place-in-chicago-to-sample-salumi-from-mario-batalis-papa/BestOf?oid=4101413', 'winner': ['694 Wine & Spirits'], 'runners_up': []}, {'category': 'Best broccoli and shells con patio\\xa0', 'category_url': 'http://www.chicagoreader.com/chicago/best-broccoli-and-shells-con-patio/BestOf?oid=4101414', 'winner': [\"Tufano's Vernon Park Tap\"], 'runners_up': []}, {'category': 'Best fancy-pants pizza special\\xa0', 'category_url': 'http://www.chicagoreader.com/chicago/best-fancy-pants-pizza-special/BestOf?oid=4101415', 'winner': ['Three Aces'], 'runners_up': []}, {'category': 'Best Polish-Mexican-American $1.50 taco\\xa0', 'category_url': 'http://www.chicagoreader.com/chicago/best-polish-mexican-american-150-taco/BestOf?oid=4101416', 'winner': ['Loncars Liquors'], 'runners_up': []}, {'category': 'Best tater tots\\xa0', 'category_url': 'http://www.chicagoreader.com/chicago/best-tater-tots/BestOf?oid=4101417', 'winner': ['The Rocking Horse'], 'runners_up': []}, {'category': 'Best spinach pie\\xa0', 'category_url': 'http://www.chicagoreader.com/chicago/best-spinach-pie/BestOf?oid=4101419', 'winner': ['Taza Bakery'], 'runners_up': []}, {'category': 'Best som tam\\xa0', 'category_url': 'http://www.chicagoreader.com/chicago/best-som-tam/BestOf?oid=4101420', 'winner': ['TAC Quick'], 'runners_up': []}, {'category': 'Best soundtracked strawberry shake\\xa0', 'category_url': 'http://www.chicagoreader.com/chicago/best-soundtracked-strawberry-shake/BestOf?oid=4101498', 'winner': ['M Burger'], 'runners_up': []}, {'category': 'Best newly minted (if loosely defined) neighborhood for destination dining\\xa0', 'category_url': 'http://www.chicagoreader.com/chicago/best-newly-minted-if-loosely-defined-neighborhood-for-destination-dining/BestOf?oid=4101624', 'winner': ['Noble Square'], 'runners_up': []}, {'category': \"Best hangout after a day at Rogers Park's beaches\\xa0\", 'category_url': 'http://www.chicagoreader.com/chicago/best-hangout-after-a-day-at-rogers-parks-beaches/BestOf?oid=4101655', 'winner': ['RoPa Restaurant & Wine Bar'], 'runners_up': []}, {'category': 'Best few square blocks to eat really well, and cheaply\\xa0', 'category_url': 'http://www.chicagoreader.com/chicago/best-few-square-blocks-to-eat-really-well-and-cheaply/BestOf?oid=4101657', 'winner': ['Lawrence between Rockwell and California'], 'runners_up': []}, {'category': 'Best place to feel bad about gentrification but good about your meal\\xa0', 'category_url': 'http://www.chicagoreader.com/chicago/best-place-to-feel-bad-about-gentrification-but-good-about-your-meal/BestOf?oid=4101658', 'winner': ['M. Henrietta'], 'runners_up': []}, {'category': 'Best restaurant staff bent on making your day\\xa0', 'category_url': 'http://www.chicagoreader.com/chicago/best-restaurant-staff-bent-on-making-your-day/BestOf?oid=4101659', 'winner': ['Birchwood Kitchen'], 'runners_up': []}, {'category': 'Best one-woman kitchen\\xa0', 'category_url': 'http://www.chicagoreader.com/chicago/best-one-woman-kitchen/BestOf?oid=4101660', 'winner': ['Noon Hour Grill'], 'runners_up': []}, {'category': 'Most underrated James Beard Award winner\\xa0', 'category_url': 'http://www.chicagoreader.com/chicago/most-underrated-james-beard-award-winner/BestOf?oid=4101661', 'winner': ['Justin Kaufmann, WBEZ'], 'runners_up': []}, {'category': 'Best new food blog\\xa0', 'category_url': 'http://www.chicagoreader.com/chicago/best-new-food-blog/BestOf?oid=4101662', 'winner': ['mariobatalivoice.blogspot.com'], 'runners_up': []}, {'category': 'Best food blog written by a linguist\\xa0', 'category_url': 'http://www.chicagoreader.com/chicago/best-food-blog-written-by-a-linguist/BestOf?oid=4101663', 'winner': ['shesimmers.com'], 'runners_up': []}, {'category': 'Best place to eat and drink for a good cause\\xa0', 'category_url': 'http://www.chicagoreader.com/chicago/best-place-to-eat-and-drink-for-a-good-cause/BestOf?oid=4101664', 'winner': ['Blue Sky Bakery & Cafe'], 'runners_up': []}, {'category': 'Best CSA farmer to swoon over\\xa0', 'category_url': 'http://www.chicagoreader.com/chicago/best-csa-farmer-to-swoon-over/BestOf?oid=4101665', 'winner': ['Rob Montalbano of Montalbano Farms'], 'runners_up': []}, {'category': \"Best canine control at a farmers' market\\xa0\", 'category_url': 'http://www.chicagoreader.com/chicago/best-canine-control-at-a-farmers-market/BestOf?oid=4101666', 'winner': ['Glenwood Sunday Market\\n'], 'runners_up': []}, {'category': \"Best craft brewery that doesn't exist yet\\xa0\", 'category_url': 'http://www.chicagoreader.com/chicago/best-craft-brewery-that-doesnt-exist-yet/BestOf?oid=4101667', 'winner': ['Pipeworks'], 'runners_up': []}, {'category': 'Best cocktail book club\\xa0', 'category_url': 'http://www.chicagoreader.com/chicago/best-cocktail-book-club/BestOf?oid=4101668', 'winner': ['The Whistler'], 'runners_up': []}]\n"
     ]
    }
   ],
   "source": [
    "food_n_drink = (\"http://www.chicagoreader.com/chicago/\"\n",
    "                    \"best-of-chicago-2011-food-drink/BestOf?oid=4106228\")\n",
    "    \n",
    "categories = get_category_links(food_n_drink)\n",
    "\n",
    "data = [] # a list to store our dictionaries\n",
    "for category in categories:\n",
    "    winner = get_category_winner(category)\n",
    "    data.append(winner)\n",
    "    time.sleep(1) # be nice\n",
    "\n",
    "print (data)"
   ]
  },
  {
   "cell_type": "code",
   "execution_count": 15,
   "metadata": {},
   "outputs": [
    {
     "data": {
      "text/html": [
       "<div>\n",
       "<style>\n",
       "    .dataframe thead tr:only-child th {\n",
       "        text-align: right;\n",
       "    }\n",
       "\n",
       "    .dataframe thead th {\n",
       "        text-align: left;\n",
       "    }\n",
       "\n",
       "    .dataframe tbody tr th {\n",
       "        vertical-align: top;\n",
       "    }\n",
       "</style>\n",
       "<table border=\"1\" class=\"dataframe\">\n",
       "  <thead>\n",
       "    <tr style=\"text-align: right;\">\n",
       "      <th></th>\n",
       "      <th>category</th>\n",
       "      <th>category_url</th>\n",
       "      <th>runners_up</th>\n",
       "      <th>winner</th>\n",
       "    </tr>\n",
       "  </thead>\n",
       "  <tbody>\n",
       "    <tr>\n",
       "      <th>0</th>\n",
       "      <td>Best restaurant that's been around forever and...</td>\n",
       "      <td>http://www.chicagoreader.com/chicago/BestOf?ca...</td>\n",
       "      <td>[Frontera Grill, Chicago Diner  , Sabatino’s, ...</td>\n",
       "      <td>[Lula Cafe]</td>\n",
       "    </tr>\n",
       "    <tr>\n",
       "      <th>1</th>\n",
       "      <td>Best fancy restaurant in Chicago</td>\n",
       "      <td>http://www.chicagoreader.com/chicago/best-fanc...</td>\n",
       "      <td>[Blackbird, Girl &amp; the Goat, Green Zebra, The ...</td>\n",
       "      <td>[Alinea ]</td>\n",
       "    </tr>\n",
       "    <tr>\n",
       "      <th>2</th>\n",
       "      <td>Best bang for your buck</td>\n",
       "      <td>http://www.chicagoreader.com/chicago/best-bang...</td>\n",
       "      <td>[Frasca Pizzeria &amp; Wine Bar, Chutney Joe’s, \"M...</td>\n",
       "      <td>[Big Star, Sultan’s Market]</td>\n",
       "    </tr>\n",
       "    <tr>\n",
       "      <th>3</th>\n",
       "      <td>Best chef</td>\n",
       "      <td>http://www.chicagoreader.com/chicago/best-chef...</td>\n",
       "      <td>[Grant Achatz (Alinea, Next, The Aviary), Step...</td>\n",
       "      <td>[Rick Bayless (Frontera Grill, Topolobampo, Xo...</td>\n",
       "    </tr>\n",
       "    <tr>\n",
       "      <th>4</th>\n",
       "      <td>Best up-and-coming chef</td>\n",
       "      <td>http://www.chicagoreader.com/chicago/best-up-a...</td>\n",
       "      <td>[Jimmy Bannos Jr., The Purple Pig, Cesar Pined...</td>\n",
       "      <td>[Jeremy Kiens, \n",
       "Dunlays on Clark]</td>\n",
       "    </tr>\n",
       "  </tbody>\n",
       "</table>\n",
       "</div>"
      ],
      "text/plain": [
       "                                            category  \\\n",
       "0  Best restaurant that's been around forever and...   \n",
       "1                  Best fancy restaurant in Chicago    \n",
       "2                           Best bang for your buck    \n",
       "3                                         Best chef    \n",
       "4                           Best up-and-coming chef    \n",
       "\n",
       "                                        category_url  \\\n",
       "0  http://www.chicagoreader.com/chicago/BestOf?ca...   \n",
       "1  http://www.chicagoreader.com/chicago/best-fanc...   \n",
       "2  http://www.chicagoreader.com/chicago/best-bang...   \n",
       "3  http://www.chicagoreader.com/chicago/best-chef...   \n",
       "4  http://www.chicagoreader.com/chicago/best-up-a...   \n",
       "\n",
       "                                          runners_up  \\\n",
       "0  [Frontera Grill, Chicago Diner  , Sabatino’s, ...   \n",
       "1  [Blackbird, Girl & the Goat, Green Zebra, The ...   \n",
       "2  [Frasca Pizzeria & Wine Bar, Chutney Joe’s, \"M...   \n",
       "3  [Grant Achatz (Alinea, Next, The Aviary), Step...   \n",
       "4  [Jimmy Bannos Jr., The Purple Pig, Cesar Pined...   \n",
       "\n",
       "                                              winner  \n",
       "0                                        [Lula Cafe]  \n",
       "1                                          [Alinea ]  \n",
       "2                        [Big Star, Sultan’s Market]  \n",
       "3  [Rick Bayless (Frontera Grill, Topolobampo, Xo...  \n",
       "4                  [Jeremy Kiens, \n",
       "Dunlays on Clark]  "
      ]
     },
     "execution_count": 15,
     "metadata": {},
     "output_type": "execute_result"
    }
   ],
   "source": [
    "df = pd.DataFrame(data)\n",
    "df.head(5)"
   ]
  },
  {
   "cell_type": "code",
   "execution_count": 34,
   "metadata": {},
   "outputs": [],
   "source": [
    "def from_list(x):\n",
    "    if len(x)==0:\n",
    "        return np.NaN\n",
    "    else:\n",
    "        x=[t.strip() for t in x]\n",
    "        return ','.join(x)"
   ]
  },
  {
   "cell_type": "code",
   "execution_count": 36,
   "metadata": {},
   "outputs": [],
   "source": [
    "df['runners_up']=df['runners_up'].apply(from_list)"
   ]
  },
  {
   "cell_type": "code",
   "execution_count": 37,
   "metadata": {},
   "outputs": [],
   "source": [
    "df['winner']=df['winner'].apply(from_list)"
   ]
  },
  {
   "cell_type": "code",
   "execution_count": 38,
   "metadata": {},
   "outputs": [
    {
     "data": {
      "text/plain": [
       "category         1\n",
       "category_url     0\n",
       "runners_up      43\n",
       "winner           0\n",
       "dtype: int64"
      ]
     },
     "execution_count": 38,
     "metadata": {},
     "output_type": "execute_result"
    }
   ],
   "source": [
    "df.isnull().sum()"
   ]
  },
  {
   "cell_type": "code",
   "execution_count": 40,
   "metadata": {},
   "outputs": [
    {
     "data": {
      "text/html": [
       "<div>\n",
       "<style>\n",
       "    .dataframe thead tr:only-child th {\n",
       "        text-align: right;\n",
       "    }\n",
       "\n",
       "    .dataframe thead th {\n",
       "        text-align: left;\n",
       "    }\n",
       "\n",
       "    .dataframe tbody tr th {\n",
       "        vertical-align: top;\n",
       "    }\n",
       "</style>\n",
       "<table border=\"1\" class=\"dataframe\">\n",
       "  <thead>\n",
       "    <tr style=\"text-align: right;\">\n",
       "      <th></th>\n",
       "      <th>category</th>\n",
       "      <th>category_url</th>\n",
       "      <th>runners_up</th>\n",
       "      <th>winner</th>\n",
       "    </tr>\n",
       "  </thead>\n",
       "  <tbody>\n",
       "    <tr>\n",
       "      <th>0</th>\n",
       "      <td>Best restaurant that's been around forever and...</td>\n",
       "      <td>http://www.chicagoreader.com/chicago/BestOf?ca...</td>\n",
       "      <td>Frontera Grill,Chicago Diner,Sabatino’s,Twin A...</td>\n",
       "      <td>Lula Cafe</td>\n",
       "    </tr>\n",
       "    <tr>\n",
       "      <th>1</th>\n",
       "      <td>Best fancy restaurant in Chicago</td>\n",
       "      <td>http://www.chicagoreader.com/chicago/best-fanc...</td>\n",
       "      <td>Blackbird,Girl &amp; the Goat,Green Zebra,The Publ...</td>\n",
       "      <td>Alinea</td>\n",
       "    </tr>\n",
       "    <tr>\n",
       "      <th>2</th>\n",
       "      <td>Best bang for your buck</td>\n",
       "      <td>http://www.chicagoreader.com/chicago/best-bang...</td>\n",
       "      <td>Frasca Pizzeria &amp; Wine Bar,Chutney Joe’s,\"My b...</td>\n",
       "      <td>Big Star,Sultan’s Market</td>\n",
       "    </tr>\n",
       "    <tr>\n",
       "      <th>3</th>\n",
       "      <td>Best chef</td>\n",
       "      <td>http://www.chicagoreader.com/chicago/best-chef...</td>\n",
       "      <td>Grant Achatz (Alinea, Next, The Aviary),Stepha...</td>\n",
       "      <td>Rick Bayless (Frontera Grill, Topolobampo, Xoco)</td>\n",
       "    </tr>\n",
       "    <tr>\n",
       "      <th>4</th>\n",
       "      <td>Best up-and-coming chef</td>\n",
       "      <td>http://www.chicagoreader.com/chicago/best-up-a...</td>\n",
       "      <td>Jimmy Bannos Jr., The Purple Pig,Cesar Pineda,...</td>\n",
       "      <td>Jeremy Kiens, \\nDunlays on Clark</td>\n",
       "    </tr>\n",
       "  </tbody>\n",
       "</table>\n",
       "</div>"
      ],
      "text/plain": [
       "                                            category  \\\n",
       "0  Best restaurant that's been around forever and...   \n",
       "1                  Best fancy restaurant in Chicago    \n",
       "2                           Best bang for your buck    \n",
       "3                                         Best chef    \n",
       "4                           Best up-and-coming chef    \n",
       "\n",
       "                                        category_url  \\\n",
       "0  http://www.chicagoreader.com/chicago/BestOf?ca...   \n",
       "1  http://www.chicagoreader.com/chicago/best-fanc...   \n",
       "2  http://www.chicagoreader.com/chicago/best-bang...   \n",
       "3  http://www.chicagoreader.com/chicago/best-chef...   \n",
       "4  http://www.chicagoreader.com/chicago/best-up-a...   \n",
       "\n",
       "                                          runners_up  \\\n",
       "0  Frontera Grill,Chicago Diner,Sabatino’s,Twin A...   \n",
       "1  Blackbird,Girl & the Goat,Green Zebra,The Publ...   \n",
       "2  Frasca Pizzeria & Wine Bar,Chutney Joe’s,\"My b...   \n",
       "3  Grant Achatz (Alinea, Next, The Aviary),Stepha...   \n",
       "4  Jimmy Bannos Jr., The Purple Pig,Cesar Pineda,...   \n",
       "\n",
       "                                             winner  \n",
       "0                                         Lula Cafe  \n",
       "1                                            Alinea  \n",
       "2                          Big Star,Sultan’s Market  \n",
       "3  Rick Bayless (Frontera Grill, Topolobampo, Xoco)  \n",
       "4                  Jeremy Kiens, \\nDunlays on Clark  "
      ]
     },
     "execution_count": 40,
     "metadata": {},
     "output_type": "execute_result"
    }
   ],
   "source": [
    "df.head()"
   ]
  },
  {
   "cell_type": "code",
   "execution_count": null,
   "metadata": {},
   "outputs": [],
   "source": []
  }
 ],
 "metadata": {
  "kernelspec": {
   "display_name": "Python 3",
   "language": "python",
   "name": "python3"
  },
  "language_info": {
   "codemirror_mode": {
    "name": "ipython",
    "version": 3
   },
   "file_extension": ".py",
   "mimetype": "text/x-python",
   "name": "python",
   "nbconvert_exporter": "python",
   "pygments_lexer": "ipython3",
   "version": "3.6.2"
  }
 },
 "nbformat": 4,
 "nbformat_minor": 2
}
