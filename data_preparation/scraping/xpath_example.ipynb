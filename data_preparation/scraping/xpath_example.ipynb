{
 "cells": [
  {
   "cell_type": "code",
   "execution_count": 1,
   "metadata": {},
   "outputs": [],
   "source": [
    "from parsel import Selector\n",
    "import scrapy"
   ]
  },
  {
   "cell_type": "code",
   "execution_count": 67,
   "metadata": {},
   "outputs": [],
   "source": [
    "html_string=u'''<html>\n",
    "    <head>\n",
    "        <title>This is a title</title>\n",
    "        <meta content=\"text/html\" />\n",
    "    </head>\n",
    "    <body>\n",
    "        <div>\n",
    "            <div class=\"first\">\n",
    "                <p>This is a paragraph.</p>\n",
    "                <p>Is this <a href=\"page2.html\">a link</a>?</p>\n",
    "                <br />\n",
    "                Apparently.\n",
    "            </div>\n",
    "            <div class=\"second\">\n",
    "                Nothing to add.\n",
    "                Except maybe this <a href=\"page3.html\">other link</a>.\n",
    "                <!-- And this comment -->\n",
    "            </div>\n",
    "        </div>\n",
    "    </body>\n",
    "</html>'''"
   ]
  },
  {
   "cell_type": "code",
   "execution_count": 68,
   "metadata": {},
   "outputs": [
    {
     "data": {
      "text/plain": [
       "'<html>\\n    <head>\\n        <title>This is a title</title>\\n        <meta content=\"text/html\" />\\n    </head>\\n    <body>\\n        <div>\\n            <div class=\"first\">\\n                <p>This is a paragraph.</p>\\n                <p>Is this <a href=\"page2.html\">a link</a>?</p>\\n                <br />\\n                Apparently.\\n            </div>\\n            <div class=\"second\">\\n                Nothing to add.\\n                Except maybe this <a href=\"page3.html\">other link</a>.\\n                <!-- And this comment -->\\n            </div>\\n        </div>\\n    </body>\\n</html>'"
      ]
     },
     "execution_count": 68,
     "metadata": {},
     "output_type": "execute_result"
    }
   ],
   "source": [
    "html_string"
   ]
  },
  {
   "cell_type": "code",
   "execution_count": 13,
   "metadata": {},
   "outputs": [],
   "source": [
    "url=\"https://www.trademap.org/Country_SelProductCountry_TS.aspx?nvpm=1|788||||0804|||4|1|1|2|2|1|2|1|1\""
   ]
  },
  {
   "cell_type": "code",
   "execution_count": 15,
   "metadata": {},
   "outputs": [],
   "source": [
    "import requests\n",
    "text = requests.get(url).text\n",
    "sel=Selector(text=text)"
   ]
  },
  {
   "cell_type": "code",
   "execution_count": 22,
   "metadata": {},
   "outputs": [],
   "source": [
    "outputs=sel.xpath(\"//a[contains(@href,'Sort$output')]//text()\").extract()"
   ]
  },
  {
   "cell_type": "code",
   "execution_count": 23,
   "metadata": {},
   "outputs": [
    {
     "data": {
      "text/plain": [
       "['Exported value in 2012',\n",
       " 'Exported value in 2013',\n",
       " 'Exported value in 2014',\n",
       " 'Exported value in 2015',\n",
       " 'Exported value in 2016']"
      ]
     },
     "execution_count": 23,
     "metadata": {},
     "output_type": "execute_result"
    }
   ],
   "source": [
    "outputs"
   ]
  },
  {
   "cell_type": "code",
   "execution_count": 24,
   "metadata": {},
   "outputs": [
    {
     "data": {
      "text/plain": [
       "['2012', '2013', '2014', '2015', '2016']"
      ]
     },
     "execution_count": 24,
     "metadata": {},
     "output_type": "execute_result"
    }
   ],
   "source": [
    "import re\n",
    "year=re.findall(r'\\d\\d\\d\\d',' '.join(outputs))\n",
    "year"
   ]
  },
  {
   "cell_type": "code",
   "execution_count": 70,
   "metadata": {},
   "outputs": [
    {
     "name": "stdout",
     "output_type": "stream",
     "text": [
      "['<title>This is a title</title>']\n"
     ]
    }
   ],
   "source": [
    "print(sel.xpath('//title').extract())"
   ]
  },
  {
   "cell_type": "code",
   "execution_count": 71,
   "metadata": {},
   "outputs": [
    {
     "name": "stdout",
     "output_type": "stream",
     "text": [
      "['<p>This is a paragraph.</p>', '<p>Is this <a href=\"page2.html\">a link</a>?</p>']\n"
     ]
    }
   ],
   "source": [
    "print(sel.xpath('//p').extract())"
   ]
  },
  {
   "cell_type": "code",
   "execution_count": 72,
   "metadata": {},
   "outputs": [
    {
     "name": "stdout",
     "output_type": "stream",
     "text": [
      "['<!-- And this comment -->']\n"
     ]
    }
   ],
   "source": [
    "print(sel.xpath('//comment()').extract())"
   ]
  },
  {
   "cell_type": "code",
   "execution_count": 73,
   "metadata": {},
   "outputs": [
    {
     "name": "stdout",
     "output_type": "stream",
     "text": [
      "['\\n    ', '\\n        ', 'This is a title', '\\n        ', '\\n    ', '\\n    ', '\\n        ', '\\n            ', '\\n                ', 'This is a paragraph.', '\\n                ', 'Is this ', 'a link', '?', '\\n                ', '\\n                Apparently.\\n            ', '\\n            ', '\\n                Nothing to add.\\n                Except maybe this ', 'other link', '.\\n                ', '\\n            ', '\\n        ', '\\n    ', '\\n']\n"
     ]
    }
   ],
   "source": [
    "print(sel.xpath('//text()').extract())"
   ]
  },
  {
   "cell_type": "code",
   "execution_count": 74,
   "metadata": {},
   "outputs": [
    {
     "name": "stdout",
     "output_type": "stream",
     "text": [
      "['\\n                ', '\\n                ', '\\n                ', '\\n                Apparently.\\n            ', '\\n                Nothing to add.\\n                Except maybe this ', '.\\n                ', '\\n            ']\n"
     ]
    }
   ],
   "source": [
    "print(sel.xpath('//div[@class]/text()').extract())"
   ]
  },
  {
   "cell_type": "code",
   "execution_count": 75,
   "metadata": {},
   "outputs": [
    {
     "name": "stdout",
     "output_type": "stream",
     "text": [
      "['a link', 'other link']\n"
     ]
    }
   ],
   "source": [
    "print(sel.xpath('//a[@href]/text()').extract())"
   ]
  },
  {
   "cell_type": "code",
   "execution_count": 77,
   "metadata": {},
   "outputs": [
    {
     "name": "stdout",
     "output_type": "stream",
     "text": [
      "[]\n"
     ]
    }
   ],
   "source": [
    "print(sel.xpath('//div[@class=\"second\"][2]').extract())"
   ]
  },
  {
   "cell_type": "code",
   "execution_count": 78,
   "metadata": {},
   "outputs": [
    {
     "name": "stdout",
     "output_type": "stream",
     "text": [
      "['<div class=\"second\">\\n                Nothing to add.\\n                Except maybe this <a href=\"page3.html\">other link</a>.\\n                <!-- And this comment -->\\n            </div>']\n"
     ]
    }
   ],
   "source": [
    "print(sel.xpath('//div[2][@class=\"second\"]').extract())"
   ]
  },
  {
   "cell_type": "code",
   "execution_count": 79,
   "metadata": {},
   "outputs": [
    {
     "name": "stdout",
     "output_type": "stream",
     "text": [
      "['<div class=\"second\">\\n                Nothing to add.\\n                Except maybe this <a href=\"page3.html\">other link</a>.\\n                <!-- And this comment -->\\n            </div>']\n"
     ]
    }
   ],
   "source": [
    "print(sel.xpath('//div/div[2][@class=\"second\"]').extract())"
   ]
  },
  {
   "cell_type": "code",
   "execution_count": 80,
   "metadata": {},
   "outputs": [
    {
     "name": "stdout",
     "output_type": "stream",
     "text": [
      "['Is this ', '?']\n"
     ]
    }
   ],
   "source": [
    "print(sel.xpath('//p[contains(text(),\"this\")]/text()').extract())"
   ]
  },
  {
   "cell_type": "code",
   "execution_count": 82,
   "metadata": {},
   "outputs": [
    {
     "name": "stdout",
     "output_type": "stream",
     "text": [
      "['This is a paragraph.', 'Is this ', '?']\n"
     ]
    }
   ],
   "source": [
    "print(sel.xpath('//div[@class=\"first\"]/p/text()').extract())"
   ]
  },
  {
   "cell_type": "markdown",
   "metadata": {},
   "source": [
    "Remark: If we don't know the position of p regarding div, we use //"
   ]
  },
  {
   "cell_type": "code",
   "execution_count": 84,
   "metadata": {},
   "outputs": [
    {
     "name": "stdout",
     "output_type": "stream",
     "text": [
      "['This is a paragraph.', 'Is this ', '?']\n"
     ]
    }
   ],
   "source": [
    "print(sel.xpath('//div[@class=\"first\"]//p/text()').extract())"
   ]
  },
  {
   "cell_type": "markdown",
   "metadata": {},
   "source": [
    "$<$p id=price content=12$>$ 12 $<$/p$>$ => in this case it is better to extract the price from content(it is easier to convert it to float)\n",
    "print(sel.xpath('//p[@id=price]/@content').extract())\n"
   ]
  },
  {
   "cell_type": "code",
   "execution_count": null,
   "metadata": {},
   "outputs": [],
   "source": []
  }
 ],
 "metadata": {
  "kernelspec": {
   "display_name": "Python 3",
   "language": "python",
   "name": "python3"
  },
  "language_info": {
   "codemirror_mode": {
    "name": "ipython",
    "version": 3
   },
   "file_extension": ".py",
   "mimetype": "text/x-python",
   "name": "python",
   "nbconvert_exporter": "python",
   "pygments_lexer": "ipython3",
   "version": "3.6.5"
  }
 },
 "nbformat": 4,
 "nbformat_minor": 2
}
