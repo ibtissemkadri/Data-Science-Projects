{
 "cells": [
  {
   "cell_type": "code",
   "execution_count": 1,
   "metadata": {},
   "outputs": [],
   "source": [
    "import requests\n",
    "import re\n",
    "import time\n",
    "import pandas as pd\n",
    "from elasticsearch import Elasticsearch\n",
    "from datetime import datetime"
   ]
  },
  {
   "cell_type": "code",
   "execution_count": 2,
   "metadata": {},
   "outputs": [],
   "source": [
    "urls=[\"https://comtrade.un.org/api/get?max=500&type=C&freq=A&px=HS&ps=2016%2C2015%2C2014%2C2013%2C2012&r=788&p=all&rg=2&cc=150910&uitoken=4c599ed9273b53b875f870451acdf719\",\"https://comtrade.un.org/api/get?max=500&type=C&freq=A&px=HS&ps=2016%2C2015&r=381&p=all&rg=2&cc=150910&uitoken=4c599ed9273b53b875f870451acdf719\",\"https://comtrade.un.org/api/get?max=500&type=C&freq=A&px=HS&ps=2014%2C2013&r=381&p=all&rg=2&cc=150910&uitoken=4c599ed9273b53b875f870451acdf719\",\"https://comtrade.un.org/api/get?max=500&type=C&freq=A&px=HS&ps=2012&r=381&p=all&rg=2&cc=150910&uitoken=4c599ed9273b53b875f870451acdf719\",\"https://comtrade.un.org/api/get?max=500&type=C&freq=A&px=HS&ps=2016%2C2015%2C2014&r=724&p=all&rg=2&cc=150910&uitoken=4c599ed9273b53b875f870451acdf719\",\n",
    "     \"https://comtrade.un.org/api/get?max=500&type=C&freq=A&px=HS&ps=2013%2C2012&r=724&p=all&rg=2&cc=150910&uitoken=4c599ed9273b53b875f870451acdf719\"]"
   ]
  },
  {
   "cell_type": "code",
   "execution_count": 3,
   "metadata": {},
   "outputs": [],
   "source": [
    "data_olive=[]\n",
    "product='olive oil'\n",
    "retailers='comtrade'"
   ]
  },
  {
   "cell_type": "code",
   "execution_count": 4,
   "metadata": {},
   "outputs": [],
   "source": [
    "def get_content(url):\n",
    "    url_content=requests.get(url) \n",
    "    return url_content.json()"
   ]
  },
  {
   "cell_type": "code",
   "execution_count": 5,
   "metadata": {},
   "outputs": [],
   "source": [
    "elastic_connection = Elasticsearch('localhost:9200', timeout=3000.0)\n",
    "counter=0\n",
    "for url in urls: \n",
    "    json_text=get_content(url)\n",
    "    data=json_text['dataset']\n",
    "    for i in range (len(data)):\n",
    "        years=str(data[i]['yr'])\n",
    "        reporters=data[i]['rtTitle']\n",
    "        partners=data[i]['ptTitle']\n",
    "        trade_values=data[i]['TradeValue']\n",
    "        data_olive_oil={\"partners\":partners,\n",
    "                \"reporters\":reporters, \n",
    "                \"years\":years, \n",
    "                \"trade_values\":trade_values,\n",
    "                \"product\":product,\n",
    "                \"retailers\":retailers}\n",
    "        data_olive.append(data_olive_oil)\n",
    "        doc_id = \"%s-%s-%s\"%('comtrade.un.org',time.time(),counter)\n",
    "        counter+=1\n",
    "        elastic_connection.index(index='trademap',doc_type='export',id= doc_id, body=data_olive_oil)\n",
    "    time.sleep(1)"
   ]
  },
  {
   "cell_type": "code",
   "execution_count": 7,
   "metadata": {},
   "outputs": [],
   "source": [
    "#df=pd.DataFrame(data_olive)"
   ]
  },
  {
   "cell_type": "code",
   "execution_count": 8,
   "metadata": {},
   "outputs": [
    {
     "data": {
      "text/html": [
       "<div>\n",
       "<style>\n",
       "    .dataframe thead tr:only-child th {\n",
       "        text-align: right;\n",
       "    }\n",
       "\n",
       "    .dataframe thead th {\n",
       "        text-align: left;\n",
       "    }\n",
       "\n",
       "    .dataframe tbody tr th {\n",
       "        vertical-align: top;\n",
       "    }\n",
       "</style>\n",
       "<table border=\"1\" class=\"dataframe\">\n",
       "  <thead>\n",
       "    <tr style=\"text-align: right;\">\n",
       "      <th></th>\n",
       "      <th>partners</th>\n",
       "      <th>product</th>\n",
       "      <th>reporters</th>\n",
       "      <th>trade_values</th>\n",
       "      <th>years</th>\n",
       "    </tr>\n",
       "  </thead>\n",
       "  <tbody>\n",
       "    <tr>\n",
       "      <th>0</th>\n",
       "      <td>World</td>\n",
       "      <td>olive oil</td>\n",
       "      <td>Tunisia</td>\n",
       "      <td>329118171</td>\n",
       "      <td>2012</td>\n",
       "    </tr>\n",
       "    <tr>\n",
       "      <th>1</th>\n",
       "      <td>World</td>\n",
       "      <td>olive oil</td>\n",
       "      <td>Tunisia</td>\n",
       "      <td>329118171</td>\n",
       "      <td>2012</td>\n",
       "    </tr>\n",
       "    <tr>\n",
       "      <th>2</th>\n",
       "      <td>Algeria</td>\n",
       "      <td>olive oil</td>\n",
       "      <td>Tunisia</td>\n",
       "      <td>137870</td>\n",
       "      <td>2012</td>\n",
       "    </tr>\n",
       "    <tr>\n",
       "      <th>3</th>\n",
       "      <td>Australia</td>\n",
       "      <td>olive oil</td>\n",
       "      <td>Tunisia</td>\n",
       "      <td>172174</td>\n",
       "      <td>2012</td>\n",
       "    </tr>\n",
       "    <tr>\n",
       "      <th>4</th>\n",
       "      <td>Austria</td>\n",
       "      <td>olive oil</td>\n",
       "      <td>Tunisia</td>\n",
       "      <td>85967</td>\n",
       "      <td>2012</td>\n",
       "    </tr>\n",
       "  </tbody>\n",
       "</table>\n",
       "</div>"
      ],
      "text/plain": [
       "    partners    product reporters  trade_values years\n",
       "0      World  olive oil   Tunisia     329118171  2012\n",
       "1      World  olive oil   Tunisia     329118171  2012\n",
       "2    Algeria  olive oil   Tunisia        137870  2012\n",
       "3  Australia  olive oil   Tunisia        172174  2012\n",
       "4    Austria  olive oil   Tunisia         85967  2012"
      ]
     },
     "execution_count": 8,
     "metadata": {},
     "output_type": "execute_result"
    }
   ],
   "source": [
    "#df.head()"
   ]
  },
  {
   "cell_type": "code",
   "execution_count": 9,
   "metadata": {},
   "outputs": [
    {
     "name": "stdout",
     "output_type": "stream",
     "text": [
      "<class 'pandas.core.frame.DataFrame'>\n",
      "RangeIndex: 1915 entries, 0 to 1914\n",
      "Data columns (total 5 columns):\n",
      "partners        1915 non-null object\n",
      "product         1915 non-null object\n",
      "reporters       1915 non-null object\n",
      "trade_values    1915 non-null int64\n",
      "years           1915 non-null object\n",
      "dtypes: int64(1), object(4)\n",
      "memory usage: 74.9+ KB\n"
     ]
    }
   ],
   "source": [
    "#df.info()"
   ]
  },
  {
   "cell_type": "code",
   "execution_count": 9,
   "metadata": {},
   "outputs": [],
   "source": [
    "#df.to_csv(\"olive_oil_data.csv\")"
   ]
  },
  {
   "cell_type": "code",
   "execution_count": null,
   "metadata": {},
   "outputs": [],
   "source": []
  }
 ],
 "metadata": {
  "kernelspec": {
   "display_name": "Python 3",
   "language": "python",
   "name": "python3"
  },
  "language_info": {
   "codemirror_mode": {
    "name": "ipython",
    "version": 3
   },
   "file_extension": ".py",
   "mimetype": "text/x-python",
   "name": "python",
   "nbconvert_exporter": "python",
   "pygments_lexer": "ipython3",
   "version": "3.6.2"
  }
 },
 "nbformat": 4,
 "nbformat_minor": 2
}
