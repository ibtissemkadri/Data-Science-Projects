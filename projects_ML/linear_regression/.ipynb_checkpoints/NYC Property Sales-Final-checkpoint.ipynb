{
 "cells": [
  {
   "cell_type": "markdown",
   "metadata": {},
   "source": [
    "# A year's worth of properties sold on the NYC real estate market"
   ]
  },
  {
   "cell_type": "markdown",
   "metadata": {},
   "source": [
    "This dataset is a record of every building or building unit (apartment, etc.) sold in the New York City.\n",
    "\n",
    "In this project we're going to build a model that predicts the sale value."
   ]
  },
  {
   "cell_type": "code",
   "execution_count": 1,
   "metadata": {},
   "outputs": [
    {
     "name": "stderr",
     "output_type": "stream",
     "text": [
      "/home/ibtissem/anaconda/lib/python3.6/site-packages/statsmodels/compat/pandas.py:56: FutureWarning: The pandas.core.datetools module is deprecated and will be removed in a future version. Please use the pandas.tseries module instead.\n",
      "  from pandas.core import datetools\n",
      "/home/ibtissem/anaconda/lib/python3.6/site-packages/sklearn/cross_validation.py:41: DeprecationWarning: This module was deprecated in version 0.18 in favor of the model_selection module into which all the refactored classes and functions are moved. Also note that the interface of the new CV iterators are different from that of this module. This module will be removed in 0.20.\n",
      "  \"This module will be removed in 0.20.\", DeprecationWarning)\n"
     ]
    }
   ],
   "source": [
    "import julian\n",
    "import datetime\n",
    "import pandas as pd\n",
    "import numpy as np\n",
    "import seaborn as sns\n",
    "import matplotlib.pyplot as plt\n",
    "import statsmodels.formula.api as smf\n",
    "import statsmodels.api as sm\n",
    "from sklearn.model_selection import train_test_split, cross_val_score\n",
    "from sklearn import cross_validation, metrics\n",
    "from sklearn.linear_model import LinearRegression, Ridge, RidgeCV, Lasso, LassoCV\n",
    "from sklearn.preprocessing import LabelEncoder, StandardScaler\n",
    "%matplotlib inline"
   ]
  },
  {
   "cell_type": "code",
   "execution_count": 2,
   "metadata": {},
   "outputs": [],
   "source": [
    "df=pd.read_csv('nyc-rolling-sales.csv', index_col=0)"
   ]
  },
  {
   "cell_type": "code",
   "execution_count": 3,
   "metadata": {},
   "outputs": [],
   "source": [
    "df = df.reset_index(drop=True)"
   ]
  },
  {
   "cell_type": "markdown",
   "metadata": {},
   "source": [
    "## Data exploration"
   ]
  },
  {
   "cell_type": "code",
   "execution_count": 4,
   "metadata": {},
   "outputs": [
    {
     "data": {
      "text/html": [
       "<div>\n",
       "<style>\n",
       "    .dataframe thead tr:only-child th {\n",
       "        text-align: right;\n",
       "    }\n",
       "\n",
       "    .dataframe thead th {\n",
       "        text-align: left;\n",
       "    }\n",
       "\n",
       "    .dataframe tbody tr th {\n",
       "        vertical-align: top;\n",
       "    }\n",
       "</style>\n",
       "<table border=\"1\" class=\"dataframe\">\n",
       "  <thead>\n",
       "    <tr style=\"text-align: right;\">\n",
       "      <th></th>\n",
       "      <th>BOROUGH</th>\n",
       "      <th>NEIGHBORHOOD</th>\n",
       "      <th>BUILDING CLASS CATEGORY</th>\n",
       "      <th>TAX CLASS AT PRESENT</th>\n",
       "      <th>BLOCK</th>\n",
       "      <th>LOT</th>\n",
       "      <th>EASE-MENT</th>\n",
       "      <th>BUILDING CLASS AT PRESENT</th>\n",
       "      <th>ADDRESS</th>\n",
       "      <th>APARTMENT NUMBER</th>\n",
       "      <th>...</th>\n",
       "      <th>RESIDENTIAL UNITS</th>\n",
       "      <th>COMMERCIAL UNITS</th>\n",
       "      <th>TOTAL UNITS</th>\n",
       "      <th>LAND SQUARE FEET</th>\n",
       "      <th>GROSS SQUARE FEET</th>\n",
       "      <th>YEAR BUILT</th>\n",
       "      <th>TAX CLASS AT TIME OF SALE</th>\n",
       "      <th>BUILDING CLASS AT TIME OF SALE</th>\n",
       "      <th>SALE PRICE</th>\n",
       "      <th>SALE DATE</th>\n",
       "    </tr>\n",
       "  </thead>\n",
       "  <tbody>\n",
       "    <tr>\n",
       "      <th>0</th>\n",
       "      <td>1</td>\n",
       "      <td>ALPHABET CITY</td>\n",
       "      <td>07 RENTALS - WALKUP APARTMENTS</td>\n",
       "      <td>2A</td>\n",
       "      <td>392</td>\n",
       "      <td>6</td>\n",
       "      <td></td>\n",
       "      <td>C2</td>\n",
       "      <td>153 AVENUE B</td>\n",
       "      <td></td>\n",
       "      <td>...</td>\n",
       "      <td>5</td>\n",
       "      <td>0</td>\n",
       "      <td>5</td>\n",
       "      <td>1633</td>\n",
       "      <td>6440</td>\n",
       "      <td>1900</td>\n",
       "      <td>2</td>\n",
       "      <td>C2</td>\n",
       "      <td>6625000</td>\n",
       "      <td>2017-07-19 00:00:00</td>\n",
       "    </tr>\n",
       "    <tr>\n",
       "      <th>1</th>\n",
       "      <td>1</td>\n",
       "      <td>ALPHABET CITY</td>\n",
       "      <td>07 RENTALS - WALKUP APARTMENTS</td>\n",
       "      <td>2</td>\n",
       "      <td>399</td>\n",
       "      <td>26</td>\n",
       "      <td></td>\n",
       "      <td>C7</td>\n",
       "      <td>234 EAST 4TH   STREET</td>\n",
       "      <td></td>\n",
       "      <td>...</td>\n",
       "      <td>28</td>\n",
       "      <td>3</td>\n",
       "      <td>31</td>\n",
       "      <td>4616</td>\n",
       "      <td>18690</td>\n",
       "      <td>1900</td>\n",
       "      <td>2</td>\n",
       "      <td>C7</td>\n",
       "      <td>-</td>\n",
       "      <td>2016-12-14 00:00:00</td>\n",
       "    </tr>\n",
       "    <tr>\n",
       "      <th>2</th>\n",
       "      <td>1</td>\n",
       "      <td>ALPHABET CITY</td>\n",
       "      <td>07 RENTALS - WALKUP APARTMENTS</td>\n",
       "      <td>2</td>\n",
       "      <td>399</td>\n",
       "      <td>39</td>\n",
       "      <td></td>\n",
       "      <td>C7</td>\n",
       "      <td>197 EAST 3RD   STREET</td>\n",
       "      <td></td>\n",
       "      <td>...</td>\n",
       "      <td>16</td>\n",
       "      <td>1</td>\n",
       "      <td>17</td>\n",
       "      <td>2212</td>\n",
       "      <td>7803</td>\n",
       "      <td>1900</td>\n",
       "      <td>2</td>\n",
       "      <td>C7</td>\n",
       "      <td>-</td>\n",
       "      <td>2016-12-09 00:00:00</td>\n",
       "    </tr>\n",
       "    <tr>\n",
       "      <th>3</th>\n",
       "      <td>1</td>\n",
       "      <td>ALPHABET CITY</td>\n",
       "      <td>07 RENTALS - WALKUP APARTMENTS</td>\n",
       "      <td>2B</td>\n",
       "      <td>402</td>\n",
       "      <td>21</td>\n",
       "      <td></td>\n",
       "      <td>C4</td>\n",
       "      <td>154 EAST 7TH STREET</td>\n",
       "      <td></td>\n",
       "      <td>...</td>\n",
       "      <td>10</td>\n",
       "      <td>0</td>\n",
       "      <td>10</td>\n",
       "      <td>2272</td>\n",
       "      <td>6794</td>\n",
       "      <td>1913</td>\n",
       "      <td>2</td>\n",
       "      <td>C4</td>\n",
       "      <td>3936272</td>\n",
       "      <td>2016-09-23 00:00:00</td>\n",
       "    </tr>\n",
       "    <tr>\n",
       "      <th>4</th>\n",
       "      <td>1</td>\n",
       "      <td>ALPHABET CITY</td>\n",
       "      <td>07 RENTALS - WALKUP APARTMENTS</td>\n",
       "      <td>2A</td>\n",
       "      <td>404</td>\n",
       "      <td>55</td>\n",
       "      <td></td>\n",
       "      <td>C2</td>\n",
       "      <td>301 EAST 10TH   STREET</td>\n",
       "      <td></td>\n",
       "      <td>...</td>\n",
       "      <td>6</td>\n",
       "      <td>0</td>\n",
       "      <td>6</td>\n",
       "      <td>2369</td>\n",
       "      <td>4615</td>\n",
       "      <td>1900</td>\n",
       "      <td>2</td>\n",
       "      <td>C2</td>\n",
       "      <td>8000000</td>\n",
       "      <td>2016-11-17 00:00:00</td>\n",
       "    </tr>\n",
       "  </tbody>\n",
       "</table>\n",
       "<p>5 rows × 21 columns</p>\n",
       "</div>"
      ],
      "text/plain": [
       "   BOROUGH   NEIGHBORHOOD                      BUILDING CLASS CATEGORY  \\\n",
       "0        1  ALPHABET CITY  07 RENTALS - WALKUP APARTMENTS                \n",
       "1        1  ALPHABET CITY  07 RENTALS - WALKUP APARTMENTS                \n",
       "2        1  ALPHABET CITY  07 RENTALS - WALKUP APARTMENTS                \n",
       "3        1  ALPHABET CITY  07 RENTALS - WALKUP APARTMENTS                \n",
       "4        1  ALPHABET CITY  07 RENTALS - WALKUP APARTMENTS                \n",
       "\n",
       "  TAX CLASS AT PRESENT  BLOCK  LOT EASE-MENT BUILDING CLASS AT PRESENT  \\\n",
       "0                   2A    392    6                                  C2   \n",
       "1                    2    399   26                                  C7   \n",
       "2                    2    399   39                                  C7   \n",
       "3                   2B    402   21                                  C4   \n",
       "4                   2A    404   55                                  C2   \n",
       "\n",
       "                  ADDRESS APARTMENT NUMBER         ...           \\\n",
       "0            153 AVENUE B                          ...            \n",
       "1   234 EAST 4TH   STREET                          ...            \n",
       "2   197 EAST 3RD   STREET                          ...            \n",
       "3     154 EAST 7TH STREET                          ...            \n",
       "4  301 EAST 10TH   STREET                          ...            \n",
       "\n",
       "   RESIDENTIAL UNITS  COMMERCIAL UNITS  TOTAL UNITS  LAND SQUARE FEET  \\\n",
       "0                  5                 0            5              1633   \n",
       "1                 28                 3           31              4616   \n",
       "2                 16                 1           17              2212   \n",
       "3                 10                 0           10              2272   \n",
       "4                  6                 0            6              2369   \n",
       "\n",
       "  GROSS SQUARE FEET YEAR BUILT  TAX CLASS AT TIME OF SALE  \\\n",
       "0              6440       1900                          2   \n",
       "1             18690       1900                          2   \n",
       "2              7803       1900                          2   \n",
       "3              6794       1913                          2   \n",
       "4              4615       1900                          2   \n",
       "\n",
       "   BUILDING CLASS AT TIME OF SALE SALE PRICE            SALE DATE  \n",
       "0                              C2    6625000  2017-07-19 00:00:00  \n",
       "1                              C7        -    2016-12-14 00:00:00  \n",
       "2                              C7        -    2016-12-09 00:00:00  \n",
       "3                              C4    3936272  2016-09-23 00:00:00  \n",
       "4                              C2    8000000  2016-11-17 00:00:00  \n",
       "\n",
       "[5 rows x 21 columns]"
      ]
     },
     "execution_count": 4,
     "metadata": {},
     "output_type": "execute_result"
    }
   ],
   "source": [
    "df.head()"
   ]
  },
  {
   "cell_type": "code",
   "execution_count": 5,
   "metadata": {
    "scrolled": true
   },
   "outputs": [
    {
     "name": "stdout",
     "output_type": "stream",
     "text": [
      "<class 'pandas.core.frame.DataFrame'>\n",
      "RangeIndex: 84548 entries, 0 to 84547\n",
      "Data columns (total 21 columns):\n",
      "BOROUGH                           84548 non-null int64\n",
      "NEIGHBORHOOD                      84548 non-null object\n",
      "BUILDING CLASS CATEGORY           84548 non-null object\n",
      "TAX CLASS AT PRESENT              84548 non-null object\n",
      "BLOCK                             84548 non-null int64\n",
      "LOT                               84548 non-null int64\n",
      "EASE-MENT                         84548 non-null object\n",
      "BUILDING CLASS AT PRESENT         84548 non-null object\n",
      "ADDRESS                           84548 non-null object\n",
      "APARTMENT NUMBER                  84548 non-null object\n",
      "ZIP CODE                          84548 non-null int64\n",
      "RESIDENTIAL UNITS                 84548 non-null int64\n",
      "COMMERCIAL UNITS                  84548 non-null int64\n",
      "TOTAL UNITS                       84548 non-null int64\n",
      "LAND SQUARE FEET                  84548 non-null object\n",
      "GROSS SQUARE FEET                 84548 non-null object\n",
      "YEAR BUILT                        84548 non-null int64\n",
      "TAX CLASS AT TIME OF SALE         84548 non-null int64\n",
      "BUILDING CLASS AT TIME OF SALE    84548 non-null object\n",
      "SALE PRICE                        84548 non-null object\n",
      "SALE DATE                         84548 non-null object\n",
      "dtypes: int64(9), object(12)\n",
      "memory usage: 13.5+ MB\n"
     ]
    }
   ],
   "source": [
    "df.info()"
   ]
  },
  {
   "cell_type": "code",
   "execution_count": 6,
   "metadata": {},
   "outputs": [
    {
     "name": "stdout",
     "output_type": "stream",
     "text": [
      "*******************************\n",
      "NEIGHBORHOOD\n",
      "nunique:  254\n",
      "['ALPHABET CITY' 'CHELSEA' 'CHINATOWN' 'CIVIC CENTER' 'CLINTON'\n",
      " 'EAST VILLAGE' 'FASHION' 'FINANCIAL' 'FLATIRON' 'GRAMERCY'\n",
      " 'GREENWICH VILLAGE-CENTRAL' 'GREENWICH VILLAGE-WEST' 'HARLEM-CENTRAL'\n",
      " 'HARLEM-EAST' 'HARLEM-UPPER' 'HARLEM-WEST' 'INWOOD' 'JAVITS CENTER'\n",
      " 'KIPS BAY' 'LITTLE ITALY' 'LOWER EAST SIDE' 'MANHATTAN VALLEY'\n",
      " 'MIDTOWN CBD' 'MIDTOWN EAST' 'MIDTOWN WEST' 'MORNINGSIDE HEIGHTS'\n",
      " 'MURRAY HILL' 'ROOSEVELT ISLAND' 'SOHO' 'SOUTHBRIDGE' 'TRIBECA'\n",
      " 'UPPER EAST SIDE (59-79)' 'UPPER EAST SIDE (79-96)'\n",
      " 'UPPER EAST SIDE (96-110)' 'UPPER WEST SIDE (59-79)'\n",
      " 'UPPER WEST SIDE (79-96)' 'UPPER WEST SIDE (96-116)'\n",
      " 'WASHINGTON HEIGHTS LOWER' 'WASHINGTON HEIGHTS UPPER' 'BATHGATE'\n",
      " 'BAYCHESTER' 'BEDFORD PARK/NORWOOD' 'BELMONT' 'BRONX PARK' 'BRONXDALE'\n",
      " 'CASTLE HILL/UNIONPORT' 'CITY ISLAND' 'CITY ISLAND-PELHAM STRIP'\n",
      " 'CO-OP CITY' 'COUNTRY CLUB' 'CROTONA PARK' 'EAST RIVER' 'EAST TREMONT'\n",
      " 'FIELDSTON' 'FORDHAM' 'HIGHBRIDGE/MORRIS HEIGHTS' 'HUNTS POINT'\n",
      " 'KINGSBRIDGE HTS/UNIV HTS' 'KINGSBRIDGE/JEROME PARK' 'MELROSE/CONCOURSE'\n",
      " 'MORRIS PARK/VAN NEST' 'MORRISANIA/LONGWOOD' 'MOTT HAVEN/PORT MORRIS'\n",
      " 'MOUNT HOPE/MOUNT EDEN' 'PARKCHESTER' 'PELHAM BAY' 'PELHAM GARDENS'\n",
      " 'PELHAM PARKWAY NORTH' 'PELHAM PARKWAY SOUTH' 'RIVERDALE'\n",
      " 'SCHUYLERVILLE/PELHAM BAY' 'SOUNDVIEW' 'THROGS NECK' 'VAN CORTLANDT PARK'\n",
      " 'WAKEFIELD' 'WESTCHESTER' 'WILLIAMSBRIDGE' 'WOODLAWN' 'BATH BEACH'\n",
      " 'BAY RIDGE' 'BEDFORD STUYVESANT' 'BENSONHURST' 'BERGEN BEACH'\n",
      " 'BOERUM HILL' 'BOROUGH PARK' 'BRIGHTON BEACH' 'BROOKLYN HEIGHTS'\n",
      " 'BROWNSVILLE' 'BUSH TERMINAL' 'BUSHWICK' 'CANARSIE' 'CARROLL GARDENS'\n",
      " 'CLINTON HILL' 'COBBLE HILL' 'COBBLE HILL-WEST' 'CONEY ISLAND'\n",
      " 'CROWN HEIGHTS' 'CYPRESS HILLS' 'DOWNTOWN-FULTON FERRY'\n",
      " 'DOWNTOWN-FULTON MALL' 'DOWNTOWN-METROTECH' 'DYKER HEIGHTS'\n",
      " 'EAST NEW YORK' 'FLATBUSH-CENTRAL' 'FLATBUSH-EAST'\n",
      " 'FLATBUSH-LEFFERTS GARDEN' 'FLATBUSH-NORTH' 'FLATLANDS' 'FORT GREENE'\n",
      " 'GERRITSEN BEACH' 'GOWANUS' 'GRAVESEND' 'GREENPOINT' 'JAMAICA BAY'\n",
      " 'KENSINGTON' 'MADISON' 'MANHATTAN BEACH' 'MARINE PARK' 'MIDWOOD'\n",
      " 'MILL BASIN' 'NAVY YARD' 'OCEAN HILL' 'OCEAN PARKWAY-NORTH'\n",
      " 'OCEAN PARKWAY-SOUTH' 'OLD MILL BASIN' 'PARK SLOPE' 'PARK SLOPE SOUTH'\n",
      " 'PROSPECT HEIGHTS' 'RED HOOK' 'SEAGATE' 'SHEEPSHEAD BAY' 'SPRING CREEK'\n",
      " 'SUNSET PARK' 'WILLIAMSBURG-CENTRAL' 'WILLIAMSBURG-EAST'\n",
      " 'WILLIAMSBURG-NORTH' 'WILLIAMSBURG-SOUTH' 'WINDSOR TERRACE'\n",
      " 'WYCKOFF HEIGHTS' 'AIRPORT LA GUARDIA' 'ARVERNE' 'ASTORIA' 'BAYSIDE'\n",
      " 'BEECHHURST' 'BELLE HARBOR' 'BELLEROSE' 'BRIARWOOD' 'BROAD CHANNEL'\n",
      " 'CAMBRIA HEIGHTS' 'COLLEGE POINT' 'CORONA' 'DOUGLASTON' 'EAST ELMHURST'\n",
      " 'ELMHURST' 'FAR ROCKAWAY' 'FLORAL PARK' 'FLUSHING MEADOW PARK'\n",
      " 'FLUSHING-NORTH' 'FLUSHING-SOUTH' 'FOREST HILLS' 'FRESH MEADOWS'\n",
      " 'GLEN OAKS' 'GLENDALE' 'HAMMELS' 'HILLCREST' 'HOLLIS' 'HOLLIS HILLS'\n",
      " 'HOLLISWOOD' 'HOWARD BEACH' 'JACKSON HEIGHTS' 'JAMAICA' 'JAMAICA ESTATES'\n",
      " 'JAMAICA HILLS' 'KEW GARDENS' 'LAURELTON' 'LITTLE NECK' 'LONG ISLAND CITY'\n",
      " 'MASPETH' 'MIDDLE VILLAGE' 'NEPONSIT' 'OAKLAND GARDENS' 'OZONE PARK'\n",
      " 'QUEENS VILLAGE' 'REGO PARK' 'RICHMOND HILL' 'RIDGEWOOD' 'ROCKAWAY PARK'\n",
      " 'ROSEDALE' 'SO. JAMAICA-BAISLEY PARK' 'SOUTH JAMAICA' 'SOUTH OZONE PARK'\n",
      " 'SPRINGFIELD GARDENS' 'ST. ALBANS' 'SUNNYSIDE' 'WHITESTONE' 'WOODHAVEN'\n",
      " 'WOODSIDE' 'ANNADALE' 'ARDEN HEIGHTS' 'ARROCHAR' 'ARROCHAR-SHORE ACRES'\n",
      " 'BLOOMFIELD' 'BULLS HEAD' 'CASTLETON CORNERS' 'CLOVE LAKES' 'CONCORD'\n",
      " 'CONCORD-FOX HILLS' 'DONGAN HILLS' 'DONGAN HILLS-COLONY'\n",
      " 'DONGAN HILLS-OLD TOWN' 'ELTINGVILLE' 'EMERSON HILL' 'FRESH KILLS'\n",
      " 'GRANT CITY' 'GRASMERE' 'GREAT KILLS' 'GREAT KILLS-BAY TERRACE'\n",
      " 'GRYMES HILL' 'HUGUENOT' 'LIVINGSTON' 'MANOR HEIGHTS' 'MARINERS HARBOR'\n",
      " 'MIDLAND BEACH' 'NEW BRIGHTON' 'NEW BRIGHTON-ST. GEORGE' 'NEW DORP'\n",
      " 'NEW DORP-BEACH' 'NEW DORP-HEIGHTS' 'NEW SPRINGVILLE' 'OAKWOOD'\n",
      " 'OAKWOOD-BEACH' 'PLEASANT PLAINS' 'PORT IVORY' 'PORT RICHMOND'\n",
      " 'PRINCES BAY' 'RICHMONDTOWN' 'RICHMONDTOWN-LIGHTHS HILL' 'ROSEBANK'\n",
      " 'ROSSVILLE' 'ROSSVILLE-CHARLESTON' 'ROSSVILLE-PORT MOBIL'\n",
      " 'ROSSVILLE-RICHMOND VALLEY' 'SILVER LAKE' 'SOUTH BEACH' 'STAPLETON'\n",
      " 'STAPLETON-CLIFTON' 'TODT HILL' 'TOMPKINSVILLE' 'TOTTENVILLE' 'TRAVIS'\n",
      " 'WEST NEW BRIGHTON' 'WESTERLEIGH' 'WILLOWBROOK' 'WOODROW']\n",
      "*******************************\n",
      "BUILDING CLASS CATEGORY\n",
      "nunique:  47\n",
      "['07 RENTALS - WALKUP APARTMENTS             '\n",
      " '08 RENTALS - ELEVATOR APARTMENTS           '\n",
      " '09 COOPS - WALKUP APARTMENTS               '\n",
      " '10 COOPS - ELEVATOR APARTMENTS             '\n",
      " '11A CONDO-RENTALS                           '\n",
      " '12 CONDOS - WALKUP APARTMENTS              '\n",
      " '13 CONDOS - ELEVATOR APARTMENTS            '\n",
      " '14 RENTALS - 4-10 UNIT                     '\n",
      " '15 CONDOS - 2-10 UNIT RESIDENTIAL          '\n",
      " '16 CONDOS - 2-10 UNIT WITH COMMERCIAL UNIT '\n",
      " '17 CONDO COOPS                             '\n",
      " '22 STORE BUILDINGS                         '\n",
      " '37 RELIGIOUS FACILITIES                    '\n",
      " '42 CONDO CULTURAL/MEDICAL/EDUCATIONAL/ETC  '\n",
      " '46 CONDO STORE BUILDINGS                   '\n",
      " '47 CONDO NON-BUSINESS STORAGE              '\n",
      " '01 ONE FAMILY DWELLINGS                    '\n",
      " '02 TWO FAMILY DWELLINGS                    '\n",
      " '03 THREE FAMILY DWELLINGS                  '\n",
      " '04 TAX CLASS 1 CONDOS                      '\n",
      " '21 OFFICE BUILDINGS                        '\n",
      " '23 LOFT BUILDINGS                          '\n",
      " '25 LUXURY HOTELS                           '\n",
      " '26 OTHER HOTELS                            '\n",
      " '28 COMMERCIAL CONDOS                       '\n",
      " '29 COMMERCIAL GARAGES                      '\n",
      " '35 INDOOR PUBLIC AND CULTURAL FACILITIES   '\n",
      " '38 ASYLUMS AND HOMES                       '\n",
      " '43 CONDO OFFICE BUILDINGS                  '\n",
      " '44 CONDO PARKING                           '\n",
      " '48 CONDO TERRACES/GARDENS/CABANAS          '\n",
      " '31 COMMERCIAL VACANT LAND                  '\n",
      " '32 HOSPITAL AND HEALTH FACILITIES          '\n",
      " '41 TAX CLASS 4 - OTHER                     '\n",
      " '18 TAX CLASS 3 - UNTILITY PROPERTIES       '\n",
      " '30 WAREHOUSES                              '\n",
      " '36 OUTDOOR RECREATIONAL FACILITIES         '\n",
      " '49 CONDO WAREHOUSES/FACTORY/INDUS          '\n",
      " '34 THEATRES                                '\n",
      " '27 FACTORIES                               '\n",
      " '40 SELECTED GOVERNMENTAL FACILITIES        '\n",
      " '45 CONDO HOTELS                            '\n",
      " '33 EDUCATIONAL FACILITIES                  '\n",
      " '11 SPECIAL CONDO BILLING LOTS              '\n",
      " '05 TAX CLASS 1 VACANT LAND                 '\n",
      " '06 TAX CLASS 1 - OTHER                     '\n",
      " '39 TRANSPORTATION FACILITIES               ']\n",
      "*******************************\n",
      "TAX CLASS AT PRESENT\n",
      "nunique:  11\n",
      "['2A' '2' '2B' '2C' ' ' '4' '1' '1C' '3' '1A' '1B']\n",
      "*******************************\n",
      "EASE-MENT\n",
      "nunique:  1\n",
      "[' ']\n",
      "*******************************\n",
      "BUILDING CLASS AT PRESENT\n",
      "nunique:  167\n",
      "['C2' 'C7' 'C4' 'D5' 'D9' 'D7' 'D1' 'C6' 'D0' 'D4' 'RR' ' ' 'R2' 'R4' 'S3'\n",
      " 'S4' 'S5' 'R1' 'R8' 'R9' 'K4' 'M9' 'M3' 'RK' 'RS' 'A9' 'A4' 'B3' 'B1' 'S2'\n",
      " 'C0' 'R6' 'C5' 'C3' 'C1' 'D6' 'S9' 'O2' 'O1' 'O3' 'O5' 'O6' 'K1' 'K2' 'L9'\n",
      " 'L8' 'L1' 'H1' 'H8' 'H3' 'R5' 'G6' 'P7' 'M1' 'N2' 'RB' 'RG' 'RT' 'K9' 'V1'\n",
      " 'GW' 'G2' 'I7' 'M4' 'Z9' 'B9' 'D3' 'G9' 'I9' 'U6' 'O4' 'L3' 'H2' 'E1' 'Z3'\n",
      " 'RW' 'C9' 'J5' 'N9' 'S1' 'A5' 'J8' 'B2' 'C8' 'F5' 'Q1' 'G7' 'G5' 'G4' 'P2'\n",
      " 'Q9' 'Y1' 'RA' 'RP' 'O8' 'HR' 'G1' 'E7' 'I5' 'R3' 'I4' 'H9' 'RH' 'D8' 'HB'\n",
      " 'J4' 'W2' 'P9' 'A7' 'D2' 'S0' 'O7' 'O9' 'W3' 'HS' 'H6' 'J9' 'R0' 'HH' 'W8'\n",
      " 'W6' 'A1' 'K5' 'F1' 'V9' 'A2' 'V0' 'G0' 'F4' 'E9' 'I3' 'W4' 'V3' 'I1' 'A6'\n",
      " 'Q8' 'A3' 'Z0' 'W1' 'U1' 'F2' 'F9' 'GU' 'I6' 'G8' 'P5' 'Y3' 'W9' 'M2' 'G3'\n",
      " 'V6' 'K7' 'K3' 'R7' 'P8' 'K6' 'V2' 'E2' 'Z2' 'T2' 'K8' 'P6' 'A0' 'H4' 'J1'\n",
      " 'CM' 'Z7']\n",
      "*******************************\n",
      "ADDRESS\n",
      "nunique:  67563\n",
      "['153 AVENUE B' '234 EAST 4TH   STREET' '197 EAST 3RD   STREET' ...,\n",
      " '49 PITNEY AVENUE' '2730 ARTHUR KILL ROAD' '155 CLAY PIT ROAD']\n",
      "*******************************\n",
      "APARTMENT NUMBER\n",
      "nunique:  3989\n",
      "[' ' 'RES' 'UNIT1' ..., '115' 'MS-B' '363']\n",
      "*******************************\n",
      "LAND SQUARE FEET\n",
      "nunique:  6062\n",
      "['1633' '4616' '2212' ..., '11088' '208033' '10796']\n",
      "*******************************\n",
      "GROSS SQUARE FEET\n",
      "nunique:  5691\n",
      "['6440' '18690' '7803' ..., '977' '2683' '64117']\n",
      "*******************************\n",
      "BUILDING CLASS AT TIME OF SALE\n",
      "nunique:  166\n",
      "['C2' 'C7' 'C4' 'D5' 'D9' 'D7' 'D1' 'C6' 'D0' 'D4' 'RR' 'R2' 'R4' 'S3' 'S4'\n",
      " 'S5' 'R1' 'R8' 'R9' 'K4' 'M9' 'M3' 'RA' 'RK' 'RS' 'A9' 'A4' 'B3' 'B1' 'S2'\n",
      " 'C0' 'R6' 'C5' 'C3' 'C1' 'D6' 'S9' 'O2' 'O1' 'O3' 'O5' 'O6' 'K1' 'K2' 'L9'\n",
      " 'L8' 'L1' 'H1' 'H8' 'H3' 'R5' 'G9' 'G6' 'P7' 'M1' 'N2' 'RB' 'RG' 'RT' 'K9'\n",
      " 'V1' 'GW' 'G2' 'I7' 'M4' 'Z9' 'B9' 'D3' 'I9' 'U6' 'O4' 'L3' 'H2' 'E1' 'Z3'\n",
      " 'Q1' 'RW' 'C9' 'J5' 'N9' 'S1' 'A5' 'J8' 'B2' 'C8' 'F5' 'G7' 'G5' 'G4' 'P2'\n",
      " 'Q9' 'Y1' 'RP' 'O8' 'HR' 'G1' 'E7' 'I5' 'R3' 'I4' 'H9' 'RH' 'D8' 'HB' 'J4'\n",
      " 'W2' 'P9' 'A7' 'D2' 'S0' 'O7' 'O9' 'W3' 'HS' 'H6' 'J9' 'R0' 'HH' 'W8' 'W6'\n",
      " 'A1' 'K5' 'F1' 'V9' 'A2' 'V0' 'G0' 'F4' 'E9' 'I3' 'W4' 'V3' 'I1' 'A6' 'Q8'\n",
      " 'A3' 'Z0' 'W1' 'U1' 'F2' 'F9' 'GU' 'I6' 'G8' 'P5' 'Y3' 'W9' 'M2' 'G3' 'V6'\n",
      " 'K7' 'K3' 'H4' 'R7' 'P8' 'K6' 'V2' 'E2' 'Z2' 'T2' 'K8' 'P6' 'A0' 'J1' 'CM'\n",
      " 'Z7']\n",
      "*******************************\n",
      "SALE PRICE\n",
      "nunique:  10008\n",
      "['6625000' ' -  ' '3936272' ..., '408092' '11693337' '69300']\n",
      "*******************************\n",
      "SALE DATE\n",
      "nunique:  364\n"
     ]
    },
    {
     "name": "stdout",
     "output_type": "stream",
     "text": [
      "['2017-07-19 00:00:00' '2016-12-14 00:00:00' '2016-12-09 00:00:00'\n",
      " '2016-09-23 00:00:00' '2016-11-17 00:00:00' '2017-07-20 00:00:00'\n",
      " '2017-06-20 00:00:00' '2016-11-07 00:00:00' '2016-10-17 00:00:00'\n",
      " '2016-09-06 00:00:00' '2017-03-10 00:00:00' '2017-04-28 00:00:00'\n",
      " '2017-06-09 00:00:00' '2017-07-14 00:00:00' '2017-03-16 00:00:00'\n",
      " '2016-09-01 00:00:00' '2017-08-17 00:00:00' '2016-09-07 00:00:00'\n",
      " '2017-08-30 00:00:00' '2017-06-21 00:00:00' '2017-01-30 00:00:00'\n",
      " '2017-07-07 00:00:00' '2017-08-04 00:00:00' '2017-01-09 00:00:00'\n",
      " '2017-04-18 00:00:00' '2017-06-19 00:00:00' '2017-08-28 00:00:00'\n",
      " '2017-05-10 00:00:00' '2016-12-02 00:00:00' '2017-01-31 00:00:00'\n",
      " '2017-06-28 00:00:00' '2016-12-07 00:00:00' '2017-08-24 00:00:00'\n",
      " '2017-06-27 00:00:00' '2017-03-17 00:00:00' '2017-06-14 00:00:00'\n",
      " '2017-01-17 00:00:00' '2017-01-11 00:00:00' '2017-04-21 00:00:00'\n",
      " '2017-06-29 00:00:00' '2016-10-05 00:00:00' '2017-02-02 00:00:00'\n",
      " '2017-03-20 00:00:00' '2017-04-13 00:00:00' '2017-06-06 00:00:00'\n",
      " '2017-07-17 00:00:00' '2016-12-06 00:00:00' '2017-07-13 00:00:00'\n",
      " '2017-05-17 00:00:00' '2017-05-31 00:00:00' '2017-07-12 00:00:00'\n",
      " '2017-01-19 00:00:00' '2017-05-03 00:00:00' '2016-09-29 00:00:00'\n",
      " '2017-08-07 00:00:00' '2017-01-20 00:00:00' '2017-02-23 00:00:00'\n",
      " '2016-09-12 00:00:00' '2017-08-09 00:00:00' '2017-04-07 00:00:00'\n",
      " '2017-05-11 00:00:00' '2016-10-13 00:00:00' '2016-10-19 00:00:00'\n",
      " '2016-12-30 00:00:00' '2017-02-24 00:00:00' '2016-09-21 00:00:00'\n",
      " '2016-11-03 00:00:00' '2017-03-31 00:00:00' '2017-05-25 00:00:00'\n",
      " '2017-02-14 00:00:00' '2017-02-01 00:00:00' '2017-05-08 00:00:00'\n",
      " '2017-08-14 00:00:00' '2017-06-23 00:00:00' '2017-03-27 00:00:00'\n",
      " '2017-04-22 00:00:00' '2017-07-06 00:00:00' '2017-06-12 00:00:00'\n",
      " '2017-06-22 00:00:00' '2017-02-17 00:00:00' '2016-09-08 00:00:00'\n",
      " '2016-12-23 00:00:00' '2017-07-24 00:00:00' '2016-10-08 00:00:00'\n",
      " '2016-12-08 00:00:00' '2017-04-25 00:00:00' '2016-12-13 00:00:00'\n",
      " '2017-01-12 00:00:00' '2017-03-03 00:00:00' '2017-01-25 00:00:00'\n",
      " '2016-12-19 00:00:00' '2016-12-16 00:00:00' '2016-12-29 00:00:00'\n",
      " '2017-01-13 00:00:00' '2016-12-21 00:00:00' '2017-03-30 00:00:00'\n",
      " '2017-04-14 00:00:00' '2017-05-22 00:00:00' '2017-05-19 00:00:00'\n",
      " '2017-02-08 00:00:00' '2016-11-08 00:00:00' '2017-03-02 00:00:00'\n",
      " '2017-01-05 00:00:00' '2016-10-11 00:00:00' '2016-11-15 00:00:00'\n",
      " '2017-04-03 00:00:00' '2016-11-28 00:00:00' '2016-11-14 00:00:00'\n",
      " '2017-04-20 00:00:00' '2017-05-05 00:00:00' '2016-11-16 00:00:00'\n",
      " '2017-07-18 00:00:00' '2017-05-15 00:00:00' '2017-07-31 00:00:00'\n",
      " '2017-06-07 00:00:00' '2016-11-02 00:00:00' '2017-04-19 00:00:00'\n",
      " '2017-07-11 00:00:00' '2016-09-28 00:00:00' '2017-01-06 00:00:00'\n",
      " '2016-10-20 00:00:00' '2017-03-28 00:00:00' '2017-04-17 00:00:00'\n",
      " '2016-10-26 00:00:00' '2017-02-06 00:00:00' '2017-03-23 00:00:00'\n",
      " '2017-08-31 00:00:00' '2017-07-27 00:00:00' '2016-11-10 00:00:00'\n",
      " '2016-10-28 00:00:00' '2016-12-05 00:00:00' '2016-11-29 00:00:00'\n",
      " '2016-11-21 00:00:00' '2017-01-27 00:00:00' '2016-09-26 00:00:00'\n",
      " '2017-02-21 00:00:00' '2016-10-06 00:00:00' '2017-08-25 00:00:00'\n",
      " '2016-11-30 00:00:00' '2017-02-16 00:00:00' '2017-03-01 00:00:00'\n",
      " '2016-10-31 00:00:00' '2016-12-20 00:00:00' '2016-11-18 00:00:00'\n",
      " '2017-04-10 00:00:00' '2016-11-23 00:00:00' '2016-12-27 00:00:00'\n",
      " '2017-05-12 00:00:00' '2017-02-15 00:00:00' '2017-07-10 00:00:00'\n",
      " '2017-03-06 00:00:00' '2017-06-30 00:00:00' '2017-07-26 00:00:00'\n",
      " '2017-03-22 00:00:00' '2017-03-08 00:00:00' '2016-09-14 00:00:00'\n",
      " '2017-04-26 00:00:00' '2016-09-27 00:00:00' '2017-04-27 00:00:00'\n",
      " '2016-12-01 00:00:00' '2017-01-23 00:00:00' '2016-11-04 00:00:00'\n",
      " '2016-10-07 00:00:00' '2017-06-05 00:00:00' '2017-05-23 00:00:00'\n",
      " '2017-01-26 00:00:00' '2016-12-28 00:00:00' '2017-05-02 00:00:00'\n",
      " '2017-03-07 00:00:00' '2017-05-01 00:00:00' '2016-10-14 00:00:00'\n",
      " '2016-12-15 00:00:00' '2016-11-01 00:00:00' '2016-09-15 00:00:00'\n",
      " '2016-10-01 00:00:00' '2016-10-24 00:00:00' '2016-11-11 00:00:00'\n",
      " '2017-02-09 00:00:00' '2017-07-25 00:00:00' '2017-03-15 00:00:00'\n",
      " '2016-09-16 00:00:00' '2017-03-29 00:00:00' '2017-06-26 00:00:00'\n",
      " '2016-10-18 00:00:00' '2016-12-22 00:00:00' '2016-09-09 00:00:00'\n",
      " '2016-11-09 00:00:00' '2017-05-04 00:00:00' '2017-06-13 00:00:00'\n",
      " '2017-02-10 00:00:00' '2017-04-24 00:00:00' '2017-05-24 00:00:00'\n",
      " '2017-02-28 00:00:00' '2017-04-11 00:00:00' '2016-10-25 00:00:00'\n",
      " '2017-08-21 00:00:00' '2017-08-29 00:00:00' '2017-08-01 00:00:00'\n",
      " '2017-06-08 00:00:00' '2017-08-23 00:00:00' '2016-10-27 00:00:00'\n",
      " '2017-06-02 00:00:00' '2017-06-16 00:00:00' '2016-11-22 00:00:00'\n",
      " '2017-07-05 00:00:00' '2016-09-13 00:00:00' '2017-03-13 00:00:00'\n",
      " '2017-01-03 00:00:00' '2017-01-04 00:00:00' '2017-01-18 00:00:00'\n",
      " '2017-05-18 00:00:00' '2017-05-30 00:00:00' '2017-01-10 00:00:00'\n",
      " '2017-08-11 00:00:00' '2017-08-02 00:00:00' '2017-07-28 00:00:00'\n",
      " '2017-06-15 00:00:00' '2017-08-22 00:00:00' '2016-09-02 00:00:00'\n",
      " '2017-02-03 00:00:00' '2017-04-06 00:00:00' '2017-02-07 00:00:00'\n",
      " '2017-05-26 00:00:00' '2017-08-10 00:00:00' '2017-01-24 00:00:00'\n",
      " '2016-12-26 00:00:00' '2017-08-18 00:00:00' '2017-02-13 00:00:00'\n",
      " '2016-09-30 00:00:00' '2017-04-12 00:00:00' '2017-05-09 00:00:00'\n",
      " '2016-10-29 00:00:00' '2017-02-27 00:00:00' '2017-01-01 00:00:00'\n",
      " '2017-06-01 00:00:00' '2016-10-03 00:00:00' '2017-08-15 00:00:00'\n",
      " '2016-12-12 00:00:00' '2016-12-17 00:00:00' '2017-08-03 00:00:00'\n",
      " '2016-09-22 00:00:00' '2016-12-31 00:00:00' '2016-10-04 00:00:00'\n",
      " '2016-09-20 00:00:00' '2017-03-21 00:00:00' '2017-08-08 00:00:00'\n",
      " '2017-04-05 00:00:00' '2017-08-16 00:00:00' '2017-02-22 00:00:00'\n",
      " '2017-02-04 00:00:00' '2017-05-16 00:00:00' '2017-03-24 00:00:00'\n",
      " '2017-03-09 00:00:00' '2017-07-21 00:00:00' '2017-04-04 00:00:00'\n",
      " '2016-09-19 00:00:00' '2017-01-07 00:00:00' '2016-10-21 00:00:00'\n",
      " '2017-04-29 00:00:00' '2017-07-22 00:00:00' '2017-02-20 00:00:00'\n",
      " '2016-10-23 00:00:00' '2017-01-02 00:00:00' '2016-10-12 00:00:00'\n",
      " '2017-07-15 00:00:00' '2016-10-16 00:00:00' '2017-03-14 00:00:00'\n",
      " '2017-04-30 00:00:00' '2017-04-09 00:00:00' '2017-03-04 00:00:00'\n",
      " '2016-09-17 00:00:00' '2017-06-03 00:00:00' '2017-05-06 00:00:00'\n",
      " '2017-07-03 00:00:00' '2017-01-28 00:00:00' '2017-03-05 00:00:00'\n",
      " '2016-11-27 00:00:00' '2017-02-11 00:00:00' '2017-06-24 00:00:00'\n",
      " '2017-01-21 00:00:00' '2016-10-22 00:00:00' '2016-10-10 00:00:00'\n",
      " '2016-11-05 00:00:00' '2017-05-20 00:00:00' '2017-08-06 00:00:00'\n",
      " '2017-05-21 00:00:00' '2016-09-10 00:00:00' '2016-11-13 00:00:00'\n",
      " '2016-10-09 00:00:00' '2016-10-15 00:00:00' '2016-11-25 00:00:00'\n",
      " '2017-02-18 00:00:00' '2016-09-25 00:00:00' '2016-11-20 00:00:00'\n",
      " '2017-04-01 00:00:00' '2017-01-16 00:00:00' '2017-05-13 00:00:00'\n",
      " '2016-11-12 00:00:00' '2017-07-01 00:00:00' '2017-03-19 00:00:00'\n",
      " '2017-07-16 00:00:00' '2016-09-05 00:00:00' '2016-10-30 00:00:00'\n",
      " '2017-02-26 00:00:00' '2017-01-15 00:00:00' '2016-11-06 00:00:00'\n",
      " '2017-03-18 00:00:00' '2017-08-27 00:00:00' '2016-11-26 00:00:00'\n",
      " '2017-01-22 00:00:00' '2017-05-29 00:00:00' '2017-04-16 00:00:00'\n",
      " '2017-01-14 00:00:00' '2017-04-15 00:00:00' '2017-07-08 00:00:00'\n",
      " '2016-11-24 00:00:00' '2017-08-26 00:00:00' '2017-02-25 00:00:00'\n",
      " '2017-05-27 00:00:00' '2016-10-02 00:00:00' '2017-03-25 00:00:00'\n",
      " '2016-11-19 00:00:00' '2017-05-14 00:00:00' '2017-02-05 00:00:00'\n",
      " '2016-09-03 00:00:00' '2017-04-08 00:00:00' '2017-06-11 00:00:00'\n",
      " '2016-12-10 00:00:00' '2017-03-11 00:00:00' '2017-03-12 00:00:00'\n",
      " '2017-01-29 00:00:00' '2017-08-05 00:00:00' '2016-09-11 00:00:00'\n",
      " '2017-06-17 00:00:00' '2017-06-25 00:00:00' '2017-03-26 00:00:00'\n",
      " '2017-07-29 00:00:00' '2017-06-18 00:00:00' '2017-05-28 00:00:00'\n",
      " '2017-05-07 00:00:00' '2017-06-10 00:00:00' '2016-12-24 00:00:00'\n",
      " '2016-09-24 00:00:00' '2016-12-18 00:00:00' '2017-04-02 00:00:00'\n",
      " '2017-08-20 00:00:00' '2017-08-12 00:00:00' '2016-12-11 00:00:00'\n",
      " '2017-08-19 00:00:00' '2016-09-18 00:00:00' '2017-02-19 00:00:00'\n",
      " '2017-07-02 00:00:00' '2017-07-30 00:00:00' '2017-01-08 00:00:00'\n",
      " '2017-07-23 00:00:00' '2017-08-13 00:00:00' '2017-07-04 00:00:00'\n",
      " '2016-12-04 00:00:00' '2017-04-23 00:00:00' '2016-12-03 00:00:00'\n",
      " '2017-07-09 00:00:00' '2016-09-04 00:00:00' '2017-02-12 00:00:00'\n",
      " '2017-06-04 00:00:00']\n"
     ]
    }
   ],
   "source": [
    "col_obj=[col for col in df.columns.values if df[col].dtype=='object']\n",
    "for col in col_obj:\n",
    "    print('*******************************')\n",
    "    print(col)\n",
    "    print('nunique: ',df[col].nunique())\n",
    "    print(df[col].unique())"
   ]
  },
  {
   "cell_type": "code",
   "execution_count": 7,
   "metadata": {},
   "outputs": [
    {
     "name": "stdout",
     "output_type": "stream",
     "text": [
      "*******************************\n",
      "BOROUGH\n",
      "nunique:  5\n",
      "[1 2 3 4 5]\n",
      "*******************************\n",
      "BLOCK\n",
      "nunique:  11566\n",
      "[ 392  399  402 ..., 6918 7074 7092]\n",
      "*******************************\n",
      "LOT\n",
      "nunique:  2627\n",
      "[  6  26  39 ..., 655 423 679]\n",
      "*******************************\n",
      "ZIP CODE\n",
      "nunique:  186\n",
      "[10009     0 10002 10011 10001 10014 10010 10013 10038 10007 10036 10019\n",
      " 10018 10003 10005 10004 10006 10016 10012 10026 10030 10031 10027 10035\n",
      " 10037 10029 10039 10032 10128 10463 10034 10025 10022 10017 10167 10023\n",
      " 10105 10033 10044 10280 10282 10281 10065 10021 10075 10028 10024 10069\n",
      " 10040 10457 10458 10451 10456 10469 10466 10475 10468 10467 10460 10473\n",
      " 10472 10464 10462 10803 10465 10459 10471 10453 10452 10454 10474 10455\n",
      " 10461 10470 11228 11214 11220 11209 11219 11221 11233 11213 11206 11216\n",
      " 11205 11238 11226 11204 11234 11217 11201 11218 11232 11230 11235 11212\n",
      " 11237 11207 11236 11239 11231 11249 11224 11225 11208 11210 11203 11229\n",
      " 11215 11223 11222 11211 11370 11691 11692 11102 11106 11103 11377 11105\n",
      " 11101 11361 11360 11357 11358 11364 11693 11694 11426 11428 11004 11001\n",
      " 11435 11411 11356 11354 11420 11368 11373 11372 11363 11362 11369 11378\n",
      " 11040 11375 11355 11365 11367 11366 11374 11385 11005 11421 11379 11432\n",
      " 11423 11412 11427 11429 11433 11414 11422 11415 11418 11413 11109 11104\n",
      " 11416 11417 11419 11436 11434 11430 10312 10305 10314 10303 10310 10302\n",
      " 10301 10304 10306 10308 10309 10307]\n",
      "*******************************\n",
      "RESIDENTIAL UNITS\n",
      "nunique:  176\n",
      "[   5   28   16   10    6   20    8   44   15   24   30    0   47  132    1\n",
      "    3    4    2   22    9  210   35   17   11    7   18   27   14   12   21\n",
      "   40   19   48   79   55  529  476  317   42   23   25  107  133   31   36\n",
      "   34   33   90   74   29   13  286  256  771  257   38  311   41   51   76\n",
      "   54   45   72   56   68   37   50   26   61   60  894   67  550  184   78\n",
      "  181   86  259  102  233  121   52 1641   96   87  100  113   99   92   70\n",
      "  369   77  232  315   91   32   66   64  109  387  153   59  193   62  103\n",
      "  146  287   94   46   84   75   65   95   49   63   43  716  680  179   71\n",
      "   39   53  283  114   89   73   83  498   81  162  127  222  130   58  159\n",
      "  462  142  948  129  889  271  150  120   57  117  106   85  118  164  139\n",
      "  165  122  134  278  135  324  180  405  136  168  144  152  138   88  244\n",
      "  291 1844  198  148  175  296  446  420  335  143  128]\n",
      "*******************************\n",
      "COMMERCIAL UNITS\n",
      "nunique:  55\n",
      "[   0    3    1    2    4   13    5   24    6   19   10   15   14    8    7\n",
      "   35   42   55   17   38   12   27  422    9   23   52  318   20   67   11\n",
      "  254   26   49   30   91   59   62   31   73   56   34   32   18   22   28\n",
      "  147  184   25  172  436   16 2261   51   21  126]\n",
      "*******************************\n",
      "TOTAL UNITS\n",
      "nunique:  192\n",
      "[   5   31   17   10    6   20    8   46   15   24   34    0   47  132    1\n",
      "    4    2    3    7    9   16  211   32   13   19   35   18   14   30   12\n",
      "   21   23   45   26   11   48   82   55   42   38   27  422  538  482  323\n",
      "   52  318   67   25   22   28  107  137   36   37   96  138   76   33  286\n",
      "  256  771  257   44  315   41   51   40   29   81   54   72   56   68   74\n",
      "   39   50   61  902   70  551  254  185   78  181   49   91   87  269  102\n",
      "  234  235  233   59   62   73   43  121 1653  192  100  113   99   92   75\n",
      "  374   77  238  317   93   69   60   64  111  395  155  193  103  146  287\n",
      "   94   84   65   95   63   71   57  736  680  179   53  291   66  114   79\n",
      "   83  520  163  127  222  130   90   58  159  462  142  955  129  889  109\n",
      "  147  271  150  120  117  106   86  118  164  139  165  122  279  135  324\n",
      "  180  184  104  405  136  168  172  436  145  152  140   89  148  244  295\n",
      " 1866  278  198 2261  176  296  446  420  336  143  126  128]\n",
      "*******************************\n",
      "YEAR BUILT\n",
      "nunique:  158\n",
      "[1900 1913 1920 1910 2009 1925 1902 1928 1930 1935 1937 1915 1950 1929 1901\n",
      " 1940 2005    0 1989 2014 2008 1965 2013 2003 2006 2007 1951 1899 1850 1905\n",
      " 1864 1917 1911 1983 1926 1963 1960 1889 1898 1939 1938 1927 1909 1958 1904\n",
      " 1907 1987 1931 1984 1948 2004 1918 1875 2012 1973 2011 1922 2001 1932 1980\n",
      " 1908 1953 1906 2015 1946 1921 2010 1954 1111 1924 1990 1890 1991 1988 1895\n",
      " 2016 1957 1986 1966 1998 1870 1923 1969 2017 1968 1934 1956 1982 1914 1903\n",
      " 1967 1840 1912 1964 1955 1961 1851 2000 1959 1962 1945 1972 1976 1916 1880\n",
      " 1970 1846 1941 1952 1896 1985 1981 1888 1947 1975 1974 2002 1994 1892 1894\n",
      " 1891 1996 1997 1949 1999 1800 1979 1971 1977 1942 1978 1826 1881 1919 1883\n",
      " 1936 1993 1995 1933 1992 1943 1944 1847 1829 1844 1835 1852 1856 1854 1832\n",
      " 1845 1849 1855 1871 1893 1865 1882 1680]\n",
      "*******************************\n",
      "TAX CLASS AT TIME OF SALE\n",
      "nunique:  4\n",
      "[2 4 1 3]\n"
     ]
    }
   ],
   "source": [
    "col_obj=[col for col in df.columns.values if df[col].dtype=='int64']\n",
    "for col in col_obj:\n",
    "    print('*******************************')\n",
    "    print(col)\n",
    "    print('nunique: ',df[col].nunique())\n",
    "    print(df[col].unique())"
   ]
  },
  {
   "cell_type": "markdown",
   "metadata": {},
   "source": [
    "## Data Cleaning"
   ]
  },
  {
   "cell_type": "code",
   "execution_count": 8,
   "metadata": {},
   "outputs": [],
   "source": [
    "df.drop(['EASE-MENT', 'ADDRESS', 'APARTMENT NUMBER', 'TOTAL UNITS', 'BOROUGH', 'BLOCK', 'LOT', 'NEIGHBORHOOD', 'GROSS SQUARE FEET', 'BUILDING CLASS AT PRESENT'], axis=1, inplace=True)"
   ]
  },
  {
   "cell_type": "code",
   "execution_count": 9,
   "metadata": {
    "scrolled": true
   },
   "outputs": [],
   "source": [
    "df[['SALE PRICE','LAND SQUARE FEET']]=df[['SALE PRICE', 'LAND SQUARE FEET']].replace(' -  ', np.nan).astype(float)"
   ]
  },
  {
   "cell_type": "code",
   "execution_count": 10,
   "metadata": {},
   "outputs": [],
   "source": [
    "df[['TAX CLASS AT PRESENT']]=df[['TAX CLASS AT PRESENT']].replace(' ',np.nan)"
   ]
  },
  {
   "cell_type": "code",
   "execution_count": 11,
   "metadata": {},
   "outputs": [],
   "source": [
    "df[['ZIP CODE', 'YEAR BUILT', 'SALE PRICE', 'LAND SQUARE FEET']]=df[['ZIP CODE', 'YEAR BUILT', 'SALE PRICE', 'LAND SQUARE FEET']].replace(0, np.nan)"
   ]
  },
  {
   "cell_type": "code",
   "execution_count": 12,
   "metadata": {},
   "outputs": [
    {
     "name": "stdout",
     "output_type": "stream",
     "text": [
      "<class 'pandas.core.frame.DataFrame'>\n",
      "RangeIndex: 84548 entries, 0 to 84547\n",
      "Data columns (total 11 columns):\n",
      "BUILDING CLASS CATEGORY           84548 non-null object\n",
      "TAX CLASS AT PRESENT              83810 non-null object\n",
      "ZIP CODE                          83566 non-null float64\n",
      "RESIDENTIAL UNITS                 84548 non-null int64\n",
      "COMMERCIAL UNITS                  84548 non-null int64\n",
      "LAND SQUARE FEET                  47970 non-null float64\n",
      "YEAR BUILT                        77578 non-null float64\n",
      "TAX CLASS AT TIME OF SALE         84548 non-null int64\n",
      "BUILDING CLASS AT TIME OF SALE    84548 non-null object\n",
      "SALE PRICE                        59759 non-null float64\n",
      "SALE DATE                         84548 non-null object\n",
      "dtypes: float64(4), int64(3), object(4)\n",
      "memory usage: 7.1+ MB\n"
     ]
    }
   ],
   "source": [
    "df.info()"
   ]
  },
  {
   "cell_type": "code",
   "execution_count": 13,
   "metadata": {},
   "outputs": [
    {
     "data": {
      "text/plain": [
       "6970"
      ]
     },
     "execution_count": 13,
     "metadata": {},
     "output_type": "execute_result"
    }
   ],
   "source": [
    "df['YEAR BUILT'].isnull().sum()"
   ]
  },
  {
   "cell_type": "code",
   "execution_count": 14,
   "metadata": {},
   "outputs": [],
   "source": [
    "df.dropna(subset=['SALE PRICE'],axis=0, inplace=True)"
   ]
  },
  {
   "cell_type": "code",
   "execution_count": 15,
   "metadata": {
    "scrolled": true
   },
   "outputs": [
    {
     "name": "stdout",
     "output_type": "stream",
     "text": [
      "<class 'pandas.core.frame.DataFrame'>\n",
      "Int64Index: 59759 entries, 0 to 84547\n",
      "Data columns (total 11 columns):\n",
      "BUILDING CLASS CATEGORY           59759 non-null object\n",
      "TAX CLASS AT PRESENT              59166 non-null object\n",
      "ZIP CODE                          59103 non-null float64\n",
      "RESIDENTIAL UNITS                 59759 non-null int64\n",
      "COMMERCIAL UNITS                  59759 non-null int64\n",
      "LAND SQUARE FEET                  30373 non-null float64\n",
      "YEAR BUILT                        55449 non-null float64\n",
      "TAX CLASS AT TIME OF SALE         59759 non-null int64\n",
      "BUILDING CLASS AT TIME OF SALE    59759 non-null object\n",
      "SALE PRICE                        59759 non-null float64\n",
      "SALE DATE                         59759 non-null object\n",
      "dtypes: float64(4), int64(3), object(4)\n",
      "memory usage: 5.5+ MB\n"
     ]
    }
   ],
   "source": [
    "df.info()"
   ]
  },
  {
   "cell_type": "code",
   "execution_count": 16,
   "metadata": {},
   "outputs": [],
   "source": [
    "df['BUILDING CLASS CATEGORY']=df['BUILDING CLASS CATEGORY'].map(lambda x: x[:2])"
   ]
  },
  {
   "cell_type": "code",
   "execution_count": 17,
   "metadata": {},
   "outputs": [
    {
     "data": {
      "text/plain": [
       "array(['07', '08', '09', '10', '11', '12', '13', '14', '15', '16', '17',\n",
       "       '22', '46', '01', '02', '03', '04', '21', '23', '25', '26', '29',\n",
       "       '37', '38', '43', '44', '28', '47', '31', '41', '30', '34', '27',\n",
       "       '36', '40', '42', '32', '45', '49', '33', '05', '06', '35', '48',\n",
       "       '39'], dtype=object)"
      ]
     },
     "execution_count": 17,
     "metadata": {},
     "output_type": "execute_result"
    }
   ],
   "source": [
    "df['BUILDING CLASS CATEGORY'].unique()"
   ]
  },
  {
   "cell_type": "code",
   "execution_count": 18,
   "metadata": {},
   "outputs": [
    {
     "data": {
      "text/plain": [
       "BUILDING CLASS CATEGORY               0\n",
       "TAX CLASS AT PRESENT                593\n",
       "ZIP CODE                            656\n",
       "RESIDENTIAL UNITS                     0\n",
       "COMMERCIAL UNITS                      0\n",
       "LAND SQUARE FEET                  29386\n",
       "YEAR BUILT                         4310\n",
       "TAX CLASS AT TIME OF SALE             0\n",
       "BUILDING CLASS AT TIME OF SALE        0\n",
       "SALE PRICE                            0\n",
       "SALE DATE                             0\n",
       "dtype: int64"
      ]
     },
     "execution_count": 18,
     "metadata": {},
     "output_type": "execute_result"
    }
   ],
   "source": [
    "df.isnull().sum()"
   ]
  },
  {
   "cell_type": "code",
   "execution_count": 19,
   "metadata": {},
   "outputs": [
    {
     "data": {
      "text/plain": [
       "59759"
      ]
     },
     "execution_count": 19,
     "metadata": {},
     "output_type": "execute_result"
    }
   ],
   "source": [
    "(df['TAX CLASS AT PRESENT']!=df['TAX CLASS AT TIME OF SALE']).sum()"
   ]
  },
  {
   "cell_type": "code",
   "execution_count": 20,
   "metadata": {},
   "outputs": [],
   "source": [
    "df.dropna(subset=['LAND SQUARE FEET'],axis=0, inplace=True)"
   ]
  },
  {
   "cell_type": "code",
   "execution_count": 21,
   "metadata": {},
   "outputs": [
    {
     "data": {
      "text/plain": [
       "BUILDING CLASS CATEGORY             0\n",
       "TAX CLASS AT PRESENT                0\n",
       "ZIP CODE                          300\n",
       "RESIDENTIAL UNITS                   0\n",
       "COMMERCIAL UNITS                    0\n",
       "LAND SQUARE FEET                    0\n",
       "YEAR BUILT                        818\n",
       "TAX CLASS AT TIME OF SALE           0\n",
       "BUILDING CLASS AT TIME OF SALE      0\n",
       "SALE PRICE                          0\n",
       "SALE DATE                           0\n",
       "dtype: int64"
      ]
     },
     "execution_count": 21,
     "metadata": {},
     "output_type": "execute_result"
    }
   ],
   "source": [
    "df.isnull().sum()"
   ]
  },
  {
   "cell_type": "code",
   "execution_count": 22,
   "metadata": {},
   "outputs": [
    {
     "name": "stdout",
     "output_type": "stream",
     "text": [
      "<class 'pandas.core.frame.DataFrame'>\n",
      "Int64Index: 30373 entries, 0 to 84547\n",
      "Data columns (total 11 columns):\n",
      "BUILDING CLASS CATEGORY           30373 non-null object\n",
      "TAX CLASS AT PRESENT              30373 non-null object\n",
      "ZIP CODE                          30073 non-null float64\n",
      "RESIDENTIAL UNITS                 30373 non-null int64\n",
      "COMMERCIAL UNITS                  30373 non-null int64\n",
      "LAND SQUARE FEET                  30373 non-null float64\n",
      "YEAR BUILT                        29555 non-null float64\n",
      "TAX CLASS AT TIME OF SALE         30373 non-null int64\n",
      "BUILDING CLASS AT TIME OF SALE    30373 non-null object\n",
      "SALE PRICE                        30373 non-null float64\n",
      "SALE DATE                         30373 non-null object\n",
      "dtypes: float64(4), int64(3), object(4)\n",
      "memory usage: 2.8+ MB\n"
     ]
    }
   ],
   "source": [
    "df.info()"
   ]
  },
  {
   "cell_type": "code",
   "execution_count": 23,
   "metadata": {},
   "outputs": [
    {
     "data": {
      "text/plain": [
       "array(['2A', '2B', '2', '4', '1', '2C', '1B'], dtype=object)"
      ]
     },
     "execution_count": 23,
     "metadata": {},
     "output_type": "execute_result"
    }
   ],
   "source": [
    "df['TAX CLASS AT PRESENT'].unique()"
   ]
  },
  {
   "cell_type": "code",
   "execution_count": 24,
   "metadata": {},
   "outputs": [],
   "source": [
    "df['TAX CLASS AT PRESENT']=df[df['TAX CLASS AT PRESENT'].notnull()]['TAX CLASS AT PRESENT'].map(lambda x: x[0])"
   ]
  },
  {
   "cell_type": "code",
   "execution_count": 25,
   "metadata": {},
   "outputs": [
    {
     "data": {
      "text/plain": [
       "array(['2', '4', '1'], dtype=object)"
      ]
     },
     "execution_count": 25,
     "metadata": {},
     "output_type": "execute_result"
    }
   ],
   "source": [
    "df['TAX CLASS AT PRESENT'].unique()"
   ]
  },
  {
   "cell_type": "code",
   "execution_count": 26,
   "metadata": {},
   "outputs": [
    {
     "data": {
      "text/plain": [
       "30373"
      ]
     },
     "execution_count": 26,
     "metadata": {},
     "output_type": "execute_result"
    }
   ],
   "source": [
    "(df['TAX CLASS AT PRESENT']!=df['TAX CLASS AT TIME OF SALE']).sum()"
   ]
  },
  {
   "cell_type": "code",
   "execution_count": 27,
   "metadata": {},
   "outputs": [],
   "source": [
    "df['SALE DATE'] = pd.to_datetime(df['SALE DATE'], format='%Y-%m-%d %H:%M:%S')\n",
    "df['AGE'] = df['SALE DATE'].dt.year - df['YEAR BUILT']"
   ]
  },
  {
   "cell_type": "code",
   "execution_count": 28,
   "metadata": {},
   "outputs": [],
   "source": [
    "df.drop('YEAR BUILT', axis=1, inplace=True)"
   ]
  },
  {
   "cell_type": "code",
   "execution_count": 29,
   "metadata": {},
   "outputs": [],
   "source": [
    "df.dropna(subset=['ZIP CODE', 'AGE'],axis=0, inplace=True)"
   ]
  },
  {
   "cell_type": "code",
   "execution_count": 30,
   "metadata": {},
   "outputs": [
    {
     "name": "stdout",
     "output_type": "stream",
     "text": [
      "<class 'pandas.core.frame.DataFrame'>\n",
      "Int64Index: 29534 entries, 0 to 84547\n",
      "Data columns (total 11 columns):\n",
      "BUILDING CLASS CATEGORY           29534 non-null object\n",
      "TAX CLASS AT PRESENT              29534 non-null object\n",
      "ZIP CODE                          29534 non-null float64\n",
      "RESIDENTIAL UNITS                 29534 non-null int64\n",
      "COMMERCIAL UNITS                  29534 non-null int64\n",
      "LAND SQUARE FEET                  29534 non-null float64\n",
      "TAX CLASS AT TIME OF SALE         29534 non-null int64\n",
      "BUILDING CLASS AT TIME OF SALE    29534 non-null object\n",
      "SALE PRICE                        29534 non-null float64\n",
      "SALE DATE                         29534 non-null datetime64[ns]\n",
      "AGE                               29534 non-null float64\n",
      "dtypes: datetime64[ns](1), float64(4), int64(3), object(3)\n",
      "memory usage: 2.7+ MB\n"
     ]
    }
   ],
   "source": [
    "df.info()"
   ]
  },
  {
   "cell_type": "code",
   "execution_count": 31,
   "metadata": {},
   "outputs": [
    {
     "data": {
      "text/plain": [
       "BUILDING CLASS CATEGORY           0\n",
       "TAX CLASS AT PRESENT              0\n",
       "ZIP CODE                          0\n",
       "RESIDENTIAL UNITS                 0\n",
       "COMMERCIAL UNITS                  0\n",
       "LAND SQUARE FEET                  0\n",
       "TAX CLASS AT TIME OF SALE         0\n",
       "BUILDING CLASS AT TIME OF SALE    0\n",
       "SALE PRICE                        0\n",
       "SALE DATE                         0\n",
       "AGE                               0\n",
       "dtype: int64"
      ]
     },
     "execution_count": 31,
     "metadata": {},
     "output_type": "execute_result"
    }
   ],
   "source": [
    "df.isnull().sum()"
   ]
  },
  {
   "cell_type": "code",
   "execution_count": 32,
   "metadata": {},
   "outputs": [
    {
     "data": {
      "text/plain": [
       "215"
      ]
     },
     "execution_count": 32,
     "metadata": {},
     "output_type": "execute_result"
    }
   ],
   "source": [
    "df.duplicated().sum()"
   ]
  },
  {
   "cell_type": "code",
   "execution_count": 33,
   "metadata": {},
   "outputs": [],
   "source": [
    "df=df.drop_duplicates()"
   ]
  },
  {
   "cell_type": "code",
   "execution_count": 34,
   "metadata": {},
   "outputs": [],
   "source": [
    "df['YEAR']=(df['SALE DATE'].dt.year).astype('object')"
   ]
  },
  {
   "cell_type": "code",
   "execution_count": 35,
   "metadata": {},
   "outputs": [
    {
     "data": {
      "text/plain": [
       "array([2017, 2016], dtype=object)"
      ]
     },
     "execution_count": 35,
     "metadata": {},
     "output_type": "execute_result"
    }
   ],
   "source": [
    "df['YEAR'].unique()"
   ]
  },
  {
   "cell_type": "code",
   "execution_count": 36,
   "metadata": {},
   "outputs": [],
   "source": [
    "df['SALE JD']=df['SALE DATE'].map(lambda x:julian.to_jd(x, fmt='jd'))"
   ]
  },
  {
   "cell_type": "code",
   "execution_count": 37,
   "metadata": {},
   "outputs": [],
   "source": [
    "df['ZIP CODE']=df['ZIP CODE'].astype(int)"
   ]
  },
  {
   "cell_type": "code",
   "execution_count": 38,
   "metadata": {
    "scrolled": true
   },
   "outputs": [
    {
     "data": {
      "text/plain": [
       "<matplotlib.axes._subplots.AxesSubplot at 0x7f7772e1f160>"
      ]
     },
     "execution_count": 38,
     "metadata": {},
     "output_type": "execute_result"
    },
    {
     "data": {
      "image/png": "[encoded data removed]",
      "text/plain": [
       "<matplotlib.figure.Figure at 0x7f7772dd1748>"
      ]
     },
     "metadata": {},
     "output_type": "display_data"
    }
   ],
   "source": [
    "columns=[col for col in df.columns.values if col!='SALE DATE' and col!='SALE PRICE' and col not in ['BUILDING CLASS CATEGORY', 'TAX CLASS AT PRESENT','TAX CLASS AT TIME OF SALE','BUILDING CLASS AT TIME OF SALE','YEAR']]\n",
    "corr=pd.DataFrame(np.corrcoef(df[columns].values.T), columns, columns)\n",
    "mask = np.zeros_like(corr, dtype=np.bool)\n",
    "mask[np.triu_indices_from(mask)] = True\n",
    "f, ax = plt.subplots(figsize=(6, 6))\n",
    "cmap = sns.diverging_palette(220, 10, as_cmap=True)\n",
    "sns.heatmap(corr,mask=mask, annot=True, square=True, cmap='coolwarm')"
   ]
  },
  {
   "cell_type": "code",
   "execution_count": 39,
   "metadata": {},
   "outputs": [
    {
     "data": {
      "image/png": "[encoded data removed]",
      "text/plain": [
       "<matplotlib.figure.Figure at 0x7f7772cdfeb8>"
      ]
     },
     "metadata": {},
     "output_type": "display_data"
    }
   ],
   "source": [
    "features=[col for col in df.columns.values if col!='SALE DATE' and col!='SALE PRICE' and col not in ['BUILDING CLASS CATEGORY', 'TAX CLASS AT PRESENT','TAX CLASS AT TIME OF SALE','BUILDING CLASS AT TIME OF SALE','YEAR']]\n",
    "plt.figure(figsize=(8,8))\n",
    "for i, feat in enumerate (features):\n",
    "    plt.subplot(3,3,i+1)\n",
    "    plt.scatter(df['SALE PRICE'][:100], df[feat][:100])\n",
    "    plt.xlabel('SALE PRICE')\n",
    "    plt.ylabel(feat)\n",
    "plt.tight_layout()\n",
    "plt.show()"
   ]
  },
  {
   "cell_type": "code",
   "execution_count": 40,
   "metadata": {},
   "outputs": [
    {
     "name": "stdout",
     "output_type": "stream",
     "text": [
      "<class 'pandas.core.frame.DataFrame'>\n",
      "Int64Index: 29319 entries, 0 to 84547\n",
      "Data columns (total 13 columns):\n",
      "BUILDING CLASS CATEGORY           29319 non-null object\n",
      "TAX CLASS AT PRESENT              29319 non-null object\n",
      "ZIP CODE                          29319 non-null int64\n",
      "RESIDENTIAL UNITS                 29319 non-null int64\n",
      "COMMERCIAL UNITS                  29319 non-null int64\n",
      "LAND SQUARE FEET                  29319 non-null float64\n",
      "TAX CLASS AT TIME OF SALE         29319 non-null int64\n",
      "BUILDING CLASS AT TIME OF SALE    29319 non-null object\n",
      "SALE PRICE                        29319 non-null float64\n",
      "SALE DATE                         29319 non-null datetime64[ns]\n",
      "AGE                               29319 non-null float64\n",
      "YEAR                              29319 non-null object\n",
      "SALE JD                           29319 non-null float64\n",
      "dtypes: datetime64[ns](1), float64(4), int64(4), object(4)\n",
      "memory usage: 3.1+ MB\n"
     ]
    }
   ],
   "source": [
    "df.info()"
   ]
  },
  {
   "cell_type": "code",
   "execution_count": 41,
   "metadata": {},
   "outputs": [],
   "source": [
    "var_to_encode=['BUILDING CLASS CATEGORY', 'TAX CLASS AT PRESENT', 'ZIP CODE', 'TAX CLASS AT TIME OF SALE','BUILDING CLASS AT TIME OF SALE','YEAR']\n",
    "df = pd.get_dummies(df, columns=var_to_encode, drop_first=True)"
   ]
  },
  {
   "cell_type": "code",
   "execution_count": 42,
   "metadata": {},
   "outputs": [
    {
     "name": "stdout",
     "output_type": "stream",
     "text": [
      "<class 'pandas.core.frame.DataFrame'>\n",
      "Int64Index: 29319 entries, 0 to 84547\n",
      "Columns: 346 entries, RESIDENTIAL UNITS to YEAR_2017\n",
      "dtypes: datetime64[ns](1), float64(4), int64(2), uint8(339)\n",
      "memory usage: 11.3 MB\n"
     ]
    }
   ],
   "source": [
    "df.info()"
   ]
  },
  {
   "cell_type": "code",
   "execution_count": 43,
   "metadata": {
    "scrolled": true
   },
   "outputs": [
    {
     "data": {
      "text/plain": [
       "<matplotlib.axes._subplots.AxesSubplot at 0x7f7772e792b0>"
      ]
     },
     "execution_count": 43,
     "metadata": {},
     "output_type": "execute_result"
    },
    {
     "data": {
      "image/png": "[encoded data removed]",
      "text/plain": [
       "<matplotlib.figure.Figure at 0x7f7772e215c0>"
      ]
     },
     "metadata": {},
     "output_type": "display_data"
    }
   ],
   "source": [
    "sns.distplot(df['SALE PRICE'])"
   ]
  },
  {
   "cell_type": "code",
   "execution_count": 44,
   "metadata": {},
   "outputs": [
    {
     "data": {
      "text/plain": [
       "<matplotlib.text.Text at 0x7f7772d78da0>"
      ]
     },
     "execution_count": 44,
     "metadata": {},
     "output_type": "execute_result"
    },
    {
     "data": {
      "image/png": "[encoded data removed]",
      "text/plain": [
       "<matplotlib.figure.Figure at 0x7f7772da3ac8>"
      ]
     },
     "metadata": {},
     "output_type": "display_data"
    }
   ],
   "source": [
    "plt.figure(figsize=(15,6))\n",
    "\n",
    "sns.boxplot(x='SALE PRICE', data=df)\n",
    "plt.ticklabel_format(style='plain', axis='x')\n",
    "plt.title('Boxplot of SALE PRICE in USD')"
   ]
  },
  {
   "cell_type": "code",
   "execution_count": 45,
   "metadata": {},
   "outputs": [],
   "source": [
    "#data = data[(data['SALE PRICE'] > 100000) & (data['SALE PRICE'] < 5000000)]\n",
    "df=df[(df['SALE PRICE'] > 100000) & (df['SALE PRICE'] < 5000000)]"
   ]
  },
  {
   "cell_type": "code",
   "execution_count": 46,
   "metadata": {
    "scrolled": true
   },
   "outputs": [
    {
     "data": {
      "text/plain": [
       "26845"
      ]
     },
     "execution_count": 46,
     "metadata": {},
     "output_type": "execute_result"
    }
   ],
   "source": [
    "df.shape[0]"
   ]
  },
  {
   "cell_type": "markdown",
   "metadata": {},
   "source": [
    "## Scaling"
   ]
  },
  {
   "cell_type": "code",
   "execution_count": 47,
   "metadata": {},
   "outputs": [
    {
     "data": {
      "text/plain": [
       "<matplotlib.axes._subplots.AxesSubplot at 0x7f7772e209e8>"
      ]
     },
     "execution_count": 47,
     "metadata": {},
     "output_type": "execute_result"
    },
    {
     "data": {
      "image/png": "[encoded data removed]",
      "text/plain": [
       "<matplotlib.figure.Figure at 0x7f7772e20e80>"
      ]
     },
     "metadata": {},
     "output_type": "display_data"
    }
   ],
   "source": [
    "sns.distplot(df['SALE PRICE'])"
   ]
  },
  {
   "cell_type": "code",
   "execution_count": 48,
   "metadata": {},
   "outputs": [
    {
     "data": {
      "text/plain": [
       "<matplotlib.axes._subplots.AxesSubplot at 0x7f7772e5dac8>"
      ]
     },
     "execution_count": 48,
     "metadata": {},
     "output_type": "execute_result"
    },
    {
     "data": {
      "image/png": "[encoded data removed]",
      "text/plain": [
       "<matplotlib.figure.Figure at 0x7f7772e99fd0>"
      ]
     },
     "metadata": {},
     "output_type": "display_data"
    }
   ],
   "source": [
    "sns.distplot(np.log(df['SALE PRICE']))"
   ]
  },
  {
   "cell_type": "code",
   "execution_count": 49,
   "metadata": {},
   "outputs": [],
   "source": [
    "cols=[col for col in df.columns.values if col!='SALE DATE']"
   ]
  },
  {
   "cell_type": "code",
   "execution_count": 50,
   "metadata": {
    "scrolled": true
   },
   "outputs": [],
   "source": [
    "df['SALE PRICE']=np.log(df['SALE PRICE']+1)"
   ]
  },
  {
   "cell_type": "code",
   "execution_count": 51,
   "metadata": {},
   "outputs": [],
   "source": [
    "col_log=['COMMERCIAL UNITS', 'RESIDENTIAL UNITS', 'LAND SQUARE FEET', 'AGE']\n",
    "df[col_log]=np.log(df[col_log]+1)"
   ]
  },
  {
   "cell_type": "code",
   "execution_count": 52,
   "metadata": {},
   "outputs": [],
   "source": [
    "cols=[col for col in df.columns.values if col!='SALE DATE']\n",
    "scaler=StandardScaler()\n",
    "df[cols]=scaler.fit_transform(df[cols])"
   ]
  },
  {
   "cell_type": "code",
   "execution_count": 54,
   "metadata": {
    "scrolled": false
   },
   "outputs": [
    {
     "name": "stderr",
     "output_type": "stream",
     "text": [
      "/home/ibtissem/anaconda/lib/python3.6/site-packages/numpy/lib/function_base.py:3162: RuntimeWarning: invalid value encountered in true_divide\n",
      "  c /= stddev[:, None]\n",
      "/home/ibtissem/anaconda/lib/python3.6/site-packages/numpy/lib/function_base.py:3163: RuntimeWarning: invalid value encountered in true_divide\n",
      "  c /= stddev[None, :]\n"
     ]
    }
   ],
   "source": [
    "corr=pd.DataFrame(np.corrcoef(df[cols].values.T), cols, cols)"
   ]
  },
  {
   "cell_type": "markdown",
   "metadata": {},
   "source": [
    "## Building Linear Regression Model"
   ]
  },
  {
   "cell_type": "code",
   "execution_count": 55,
   "metadata": {},
   "outputs": [],
   "source": [
    "X=df[[col for col in df.columns.values if col!='SALE DATE' and col!='SALE PRICE' and col!='YEAR_2017']].values\n",
    "Y=df['SALE PRICE'].values"
   ]
  },
  {
   "cell_type": "code",
   "execution_count": 56,
   "metadata": {},
   "outputs": [],
   "source": [
    "X_train, X_test, y_train, y_test=train_test_split(X, Y, test_size=0.3, random_state=26)"
   ]
  },
  {
   "cell_type": "code",
   "execution_count": 57,
   "metadata": {},
   "outputs": [
    {
     "data": {
      "text/plain": [
       "LinearRegression(copy_X=True, fit_intercept=True, n_jobs=1, normalize=False)"
      ]
     },
     "execution_count": 57,
     "metadata": {},
     "output_type": "execute_result"
    }
   ],
   "source": [
    "model=LinearRegression()\n",
    "model.fit(X_train, y_train)"
   ]
  },
  {
   "cell_type": "code",
   "execution_count": 58,
   "metadata": {},
   "outputs": [],
   "source": [
    "predictions=model.predict(X_test)"
   ]
  },
  {
   "cell_type": "code",
   "execution_count": 59,
   "metadata": {},
   "outputs": [
    {
     "name": "stdout",
     "output_type": "stream",
     "text": [
      "R² test:  -2.96399006312e+26\n",
      "R² train:  0.610182397458\n"
     ]
    }
   ],
   "source": [
    "print('R² test: ',metrics.r2_score(y_pred=predictions, y_true=y_test)) \n",
    "print('R² train: ',model.score(X_train, y_train))"
   ]
  },
  {
   "cell_type": "code",
   "execution_count": 60,
   "metadata": {
    "scrolled": false
   },
   "outputs": [
    {
     "name": "stderr",
     "output_type": "stream",
     "text": [
      "/home/ibtissem/anaconda/lib/python3.6/site-packages/statsmodels/base/model.py:1036: RuntimeWarning: invalid value encountered in true_divide\n",
      "  return self.params / self.bse\n",
      "/home/ibtissem/anaconda/lib/python3.6/site-packages/scipy/stats/_distn_infrastructure.py:879: RuntimeWarning: invalid value encountered in greater\n",
      "  return (self.a < x) & (x < self.b)\n",
      "/home/ibtissem/anaconda/lib/python3.6/site-packages/scipy/stats/_distn_infrastructure.py:879: RuntimeWarning: invalid value encountered in less\n",
      "  return (self.a < x) & (x < self.b)\n",
      "/home/ibtissem/anaconda/lib/python3.6/site-packages/scipy/stats/_distn_infrastructure.py:1818: RuntimeWarning: invalid value encountered in less_equal\n",
      "  cond2 = cond0 & (x <= self.a)\n"
     ]
    },
    {
     "name": "stdout",
     "output_type": "stream",
     "text": [
      "                            OLS Regression Results                            \n",
      "==============================================================================\n",
      "Dep. Variable:                      y   R-squared:                       0.611\n",
      "Model:                            OLS   Adj. R-squared:                  0.606\n",
      "Method:                 Least Squares   F-statistic:                     110.7\n",
      "Date:                Tue, 10 Jul 2018   Prob (F-statistic):               0.00\n",
      "Time:                        15:15:38   Log-Likelihood:                -17886.\n",
      "No. Observations:               18791   AIC:                         3.630e+04\n",
      "Df Residuals:                   18527   BIC:                         3.837e+04\n",
      "Df Model:                         263                                         \n",
      "Covariance Type:            nonrobust                                         \n",
      "==============================================================================\n",
      "                 coef    std err          t      P>|t|      [0.025      0.975]\n",
      "------------------------------------------------------------------------------\n",
      "const      -1.349e+09   7.56e+09     -0.178      0.858   -1.62e+10    1.35e+10\n",
      "x1             0.0725      0.024      3.006      0.003       0.025       0.120\n",
      "x2             0.1044      0.016      6.520      0.000       0.073       0.136\n",
      "x3             0.2816      0.006     43.389      0.000       0.269       0.294\n",
      "x4            -0.1147      0.006    -20.299      0.000      -0.126      -0.104\n",
      "x5             0.0492      0.005     10.555      0.000       0.040       0.058\n",
      "x6          5.928e+11   4.53e+11      1.308      0.191   -2.95e+11    1.48e+12\n",
      "x7          9.119e+10   1.52e+11      0.600      0.548   -2.07e+11    3.89e+11\n",
      "x8         -4.712e+10    4.6e+10     -1.024      0.306   -1.37e+11    4.31e+10\n",
      "x9         -1.763e+11   1.14e+11     -1.551      0.121   -3.99e+11    4.65e+10\n",
      "x10         1.717e+11    2.6e+11      0.661      0.508   -3.37e+11    6.81e+11\n",
      "x11        -1.191e+11   1.16e+11     -1.029      0.304   -3.46e+11    1.08e+11\n",
      "x12         2.714e+10   1.27e+11      0.213      0.831   -2.23e+11    2.77e+11\n",
      "x13         1.617e+11   1.62e+11      1.000      0.317   -1.55e+11    4.79e+11\n",
      "x14         3.616e+10   4.04e+10      0.895      0.371    -4.3e+10    1.15e+11\n",
      "x15        -5.834e+10   1.54e+11     -0.378      0.705   -3.61e+11    2.44e+11\n",
      "x16         1.694e+12   9.14e+11      1.853      0.064   -9.74e+10    3.48e+12\n",
      "x17        -3.888e+11   7.12e+11     -0.546      0.585   -1.78e+12    1.01e+12\n",
      "x18        -1.977e+09   6.39e+11     -0.003      0.998   -1.25e+12    1.25e+12\n",
      "x19         7.516e+10   7.12e+10      1.056      0.291   -6.43e+10    2.15e+11\n",
      "x20         -4.35e+12   1.16e+12     -3.759      0.000   -6.62e+12   -2.08e+12\n",
      "x21        -1.472e+10   3.94e+10     -0.374      0.708   -9.19e+10    6.24e+10\n",
      "x22         4.061e+11   4.21e+11      0.964      0.335    -4.2e+11    1.23e+12\n",
      "x23        -9.354e+10   1.01e+11     -0.929      0.353   -2.91e+11    1.04e+11\n",
      "x24        -2.367e+10   4.68e+10     -0.506      0.613   -1.15e+11    6.81e+10\n",
      "x25         -3.81e+11   7.71e+11     -0.494      0.621   -1.89e+12    1.13e+12\n",
      "x26         7.286e+11   7.69e+11      0.947      0.343   -7.79e+11    2.24e+12\n",
      "x27         2.771e+11   2.41e+11      1.148      0.251   -1.96e+11     7.5e+11\n",
      "x28         -7.62e+11   6.61e+11     -1.152      0.249   -2.06e+12    5.34e+11\n",
      "x29          1.77e+11   1.96e+11      0.903      0.367   -2.07e+11    5.61e+11\n",
      "x30        -1.634e+11   1.69e+11     -0.966      0.334   -4.95e+11    1.68e+11\n",
      "x31        -3.144e+10      3e+10     -1.048      0.295   -9.03e+10    2.74e+10\n",
      "x32        -1.452e+11   1.26e+11     -1.155      0.248   -3.92e+11    1.01e+11\n",
      "x33        -4.605e+10   4.96e+10     -0.928      0.354   -1.43e+11    5.12e+10\n",
      "x34           -0.1857      0.073     -2.558      0.011      -0.328      -0.043\n",
      "x35           -0.3054      0.075     -4.049      0.000      -0.453      -0.158\n",
      "x36            0.0074      0.010      0.727      0.467      -0.012       0.027\n",
      "x37            0.0296      0.012      2.386      0.017       0.005       0.054\n",
      "x38        -2.753e+11    2.2e+11     -1.250      0.211   -7.07e+11    1.56e+11\n",
      "x39            0.0193      0.008      2.407      0.016       0.004       0.035\n",
      "x40         1.114e+11   7.38e+10      1.509      0.131   -3.33e+10    2.56e+11\n",
      "x41        -1.791e+11   8.81e+10     -2.033      0.042   -3.52e+11   -6.44e+09\n",
      "x42            0.0165      0.011      1.464      0.143      -0.006       0.039\n",
      "x43            0.0159      0.008      1.939      0.053      -0.000       0.032\n",
      "x44            0.0046      0.013      0.354      0.723      -0.021       0.030\n",
      "x45         3.327e+11   2.86e+11      1.163      0.245   -2.28e+11    8.94e+11\n",
      "x46            0.0057      0.010      0.562      0.574      -0.014       0.026\n",
      "x47           -0.0101      0.010     -0.996      0.319      -0.030       0.010\n",
      "x48            0.0314      0.012      2.566      0.010       0.007       0.055\n",
      "x49         1.801e+10   2.59e+10      0.696      0.486   -3.27e+10    6.87e+10\n",
      "x50            0.0136      0.006      2.259      0.024       0.002       0.025\n",
      "x51            0.0156      0.014      1.145      0.252      -0.011       0.042\n",
      "x52           -0.0213      0.006     -3.689      0.000      -0.033      -0.010\n",
      "x53            0.0070      0.011      0.663      0.507      -0.014       0.028\n",
      "x54        -2.928e+11   2.37e+11     -1.236      0.216   -7.57e+11    1.71e+11\n",
      "x55           -0.0006      0.011     -0.056      0.955      -0.023       0.022\n",
      "x56            0.0190      0.014      1.346      0.178      -0.009       0.047\n",
      "x57           -0.0038      0.018     -0.213      0.832      -0.038       0.031\n",
      "x58            0.0116      0.026      0.441      0.660      -0.040       0.063\n",
      "x59            0.0172      0.007      2.373      0.018       0.003       0.031\n",
      "x60            0.0011      0.026      0.040      0.968      -0.050       0.053\n",
      "x61            0.0139      0.022      0.626      0.532      -0.030       0.057\n",
      "x62            0.0163      0.029      0.557      0.577      -0.041       0.074\n",
      "x63            0.0008      0.016      0.054      0.957      -0.030       0.031\n",
      "x64           -0.0039      0.011     -0.341      0.733      -0.026       0.019\n",
      "x65           -0.0161      0.009     -1.816      0.069      -0.034       0.001\n",
      "x66            0.0083      0.022      0.371      0.710      -0.035       0.052\n",
      "x67         6.668e+09   4.43e+10      0.150      0.880   -8.02e+10    9.35e+10\n",
      "x68            0.0159      0.011      1.388      0.165      -0.007       0.038\n",
      "x69          6.18e+10    2.4e+10      2.573      0.010    1.47e+10    1.09e+11\n",
      "x70            0.0028      0.007      0.382      0.702      -0.011       0.017\n",
      "x71         1.512e+11   1.43e+11      1.058      0.290   -1.29e+11    4.31e+11\n",
      "x72         8.454e+10   9.39e+10      0.900      0.368   -9.95e+10    2.69e+11\n",
      "x73         -7.25e+10   6.17e+10     -1.176      0.240   -1.93e+11    4.83e+10\n",
      "x74            0.0157      0.009      1.776      0.076      -0.002       0.033\n",
      "x75         1.321e+11   1.53e+11      0.863      0.388   -1.68e+11    4.32e+11\n",
      "x76            0.0207      0.009      2.355      0.019       0.003       0.038\n",
      "x77        -8.764e+10   8.98e+10     -0.976      0.329   -2.64e+11    8.84e+10\n",
      "x78           -0.1955      0.071     -2.765      0.006      -0.334      -0.057\n",
      "x79           -0.2096      0.062     -3.381      0.001      -0.331      -0.088\n",
      "x80           -0.2278      0.066     -3.454      0.001      -0.357      -0.099\n",
      "x81           -0.2374      0.083     -2.850      0.004      -0.401      -0.074\n",
      "x82           -0.2317      0.089     -2.603      0.009      -0.406      -0.057\n",
      "x83           -0.2759      0.107     -2.589      0.010      -0.485      -0.067\n",
      "x84           -0.1386      0.055     -2.516      0.012      -0.247      -0.031\n",
      "x85           -0.1916      0.075     -2.563      0.010      -0.338      -0.045\n",
      "x86           -0.2172      0.085     -2.569      0.010      -0.383      -0.051\n",
      "x87           -0.2027      0.068     -3.002      0.003      -0.335      -0.070\n",
      "x88           -0.2890      0.116     -2.499      0.012      -0.516      -0.062\n",
      "x89           -0.3011      0.122     -2.464      0.014      -0.541      -0.062\n",
      "x90           -0.0318      0.022     -1.456      0.145      -0.075       0.011\n",
      "x91           -0.0543      0.023     -2.326      0.020      -0.100      -0.009\n",
      "x92           -0.0902      0.032     -2.850      0.004      -0.152      -0.028\n",
      "x93           -0.0574      0.033     -1.741      0.082      -0.122       0.007\n",
      "x94           -0.0599      0.027     -2.195      0.028      -0.113      -0.006\n",
      "x95           -0.1147      0.043     -2.642      0.008      -0.200      -0.030\n",
      "x96           -0.1184      0.047     -2.520      0.012      -0.210      -0.026\n",
      "x97           -0.1033      0.043     -2.426      0.015      -0.187      -0.020\n",
      "x98           -0.1157      0.043     -2.666      0.008      -0.201      -0.031\n",
      "x99           -0.1161      0.047     -2.492      0.013      -0.208      -0.025\n",
      "x100          -0.1730      0.070     -2.464      0.014      -0.311      -0.035\n",
      "x101          -0.1369      0.056     -2.427      0.015      -0.247      -0.026\n",
      "x102          -0.0664      0.035     -1.903      0.057      -0.135       0.002\n",
      "x103          -0.0728      0.027     -2.666      0.008      -0.126      -0.019\n",
      "x104          -0.1987      0.076     -2.609      0.009      -0.348      -0.049\n",
      "x105          -0.2395      0.082     -2.933      0.003      -0.400      -0.079\n",
      "x106          -0.1683      0.062     -2.735      0.006      -0.289      -0.048\n",
      "x107          -0.0716      0.031     -2.307      0.021      -0.132      -0.011\n",
      "x108          -0.2404      0.087     -2.757      0.006      -0.411      -0.070\n",
      "x109          -0.0932      0.038     -2.476      0.013      -0.167      -0.019\n",
      "x110          -0.0497      0.033     -1.517      0.129      -0.114       0.015\n",
      "x111          -0.1492      0.054     -2.767      0.006      -0.255      -0.044\n",
      "x112          -0.1796      0.061     -2.968      0.003      -0.298      -0.061\n",
      "x113          -0.0707      0.026     -2.685      0.007      -0.122      -0.019\n",
      "x114          -0.0708      0.021     -3.438      0.001      -0.111      -0.030\n",
      "x115          -0.0052      0.006     -0.900      0.368      -0.016       0.006\n",
      "x116          -0.0624      0.028     -2.205      0.027      -0.118      -0.007\n",
      "x117          -0.0729      0.038     -1.911      0.056      -0.148       0.002\n",
      "x118          -0.0258      0.006     -4.283      0.000      -0.038      -0.014\n",
      "x119          -0.0393      0.019     -2.067      0.039      -0.077      -0.002\n",
      "x120          -0.0158      0.028     -0.573      0.567      -0.070       0.038\n",
      "x121          -0.0179      0.030     -0.602      0.547      -0.076       0.040\n",
      "x122          -0.0271      0.038     -0.712      0.476      -0.102       0.048\n",
      "x123          -0.0313      0.028     -1.118      0.263      -0.086       0.024\n",
      "x124          -0.0284      0.043     -0.663      0.508      -0.112       0.056\n",
      "x125          -0.0136      0.034     -0.403      0.687      -0.080       0.053\n",
      "x126           0.0416      0.031      1.339      0.181      -0.019       0.102\n",
      "x127          -0.1767      0.078     -2.252      0.024      -0.331      -0.023\n",
      "x128          -0.0428      0.070     -0.609      0.543      -0.181       0.095\n",
      "x129           0.0057      0.040      0.141      0.888      -0.074       0.085\n",
      "x130          -0.0347      0.044     -0.792      0.428      -0.120       0.051\n",
      "x131          -0.1868      0.089     -2.109      0.035      -0.360      -0.013\n",
      "x132          -0.2190      0.090     -2.445      0.014      -0.395      -0.043\n",
      "x133          -0.0320      0.059     -0.540      0.590      -0.148       0.084\n",
      "x134          -0.0826      0.069     -1.191      0.234      -0.218       0.053\n",
      "x135           0.0144      0.043      0.331      0.741      -0.071       0.099\n",
      "x136          -0.1500      0.059     -2.522      0.012      -0.267      -0.033\n",
      "x137          -0.0492      0.053     -0.932      0.351      -0.153       0.054\n",
      "x138          -0.0522      0.062     -0.837      0.403      -0.175       0.070\n",
      "x139           0.0540      0.061      0.893      0.372      -0.065       0.173\n",
      "x140          -0.0142      0.062     -0.229      0.819      -0.136       0.108\n",
      "x141           0.0541      0.042      1.291      0.197      -0.028       0.136\n",
      "x142          -0.0255      0.055     -0.464      0.643      -0.133       0.082\n",
      "x143          -0.0286      0.060     -0.474      0.635      -0.147       0.090\n",
      "x144          -0.0439      0.060     -0.736      0.462      -0.161       0.073\n",
      "x145          -0.0556      0.080     -0.696      0.486      -0.212       0.101\n",
      "x146           0.0086      0.043      0.199      0.842      -0.076       0.094\n",
      "x147          -0.0543      0.071     -0.769      0.442      -0.193       0.084\n",
      "x148          -0.0874      0.041     -2.139      0.032      -0.167      -0.007\n",
      "x149          -0.0206      0.046     -0.446      0.655      -0.111       0.070\n",
      "x150          -0.0773      0.060     -1.290      0.197      -0.195       0.040\n",
      "x151          -0.0406      0.065     -0.629      0.530      -0.167       0.086\n",
      "x152          -0.1090      0.079     -1.374      0.170      -0.264       0.047\n",
      "x153          -0.0289      0.061     -0.473      0.636      -0.149       0.091\n",
      "x154           0.0419      0.047      0.889      0.374      -0.051       0.134\n",
      "x155          -0.0210      0.036     -0.578      0.563      -0.092       0.050\n",
      "x156          -0.0766      0.073     -1.053      0.292      -0.219       0.066\n",
      "x157          -0.1970      0.106     -1.856      0.063      -0.405       0.011\n",
      "x158          -0.0986      0.068     -1.442      0.149      -0.233       0.035\n",
      "x159          -0.2057      0.084     -2.458      0.014      -0.370      -0.042\n",
      "x160          -0.0290      0.041     -0.703      0.482      -0.110       0.052\n",
      "x161           0.0263      0.043      0.606      0.544      -0.059       0.111\n",
      "x162          -0.0548      0.018     -3.087      0.002      -0.090      -0.020\n",
      "x163           0.0225      0.021      1.098      0.272      -0.018       0.063\n",
      "x164          -0.0566      0.047     -1.205      0.228      -0.149       0.036\n",
      "x165          -0.0518      0.063     -0.825      0.409      -0.175       0.071\n",
      "x166          -0.0968      0.063     -1.534      0.125      -0.221       0.027\n",
      "x167          -0.1027      0.074     -1.387      0.165      -0.248       0.042\n",
      "x168          -0.0899      0.072     -1.249      0.212      -0.231       0.051\n",
      "x169          -0.0434      0.040     -1.093      0.274      -0.121       0.034\n",
      "x170          -0.0759      0.062     -1.230      0.219      -0.197       0.045\n",
      "x171          -0.0613      0.045     -1.354      0.176      -0.150       0.027\n",
      "x172          -0.0521      0.035     -1.503      0.133      -0.120       0.016\n",
      "x173          -0.0712      0.057     -1.252      0.211      -0.183       0.040\n",
      "x174          -0.0804      0.064     -1.252      0.211      -0.206       0.045\n",
      "x175          -0.0660      0.048     -1.371      0.170      -0.160       0.028\n",
      "x176          -0.0593      0.049     -1.209      0.227      -0.155       0.037\n",
      "x177          -0.1027      0.070     -1.463      0.143      -0.240       0.035\n",
      "x178          -0.1114      0.063     -1.773      0.076      -0.235       0.012\n",
      "x179          -0.0687      0.042     -1.622      0.105      -0.152       0.014\n",
      "x180          -0.0222      0.033     -0.672      0.501      -0.087       0.043\n",
      "x181          -0.0636      0.053     -1.194      0.232      -0.168       0.041\n",
      "x182          -0.0486      0.043     -1.141      0.254      -0.132       0.035\n",
      "x183          -0.0432      0.058     -0.747      0.455      -0.156       0.070\n",
      "x184          -0.0663      0.057     -1.160      0.246      -0.178       0.046\n",
      "x185          -0.1005      0.063     -1.586      0.113      -0.225       0.024\n",
      "x186          -0.0867      0.066     -1.318      0.188      -0.216       0.042\n",
      "x187          -0.1177      0.082     -1.441      0.149      -0.278       0.042\n",
      "x188          -0.1611      0.056     -2.899      0.004      -0.270      -0.052\n",
      "x189          -0.2385      0.082     -2.922      0.003      -0.399      -0.079\n",
      "x190          -0.2389      0.084     -2.859      0.004      -0.403      -0.075\n",
      "x191          -0.1415      0.062     -2.271      0.023      -0.264      -0.019\n",
      "x192          -0.0417      0.026     -1.576      0.115      -0.094       0.010\n",
      "x193          -0.1136      0.053     -2.146      0.032      -0.217      -0.010\n",
      "x194          -0.1446      0.061     -2.361      0.018      -0.265      -0.025\n",
      "x195          -0.1124      0.055     -2.028      0.043      -0.221      -0.004\n",
      "x196          -0.1499      0.066     -2.280      0.023      -0.279      -0.021\n",
      "x197          -0.2087      0.083     -2.523      0.012      -0.371      -0.047\n",
      "x198          -0.1395      0.070     -1.998      0.046      -0.276      -0.003\n",
      "x199          -0.1707      0.062     -2.747      0.006      -0.292      -0.049\n",
      "x200          -0.1290      0.057     -2.269      0.023      -0.241      -0.018\n",
      "x201          -0.1232      0.054     -2.277      0.023      -0.229      -0.017\n",
      "x202          -0.1070      0.048     -2.207      0.027      -0.202      -0.012\n",
      "x203          -0.1362      0.052     -2.607      0.009      -0.239      -0.034\n",
      "x204          -0.1671      0.061     -2.741      0.006      -0.287      -0.048\n",
      "x205          -0.0986      0.061     -1.610      0.107      -0.219       0.021\n",
      "x206          -0.2063      0.072     -2.847      0.004      -0.348      -0.064\n",
      "x207          -0.2740      0.095     -2.880      0.004      -0.461      -0.088\n",
      "x208          -0.1379      0.057     -2.431      0.015      -0.249      -0.027\n",
      "x209          -0.1926      0.065     -2.959      0.003      -0.320      -0.065\n",
      "x210          -0.2097      0.067     -3.145      0.002      -0.340      -0.079\n",
      "x211          -0.1419      0.044     -3.237      0.001      -0.228      -0.056\n",
      "x212          -0.1118      0.037     -3.031      0.002      -0.184      -0.039\n",
      "x213          -0.0819      0.046     -1.795      0.073      -0.171       0.008\n",
      "x214        -1.65e+11   1.51e+11     -1.090      0.276   -4.62e+11    1.32e+11\n",
      "x215        8.411e+11   5.53e+11      1.522      0.128   -2.42e+11    1.92e+12\n",
      "x216           0.0691      0.018      3.807      0.000       0.034       0.105\n",
      "x217          -0.0003      0.013     -0.023      0.982      -0.025       0.025\n",
      "x218           0.0691      0.007     10.450      0.000       0.056       0.082\n",
      "x219           0.0485      0.006      8.656      0.000       0.037       0.059\n",
      "x220           0.0569      0.018      3.250      0.001       0.023       0.091\n",
      "x221          -0.0303      0.005     -5.884      0.000      -0.040      -0.020\n",
      "x222           0.0102      0.004      2.631      0.009       0.003       0.018\n",
      "x223           0.0101      0.010      1.012      0.311      -0.009       0.030\n",
      "x224       -3.729e+11   2.85e+11     -1.308      0.191   -9.32e+11    1.86e+11\n",
      "x225       -3.955e+11   3.02e+11     -1.308      0.191   -9.88e+11    1.97e+11\n",
      "x226       -3.552e+11   2.72e+11     -1.308      0.191   -8.87e+11    1.77e+11\n",
      "x227       -2.247e+11   1.72e+11     -1.308      0.191   -5.61e+11    1.12e+11\n",
      "x228       -9.119e+10   1.52e+11     -0.600      0.548   -3.89e+11    2.07e+11\n",
      "x229       -1.042e+10   8.14e+10     -0.128      0.898    -1.7e+11    1.49e+11\n",
      "x230       -1.227e+10   9.59e+10     -0.128      0.898      -2e+11    1.76e+11\n",
      "x231       -1.489e+10   1.16e+11     -0.128      0.898   -2.43e+11    2.13e+11\n",
      "x232         -4.4e+09   3.44e+10     -0.128      0.898   -7.18e+10     6.3e+10\n",
      "x233       -5.188e+09   4.05e+10     -0.128      0.898   -8.47e+10    7.43e+10\n",
      "x234       -1.613e+10   1.23e+11     -0.131      0.895   -2.57e+11    2.24e+11\n",
      "x235       -5.268e+09   4.12e+10     -0.128      0.898    -8.6e+10    7.54e+10\n",
      "x236       -1.452e+09   1.13e+10     -0.128      0.898   -2.37e+10    2.08e+10\n",
      "x237        1.884e+11   1.46e+11      1.289      0.197   -9.81e+10    4.75e+11\n",
      "x238        1.021e+11   9.75e+10      1.048      0.295   -8.89e+10    2.93e+11\n",
      "x239        1.856e+11   1.73e+11      1.070      0.285   -1.54e+11    5.26e+11\n",
      "x240        1.112e+11   3.33e+10      3.344      0.001     4.6e+10    1.76e+11\n",
      "x241       -1.418e+11   1.49e+11     -0.955      0.340   -4.33e+11    1.49e+11\n",
      "x242        -7.48e+09   1.41e+10     -0.531      0.595   -3.51e+10    2.01e+10\n",
      "x243        6.888e+10   6.57e+10      1.048      0.295      -6e+10    1.98e+11\n",
      "x244        4.356e+10   4.16e+10      1.048      0.295   -3.79e+10    1.25e+11\n",
      "x245        4.356e+10   4.16e+10      1.048      0.295   -3.79e+10    1.25e+11\n",
      "x246        -1.67e+11   9.09e+10     -1.838      0.066   -3.45e+11    1.11e+10\n",
      "x247       -7.223e+10   3.93e+10     -1.838      0.066   -1.49e+11    4.81e+09\n",
      "x248       -1.004e+11   4.48e+10     -2.242      0.025   -1.88e+11   -1.26e+10\n",
      "x249       -1.109e+11   6.03e+10     -1.838      0.066   -2.29e+11    7.38e+09\n",
      "x250        -7.36e+10   4.24e+10     -1.737      0.082   -1.57e+11    9.47e+09\n",
      "x251        -3.68e+10   2.12e+10     -1.737      0.082   -7.83e+10    4.74e+09\n",
      "x252       -1.104e+11   6.36e+10     -1.737      0.082   -2.35e+11    1.42e+10\n",
      "x253       -1.471e+11   8.47e+10     -1.737      0.082   -3.13e+11    1.89e+10\n",
      "x254       -7.806e+10    4.5e+10     -1.737      0.082   -1.66e+11       1e+10\n",
      "x255        1.729e+11   1.11e+11      1.551      0.121   -4.56e+10    3.91e+11\n",
      "x256       -4.422e+11   3.69e+11     -1.197      0.231   -1.17e+12    2.82e+11\n",
      "x257       -4.336e+11   3.62e+11     -1.197      0.231   -1.14e+12    2.76e+11\n",
      "x258       -1.841e+11   1.54e+11     -1.197      0.231   -4.86e+11    1.17e+11\n",
      "x259       -1.372e+11   1.15e+11     -1.197      0.231   -3.62e+11    8.75e+10\n",
      "x260       -1.155e+10   7.54e+10     -0.153      0.878   -1.59e+11    1.36e+11\n",
      "x261       -1.503e+11   1.26e+11     -1.197      0.231   -3.97e+11    9.58e+10\n",
      "x262        -8.68e+10   7.25e+10     -1.197      0.231   -2.29e+11    5.53e+10\n",
      "x263        -2.53e+11   2.11e+11     -1.197      0.231   -6.67e+11    1.61e+11\n",
      "x264       -1.063e+11   8.88e+10     -1.197      0.231    -2.8e+11    6.78e+10\n",
      "x265        -8.68e+10   7.25e+10     -1.197      0.231   -2.29e+11    5.53e+10\n",
      "x266         -1.1e+10   1.02e+11     -0.108      0.914    -2.1e+11    1.88e+11\n",
      "x267        1.412e+10   2.75e+10      0.514      0.607   -3.97e+10    6.79e+10\n",
      "x268        2.696e+12   7.32e+11      3.686      0.000    1.26e+12    4.13e+12\n",
      "x269        1.907e+12   5.17e+11      3.686      0.000    8.93e+11    2.92e+12\n",
      "x270        7.656e+09   5.91e+10      0.129      0.897   -1.08e+11    1.24e+11\n",
      "x271        1.907e+12   5.17e+11      3.686      0.000    8.93e+11    2.92e+12\n",
      "x272       -5.102e+09      1e+10     -0.508      0.611   -2.48e+10    1.46e+10\n",
      "x273           0.0005      0.002      0.279      0.780      -0.003       0.004\n",
      "x274           0.0010      0.000      3.301      0.001       0.000       0.002\n",
      "x275        1.907e+12   5.17e+11      3.686      0.000    8.93e+11    2.92e+12\n",
      "x276          -0.0002      0.000     -1.936      0.053      -0.000    2.73e-06\n",
      "x277       -7.885e-05   2.88e-05     -2.740      0.006      -0.000   -2.24e-05\n",
      "x278        2.349e+10   2.96e+10      0.793      0.428   -3.45e+10    8.15e+10\n",
      "x279        7.789e+10   2.12e+11      0.367      0.713   -3.38e+11    4.93e+11\n",
      "x280        1.742e+11   4.74e+11      0.367      0.713   -7.55e+11     1.1e+12\n",
      "x281        1.102e+11      3e+11      0.367      0.713   -4.77e+11    6.98e+11\n",
      "x282       -1.284e+10   3.09e+10     -0.416      0.678   -7.34e+10    4.77e+10\n",
      "x283       -1.284e+10   3.09e+10     -0.416      0.678   -7.34e+10    4.77e+10\n",
      "x284        1.057e-06    9.1e-06      0.116      0.908   -1.68e-05    1.89e-05\n",
      "x285        3.175e-06   1.55e-06      2.049      0.041    1.37e-07    6.21e-06\n",
      "x286       -1.784e-06   2.79e-06     -0.640      0.522   -7.24e-06    3.68e-06\n",
      "x287       -2.041e-06   1.41e-06     -1.446      0.148   -4.81e-06    7.26e-07\n",
      "x288       -8.082e+10   4.19e+11     -0.193      0.847   -9.02e+11     7.4e+11\n",
      "x289        -5.39e+10   2.79e+11     -0.193      0.847   -6.01e+11    4.93e+11\n",
      "x290       -1.217e+10    6.3e+10     -0.193      0.847   -1.36e+11    1.11e+11\n",
      "x291       -8.231e+10   4.26e+11     -0.193      0.847   -9.18e+11    7.54e+11\n",
      "x292       -2.221e+10   1.15e+11     -0.193      0.847   -2.48e+11    2.03e+11\n",
      "x293       -1.405e+10   7.28e+10     -0.193      0.847   -1.57e+11    1.29e+11\n",
      "x294       -1.284e+10   3.09e+10     -0.416      0.678   -7.34e+10    4.77e+10\n",
      "x295       -7.025e+09   3.64e+10     -0.193      0.847   -7.84e+10    6.43e+10\n",
      "x296       -1.571e+10   8.14e+10     -0.193      0.847   -1.75e+11    1.44e+11\n",
      "x297       -3.817e+10   3.74e+11     -0.102      0.919   -7.71e+11    6.94e+11\n",
      "x298        8.538e-10   4.17e-10      2.047      0.041    3.62e-11    1.67e-09\n",
      "x299       -1.284e+10   3.09e+10     -0.416      0.678   -7.34e+10    4.77e+10\n",
      "x300       -3.817e+10   3.74e+11     -0.102      0.919   -7.71e+11    6.94e+11\n",
      "x301       -2.366e+10   8.02e+10     -0.295      0.768   -1.81e+11    1.33e+11\n",
      "x302        8.477e-20   2.74e-19      0.309      0.757   -4.53e-19    6.23e-19\n",
      "x303       -4.185e+09   1.42e+10     -0.295      0.768    -3.2e+10    2.36e+10\n",
      "x304        5.315e+10   4.87e+10      1.092      0.275   -4.23e+10    1.49e+11\n",
      "x305       -1.509e+10   5.11e+10     -0.295      0.768   -1.15e+11    8.51e+10\n",
      "x306        -2.25e+10   1.85e+10     -1.213      0.225   -5.89e+10    1.39e+10\n",
      "x307       -3.558e+10   2.93e+10     -1.213      0.225   -9.31e+10    2.19e+10\n",
      "x308       -6.886e+11   3.73e+11     -1.848      0.065   -1.42e+12    4.19e+10\n",
      "x309       -1.051e+12   5.69e+11     -1.848      0.065   -2.17e+12    6.39e+10\n",
      "x310                0          0        nan        nan           0           0\n",
      "x311       -2.515e+11   1.36e+11     -1.848      0.065   -5.18e+11    1.53e+10\n",
      "x312       -8.338e+11   4.51e+11     -1.848      0.065   -1.72e+12    5.07e+10\n",
      "x313                0          0        nan        nan           0           0\n",
      "x314       -1.066e+12   5.77e+11     -1.848      0.065    -2.2e+12    6.48e+10\n",
      "x315       -7.543e+11   4.08e+11     -1.848      0.065   -1.55e+12    4.59e+10\n",
      "x316                0          0        nan        nan           0           0\n",
      "x317        3.329e+11   3.33e+11      1.000      0.317    -3.2e+11    9.86e+11\n",
      "x318        3.844e+11   3.85e+11      1.000      0.317   -3.69e+11    1.14e+12\n",
      "x319        4.153e+10   3.39e+10      1.224      0.221    -2.5e+10    1.08e+11\n",
      "x320        1.432e+10   2.31e+10      0.619      0.536   -3.11e+10    5.97e+10\n",
      "x321        3.329e+11   3.33e+11      1.000      0.317    -3.2e+11    9.86e+11\n",
      "x322                0          0        nan        nan           0           0\n",
      "x323         -3.2e+10   4.01e+10     -0.798      0.425   -1.11e+11    4.66e+10\n",
      "x324                0          0        nan        nan           0           0\n",
      "x325          -0.0028      0.004     -0.695      0.487      -0.011       0.005\n",
      "x326           0.0030      0.007      0.420      0.674      -0.011       0.017\n",
      "x327       -1.506e+11   1.15e+11     -1.308      0.191   -3.76e+11    7.51e+10\n",
      "x328        6.778e+10   7.86e+10      0.862      0.389   -8.64e+10    2.22e+11\n",
      "x329        5.958e+10   6.91e+10      0.862      0.389   -7.59e+10    1.95e+11\n",
      "x330        5.341e+10    6.2e+10      0.862      0.389   -6.81e+10    1.75e+11\n",
      "x331         7.47e+10   8.67e+10      0.862      0.389   -9.52e+10    2.45e+11\n",
      "x332        4.712e+10    4.6e+10      1.024      0.306   -4.31e+10    1.37e+11\n",
      "x333       -6.421e+10   2.87e+10     -2.241      0.025    -1.2e+11   -8.04e+09\n",
      "x334                0          0        nan        nan           0           0\n",
      "x335       -3.982e+11   3.73e+11     -1.068      0.286   -1.13e+12    3.33e+11\n",
      "x336       -3.982e+11   3.73e+11     -1.068      0.286   -1.13e+12    3.33e+11\n",
      "x337        4.153e+10   3.39e+10      1.224      0.221    -2.5e+10    1.08e+11\n",
      "x338       -2.299e+11   2.15e+11     -1.068      0.286   -6.52e+11    1.92e+11\n",
      "x339       -5.141e+11   4.81e+11     -1.068      0.286   -1.46e+12    4.29e+11\n",
      "x340                0          0        nan        nan           0           0\n",
      "x341                0          0        nan        nan           0           0\n",
      "x342        3.459e+10   2.23e+10      1.551      0.121   -9.13e+09    7.83e+10\n",
      "x343       -3.733e+10    2.3e+10     -1.620      0.105   -8.25e+10    7.85e+09\n",
      "==============================================================================\n",
      "Omnibus:                     5163.970   Durbin-Watson:                   1.997\n",
      "Prob(Omnibus):                  0.000   Jarque-Bera (JB):            25714.224\n",
      "Skew:                          -1.244   Prob(JB):                         0.00\n",
      "Kurtosis:                       8.163   Cond. No.                     1.52e+17\n",
      "==============================================================================\n",
      "\n",
      "Warnings:\n",
      "[1] Standard Errors assume that the covariance matrix of the errors is correctly specified.\n",
      "[2] The smallest eigenvalue is 4.07e-30. This might indicate that there are\n",
      "strong multicollinearity problems or that the design matrix is singular.\n",
      "R² test:  -6.70880135955e+23\n"
     ]
    }
   ],
   "source": [
    "X=df[[col for col in df.columns.values if col!='SALE DATE' and col!='SALE PRICE' and col!='YEAR_2017']].values\n",
    "Y=df['SALE PRICE'].values\n",
    "X= sm.add_constant(X)\n",
    "X_train, X_test, y_train, y_test=train_test_split(X, Y, test_size=0.3, random_state=26)\n",
    "results = sm.OLS(y_train, X_train).fit()\n",
    "predict=results.predict(X_test)\n",
    "print(results.summary())\n",
    "print('R² test: ',metrics.r2_score(y_pred=predict, y_true=y_test)) "
   ]
  },
  {
   "cell_type": "markdown",
   "metadata": {},
   "source": [
    "## Eliminating non significant features (high p value)"
   ]
  },
  {
   "cell_type": "code",
   "execution_count": 61,
   "metadata": {},
   "outputs": [
    {
     "name": "stderr",
     "output_type": "stream",
     "text": [
      "/home/ibtissem/.local/lib/python3.6/site-packages/ipykernel_launcher.py:4: RuntimeWarning: invalid value encountered in greater\n",
      "  after removing the cwd from sys.path.\n"
     ]
    }
   ],
   "source": [
    "predictors=np.array([col for col in df.columns.values if col!='SALE DATE' and col!='SALE PRICE' and col!='YEAR_2017'])\n",
    "pvalues=results.pvalues\n",
    "indexes=np.where(pvalues>0.05)[0]\n",
    "cols_eliminate=predictors[(indexes-1).tolist()].tolist()"
   ]
  },
  {
   "cell_type": "code",
   "execution_count": 62,
   "metadata": {
    "scrolled": false
   },
   "outputs": [
    {
     "name": "stdout",
     "output_type": "stream",
     "text": [
      "                            OLS Regression Results                            \n",
      "==============================================================================\n",
      "Dep. Variable:                      y   R-squared:                       0.480\n",
      "Model:                            OLS   Adj. R-squared:                  0.477\n",
      "Method:                 Least Squares   F-statistic:                     189.7\n",
      "Date:                Tue, 10 Jul 2018   Prob (F-statistic):               0.00\n",
      "Time:                        15:15:39   Log-Likelihood:                -20617.\n",
      "No. Observations:               18791   AIC:                         4.142e+04\n",
      "Df Residuals:                   18699   BIC:                         4.214e+04\n",
      "Df Model:                          91                                         \n",
      "Covariance Type:            nonrobust                                         \n",
      "==============================================================================\n",
      "                 coef    std err          t      P>|t|      [0.025      0.975]\n",
      "------------------------------------------------------------------------------\n",
      "const          0.0039      0.005      0.734      0.463      -0.007       0.014\n",
      "x1             0.1839      0.010     18.475      0.000       0.164       0.203\n",
      "x2             0.1046      0.009     11.395      0.000       0.087       0.123\n",
      "x3             0.1487      0.006     23.692      0.000       0.136       0.161\n",
      "x4            -0.0940      0.006    -15.254      0.000      -0.106      -0.082\n",
      "x5             0.0454      0.005      8.524      0.000       0.035       0.056\n",
      "x6          9.887e+10   6.49e+11      0.152      0.879   -1.17e+12    1.37e+12\n",
      "x7             0.0779      0.008     10.297      0.000       0.063       0.093\n",
      "x8             0.1366      0.009     16.045      0.000       0.120       0.153\n",
      "x9             0.0378      0.006      6.436      0.000       0.026       0.049\n",
      "x10           -0.0027      0.004     -0.602      0.547      -0.011       0.006\n",
      "x11        -2.264e+09   1.49e+10     -0.152      0.879   -3.14e+10    2.68e+10\n",
      "x12            0.0259      0.005      4.927      0.000       0.016       0.036\n",
      "x13            0.0012      0.004      0.270      0.787      -0.008       0.010\n",
      "x14           -0.0214      0.004     -4.794      0.000      -0.030      -0.013\n",
      "x15           -0.0003      0.004     -0.057      0.954      -0.009       0.008\n",
      "x16         3.144e+08   2.06e+09      0.152      0.879   -3.73e+09    4.36e+09\n",
      "x17            0.0196      0.005      3.589      0.000       0.009       0.030\n",
      "x18           -0.1170      0.005    -21.522      0.000      -0.128      -0.106\n",
      "x19           -0.1402      0.006    -24.909      0.000      -0.151      -0.129\n",
      "x20           -0.1551      0.006    -27.617      0.000      -0.166      -0.144\n",
      "x21           -0.1403      0.006    -25.405      0.000      -0.151      -0.129\n",
      "x22           -0.1336      0.005    -24.584      0.000      -0.144      -0.123\n",
      "x23           -0.1551      0.005    -28.274      0.000      -0.166      -0.144\n",
      "x24           -0.0731      0.005    -13.572      0.000      -0.084      -0.063\n",
      "x25           -0.1072      0.005    -19.773      0.000      -0.118      -0.097\n",
      "x26           -0.1129      0.006    -19.867      0.000      -0.124      -0.102\n",
      "x27           -0.1233      0.005    -23.188      0.000      -0.134      -0.113\n",
      "x28           -0.1606      0.006    -28.581      0.000      -0.172      -0.150\n",
      "x29           -0.1612      0.006    -28.048      0.000      -0.173      -0.150\n",
      "x30           -0.0304      0.005     -5.970      0.000      -0.040      -0.020\n",
      "x31           -0.0573      0.005    -10.526      0.000      -0.068      -0.047\n",
      "x32           -0.0336      0.005     -6.445      0.000      -0.044      -0.023\n",
      "x33           -0.0723      0.006    -13.113      0.000      -0.083      -0.062\n",
      "x34           -0.0690      0.005    -13.364      0.000      -0.079      -0.059\n",
      "x35           -0.0610      0.005    -11.279      0.000      -0.072      -0.050\n",
      "x36           -0.0718      0.005    -13.481      0.000      -0.082      -0.061\n",
      "x37           -0.0722      0.005    -13.519      0.000      -0.083      -0.062\n",
      "x38           -0.1001      0.005    -19.161      0.000      -0.110      -0.090\n",
      "x39           -0.0818      0.005    -14.948      0.000      -0.093      -0.071\n",
      "x40           -0.0420      0.005     -7.752      0.000      -0.053      -0.031\n",
      "x41           -0.1192      0.005    -22.010      0.000      -0.130      -0.109\n",
      "x42           -0.1540      0.005    -28.341      0.000      -0.165      -0.143\n",
      "x43           -0.1028      0.005    -19.067      0.000      -0.113      -0.092\n",
      "x44           -0.0385      0.005     -7.012      0.000      -0.049      -0.028\n",
      "x45           -0.1477      0.005    -27.334      0.000      -0.158      -0.137\n",
      "x46           -0.0524      0.006     -9.492      0.000      -0.063      -0.042\n",
      "x47           -0.0969      0.005    -19.266      0.000      -0.107      -0.087\n",
      "x48           -0.1186      0.005    -22.454      0.000      -0.129      -0.108\n",
      "x49           -0.0396      0.005     -7.588      0.000      -0.050      -0.029\n",
      "x50           -0.0513      0.006     -9.208      0.000      -0.062      -0.040\n",
      "x51           -0.0325      0.005     -6.209      0.000      -0.043      -0.022\n",
      "x52           -0.0474      0.005    -10.328      0.000      -0.056      -0.038\n",
      "x53           -0.0212      0.005     -4.501      0.000      -0.030      -0.012\n",
      "x54           -0.1046      0.005    -19.335      0.000      -0.115      -0.094\n",
      "x55           -0.1041      0.006    -18.872      0.000      -0.115      -0.093\n",
      "x56           -0.1354      0.005    -25.114      0.000      -0.146      -0.125\n",
      "x57           -0.0954      0.005    -17.576      0.000      -0.106      -0.085\n",
      "x58           -0.0425      0.005     -7.737      0.000      -0.053      -0.032\n",
      "x59           -0.1203      0.005    -23.164      0.000      -0.130      -0.110\n",
      "x60           -0.0330      0.006     -5.829      0.000      -0.044      -0.022\n",
      "x61           -0.1046      0.005    -19.558      0.000      -0.115      -0.094\n",
      "x62           -0.1498      0.005    -28.361      0.000      -0.160      -0.139\n",
      "x63           -0.1478      0.005    -28.081      0.000      -0.158      -0.137\n",
      "x64           -0.0746      0.005    -13.933      0.000      -0.085      -0.064\n",
      "x65           -0.0623      0.005    -11.388      0.000      -0.073      -0.052\n",
      "x66           -0.0847      0.005    -16.194      0.000      -0.095      -0.074\n",
      "x67           -0.0566      0.005    -10.475      0.000      -0.067      -0.046\n",
      "x68           -0.0898      0.005    -16.977      0.000      -0.100      -0.079\n",
      "x69           -0.1246      0.005    -23.380      0.000      -0.135      -0.114\n",
      "x70           -0.0715      0.005    -13.222      0.000      -0.082      -0.061\n",
      "x71           -0.1047      0.005    -19.416      0.000      -0.115      -0.094\n",
      "x72           -0.0655      0.005    -11.965      0.000      -0.076      -0.055\n",
      "x73           -0.0650      0.005    -11.913      0.000      -0.076      -0.054\n",
      "x74           -0.0527      0.005    -10.261      0.000      -0.063      -0.043\n",
      "x75           -0.0813      0.005    -15.368      0.000      -0.092      -0.071\n",
      "x76           -0.1020      0.005    -19.452      0.000      -0.112      -0.092\n",
      "x77           -0.1303      0.005    -24.320      0.000      -0.141      -0.120\n",
      "x78           -0.1727      0.005    -32.147      0.000      -0.183      -0.162\n",
      "x79           -0.0772      0.005    -14.137      0.000      -0.088      -0.066\n",
      "x80           -0.1251      0.005    -23.226      0.000      -0.136      -0.115\n",
      "x81           -0.1331      0.005    -25.704      0.000      -0.143      -0.123\n",
      "x82           -0.0954      0.005    -17.803      0.000      -0.106      -0.085\n",
      "x83           -0.0745      0.005    -14.564      0.000      -0.085      -0.064\n",
      "x84           -0.0027      0.007     -0.403      0.687      -0.016       0.010\n",
      "x85            0.0681      0.006     11.980      0.000       0.057       0.079\n",
      "x86            0.0808      0.005     15.047      0.000       0.070       0.091\n",
      "x87           -0.0493      0.007     -7.374      0.000      -0.062      -0.036\n",
      "x88           -0.0456      0.005     -8.555      0.000      -0.056      -0.035\n",
      "x89            0.0087      0.004      1.958      0.050   -9.75e-06       0.017\n",
      "x90        -3.736e-18   1.45e-18     -2.579      0.010   -6.57e-18   -8.97e-19\n",
      "x91         1.222e-18   2.28e-18      0.535      0.593   -3.26e-18     5.7e-18\n",
      "x92        -6.254e+10    4.1e+11     -0.152      0.879   -8.67e+11    7.42e+11\n",
      "x93        -4.422e+10    2.9e+11     -0.152      0.879   -6.13e+11    5.24e+11\n",
      "x94        -4.422e+10    2.9e+11     -0.152      0.879   -6.13e+11    5.24e+11\n",
      "x95                 0          0        nan        nan           0           0\n",
      "x96        -4.422e+10    2.9e+11     -0.152      0.879   -6.13e+11    5.24e+11\n",
      "x97                 0          0        nan        nan           0           0\n",
      "x98                 0          0        nan        nan           0           0\n",
      "x99                 0          0        nan        nan           0           0\n",
      "x100                0          0        nan        nan           0           0\n",
      "x101                0          0        nan        nan           0           0\n",
      "x102                0          0        nan        nan           0           0\n",
      "x103                0          0        nan        nan           0           0\n",
      "x104                0          0        nan        nan           0           0\n",
      "x105          -0.0041      0.005     -0.878      0.380      -0.013       0.005\n",
      "x106                0          0        nan        nan           0           0\n",
      "x107                0          0        nan        nan           0           0\n",
      "x108                0          0        nan        nan           0           0\n",
      "==============================================================================\n",
      "Omnibus:                     3883.399   Durbin-Watson:                   2.011\n",
      "Prob(Omnibus):                  0.000   Jarque-Bera (JB):            24359.722\n",
      "Skew:                          -0.847   Prob(JB):                         0.00\n",
      "Kurtosis:                       8.314   Cond. No.                     1.27e+16\n",
      "==============================================================================\n",
      "\n",
      "Warnings:\n",
      "[1] Standard Errors assume that the covariance matrix of the errors is correctly specified.\n",
      "[2] The smallest eigenvalue is 2.62e-28. This might indicate that there are\n",
      "strong multicollinearity problems or that the design matrix is singular.\n",
      "R² test:  0.460045106866\n"
     ]
    },
    {
     "name": "stderr",
     "output_type": "stream",
     "text": [
      "/home/ibtissem/anaconda/lib/python3.6/site-packages/statsmodels/base/model.py:1036: RuntimeWarning: invalid value encountered in true_divide\n",
      "  return self.params / self.bse\n",
      "/home/ibtissem/anaconda/lib/python3.6/site-packages/scipy/stats/_distn_infrastructure.py:879: RuntimeWarning: invalid value encountered in greater\n",
      "  return (self.a < x) & (x < self.b)\n",
      "/home/ibtissem/anaconda/lib/python3.6/site-packages/scipy/stats/_distn_infrastructure.py:879: RuntimeWarning: invalid value encountered in less\n",
      "  return (self.a < x) & (x < self.b)\n",
      "/home/ibtissem/anaconda/lib/python3.6/site-packages/scipy/stats/_distn_infrastructure.py:1818: RuntimeWarning: invalid value encountered in less_equal\n",
      "  cond2 = cond0 & (x <= self.a)\n"
     ]
    }
   ],
   "source": [
    "X=df[[col for col in df.columns.values if col!='SALE DATE' and col!='SALE PRICE' and col!='YEAR_2017' and col not in cols_eliminate]].values\n",
    "Y=df['SALE PRICE'].values\n",
    "X= sm.add_constant(X)\n",
    "X_train, X_test, y_train, y_test=train_test_split(X, Y, test_size=0.3, random_state=26)\n",
    "results = sm.OLS(y_train, X_train).fit()\n",
    "predict=results.predict(X_test)\n",
    "print(results.summary())\n",
    "print('R² test: ',metrics.r2_score(y_pred=predict, y_true=y_test)) "
   ]
  },
  {
   "cell_type": "code",
   "execution_count": 63,
   "metadata": {},
   "outputs": [
    {
     "name": "stderr",
     "output_type": "stream",
     "text": [
      "/home/ibtissem/.local/lib/python3.6/site-packages/ipykernel_launcher.py:3: RuntimeWarning: invalid value encountered in greater\n",
      "  This is separate from the ipykernel package so we can avoid doing imports until\n"
     ]
    }
   ],
   "source": [
    "predictors=np.array([col for col in df.columns.values if col!='SALE DATE' and col!='SALE PRICE' and col!='YEAR_2017' and col not in cols_eliminate])\n",
    "pvalues=results.pvalues\n",
    "indexes2=np.where(pvalues>0.05)[0]\n",
    "cols_eliminate2=predictors[(indexes2-1).tolist()].tolist()"
   ]
  },
  {
   "cell_type": "code",
   "execution_count": 64,
   "metadata": {},
   "outputs": [
    {
     "name": "stdout",
     "output_type": "stream",
     "text": [
      "                            OLS Regression Results                            \n",
      "==============================================================================\n",
      "Dep. Variable:                      y   R-squared:                       0.477\n",
      "Model:                            OLS   Adj. R-squared:                  0.474\n",
      "Method:                 Least Squares   F-statistic:                     210.3\n",
      "Date:                Tue, 10 Jul 2018   Prob (F-statistic):               0.00\n",
      "Time:                        15:15:40   Log-Likelihood:                -20679.\n",
      "No. Observations:               18791   AIC:                         4.152e+04\n",
      "Df Residuals:                   18709   BIC:                         4.216e+04\n",
      "Df Model:                          81                                         \n",
      "Covariance Type:            nonrobust                                         \n",
      "==============================================================================\n",
      "                 coef    std err          t      P>|t|      [0.025      0.975]\n",
      "------------------------------------------------------------------------------\n",
      "const          0.0039      0.005      0.738      0.461      -0.007       0.014\n",
      "x1             0.1856      0.009     21.343      0.000       0.169       0.203\n",
      "x2             0.1022      0.008     13.334      0.000       0.087       0.117\n",
      "x3             0.1471      0.006     23.620      0.000       0.135       0.159\n",
      "x4            -0.0918      0.006    -14.886      0.000      -0.104      -0.080\n",
      "x5             0.0465      0.005      8.709      0.000       0.036       0.057\n",
      "x6             0.0775      0.007     10.514      0.000       0.063       0.092\n",
      "x7             0.1346      0.008     16.380      0.000       0.118       0.151\n",
      "x8             0.0379      0.006      6.429      0.000       0.026       0.049\n",
      "x9             0.0259      0.005      4.905      0.000       0.016       0.036\n",
      "x10           -0.0214      0.004     -4.778      0.000      -0.030      -0.013\n",
      "x11            0.0195      0.005      3.571      0.000       0.009       0.030\n",
      "x12           -0.1167      0.005    -21.414      0.000      -0.127      -0.106\n",
      "x13           -0.1399      0.006    -24.790      0.000      -0.151      -0.129\n",
      "x14           -0.1549      0.006    -27.508      0.000      -0.166      -0.144\n",
      "x15           -0.1398      0.006    -25.267      0.000      -0.151      -0.129\n",
      "x16           -0.1330      0.005    -24.409      0.000      -0.144      -0.122\n",
      "x17           -0.1544      0.005    -28.081      0.000      -0.165      -0.144\n",
      "x18           -0.0727      0.005    -13.469      0.000      -0.083      -0.062\n",
      "x19           -0.1067      0.005    -19.637      0.000      -0.117      -0.096\n",
      "x20           -0.1122      0.006    -19.680      0.000      -0.123      -0.101\n",
      "x21           -0.1229      0.005    -23.089      0.000      -0.133      -0.112\n",
      "x22           -0.1600      0.006    -28.389      0.000      -0.171      -0.149\n",
      "x23           -0.1604      0.006    -27.835      0.000      -0.172      -0.149\n",
      "x24           -0.0304      0.005     -5.936      0.000      -0.040      -0.020\n",
      "x25           -0.0573      0.005    -10.491      0.000      -0.068      -0.047\n",
      "x26           -0.0334      0.005     -6.385      0.000      -0.044      -0.023\n",
      "x27           -0.0722      0.006    -13.056      0.000      -0.083      -0.061\n",
      "x28           -0.0690      0.005    -13.318      0.000      -0.079      -0.059\n",
      "x29           -0.0610      0.005    -11.236      0.000      -0.072      -0.050\n",
      "x30           -0.0717      0.005    -13.416      0.000      -0.082      -0.061\n",
      "x31           -0.0718      0.005    -13.412      0.000      -0.082      -0.061\n",
      "x32           -0.0999      0.005    -19.076      0.000      -0.110      -0.090\n",
      "x33           -0.0817      0.005    -14.882      0.000      -0.092      -0.071\n",
      "x34           -0.0419      0.005     -7.720      0.000      -0.053      -0.031\n",
      "x35           -0.1189      0.005    -21.905      0.000      -0.130      -0.108\n",
      "x36           -0.1539      0.005    -28.228      0.000      -0.165      -0.143\n",
      "x37           -0.1026      0.005    -18.982      0.000      -0.113      -0.092\n",
      "x38           -0.0385      0.006     -6.991      0.000      -0.049      -0.028\n",
      "x39           -0.1475      0.005    -27.216      0.000      -0.158      -0.137\n",
      "x40           -0.0523      0.006     -9.457      0.000      -0.063      -0.041\n",
      "x41           -0.0968      0.005    -19.197      0.000      -0.107      -0.087\n",
      "x42           -0.1183      0.005    -22.337      0.000      -0.129      -0.108\n",
      "x43           -0.0391      0.005     -7.487      0.000      -0.049      -0.029\n",
      "x44           -0.0510      0.006     -9.138      0.000      -0.062      -0.040\n",
      "x45           -0.0324      0.005     -6.178      0.000      -0.043      -0.022\n",
      "x46           -0.0473      0.005    -10.305      0.000      -0.056      -0.038\n",
      "x47           -0.0210      0.005     -4.461      0.000      -0.030      -0.012\n",
      "x48           -0.1043      0.005    -19.237      0.000      -0.115      -0.094\n",
      "x49           -0.1040      0.006    -18.792      0.000      -0.115      -0.093\n",
      "x50           -0.1352      0.005    -25.008      0.000      -0.146      -0.125\n",
      "x51           -0.0952      0.005    -17.480      0.000      -0.106      -0.084\n",
      "x52           -0.0422      0.006     -7.664      0.000      -0.053      -0.031\n",
      "x53           -0.1199      0.005    -23.040      0.000      -0.130      -0.110\n",
      "x54           -0.0327      0.006     -5.766      0.000      -0.044      -0.022\n",
      "x55           -0.1044      0.005    -19.470      0.000      -0.115      -0.094\n",
      "x56           -0.1497      0.005    -28.342      0.000      -0.160      -0.139\n",
      "x57           -0.1476      0.005    -27.966      0.000      -0.158      -0.137\n",
      "x58           -0.0738      0.005    -13.757      0.000      -0.084      -0.063\n",
      "x59           -0.0622      0.005    -11.339      0.000      -0.073      -0.051\n",
      "x60           -0.0847      0.005    -16.158      0.000      -0.095      -0.074\n",
      "x61           -0.0564      0.005    -10.414      0.000      -0.067      -0.046\n",
      "x62           -0.0898      0.005    -16.934      0.000      -0.100      -0.079\n",
      "x63           -0.1246      0.005    -23.396      0.000      -0.135      -0.114\n",
      "x64           -0.0716      0.005    -13.206      0.000      -0.082      -0.061\n",
      "x65           -0.1044      0.005    -19.311      0.000      -0.115      -0.094\n",
      "x66           -0.0654      0.005    -11.933      0.000      -0.076      -0.055\n",
      "x67           -0.0649      0.005    -11.855      0.000      -0.076      -0.054\n",
      "x68           -0.0527      0.005    -10.244      0.000      -0.063      -0.043\n",
      "x69           -0.0814      0.005    -15.428      0.000      -0.092      -0.071\n",
      "x70           -0.1021      0.005    -19.461      0.000      -0.112      -0.092\n",
      "x71           -0.1303      0.005    -24.286      0.000      -0.141      -0.120\n",
      "x72           -0.1725      0.005    -32.052      0.000      -0.183      -0.162\n",
      "x73           -0.0770      0.005    -14.071      0.000      -0.088      -0.066\n",
      "x74           -0.1252      0.005    -23.241      0.000      -0.136      -0.115\n",
      "x75           -0.1327      0.005    -25.559      0.000      -0.143      -0.123\n",
      "x76           -0.0951      0.005    -17.698      0.000      -0.106      -0.085\n",
      "x77           -0.0744      0.005    -14.497      0.000      -0.084      -0.064\n",
      "x78            0.0686      0.006     12.160      0.000       0.058       0.080\n",
      "x79            0.0808      0.005     15.042      0.000       0.070       0.091\n",
      "x80           -0.0486      0.006     -7.662      0.000      -0.061      -0.036\n",
      "x81           -0.0456      0.005     -8.555      0.000      -0.056      -0.035\n",
      "x82                 0          0        nan        nan           0           0\n",
      "x83                 0          0        nan        nan           0           0\n",
      "x84                 0          0        nan        nan           0           0\n",
      "x85                 0          0        nan        nan           0           0\n",
      "x86                 0          0        nan        nan           0           0\n",
      "x87                 0          0        nan        nan           0           0\n",
      "x88                 0          0        nan        nan           0           0\n",
      "x89                 0          0        nan        nan           0           0\n",
      "x90                 0          0        nan        nan           0           0\n",
      "x91                 0          0        nan        nan           0           0\n",
      "x92                 0          0        nan        nan           0           0\n",
      "x93                 0          0        nan        nan           0           0\n",
      "==============================================================================\n",
      "Omnibus:                     3969.801   Durbin-Watson:                   2.011\n",
      "Prob(Omnibus):                  0.000   Jarque-Bera (JB):            25249.985\n",
      "Skew:                          -0.865   Prob(JB):                         0.00\n",
      "Kurtosis:                       8.409   Cond. No.                     1.16e+16\n",
      "==============================================================================\n",
      "\n",
      "Warnings:\n",
      "[1] Standard Errors assume that the covariance matrix of the errors is correctly specified.\n",
      "[2] The smallest eigenvalue is 2.82e-28. This might indicate that there are\n",
      "strong multicollinearity problems or that the design matrix is singular.\n",
      "R² test:  0.458845316732\n"
     ]
    },
    {
     "name": "stderr",
     "output_type": "stream",
     "text": [
      "/home/ibtissem/anaconda/lib/python3.6/site-packages/statsmodels/base/model.py:1036: RuntimeWarning: invalid value encountered in true_divide\n",
      "  return self.params / self.bse\n",
      "/home/ibtissem/anaconda/lib/python3.6/site-packages/scipy/stats/_distn_infrastructure.py:879: RuntimeWarning: invalid value encountered in greater\n",
      "  return (self.a < x) & (x < self.b)\n",
      "/home/ibtissem/anaconda/lib/python3.6/site-packages/scipy/stats/_distn_infrastructure.py:879: RuntimeWarning: invalid value encountered in less\n",
      "  return (self.a < x) & (x < self.b)\n",
      "/home/ibtissem/anaconda/lib/python3.6/site-packages/scipy/stats/_distn_infrastructure.py:1818: RuntimeWarning: invalid value encountered in less_equal\n",
      "  cond2 = cond0 & (x <= self.a)\n"
     ]
    }
   ],
   "source": [
    "X=df[[col for col in df.columns.values if col!='SALE DATE' and col!='SALE PRICE' and col!='YEAR_2017' and col not in cols_eliminate and col not in cols_eliminate2]].values\n",
    "X= sm.add_constant(X)\n",
    "Y=df['SALE PRICE'].values\n",
    "X_train, X_test, y_train, y_test=train_test_split(X, Y, test_size=0.3, random_state=26)\n",
    "results = sm.OLS(y_train, X_train).fit()\n",
    "predict=results.predict(X_test)\n",
    "print(results.summary())\n",
    "print('R² test: ',metrics.r2_score(y_pred=predict, y_true=y_test)) "
   ]
  },
  {
   "cell_type": "code",
   "execution_count": 65,
   "metadata": {},
   "outputs": [
    {
     "name": "stderr",
     "output_type": "stream",
     "text": [
      "/home/ibtissem/.local/lib/python3.6/site-packages/ipykernel_launcher.py:3: RuntimeWarning: invalid value encountered in greater\n",
      "  This is separate from the ipykernel package so we can avoid doing imports until\n"
     ]
    }
   ],
   "source": [
    "predictors=np.array([col for col in df.columns.values if col!='SALE DATE' and col!='YEAR_2017' and col!='SALE PRICE' and col not in cols_eliminate and col not in cols_eliminate2])\n",
    "pvalues=results.pvalues\n",
    "indexes3=np.where(pvalues>0.05)[0]\n",
    "cols_eliminate3=predictors[(indexes3-1).tolist()].tolist()\n",
    "#cols_eliminate3"
   ]
  },
  {
   "cell_type": "code",
   "execution_count": 66,
   "metadata": {
    "scrolled": false
   },
   "outputs": [
    {
     "name": "stdout",
     "output_type": "stream",
     "text": [
      "                            OLS Regression Results                            \n",
      "==============================================================================\n",
      "Dep. Variable:                      y   R-squared:                       0.477\n",
      "Model:                            OLS   Adj. R-squared:                  0.474\n",
      "Method:                 Least Squares   F-statistic:                     210.3\n",
      "Date:                Tue, 10 Jul 2018   Prob (F-statistic):               0.00\n",
      "Time:                        15:15:40   Log-Likelihood:                -20679.\n",
      "No. Observations:               18791   AIC:                         4.152e+04\n",
      "Df Residuals:                   18709   BIC:                         4.216e+04\n",
      "Df Model:                          81                                         \n",
      "Covariance Type:            nonrobust                                         \n",
      "==============================================================================\n",
      "                 coef    std err          t      P>|t|      [0.025      0.975]\n",
      "------------------------------------------------------------------------------\n",
      "const          0.0039      0.005      0.738      0.461      -0.007       0.014\n",
      "x1             0.1856      0.009     21.343      0.000       0.169       0.203\n",
      "x2             0.1022      0.008     13.334      0.000       0.087       0.117\n",
      "x3             0.1471      0.006     23.620      0.000       0.135       0.159\n",
      "x4            -0.0918      0.006    -14.886      0.000      -0.104      -0.080\n",
      "x5             0.0465      0.005      8.709      0.000       0.036       0.057\n",
      "x6             0.0775      0.007     10.514      0.000       0.063       0.092\n",
      "x7             0.1346      0.008     16.380      0.000       0.118       0.151\n",
      "x8             0.0379      0.006      6.429      0.000       0.026       0.049\n",
      "x9             0.0259      0.005      4.905      0.000       0.016       0.036\n",
      "x10           -0.0214      0.004     -4.778      0.000      -0.030      -0.013\n",
      "x11            0.0195      0.005      3.571      0.000       0.009       0.030\n",
      "x12           -0.1167      0.005    -21.414      0.000      -0.127      -0.106\n",
      "x13           -0.1399      0.006    -24.790      0.000      -0.151      -0.129\n",
      "x14           -0.1549      0.006    -27.508      0.000      -0.166      -0.144\n",
      "x15           -0.1398      0.006    -25.267      0.000      -0.151      -0.129\n",
      "x16           -0.1330      0.005    -24.409      0.000      -0.144      -0.122\n",
      "x17           -0.1544      0.005    -28.081      0.000      -0.165      -0.144\n",
      "x18           -0.0727      0.005    -13.469      0.000      -0.083      -0.062\n",
      "x19           -0.1067      0.005    -19.637      0.000      -0.117      -0.096\n",
      "x20           -0.1122      0.006    -19.680      0.000      -0.123      -0.101\n",
      "x21           -0.1229      0.005    -23.089      0.000      -0.133      -0.112\n",
      "x22           -0.1600      0.006    -28.389      0.000      -0.171      -0.149\n",
      "x23           -0.1604      0.006    -27.835      0.000      -0.172      -0.149\n",
      "x24           -0.0304      0.005     -5.936      0.000      -0.040      -0.020\n",
      "x25           -0.0573      0.005    -10.491      0.000      -0.068      -0.047\n",
      "x26           -0.0334      0.005     -6.385      0.000      -0.044      -0.023\n",
      "x27           -0.0722      0.006    -13.056      0.000      -0.083      -0.061\n",
      "x28           -0.0690      0.005    -13.318      0.000      -0.079      -0.059\n",
      "x29           -0.0610      0.005    -11.236      0.000      -0.072      -0.050\n",
      "x30           -0.0717      0.005    -13.416      0.000      -0.082      -0.061\n",
      "x31           -0.0718      0.005    -13.412      0.000      -0.082      -0.061\n",
      "x32           -0.0999      0.005    -19.076      0.000      -0.110      -0.090\n",
      "x33           -0.0817      0.005    -14.882      0.000      -0.092      -0.071\n",
      "x34           -0.0419      0.005     -7.720      0.000      -0.053      -0.031\n",
      "x35           -0.1189      0.005    -21.905      0.000      -0.130      -0.108\n",
      "x36           -0.1539      0.005    -28.228      0.000      -0.165      -0.143\n",
      "x37           -0.1026      0.005    -18.982      0.000      -0.113      -0.092\n",
      "x38           -0.0385      0.006     -6.991      0.000      -0.049      -0.028\n",
      "x39           -0.1475      0.005    -27.216      0.000      -0.158      -0.137\n",
      "x40           -0.0523      0.006     -9.457      0.000      -0.063      -0.041\n",
      "x41           -0.0968      0.005    -19.197      0.000      -0.107      -0.087\n",
      "x42           -0.1183      0.005    -22.337      0.000      -0.129      -0.108\n",
      "x43           -0.0391      0.005     -7.487      0.000      -0.049      -0.029\n",
      "x44           -0.0510      0.006     -9.138      0.000      -0.062      -0.040\n",
      "x45           -0.0324      0.005     -6.178      0.000      -0.043      -0.022\n",
      "x46           -0.0473      0.005    -10.305      0.000      -0.056      -0.038\n",
      "x47           -0.0210      0.005     -4.461      0.000      -0.030      -0.012\n",
      "x48           -0.1043      0.005    -19.237      0.000      -0.115      -0.094\n",
      "x49           -0.1040      0.006    -18.792      0.000      -0.115      -0.093\n",
      "x50           -0.1352      0.005    -25.008      0.000      -0.146      -0.125\n",
      "x51           -0.0952      0.005    -17.480      0.000      -0.106      -0.084\n",
      "x52           -0.0422      0.006     -7.664      0.000      -0.053      -0.031\n",
      "x53           -0.1199      0.005    -23.040      0.000      -0.130      -0.110\n",
      "x54           -0.0327      0.006     -5.766      0.000      -0.044      -0.022\n",
      "x55           -0.1044      0.005    -19.470      0.000      -0.115      -0.094\n",
      "x56           -0.1497      0.005    -28.342      0.000      -0.160      -0.139\n",
      "x57           -0.1476      0.005    -27.966      0.000      -0.158      -0.137\n",
      "x58           -0.0738      0.005    -13.757      0.000      -0.084      -0.063\n",
      "x59           -0.0622      0.005    -11.339      0.000      -0.073      -0.051\n",
      "x60           -0.0847      0.005    -16.158      0.000      -0.095      -0.074\n",
      "x61           -0.0564      0.005    -10.414      0.000      -0.067      -0.046\n",
      "x62           -0.0898      0.005    -16.934      0.000      -0.100      -0.079\n",
      "x63           -0.1246      0.005    -23.396      0.000      -0.135      -0.114\n",
      "x64           -0.0716      0.005    -13.206      0.000      -0.082      -0.061\n",
      "x65           -0.1044      0.005    -19.311      0.000      -0.115      -0.094\n",
      "x66           -0.0654      0.005    -11.933      0.000      -0.076      -0.055\n",
      "x67           -0.0649      0.005    -11.855      0.000      -0.076      -0.054\n",
      "x68           -0.0527      0.005    -10.244      0.000      -0.063      -0.043\n",
      "x69           -0.0814      0.005    -15.428      0.000      -0.092      -0.071\n",
      "x70           -0.1021      0.005    -19.461      0.000      -0.112      -0.092\n",
      "x71           -0.1303      0.005    -24.286      0.000      -0.141      -0.120\n",
      "x72           -0.1725      0.005    -32.052      0.000      -0.183      -0.162\n",
      "x73           -0.0770      0.005    -14.071      0.000      -0.088      -0.066\n",
      "x74           -0.1252      0.005    -23.241      0.000      -0.136      -0.115\n",
      "x75           -0.1327      0.005    -25.559      0.000      -0.143      -0.123\n",
      "x76           -0.0951      0.005    -17.698      0.000      -0.106      -0.085\n",
      "x77           -0.0744      0.005    -14.497      0.000      -0.084      -0.064\n",
      "x78            0.0686      0.006     12.160      0.000       0.058       0.080\n",
      "x79            0.0808      0.005     15.042      0.000       0.070       0.091\n",
      "x80           -0.0486      0.006     -7.662      0.000      -0.061      -0.036\n",
      "x81           -0.0456      0.005     -8.555      0.000      -0.056      -0.035\n",
      "x82                 0          0        nan        nan           0           0\n",
      "x83                 0          0        nan        nan           0           0\n",
      "x84                 0          0        nan        nan           0           0\n",
      "x85                 0          0        nan        nan           0           0\n",
      "x86                 0          0        nan        nan           0           0\n",
      "x87                 0          0        nan        nan           0           0\n",
      "x88                 0          0        nan        nan           0           0\n",
      "x89                 0          0        nan        nan           0           0\n",
      "x90                 0          0        nan        nan           0           0\n",
      "x91                 0          0        nan        nan           0           0\n",
      "x92                 0          0        nan        nan           0           0\n",
      "==============================================================================\n",
      "Omnibus:                     3969.801   Durbin-Watson:                   2.011\n",
      "Prob(Omnibus):                  0.000   Jarque-Bera (JB):            25249.985\n",
      "Skew:                          -0.865   Prob(JB):                         0.00\n",
      "Kurtosis:                       8.409   Cond. No.                     1.16e+16\n",
      "==============================================================================\n",
      "\n",
      "Warnings:\n",
      "[1] Standard Errors assume that the covariance matrix of the errors is correctly specified.\n",
      "[2] The smallest eigenvalue is 2.82e-28. This might indicate that there are\n",
      "strong multicollinearity problems or that the design matrix is singular.\n",
      "R² test:  0.458845316732\n"
     ]
    },
    {
     "name": "stderr",
     "output_type": "stream",
     "text": [
      "/home/ibtissem/anaconda/lib/python3.6/site-packages/statsmodels/base/model.py:1036: RuntimeWarning: invalid value encountered in true_divide\n",
      "  return self.params / self.bse\n",
      "/home/ibtissem/anaconda/lib/python3.6/site-packages/scipy/stats/_distn_infrastructure.py:879: RuntimeWarning: invalid value encountered in greater\n",
      "  return (self.a < x) & (x < self.b)\n",
      "/home/ibtissem/anaconda/lib/python3.6/site-packages/scipy/stats/_distn_infrastructure.py:879: RuntimeWarning: invalid value encountered in less\n",
      "  return (self.a < x) & (x < self.b)\n",
      "/home/ibtissem/anaconda/lib/python3.6/site-packages/scipy/stats/_distn_infrastructure.py:1818: RuntimeWarning: invalid value encountered in less_equal\n",
      "  cond2 = cond0 & (x <= self.a)\n"
     ]
    }
   ],
   "source": [
    "X=df[[col for col in df.columns.values if col!='SALE DATE' and col!='SALE PRICE' and col!='YEAR_2017' and col not in cols_eliminate and col not in cols_eliminate2 and col not in cols_eliminate3]].values\n",
    "X= sm.add_constant(X)\n",
    "Y=df['SALE PRICE'].values\n",
    "X_train, X_test, y_train, y_test=train_test_split(X, Y, test_size=0.3, random_state=26)\n",
    "results = sm.OLS(y_train, X_train).fit()\n",
    "predict=results.predict(X_test)\n",
    "print(results.summary())\n",
    "print('R² test: ',metrics.r2_score(y_pred=predict, y_true=y_test)) "
   ]
  },
  {
   "cell_type": "markdown",
   "metadata": {},
   "source": [
    "## Final results"
   ]
  },
  {
   "cell_type": "code",
   "execution_count": 67,
   "metadata": {},
   "outputs": [
    {
     "name": "stdout",
     "output_type": "stream",
     "text": [
      "R² train:  0.476566585072\n",
      "R²test: 0.458845316732\n"
     ]
    }
   ],
   "source": [
    "X = df[[col for col in df.columns.values if col!='SALE DATE' and col!='SALE PRICE' and col!='YEAR_2017' and col not in cols_eliminate and col not in cols_eliminate2 and col not in cols_eliminate3]].values\n",
    "Y = df['SALE PRICE'].values\n",
    "X_train, X_test, y_train, y_test=train_test_split(X, Y, test_size=0.3, random_state=26)\n",
    "\n",
    "model = LinearRegression()\n",
    "model.fit(X_train, y_train)\n",
    "predictions = model.predict(X_test)\n",
    "print('R² train: ',model.score(X_train, y_train))\n",
    "print(\"R²test:\", metrics.r2_score(y_pred=predictions, y_true=y_test))\n"
   ]
  },
  {
   "cell_type": "markdown",
   "metadata": {},
   "source": [
    "## Ridge and Lasso"
   ]
  },
  {
   "cell_type": "code",
   "execution_count": 68,
   "metadata": {},
   "outputs": [
    {
     "name": "stdout",
     "output_type": "stream",
     "text": [
      "Lambda:  616.423369721\n",
      "R² test:  0.566973708392\n",
      "R² train:  0.610334684229\n",
      "MSE:  0.424996210567\n"
     ]
    }
   ],
   "source": [
    "Xx = df[[col for col in df.columns.values if col!='SALE DATE' and col!='YEAR_2017' and col!='SALE PRICE']]\n",
    "Yy = df['SALE PRICE']\n",
    "\n",
    "alphas = 10**np.linspace(10,-2,100)*0.5\n",
    "#Use the cross-validation package to split data into training and test sets\n",
    "X_train, X_test , y_train, y_test = cross_validation.train_test_split(Xx, Yy, test_size = 0.3, random_state=0)\n",
    "\n",
    "ridgecv = RidgeCV(alphas=alphas, scoring='neg_mean_squared_error')\n",
    "ridgecv.fit(X_train, y_train)\n",
    "ridge = Ridge(alpha=ridgecv.alpha_)\n",
    "ridge.fit(X_train, y_train)\n",
    "pred = ridge.predict(X_test)\n",
    "print(\"Lambda: \",ridgecv.alpha_)\n",
    "#print(pd.Series(ridge.coef_, index = Xx.columns)) # Print coefficients\n",
    "print(\"R² test: \", metrics.explained_variance_score(y_pred=pred, y_true=y_test))\n",
    "print(\"R² train: \", metrics.explained_variance_score(y_pred=ridge.predict(X_train), y_true=y_train))\n",
    "print(\"MSE: \",metrics.mean_squared_error(y_test, pred)) # Calculate the test MSE"
   ]
  },
  {
   "cell_type": "code",
   "execution_count": 69,
   "metadata": {},
   "outputs": [
    {
     "name": "stdout",
     "output_type": "stream",
     "text": [
      "Lambda:  0.005\n",
      "R² test:  0.562191529658\n",
      "R² train:  0.604084415105\n",
      "MSE:  0.429676693282\n"
     ]
    }
   ],
   "source": [
    "lasso = Lasso(max_iter=10000)\n",
    "lassocv = LassoCV(alphas=alphas, max_iter=100000)\n",
    "lassocv.fit(X_train, y_train)\n",
    "lasso.set_params(alpha=lassocv.alpha_)\n",
    "lasso.fit(X_train, y_train)\n",
    "pred3 = lasso.predict(X_test)\n",
    "print(\"Lambda: \",lassocv.alpha_)\n",
    "#print(pd.Series(lasso.coef_, index = Xx.columns)) # Print coefficients\n",
    "print(\"R² test: \", metrics.explained_variance_score(y_pred=pred3, y_true=y_test))\n",
    "print(\"R² train: \", metrics.explained_variance_score(y_pred=lasso.predict(X_train), y_true=y_train))\n",
    "print(\"MSE: \", metrics.mean_squared_error(y_test,pred3))"
   ]
  },
  {
   "cell_type": "code",
   "execution_count": null,
   "metadata": {},
   "outputs": [],
   "source": []
  }
 ],
 "metadata": {
  "kernelspec": {
   "display_name": "Python 3",
   "language": "python",
   "name": "python3"
  },
  "language_info": {
   "codemirror_mode": {
    "name": "ipython",
    "version": 3
   },
   "file_extension": ".py",
   "mimetype": "text/x-python",
   "name": "python",
   "nbconvert_exporter": "python",
   "pygments_lexer": "ipython3",
   "version": "3.6.6"
  }
 },
 "nbformat": 4,
 "nbformat_minor": 2
}
