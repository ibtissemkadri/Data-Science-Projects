{
 "cells": [
  {
   "cell_type": "code",
   "execution_count": 68,
   "metadata": {},
   "outputs": [],
   "source": [
    "import pandas as pd \n",
    "import numpy as np\n",
    "import matplotlib.pyplot as plt\n",
    "import seaborn as sns\n",
    "import multiprocessing\n",
    "import re\n",
    "import os\n",
    "import srt\n",
    "import nltk\n",
    "import codecs\n",
    "import gensim.models.word2vec as w2v\n",
    "from gensim.models import FastText\n",
    "import sklearn.manifold\n",
    "import glob\n",
    "import lxml.etree\n",
    "%matplotlib inline"
   ]
  },
  {
   "cell_type": "markdown",
   "metadata": {},
   "source": [
    "# Word2Vec using srt files"
   ]
  },
  {
   "cell_type": "code",
   "execution_count": 2,
   "metadata": {},
   "outputs": [
    {
     "data": {
      "text/plain": [
       "['himym/How.I.Met.Your.Mother.S01E01.DVDRip.XviD-TOPAZ.EnglishHI.srt',\n",
       " 'himym/How.I.Met.Your.Mother.S01E02.DVDRip.XviD-TOPAZ.EnglishHI.srt',\n",
       " 'himym/How.I.Met.Your.Mother.S01E03.DVDRip.XviD-TOPAZ.EnglishHI.srt',\n",
       " 'himym/How.I.Met.Your.Mother.S01E04.DVDRip.XviD-TOPAZ.EnglishHI.srt',\n",
       " 'himym/How.I.Met.Your.Mother.S01E05.DVDRip.XviD-TOPAZ.EnglishHI.srt',\n",
       " 'himym/How.I.Met.Your.Mother.S01E06.DVDRip.XviD-TOPAZ.EnglishHI.srt',\n",
       " 'himym/How.I.Met.Your.Mother.S01E07.DVDRip.XviD-TOPAZ.EnglishHI.srt',\n",
       " 'himym/How.I.Met.Your.Mother.S01E08.DVDRip.XviD-TOPAZ.EnglishHI.srt',\n",
       " 'himym/How.I.Met.Your.Mother.S01E09.DVDRip.XviD-TOPAZ.EnglishHI.srt',\n",
       " 'himym/How.I.Met.Your.Mother.S01E10.DVDRip.XviD-TOPAZ.EnglishHI.srt',\n",
       " 'himym/How.I.Met.Your.Mother.S01E11.DVDRip.XviD-TOPAZ.EnglishHI.srt',\n",
       " 'himym/How.I.Met.Your.Mother.S01E12.DVDRip.XviD-TOPAZ.EnglishHI.srt',\n",
       " 'himym/How.I.Met.Your.Mother.S01E13.DVDRip.XviD-TOPAZ.EnglishHI.srt',\n",
       " 'himym/How.I.Met.Your.Mother.S01E14.DVDRip.XviD-TOPAZ.EnglishHI.srt',\n",
       " 'himym/How.I.Met.Your.Mother.S01E15.DVDRip.XviD-TOPAZ.EnglishHI.srt',\n",
       " 'himym/How.I.Met.Your.Mother.S01E16.DVDRip.XviD-TOPAZ.EnglishHI.srt',\n",
       " 'himym/How.I.Met.Your.Mother.S01E17.DVDRip.XviD-TOPAZ.EnglishHI.srt',\n",
       " 'himym/How.I.Met.Your.Mother.S01E18.DVDRip.XviD-TOPAZ.EnglishHI.srt',\n",
       " 'himym/How.I.Met.Your.Mother.S01E19.DVDRip.XviD-TOPAZ.EnglishHI.srt',\n",
       " 'himym/How.I.Met.Your.Mother.S01E20.DVDRip.XviD-TOPAZ.EnglishHI.srt',\n",
       " 'himym/How.I.Met.Your.Mother.S01E21.DVDRip.XviD-TOPAZ.EnglishHI.srt',\n",
       " 'himym/How.I.Met.Your.Mother.S01E22.DVDRip.XviD-TOPAZ.EnglishHI.srt']"
      ]
     },
     "execution_count": 2,
     "metadata": {},
     "output_type": "execute_result"
    }
   ],
   "source": [
    "srt_filenames = sorted(glob.glob(\"himym/*.srt\"))\n",
    "srt_filenames"
   ]
  },
  {
   "cell_type": "code",
   "execution_count": 3,
   "metadata": {},
   "outputs": [
    {
     "name": "stdout",
     "output_type": "stream",
     "text": [
      "Reading 'himym/How.I.Met.Your.Mother.S01E01.DVDRip.XviD-TOPAZ.EnglishHI.srt'...\n",
      "Corpus is now 15907 characters long\n",
      "\n",
      "Reading 'himym/How.I.Met.Your.Mother.S01E02.DVDRip.XviD-TOPAZ.EnglishHI.srt'...\n",
      "Corpus is now 30993 characters long\n",
      "\n",
      "Reading 'himym/How.I.Met.Your.Mother.S01E03.DVDRip.XviD-TOPAZ.EnglishHI.srt'...\n",
      "Corpus is now 45896 characters long\n",
      "\n",
      "Reading 'himym/How.I.Met.Your.Mother.S01E04.DVDRip.XviD-TOPAZ.EnglishHI.srt'...\n",
      "Corpus is now 62458 characters long\n",
      "\n",
      "Reading 'himym/How.I.Met.Your.Mother.S01E05.DVDRip.XviD-TOPAZ.EnglishHI.srt'...\n",
      "Corpus is now 75021 characters long\n",
      "\n",
      "Reading 'himym/How.I.Met.Your.Mother.S01E06.DVDRip.XviD-TOPAZ.EnglishHI.srt'...\n",
      "Corpus is now 90060 characters long\n",
      "\n",
      "Reading 'himym/How.I.Met.Your.Mother.S01E07.DVDRip.XviD-TOPAZ.EnglishHI.srt'...\n",
      "Corpus is now 105966 characters long\n",
      "\n",
      "Reading 'himym/How.I.Met.Your.Mother.S01E08.DVDRip.XviD-TOPAZ.EnglishHI.srt'...\n",
      "Corpus is now 122113 characters long\n",
      "\n",
      "Reading 'himym/How.I.Met.Your.Mother.S01E09.DVDRip.XviD-TOPAZ.EnglishHI.srt'...\n",
      "Corpus is now 137874 characters long\n",
      "\n",
      "Reading 'himym/How.I.Met.Your.Mother.S01E10.DVDRip.XviD-TOPAZ.EnglishHI.srt'...\n",
      "Corpus is now 152983 characters long\n",
      "\n",
      "Reading 'himym/How.I.Met.Your.Mother.S01E11.DVDRip.XviD-TOPAZ.EnglishHI.srt'...\n",
      "Corpus is now 167879 characters long\n",
      "\n",
      "Reading 'himym/How.I.Met.Your.Mother.S01E12.DVDRip.XviD-TOPAZ.EnglishHI.srt'...\n",
      "Corpus is now 184727 characters long\n",
      "\n",
      "Reading 'himym/How.I.Met.Your.Mother.S01E13.DVDRip.XviD-TOPAZ.EnglishHI.srt'...\n",
      "Corpus is now 199245 characters long\n",
      "\n",
      "Reading 'himym/How.I.Met.Your.Mother.S01E14.DVDRip.XviD-TOPAZ.EnglishHI.srt'...\n",
      "Corpus is now 213375 characters long\n",
      "\n",
      "Reading 'himym/How.I.Met.Your.Mother.S01E15.DVDRip.XviD-TOPAZ.EnglishHI.srt'...\n",
      "Corpus is now 227546 characters long\n",
      "\n",
      "Reading 'himym/How.I.Met.Your.Mother.S01E16.DVDRip.XviD-TOPAZ.EnglishHI.srt'...\n",
      "Corpus is now 244172 characters long\n",
      "\n",
      "Reading 'himym/How.I.Met.Your.Mother.S01E17.DVDRip.XviD-TOPAZ.EnglishHI.srt'...\n",
      "Corpus is now 260774 characters long\n",
      "\n",
      "Reading 'himym/How.I.Met.Your.Mother.S01E18.DVDRip.XviD-TOPAZ.EnglishHI.srt'...\n",
      "Corpus is now 274803 characters long\n",
      "\n",
      "Reading 'himym/How.I.Met.Your.Mother.S01E19.DVDRip.XviD-TOPAZ.EnglishHI.srt'...\n",
      "Corpus is now 291898 characters long\n",
      "\n",
      "Reading 'himym/How.I.Met.Your.Mother.S01E20.DVDRip.XviD-TOPAZ.EnglishHI.srt'...\n",
      "Corpus is now 307379 characters long\n",
      "\n",
      "Reading 'himym/How.I.Met.Your.Mother.S01E21.DVDRip.XviD-TOPAZ.EnglishHI.srt'...\n",
      "Corpus is now 323835 characters long\n",
      "\n",
      "Reading 'himym/How.I.Met.Your.Mother.S01E22.DVDRip.XviD-TOPAZ.EnglishHI.srt'...\n",
      "Corpus is now 338864 characters long\n",
      "\n"
     ]
    }
   ],
   "source": [
    "corpus_raw = u\"\"\n",
    "for srt_filename in srt_filenames:\n",
    "    print(\"Reading '{}'...\".format(srt_filename))\n",
    "    with codecs.open(srt_filename, \"r\", \"ISO-8859-1\") as srt_file:\n",
    "        file=srt_file.read()\n",
    "        subtitle_generator = srt.parse(file)\n",
    "        subtitles = list(subtitle_generator)\n",
    "        for i in range(len(subtitles)):\n",
    "            corpus_raw += subtitles[i].content\n",
    "    print(\"Corpus is now {0} characters long\".format(len(corpus_raw)))\n",
    "    print()"
   ]
  },
  {
   "cell_type": "markdown",
   "metadata": {},
   "source": [
    "## Download NLTK tokenizer models"
   ]
  },
  {
   "cell_type": "code",
   "execution_count": 4,
   "metadata": {},
   "outputs": [
    {
     "name": "stdout",
     "output_type": "stream",
     "text": [
      "[nltk_data] Downloading package punkt to /home/ibtissem/nltk_data...\n",
      "[nltk_data]   Package punkt is already up-to-date!\n",
      "[nltk_data] Downloading package stopwords to\n",
      "[nltk_data]     /home/ibtissem/nltk_data...\n",
      "[nltk_data]   Package stopwords is already up-to-date!\n"
     ]
    },
    {
     "data": {
      "text/plain": [
       "True"
      ]
     },
     "execution_count": 4,
     "metadata": {},
     "output_type": "execute_result"
    }
   ],
   "source": [
    "nltk.download('punkt')\n",
    "nltk.download('stopwords')"
   ]
  },
  {
   "cell_type": "markdown",
   "metadata": {},
   "source": [
    "## Split into sentences"
   ]
  },
  {
   "cell_type": "code",
   "execution_count": 5,
   "metadata": {},
   "outputs": [],
   "source": [
    "tokenizer=nltk.data.load('nltk_data/tokenizers/punkt/english.pickle')"
   ]
  },
  {
   "cell_type": "code",
   "execution_count": 6,
   "metadata": {},
   "outputs": [],
   "source": [
    "raw_sentences = tokenizer.tokenize(corpus_raw)"
   ]
  },
  {
   "cell_type": "code",
   "execution_count": 7,
   "metadata": {},
   "outputs": [],
   "source": [
    "def sentence_to_wordlist(raw):\n",
    "    clean = re.sub(\"[^a-zA-Z]\",\" \", raw)\n",
    "    words = [w.lower() for w in clean.split()]\n",
    "    return words"
   ]
  },
  {
   "cell_type": "code",
   "execution_count": 8,
   "metadata": {},
   "outputs": [],
   "source": [
    "sentences=[]\n",
    "for raw_sentence in raw_sentences:\n",
    "    if len(raw_sentence)>0:\n",
    "        sentences.append(sentence_to_wordlist(raw_sentence))"
   ]
  },
  {
   "cell_type": "code",
   "execution_count": 9,
   "metadata": {},
   "outputs": [
    {
     "name": "stdout",
     "output_type": "stream",
     "text": [
      "It's you and Lily.I've been there for all the big moments\n",
      "of you and Lily.The night you met,\n",
      "your first date, other first things.Yeah, sorry, we thought you were asleep.It's physics, Marshall.If the bottom bunk moves,\n",
      "the top bunk moves, too.My God, you're getting engaged tonight.Yeah.\n",
      "['it', 's', 'you', 'and', 'lily', 'i', 've', 'been', 'there', 'for', 'all', 'the', 'big', 'moments', 'of', 'you', 'and', 'lily', 'the', 'night', 'you', 'met', 'your', 'first', 'date', 'other', 'first', 'things', 'yeah', 'sorry', 'we', 'thought', 'you', 'were', 'asleep', 'it', 's', 'physics', 'marshall', 'if', 'the', 'bottom', 'bunk', 'moves', 'the', 'top', 'bunk', 'moves', 'too', 'my', 'god', 'you', 're', 'getting', 'engaged', 'tonight', 'yeah']\n"
     ]
    }
   ],
   "source": [
    "print(raw_sentences[5])\n",
    "print(sentence_to_wordlist(raw_sentences[5]))"
   ]
  },
  {
   "cell_type": "code",
   "execution_count": 11,
   "metadata": {},
   "outputs": [
    {
     "name": "stdout",
     "output_type": "stream",
     "text": [
      "This corpus contains 68,827 tokens\n"
     ]
    }
   ],
   "source": [
    "token_count=sum([len(sentence) for sentence in sentences])\n",
    "print(\"This corpus contains {0:,} tokens\".format(token_count))"
   ]
  },
  {
   "cell_type": "markdown",
   "metadata": {},
   "source": [
    "## Word2Vec"
   ]
  },
  {
   "cell_type": "code",
   "execution_count": 12,
   "metadata": {},
   "outputs": [],
   "source": [
    "num_features = 300\n",
    "min_word_count = 3\n",
    "num_workers = multiprocessing.cpu_count()\n",
    "context_size = 7\n",
    "downsampling = 1e-3\n",
    "seed = 1"
   ]
  },
  {
   "cell_type": "code",
   "execution_count": 13,
   "metadata": {},
   "outputs": [],
   "source": [
    "himym2vec = w2v.Word2Vec(\n",
    "    sg=1,\n",
    "    seed=seed,\n",
    "    workers=num_workers,\n",
    "    size=num_features,\n",
    "    min_count=min_word_count,\n",
    "    window=context_size,\n",
    "    sample=downsampling\n",
    ")"
   ]
  },
  {
   "cell_type": "code",
   "execution_count": 14,
   "metadata": {},
   "outputs": [],
   "source": [
    "himym2vec.build_vocab(sentences)"
   ]
  },
  {
   "cell_type": "code",
   "execution_count": 15,
   "metadata": {},
   "outputs": [
    {
     "data": {
      "text/plain": [
       "3702"
      ]
     },
     "execution_count": 15,
     "metadata": {},
     "output_type": "execute_result"
    }
   ],
   "source": [
    "himym2vec.corpus_count"
   ]
  },
  {
   "cell_type": "code",
   "execution_count": 16,
   "metadata": {},
   "outputs": [
    {
     "data": {
      "text/plain": [
       "(213527, 344135)"
      ]
     },
     "execution_count": 16,
     "metadata": {},
     "output_type": "execute_result"
    }
   ],
   "source": [
    "himym2vec.train(sentences=sentences, total_examples=himym2vec.corpus_count, epochs=himym2vec.epochs)"
   ]
  },
  {
   "cell_type": "code",
   "execution_count": 18,
   "metadata": {},
   "outputs": [],
   "source": [
    "if not os.path.exists(\"trained\"):\n",
    "    os.makedirs(\"trained\")"
   ]
  },
  {
   "cell_type": "code",
   "execution_count": 20,
   "metadata": {},
   "outputs": [],
   "source": [
    "himym2vec.save(os.path.join(\"trained\", \"himym2vec.w2v\"))"
   ]
  },
  {
   "cell_type": "markdown",
   "metadata": {},
   "source": [
    "## Trained model"
   ]
  },
  {
   "cell_type": "code",
   "execution_count": 22,
   "metadata": {},
   "outputs": [],
   "source": [
    "himym2vec = w2v.Word2Vec.load(os.path.join(\"trained\", \"himym2vec.w2v\"))"
   ]
  },
  {
   "cell_type": "code",
   "execution_count": 28,
   "metadata": {},
   "outputs": [
    {
     "data": {
      "text/plain": [
       "1770"
      ]
     },
     "execution_count": 28,
     "metadata": {},
     "output_type": "execute_result"
    }
   ],
   "source": [
    "len(himym2vec.wv.vocab)"
   ]
  },
  {
   "cell_type": "code",
   "execution_count": 21,
   "metadata": {},
   "outputs": [],
   "source": [
    "tsne = sklearn.manifold.TSNE(n_components=2, random_state=0)"
   ]
  },
  {
   "cell_type": "code",
   "execution_count": 25,
   "metadata": {},
   "outputs": [],
   "source": [
    "all_word_vectors_matrix = himym2vec.wv.vectors"
   ]
  },
  {
   "cell_type": "code",
   "execution_count": 26,
   "metadata": {},
   "outputs": [],
   "source": [
    "all_word_vectors_matrix_2d = tsne.fit_transform(all_word_vectors_matrix)"
   ]
  },
  {
   "cell_type": "code",
   "execution_count": 29,
   "metadata": {},
   "outputs": [],
   "source": [
    "points = pd.DataFrame(\n",
    "    [\n",
    "        (word, coords[0], coords[1])\n",
    "        for word, coords in [\n",
    "            (word, all_word_vectors_matrix_2d[himym2vec.wv.vocab[word].index])\n",
    "            for word in himym2vec.wv.vocab\n",
    "        ]\n",
    "    ],\n",
    "    columns=[\"word\", \"x\", \"y\"]\n",
    ")"
   ]
  },
  {
   "cell_type": "code",
   "execution_count": 30,
   "metadata": {},
   "outputs": [
    {
     "data": {
      "text/html": [
       "<div>\n",
       "<style scoped>\n",
       "    .dataframe tbody tr th:only-of-type {\n",
       "        vertical-align: middle;\n",
       "    }\n",
       "\n",
       "    .dataframe tbody tr th {\n",
       "        vertical-align: top;\n",
       "    }\n",
       "\n",
       "    .dataframe thead th {\n",
       "        text-align: right;\n",
       "    }\n",
       "</style>\n",
       "<table border=\"1\" class=\"dataframe\">\n",
       "  <thead>\n",
       "    <tr style=\"text-align: right;\">\n",
       "      <th></th>\n",
       "      <th>word</th>\n",
       "      <th>x</th>\n",
       "      <th>y</th>\n",
       "    </tr>\n",
       "  </thead>\n",
       "  <tbody>\n",
       "    <tr>\n",
       "      <th>0</th>\n",
       "      <td>older</td>\n",
       "      <td>-10.135173</td>\n",
       "      <td>-51.253868</td>\n",
       "    </tr>\n",
       "    <tr>\n",
       "      <th>1</th>\n",
       "      <td>ted</td>\n",
       "      <td>-10.799946</td>\n",
       "      <td>-50.624714</td>\n",
       "    </tr>\n",
       "    <tr>\n",
       "      <th>2</th>\n",
       "      <td>kids</td>\n",
       "      <td>21.362982</td>\n",
       "      <td>-41.026814</td>\n",
       "    </tr>\n",
       "    <tr>\n",
       "      <th>3</th>\n",
       "      <td>i</td>\n",
       "      <td>-9.856946</td>\n",
       "      <td>-51.626751</td>\n",
       "    </tr>\n",
       "    <tr>\n",
       "      <th>4</th>\n",
       "      <td>m</td>\n",
       "      <td>-11.845381</td>\n",
       "      <td>-50.643032</td>\n",
       "    </tr>\n",
       "  </tbody>\n",
       "</table>\n",
       "</div>"
      ],
      "text/plain": [
       "    word          x          y\n",
       "0  older -10.135173 -51.253868\n",
       "1    ted -10.799946 -50.624714\n",
       "2   kids  21.362982 -41.026814\n",
       "3      i  -9.856946 -51.626751\n",
       "4      m -11.845381 -50.643032"
      ]
     },
     "execution_count": 30,
     "metadata": {},
     "output_type": "execute_result"
    }
   ],
   "source": [
    "points.head()"
   ]
  },
  {
   "cell_type": "code",
   "execution_count": 31,
   "metadata": {},
   "outputs": [],
   "source": [
    "sns.set_context(\"poster\")"
   ]
  },
  {
   "cell_type": "code",
   "execution_count": 32,
   "metadata": {},
   "outputs": [
    {
     "data": {
      "text/plain": [
       "<matplotlib.axes._subplots.AxesSubplot at 0x7fba60a4e2b0>"
      ]
     },
     "execution_count": 32,
     "metadata": {},
     "output_type": "execute_result"
    },
    {
     "data": {
      "image/png": "[encoded data removed]",
      "text/plain": [
       "<Figure size 1440x864 with 1 Axes>"
      ]
     },
     "metadata": {},
     "output_type": "display_data"
    }
   ],
   "source": [
    "points.plot.scatter(\"x\", \"y\", s=10, figsize=(20, 12))"
   ]
  },
  {
   "cell_type": "code",
   "execution_count": 51,
   "metadata": {},
   "outputs": [],
   "source": [
    "def plot_region(x_bounds, y_bounds):\n",
    "    slice = points[\n",
    "        (x_bounds[0] <= points.x) &\n",
    "        (points.x <= x_bounds[1]) & \n",
    "        (y_bounds[0] <= points.y) &\n",
    "        (points.y <= y_bounds[1])\n",
    "    ]\n",
    "    \n",
    "    ax = slice.plot.scatter(\"x\", \"y\", s=35, figsize=(8, 8))\n",
    "    for i, point in slice.iterrows():\n",
    "        ax.text(point.x + 0.005, point.y + 0.005, point.word, fontsize=11)"
   ]
  },
  {
   "cell_type": "code",
   "execution_count": 53,
   "metadata": {},
   "outputs": [
    {
     "data": {
      "image/png": "[encoded data removed]",
      "text/plain": [
       "<Figure size 576x576 with 1 Axes>"
      ]
     },
     "metadata": {},
     "output_type": "display_data"
    }
   ],
   "source": [
    "plot_region(x_bounds=(20.0, 50), y_bounds=(-50, -40))"
   ]
  },
  {
   "cell_type": "code",
   "execution_count": 59,
   "metadata": {},
   "outputs": [
    {
     "name": "stderr",
     "output_type": "stream",
     "text": [
      "/home/ibtissem/anaconda3/lib/python3.6/site-packages/gensim/matutils.py:737: FutureWarning: Conversion of the second argument of issubdtype from `int` to `np.signedinteger` is deprecated. In future, it will be treated as `np.int64 == np.dtype(int).type`.\n",
      "  if np.issubdtype(vec.dtype, np.int):\n"
     ]
    },
    {
     "data": {
      "text/plain": [
       "[('today', 0.9992852807044983),\n",
       " ('mix', 0.9992297887802124),\n",
       " ('horse', 0.9992042183876038),\n",
       " ('second', 0.9991937875747681),\n",
       " ('horn', 0.9991713166236877),\n",
       " ('gun', 0.9991331100463867),\n",
       " ('painting', 0.9991319179534912),\n",
       " ('hands', 0.9991278648376465),\n",
       " ('exclaiming', 0.9991172552108765),\n",
       " ('sucks', 0.9991109371185303)]"
      ]
     },
     "execution_count": 59,
     "metadata": {},
     "output_type": "execute_result"
    }
   ],
   "source": [
    "himym2vec.wv.most_similar(\"man\")"
   ]
  },
  {
   "cell_type": "markdown",
   "metadata": {},
   "source": [
    "# Word2Vec using a complete text"
   ]
  },
  {
   "cell_type": "code",
   "execution_count": 62,
   "metadata": {},
   "outputs": [],
   "source": [
    "doc = lxml.etree.parse(open('ted/ted_en-20160408.xml', 'r'))\n",
    "input_text = '\\n'.join(doc.xpath('//content/text()'))"
   ]
  },
  {
   "cell_type": "code",
   "execution_count": 64,
   "metadata": {},
   "outputs": [],
   "source": [
    "# remove parenthesis \n",
    "input_text_noparens = re.sub(r'\\([^)]*\\)', '', input_text)\n",
    "# store as list of sentences\n",
    "sentences_strings_ted = []\n",
    "for line in input_text_noparens.split('\\n'):\n",
    "    m = re.match(r'^(?:(?P<precolon>[^:]{,20}):)?(?P<postcolon>.*)$', line)\n",
    "    sentences_strings_ted.extend(sent for sent in m.groupdict()['postcolon'].split('.') if sent)\n",
    "# store as list of lists of words\n",
    "sentences_ted = []\n",
    "for sent_str in sentences_strings_ted:\n",
    "    tokens = re.sub(r\"[^a-z0-9]+\", \" \", sent_str.lower()).split()\n",
    "    sentences_ted.append(tokens)"
   ]
  },
  {
   "cell_type": "code",
   "execution_count": 66,
   "metadata": {},
   "outputs": [],
   "source": [
    "model_ted = w2v.Word2Vec(sentences=sentences_ted, size=100, window=5, min_count=5, workers=num_workers, sg=0)"
   ]
  },
  {
   "cell_type": "code",
   "execution_count": 67,
   "metadata": {},
   "outputs": [
    {
     "name": "stderr",
     "output_type": "stream",
     "text": [
      "/home/ibtissem/anaconda3/lib/python3.6/site-packages/gensim/matutils.py:737: FutureWarning: Conversion of the second argument of issubdtype from `int` to `np.signedinteger` is deprecated. In future, it will be treated as `np.int64 == np.dtype(int).type`.\n",
      "  if np.issubdtype(vec.dtype, np.int):\n"
     ]
    },
    {
     "data": {
      "text/plain": [
       "[('woman', 0.838357150554657),\n",
       " ('guy', 0.814936101436615),\n",
       " ('girl', 0.7588636875152588),\n",
       " ('boy', 0.7533975839614868),\n",
       " ('lady', 0.7455140948295593),\n",
       " ('soldier', 0.7213205099105835),\n",
       " ('gentleman', 0.7079685926437378),\n",
       " ('kid', 0.6932568550109863),\n",
       " ('poet', 0.6869439482688904),\n",
       " ('david', 0.6789574027061462)]"
      ]
     },
     "execution_count": 67,
     "metadata": {},
     "output_type": "execute_result"
    }
   ],
   "source": [
    "model_ted.wv.most_similar(\"man\")"
   ]
  },
  {
   "cell_type": "markdown",
   "metadata": {},
   "source": [
    "# Fasttext"
   ]
  },
  {
   "cell_type": "code",
   "execution_count": 69,
   "metadata": {},
   "outputs": [],
   "source": [
    "model_ted2 = FastText(sentences_ted, size=100, window=5, min_count=5, workers=4,sg=1)"
   ]
  },
  {
   "cell_type": "code",
   "execution_count": 70,
   "metadata": {},
   "outputs": [
    {
     "name": "stderr",
     "output_type": "stream",
     "text": [
      "/home/ibtissem/anaconda3/lib/python3.6/site-packages/gensim/matutils.py:737: FutureWarning: Conversion of the second argument of issubdtype from `int` to `np.signedinteger` is deprecated. In future, it will be treated as `np.int64 == np.dtype(int).type`.\n",
      "  if np.issubdtype(vec.dtype, np.int):\n"
     ]
    },
    {
     "data": {
      "text/plain": [
       "[('batman', 0.7955553531646729),\n",
       " ('woman', 0.7910079956054688),\n",
       " ('ekman', 0.7813267111778259),\n",
       " ('hoffman', 0.7744827270507812),\n",
       " ('shaman', 0.7624408006668091),\n",
       " ('fireman', 0.7590819597244263),\n",
       " ('foreman', 0.7577202320098877),\n",
       " ('guy', 0.7543362379074097),\n",
       " ('lehman', 0.7483119964599609),\n",
       " ('gottman', 0.7453269958496094)]"
      ]
     },
     "execution_count": 70,
     "metadata": {},
     "output_type": "execute_result"
    }
   ],
   "source": [
    "model_ted2.wv.most_similar(\"man\")"
   ]
  },
  {
   "cell_type": "code",
   "execution_count": 71,
   "metadata": {},
   "outputs": [
    {
     "name": "stderr",
     "output_type": "stream",
     "text": [
      "/home/ibtissem/anaconda3/lib/python3.6/site-packages/gensim/matutils.py:737: FutureWarning: Conversion of the second argument of issubdtype from `int` to `np.signedinteger` is deprecated. In future, it will be treated as `np.int64 == np.dtype(int).type`.\n",
      "  if np.issubdtype(vec.dtype, np.int):\n"
     ]
    },
    {
     "data": {
      "text/plain": [
       "[('arthritis', 0.8325503468513489),\n",
       " ('kp', 0.806272029876709),\n",
       " ('anaheim', 0.7962978482246399),\n",
       " ('anthropocene', 0.7947843074798584),\n",
       " ('msf', 0.7912716865539551),\n",
       " ('h1n1', 0.7865433692932129),\n",
       " ('gbm', 0.7858266234397888),\n",
       " ('4shbab', 0.7845964431762695),\n",
       " ('iliac', 0.7838256359100342),\n",
       " ('mitochondrial', 0.7836856842041016)]"
      ]
     },
     "execution_count": 71,
     "metadata": {},
     "output_type": "execute_result"
    }
   ],
   "source": [
    "model_ted2.wv.most_similar(\"Gastroenteritis\")"
   ]
  },
  {
   "cell_type": "code",
   "execution_count": 72,
   "metadata": {},
   "outputs": [
    {
     "ename": "KeyError",
     "evalue": "\"word 'Gastroenteritis' not in vocabulary\"",
     "output_type": "error",
     "traceback": [
      "\u001b[0;31m---------------------------------------------------------------------------\u001b[0m",
      "\u001b[0;31mKeyError\u001b[0m                                  Traceback (most recent call last)",
      "\u001b[0;32m<ipython-input-72-ce6171203b29>\u001b[0m in \u001b[0;36m<module>\u001b[0;34m()\u001b[0m\n\u001b[0;32m----> 1\u001b[0;31m \u001b[0mmodel_ted\u001b[0m\u001b[0;34m.\u001b[0m\u001b[0mwv\u001b[0m\u001b[0;34m.\u001b[0m\u001b[0mmost_similar\u001b[0m\u001b[0;34m(\u001b[0m\u001b[0;34m\"Gastroenteritis\"\u001b[0m\u001b[0;34m)\u001b[0m\u001b[0;34m\u001b[0m\u001b[0m\n\u001b[0m",
      "\u001b[0;32m~/anaconda3/lib/python3.6/site-packages/gensim/models/keyedvectors.py\u001b[0m in \u001b[0;36mmost_similar\u001b[0;34m(self, positive, negative, topn, restrict_vocab, indexer)\u001b[0m\n\u001b[1;32m    528\u001b[0m                 \u001b[0mmean\u001b[0m\u001b[0;34m.\u001b[0m\u001b[0mappend\u001b[0m\u001b[0;34m(\u001b[0m\u001b[0mweight\u001b[0m \u001b[0;34m*\u001b[0m \u001b[0mword\u001b[0m\u001b[0;34m)\u001b[0m\u001b[0;34m\u001b[0m\u001b[0m\n\u001b[1;32m    529\u001b[0m             \u001b[0;32melse\u001b[0m\u001b[0;34m:\u001b[0m\u001b[0;34m\u001b[0m\u001b[0m\n\u001b[0;32m--> 530\u001b[0;31m                 \u001b[0mmean\u001b[0m\u001b[0;34m.\u001b[0m\u001b[0mappend\u001b[0m\u001b[0;34m(\u001b[0m\u001b[0mweight\u001b[0m \u001b[0;34m*\u001b[0m \u001b[0mself\u001b[0m\u001b[0;34m.\u001b[0m\u001b[0mword_vec\u001b[0m\u001b[0;34m(\u001b[0m\u001b[0mword\u001b[0m\u001b[0;34m,\u001b[0m \u001b[0muse_norm\u001b[0m\u001b[0;34m=\u001b[0m\u001b[0;32mTrue\u001b[0m\u001b[0;34m)\u001b[0m\u001b[0;34m)\u001b[0m\u001b[0;34m\u001b[0m\u001b[0m\n\u001b[0m\u001b[1;32m    531\u001b[0m                 \u001b[0;32mif\u001b[0m \u001b[0mword\u001b[0m \u001b[0;32min\u001b[0m \u001b[0mself\u001b[0m\u001b[0;34m.\u001b[0m\u001b[0mvocab\u001b[0m\u001b[0;34m:\u001b[0m\u001b[0;34m\u001b[0m\u001b[0m\n\u001b[1;32m    532\u001b[0m                     \u001b[0mall_words\u001b[0m\u001b[0;34m.\u001b[0m\u001b[0madd\u001b[0m\u001b[0;34m(\u001b[0m\u001b[0mself\u001b[0m\u001b[0;34m.\u001b[0m\u001b[0mvocab\u001b[0m\u001b[0;34m[\u001b[0m\u001b[0mword\u001b[0m\u001b[0;34m]\u001b[0m\u001b[0;34m.\u001b[0m\u001b[0mindex\u001b[0m\u001b[0;34m)\u001b[0m\u001b[0;34m\u001b[0m\u001b[0m\n",
      "\u001b[0;32m~/anaconda3/lib/python3.6/site-packages/gensim/models/keyedvectors.py\u001b[0m in \u001b[0;36mword_vec\u001b[0;34m(self, word, use_norm)\u001b[0m\n\u001b[1;32m    449\u001b[0m             \u001b[0;32mreturn\u001b[0m \u001b[0mresult\u001b[0m\u001b[0;34m\u001b[0m\u001b[0m\n\u001b[1;32m    450\u001b[0m         \u001b[0;32melse\u001b[0m\u001b[0;34m:\u001b[0m\u001b[0;34m\u001b[0m\u001b[0m\n\u001b[0;32m--> 451\u001b[0;31m             \u001b[0;32mraise\u001b[0m \u001b[0mKeyError\u001b[0m\u001b[0;34m(\u001b[0m\u001b[0;34m\"word '%s' not in vocabulary\"\u001b[0m \u001b[0;34m%\u001b[0m \u001b[0mword\u001b[0m\u001b[0;34m)\u001b[0m\u001b[0;34m\u001b[0m\u001b[0m\n\u001b[0m\u001b[1;32m    452\u001b[0m \u001b[0;34m\u001b[0m\u001b[0m\n\u001b[1;32m    453\u001b[0m     \u001b[0;32mdef\u001b[0m \u001b[0mget_vector\u001b[0m\u001b[0;34m(\u001b[0m\u001b[0mself\u001b[0m\u001b[0;34m,\u001b[0m \u001b[0mword\u001b[0m\u001b[0;34m)\u001b[0m\u001b[0;34m:\u001b[0m\u001b[0;34m\u001b[0m\u001b[0m\n",
      "\u001b[0;31mKeyError\u001b[0m: \"word 'Gastroenteritis' not in vocabulary\""
     ]
    }
   ],
   "source": [
    "model_ted.wv.most_similar(\"Gastroenteritis\")"
   ]
  },
  {
   "cell_type": "code",
   "execution_count": null,
   "metadata": {},
   "outputs": [],
   "source": []
  }
 ],
 "metadata": {
  "kernelspec": {
   "display_name": "Python 3",
   "language": "python",
   "name": "python3"
  },
  "language_info": {
   "codemirror_mode": {
    "name": "ipython",
    "version": 3
   },
   "file_extension": ".py",
   "mimetype": "text/x-python",
   "name": "python",
   "nbconvert_exporter": "python",
   "pygments_lexer": "ipython3",
   "version": "3.5.2"
  }
 },
 "nbformat": 4,
 "nbformat_minor": 2
}
