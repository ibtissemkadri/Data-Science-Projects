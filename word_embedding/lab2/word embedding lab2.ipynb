{
 "cells": [
  {
   "cell_type": "code",
   "execution_count": 1,
   "metadata": {},
   "outputs": [],
   "source": [
    "import numpy as np\n",
    "import string"
   ]
  },
  {
   "cell_type": "markdown",
   "metadata": {},
   "source": [
    "# Modélisation"
   ]
  },
  {
   "cell_type": "markdown",
   "metadata": {},
   "source": [
    "## Modélisation d'un mot"
   ]
  },
  {
   "cell_type": "code",
   "execution_count": 7,
   "metadata": {},
   "outputs": [],
   "source": [
    "class Mot:\n",
    "    dictionary=dict()\n",
    "    for i, l in enumerate(string.ascii_lowercase):\n",
    "        dictionary[l]=i\n",
    "    def __init__(self):\n",
    "        pass\n",
    "    def concat(self, v1, v2):\n",
    "        return np.hstack([m1,m2])\n",
    "    def accorder_au_feminin(self,mot):\n",
    "        return concat(mot, np.array([dictionary['e']]))\n",
    "    def accorder_au_pluriel(self,mot):\n",
    "        return concat(mot, np.array([dictionary['s']]))\n",
    "    def represent(self, v):\n",
    "        mot=''\n",
    "        for j in v: \n",
    "            for l,i in dictionary.items():\n",
    "                if i==j:\n",
    "                    mot+=l\n",
    "        return mot\n",
    "    def to_vect(self,mot):\n",
    "        mot=mot.lower()\n",
    "        vect=np.empty(len(mot), int)\n",
    "        for i,s in enumerate(mot):\n",
    "            vect[i]=dictionary[s]\n",
    "        return vect\n",
    "            "
   ]
  },
  {
   "cell_type": "code",
   "execution_count": 9,
   "metadata": {},
   "outputs": [
    {
     "name": "stdout",
     "output_type": "stream",
     "text": [
      "[ 5 14 14  3]\n"
     ]
    }
   ],
   "source": [
    "mot=Mot()\n",
    "print(mot.to_vect(\"food\"))"
   ]
  },
  {
   "cell_type": "code",
   "execution_count": 10,
   "metadata": {},
   "outputs": [
    {
     "data": {
      "text/plain": [
       "'fgj'"
      ]
     },
     "execution_count": 10,
     "metadata": {},
     "output_type": "execute_result"
    }
   ],
   "source": [
    "mot.represent([5,6,9])"
   ]
  },
  {
   "cell_type": "markdown",
   "metadata": {},
   "source": [
    "## Modélisation des expressions"
   ]
  },
  {
   "cell_type": "code",
   "execution_count": null,
   "metadata": {},
   "outputs": [],
   "source": [
    "class Expression:\n",
    "    "
   ]
  }
 ],
 "metadata": {
  "kernelspec": {
   "display_name": "Python 3",
   "language": "python",
   "name": "python3"
  },
  "language_info": {
   "codemirror_mode": {
    "name": "ipython",
    "version": 3
   },
   "file_extension": ".py",
   "mimetype": "text/x-python",
   "name": "python",
   "nbconvert_exporter": "python",
   "pygments_lexer": "ipython3",
   "version": "3.6.6"
  }
 },
 "nbformat": 4,
 "nbformat_minor": 2
}
